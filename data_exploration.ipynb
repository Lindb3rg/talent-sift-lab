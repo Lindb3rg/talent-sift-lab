{
 "cells": [
  {
   "cell_type": "code",
   "execution_count": 814,
   "metadata": {},
   "outputs": [],
   "source": [
    "import numpy as np\n",
    "import pandas as pd \n",
    "import spacy\n",
    "import pickle\n",
    "import random\n",
    "import os\n",
    "from utils.tools import DataframesFromJSONL\n",
    "from nlp import train_model\n",
    "from dotenv import load_dotenv"
   ]
  },
  {
   "cell_type": "code",
   "execution_count": 775,
   "metadata": {},
   "outputs": [],
   "source": [
    "\n",
    "df = pd.read_json(\"master_resumes.jsonl\", lines=True)"
   ]
  },
  {
   "cell_type": "code",
   "execution_count": 776,
   "metadata": {},
   "outputs": [
    {
     "data": {
      "text/html": [
       "<div>\n",
       "<style scoped>\n",
       "    .dataframe tbody tr th:only-of-type {\n",
       "        vertical-align: middle;\n",
       "    }\n",
       "\n",
       "    .dataframe tbody tr th {\n",
       "        vertical-align: top;\n",
       "    }\n",
       "\n",
       "    .dataframe thead th {\n",
       "        text-align: right;\n",
       "    }\n",
       "</style>\n",
       "<table border=\"1\" class=\"dataframe\">\n",
       "  <thead>\n",
       "    <tr style=\"text-align: right;\">\n",
       "      <th></th>\n",
       "      <th>personal_info</th>\n",
       "      <th>experience</th>\n",
       "      <th>education</th>\n",
       "      <th>skills</th>\n",
       "      <th>projects</th>\n",
       "      <th>certifications</th>\n",
       "      <th>achievements</th>\n",
       "      <th>workshops</th>\n",
       "      <th>publications</th>\n",
       "      <th>teaching_experience</th>\n",
       "      <th>internships</th>\n",
       "    </tr>\n",
       "  </thead>\n",
       "  <tbody>\n",
       "    <tr>\n",
       "      <th>0</th>\n",
       "      <td>{'name': 'Unknown', 'email': 'Unknown', 'phone...</td>\n",
       "      <td>[{'company': 'Fresher', 'company_info': {'indu...</td>\n",
       "      <td>[{'degree': {'level': 'ME', 'field': 'Computer...</td>\n",
       "      <td>{'technical': {'programming_languages': [{'nam...</td>\n",
       "      <td>[{'name': 'Unknown', 'description': 'Unknown',...</td>\n",
       "      <td></td>\n",
       "      <td>NaN</td>\n",
       "      <td>NaN</td>\n",
       "      <td>NaN</td>\n",
       "      <td>NaN</td>\n",
       "      <td>NaN</td>\n",
       "    </tr>\n",
       "    <tr>\n",
       "      <th>1</th>\n",
       "      <td>{'name': 'Unknown', 'email': 'Unknown', 'phone...</td>\n",
       "      <td>[{'company': 'Delta Controls, Dubai FZCO', 'co...</td>\n",
       "      <td>[{'degree': {'level': 'B.E', 'field': 'Electro...</td>\n",
       "      <td>{'technical': {'project_management': [{'name':...</td>\n",
       "      <td>[{'name': 'FGP/WPMP', 'description': 'Led syst...</td>\n",
       "      <td></td>\n",
       "      <td>NaN</td>\n",
       "      <td>NaN</td>\n",
       "      <td>NaN</td>\n",
       "      <td>NaN</td>\n",
       "      <td>NaN</td>\n",
       "    </tr>\n",
       "    <tr>\n",
       "      <th>2</th>\n",
       "      <td>{'name': 'Not Provided', 'email': 'Not Provide...</td>\n",
       "      <td>[{'company': 'Parkar Consulting and Labs', 'co...</td>\n",
       "      <td>[{'degree': {'level': 'B.E.', 'field': 'Not Pr...</td>\n",
       "      <td>{'technical': {'programming_languages': [{'nam...</td>\n",
       "      <td>[{'name': 'FPGA Implementation', 'description'...</td>\n",
       "      <td></td>\n",
       "      <td>NaN</td>\n",
       "      <td>NaN</td>\n",
       "      <td>NaN</td>\n",
       "      <td>NaN</td>\n",
       "      <td>NaN</td>\n",
       "    </tr>\n",
       "    <tr>\n",
       "      <th>3</th>\n",
       "      <td>{'name': 'Unknown', 'email': 'Unknown', 'phone...</td>\n",
       "      <td>[{'company': 'Delta Controls, Dubai FZCO', 'co...</td>\n",
       "      <td>[{'degree': {'level': 'B.E', 'field': 'Electro...</td>\n",
       "      <td>{'technical': {'project_management': [{'name':...</td>\n",
       "      <td>[{'name': 'FGP/WPMP', 'description': 'Led syst...</td>\n",
       "      <td></td>\n",
       "      <td>NaN</td>\n",
       "      <td>NaN</td>\n",
       "      <td>NaN</td>\n",
       "      <td>NaN</td>\n",
       "      <td>NaN</td>\n",
       "    </tr>\n",
       "    <tr>\n",
       "      <th>4</th>\n",
       "      <td>{'name': '', 'email': '', 'phone': '', 'locati...</td>\n",
       "      <td>[{'company': 'Atos Syntel', 'company_info': {'...</td>\n",
       "      <td>[{'degree': {'level': 'Bachelor of Engineering...</td>\n",
       "      <td>{'technical': {'programming_languages': [{'nam...</td>\n",
       "      <td>[]</td>\n",
       "      <td>{\"name\": \"ESD Program\", \"issuer\": \"Zensar Tech...</td>\n",
       "      <td>[Treasurer in IEEE student branch at JSCOE, Pu...</td>\n",
       "      <td>[{'name': 'Medical IoT', 'issuer': 'IEEE Stand...</td>\n",
       "      <td>NaN</td>\n",
       "      <td>NaN</td>\n",
       "      <td>NaN</td>\n",
       "    </tr>\n",
       "    <tr>\n",
       "      <th>...</th>\n",
       "      <td>...</td>\n",
       "      <td>...</td>\n",
       "      <td>...</td>\n",
       "      <td>...</td>\n",
       "      <td>...</td>\n",
       "      <td>...</td>\n",
       "      <td>...</td>\n",
       "      <td>...</td>\n",
       "      <td>...</td>\n",
       "      <td>...</td>\n",
       "      <td>...</td>\n",
       "    </tr>\n",
       "    <tr>\n",
       "      <th>4812</th>\n",
       "      <td>{'name': 'Patricia Pratt', 'email': 'nthomas@e...</td>\n",
       "      <td>[{'company': 'Palmer-Bass', 'company_info': {'...</td>\n",
       "      <td>[{'degree': {'level': 'BSc', 'field': 'Compute...</td>\n",
       "      <td>{'technical': {'programming_languages': [{'nam...</td>\n",
       "      <td>[{'name': 'Solutions Architect Project', 'desc...</td>\n",
       "      <td></td>\n",
       "      <td>NaN</td>\n",
       "      <td>NaN</td>\n",
       "      <td>NaN</td>\n",
       "      <td>NaN</td>\n",
       "      <td>NaN</td>\n",
       "    </tr>\n",
       "    <tr>\n",
       "      <th>4813</th>\n",
       "      <td>{'name': 'Paul Ferguson', 'email': 'fletcherje...</td>\n",
       "      <td>[{'company': 'Williams Inc', 'company_info': {...</td>\n",
       "      <td>[{'degree': {'level': 'MSc', 'field': 'Compute...</td>\n",
       "      <td>{'technical': {'programming_languages': [{'nam...</td>\n",
       "      <td>[{'name': 'Solutions Architect Project', 'desc...</td>\n",
       "      <td></td>\n",
       "      <td>NaN</td>\n",
       "      <td>NaN</td>\n",
       "      <td>NaN</td>\n",
       "      <td>NaN</td>\n",
       "      <td>NaN</td>\n",
       "    </tr>\n",
       "    <tr>\n",
       "      <th>4814</th>\n",
       "      <td>{'name': 'Amy Blackwell', 'email': 'thall@exam...</td>\n",
       "      <td>[{'company': 'Riggs, Gonzales and Brooks', 'co...</td>\n",
       "      <td>[{'degree': {'level': 'BSc', 'field': 'Compute...</td>\n",
       "      <td>{'technical': {'programming_languages': [{'nam...</td>\n",
       "      <td>[{'name': 'Solutions Architect Project', 'desc...</td>\n",
       "      <td></td>\n",
       "      <td>NaN</td>\n",
       "      <td>NaN</td>\n",
       "      <td>NaN</td>\n",
       "      <td>NaN</td>\n",
       "      <td>NaN</td>\n",
       "    </tr>\n",
       "    <tr>\n",
       "      <th>4815</th>\n",
       "      <td>{'name': 'Andrew Brown', 'email': 'debra88@exa...</td>\n",
       "      <td>[{'company': 'Robinson-Reed', 'company_info': ...</td>\n",
       "      <td>[{'degree': {'level': 'MSc', 'field': 'Compute...</td>\n",
       "      <td>{'technical': {'programming_languages': [{'nam...</td>\n",
       "      <td>[{'name': 'Solutions Architect Project', 'desc...</td>\n",
       "      <td></td>\n",
       "      <td>NaN</td>\n",
       "      <td>NaN</td>\n",
       "      <td>NaN</td>\n",
       "      <td>NaN</td>\n",
       "      <td>NaN</td>\n",
       "    </tr>\n",
       "    <tr>\n",
       "      <th>4816</th>\n",
       "      <td>{'name': 'Mr. Aaron Lawrence IV', 'email': 'mi...</td>\n",
       "      <td>[{'company': 'Villanueva, Riley and Miller', '...</td>\n",
       "      <td>[{'degree': {'level': 'BSc', 'field': 'Compute...</td>\n",
       "      <td>{'technical': {'programming_languages': [{'nam...</td>\n",
       "      <td>[{'name': 'Solutions Architect Project', 'desc...</td>\n",
       "      <td></td>\n",
       "      <td>NaN</td>\n",
       "      <td>NaN</td>\n",
       "      <td>NaN</td>\n",
       "      <td>NaN</td>\n",
       "      <td>NaN</td>\n",
       "    </tr>\n",
       "  </tbody>\n",
       "</table>\n",
       "<p>4817 rows × 11 columns</p>\n",
       "</div>"
      ],
      "text/plain": [
       "                                          personal_info  \\\n",
       "0     {'name': 'Unknown', 'email': 'Unknown', 'phone...   \n",
       "1     {'name': 'Unknown', 'email': 'Unknown', 'phone...   \n",
       "2     {'name': 'Not Provided', 'email': 'Not Provide...   \n",
       "3     {'name': 'Unknown', 'email': 'Unknown', 'phone...   \n",
       "4     {'name': '', 'email': '', 'phone': '', 'locati...   \n",
       "...                                                 ...   \n",
       "4812  {'name': 'Patricia Pratt', 'email': 'nthomas@e...   \n",
       "4813  {'name': 'Paul Ferguson', 'email': 'fletcherje...   \n",
       "4814  {'name': 'Amy Blackwell', 'email': 'thall@exam...   \n",
       "4815  {'name': 'Andrew Brown', 'email': 'debra88@exa...   \n",
       "4816  {'name': 'Mr. Aaron Lawrence IV', 'email': 'mi...   \n",
       "\n",
       "                                             experience  \\\n",
       "0     [{'company': 'Fresher', 'company_info': {'indu...   \n",
       "1     [{'company': 'Delta Controls, Dubai FZCO', 'co...   \n",
       "2     [{'company': 'Parkar Consulting and Labs', 'co...   \n",
       "3     [{'company': 'Delta Controls, Dubai FZCO', 'co...   \n",
       "4     [{'company': 'Atos Syntel', 'company_info': {'...   \n",
       "...                                                 ...   \n",
       "4812  [{'company': 'Palmer-Bass', 'company_info': {'...   \n",
       "4813  [{'company': 'Williams Inc', 'company_info': {...   \n",
       "4814  [{'company': 'Riggs, Gonzales and Brooks', 'co...   \n",
       "4815  [{'company': 'Robinson-Reed', 'company_info': ...   \n",
       "4816  [{'company': 'Villanueva, Riley and Miller', '...   \n",
       "\n",
       "                                              education  \\\n",
       "0     [{'degree': {'level': 'ME', 'field': 'Computer...   \n",
       "1     [{'degree': {'level': 'B.E', 'field': 'Electro...   \n",
       "2     [{'degree': {'level': 'B.E.', 'field': 'Not Pr...   \n",
       "3     [{'degree': {'level': 'B.E', 'field': 'Electro...   \n",
       "4     [{'degree': {'level': 'Bachelor of Engineering...   \n",
       "...                                                 ...   \n",
       "4812  [{'degree': {'level': 'BSc', 'field': 'Compute...   \n",
       "4813  [{'degree': {'level': 'MSc', 'field': 'Compute...   \n",
       "4814  [{'degree': {'level': 'BSc', 'field': 'Compute...   \n",
       "4815  [{'degree': {'level': 'MSc', 'field': 'Compute...   \n",
       "4816  [{'degree': {'level': 'BSc', 'field': 'Compute...   \n",
       "\n",
       "                                                 skills  \\\n",
       "0     {'technical': {'programming_languages': [{'nam...   \n",
       "1     {'technical': {'project_management': [{'name':...   \n",
       "2     {'technical': {'programming_languages': [{'nam...   \n",
       "3     {'technical': {'project_management': [{'name':...   \n",
       "4     {'technical': {'programming_languages': [{'nam...   \n",
       "...                                                 ...   \n",
       "4812  {'technical': {'programming_languages': [{'nam...   \n",
       "4813  {'technical': {'programming_languages': [{'nam...   \n",
       "4814  {'technical': {'programming_languages': [{'nam...   \n",
       "4815  {'technical': {'programming_languages': [{'nam...   \n",
       "4816  {'technical': {'programming_languages': [{'nam...   \n",
       "\n",
       "                                               projects  \\\n",
       "0     [{'name': 'Unknown', 'description': 'Unknown',...   \n",
       "1     [{'name': 'FGP/WPMP', 'description': 'Led syst...   \n",
       "2     [{'name': 'FPGA Implementation', 'description'...   \n",
       "3     [{'name': 'FGP/WPMP', 'description': 'Led syst...   \n",
       "4                                                    []   \n",
       "...                                                 ...   \n",
       "4812  [{'name': 'Solutions Architect Project', 'desc...   \n",
       "4813  [{'name': 'Solutions Architect Project', 'desc...   \n",
       "4814  [{'name': 'Solutions Architect Project', 'desc...   \n",
       "4815  [{'name': 'Solutions Architect Project', 'desc...   \n",
       "4816  [{'name': 'Solutions Architect Project', 'desc...   \n",
       "\n",
       "                                         certifications  \\\n",
       "0                                                         \n",
       "1                                                         \n",
       "2                                                         \n",
       "3                                                         \n",
       "4     {\"name\": \"ESD Program\", \"issuer\": \"Zensar Tech...   \n",
       "...                                                 ...   \n",
       "4812                                                      \n",
       "4813                                                      \n",
       "4814                                                      \n",
       "4815                                                      \n",
       "4816                                                      \n",
       "\n",
       "                                           achievements  \\\n",
       "0                                                   NaN   \n",
       "1                                                   NaN   \n",
       "2                                                   NaN   \n",
       "3                                                   NaN   \n",
       "4     [Treasurer in IEEE student branch at JSCOE, Pu...   \n",
       "...                                                 ...   \n",
       "4812                                                NaN   \n",
       "4813                                                NaN   \n",
       "4814                                                NaN   \n",
       "4815                                                NaN   \n",
       "4816                                                NaN   \n",
       "\n",
       "                                              workshops publications  \\\n",
       "0                                                   NaN          NaN   \n",
       "1                                                   NaN          NaN   \n",
       "2                                                   NaN          NaN   \n",
       "3                                                   NaN          NaN   \n",
       "4     [{'name': 'Medical IoT', 'issuer': 'IEEE Stand...          NaN   \n",
       "...                                                 ...          ...   \n",
       "4812                                                NaN          NaN   \n",
       "4813                                                NaN          NaN   \n",
       "4814                                                NaN          NaN   \n",
       "4815                                                NaN          NaN   \n",
       "4816                                                NaN          NaN   \n",
       "\n",
       "     teaching_experience internships  \n",
       "0                    NaN         NaN  \n",
       "1                    NaN         NaN  \n",
       "2                    NaN         NaN  \n",
       "3                    NaN         NaN  \n",
       "4                    NaN         NaN  \n",
       "...                  ...         ...  \n",
       "4812                 NaN         NaN  \n",
       "4813                 NaN         NaN  \n",
       "4814                 NaN         NaN  \n",
       "4815                 NaN         NaN  \n",
       "4816                 NaN         NaN  \n",
       "\n",
       "[4817 rows x 11 columns]"
      ]
     },
     "execution_count": 776,
     "metadata": {},
     "output_type": "execute_result"
    }
   ],
   "source": [
    "df"
   ]
  },
  {
   "cell_type": "code",
   "execution_count": null,
   "metadata": {},
   "outputs": [],
   "source": [
    "\n"
   ]
  },
  {
   "cell_type": "code",
   "execution_count": 6,
   "metadata": {},
   "outputs": [],
   "source": [
    "\n"
   ]
  },
  {
   "cell_type": "code",
   "execution_count": 373,
   "metadata": {},
   "outputs": [],
   "source": []
  },
  {
   "cell_type": "code",
   "execution_count": 777,
   "metadata": {},
   "outputs": [],
   "source": [
    "file = \"master_resumes.jsonl\"\n",
    "df = DataframesFromJSONL(file)\n",
    "\n",
    "dataframes = df.create_dataframes()\n",
    "\n"
   ]
  },
  {
   "cell_type": "markdown",
   "metadata": {},
   "source": [
    "___\n",
    "____\n",
    "**Working with only Candidates**"
   ]
  },
  {
   "cell_type": "code",
   "execution_count": 778,
   "metadata": {},
   "outputs": [
    {
     "data": {
      "text/plain": [
       "array(['Python Developer with experience in Python, Tensorflow, Numpy, C, C++, MySQL, and various platforms.',\n",
       "       'Experienced Operations Manager with expertise in project execution, engineering, and team coordination. Skilled in managing contractual and commercial issues, ensuring project profitability, and maintaining high client satisfaction.',\n",
       "       'Software Proficiency in various languages and tools. Worked on several projects including FPGA Implementation, Sorting Robot, and RFID Based Student Attendance System.',\n",
       "       '',\n",
       "       'Experienced Java Developer with expertise in JSP, Servlets, Spring, Hibernate, and front-end technologies like HTML, CSS, JavaScript, and jQuery. Proficient in MySQL and development tools such as Eclipse and NetBeans.',\n",
       "       'Devops Engineer with experience in various DevOps methodologies and tools.',\n",
       "       'IABAC Certified Data Scientist with versatile experience over 1+ years in managing business, data science consulting and leading innovation projects, bringing business ideas to working real world solutions. Being a strong advocator of augmented era, where human capabilities are enhanced by machines, Fahed is passionate about bringing business concepts in area of machine learning, AI, robotics etc., to real life solutions.',\n",
       "       'Python Developer/analyst',\n",
       "       'Java Developer with experience in Hibernate, JSP, and Servlets. Passionate about software development and programming.',\n",
       "       'Final year Computer Science student at City, University of London with strong focus on machine learning and software engineering. Experienced in developing ML-powered applications and passionate about solving complex technical challenges.',\n",
       "       'Cloud Operations Architect (DevOps) with experience in various technologies and platforms.',\n",
       "       'A Microsoft Certified Systems Engineer and Advocate with exceptional knowledge of administrative procedures, evidence rules and trials. Able to communicate clearly and concisely with people of diverse backgrounds and levels of authority. Focused and driven to always meet deadlines for pretrial procedures, trials and appellate briefings by effectively utilizing resources.',\n",
       "       'Highly motivated Software Testing & Automation Engineer with strong work ethics, quick learning ability, and experience in test automation, defect tracking, and Agile methodologies.',\n",
       "       'Hardworking Java Developer enthusiastic about working with multicultural teams. Having 2 years of experience in working with a Payment Gateway Solutions provider with Core Java.',\n",
       "       'Senior Business Analyst with extensive experience in RPA, process automation, and business analysis. Skilled in documentation, testing, and integration with a strong background in Agile and Waterfall methodologies.',\n",
       "       'Experienced Python RESTful API developer with expertise in MongoDB, MySQL, and AS/400. Strong background in software development life cycle, debugging, and testing. Skilled in agile methodologies and cloud deployment using Pivotal Cloud Foundry.',\n",
       "       'SAP Technical Architect with 13+ years of experience in SAP, ranging from development to subject matter expertise. Strong background in implementation, upgrade, application development, and maintenance. Certified in SAP ABAP, ITIL 2011 Foundation, and PRINCE2 Practitioner. Extensive experience in SAP ABAP FRICEW components, multiple SAP modules, and S/4HANA. Proven ability to lead technical teams and manage full-lifecycle SAP projects.',\n",
       "       'Java Developer with experience in Spring MVC, Hibernate, JDBC, and various web technologies. Skilled in database management and front-end scripting.',\n",
       "       'SAP Technical Architect and Consultant with 13+ years of experience in SAP, covering implementation, upgrade, application development, and maintenance. Expertise in SAP ABAP, SAP NetWeaver Gateway, S/4HANA, and multiple SAP modules. Strong leadership, client interaction, and project management skills.',\n",
       "       'DevOps Engineer with software proficiency in various languages and tools.',\n",
       "       'Unknown',\n",
       "       'Devops Engineer with strong focus on Dev-ops methodologies, C, Core Java, GIT, Bitbucket, ANT, Maven, Jenkins, Ansible, Shell Script, Apache Tomcat server.',\n",
       "       'Not Provided',\n",
       "       'Network Security Engineer with Cisco certifications and experience in various networking technologies.',\n",
       "       'Experienced Database Administrator with expertise in Oracle RDBMS, RMAN, Data Guard, ASM, RAC, and Golden Gate. Skilled in database management, upgrades, migrations, and troubleshooting in production environments.',\n",
       "       'DevOps Engineer with software proficiency in various languages and tools. Experienced in project roles such as Programmer and Mechanism designer.',\n",
       "       'Java Developer with experience in web application development, backend to frontend module development, and database management. Strong problem-solving skills and ability to resolve project-related issues efficiently.',\n",
       "       'Python Developer',\n",
       "       'Aspiring Python Developer looking to utilize and expand knowledge in a professional organization.',\n",
       "       'Network and Security Engineer with experience in implementing and troubleshooting network security solutions, planning and implementation of multi-vendor firewalls, and configuration of Cisco routers and switches.',\n",
       "       'I want to work in organisation as a python developer to utilize my knowledge & To gain more knowledge with our organisation.',\n",
       "       'DevOps Engineer with experience in various programming languages and software tools.',\n",
       "       'Devops Engineer with strong skills in Ant, Maven, GIT, Bitbucket, Jenkins, Linux, Ansible, Shell Scripting, Requirement Gathering, Continuous Integration and Continuous Deployment, Software Development Life Cycle, Software Testing Life Cycle, Documentation & Reporting, Test Reports.',\n",
       "       'Senior Business Analyst with extensive experience in RPA, process automation, and business analysis. Skilled in requirement gathering, documentation, testing, and stakeholder communication.',\n",
       "       'Java Developer with experience in various technologies such as Spring MVC, Hibernate, JDBC, Java, J2EE, AzureWeb SunTechnologies Services, JSP, Struts, Servlet, RestApi, JavaScript, AJAX, HTML, JSON, PHP, MsSQL, MySQL, Oracle, ApacheTomcatServer, OnesignalWebPushNotifications, AzurewebServices, IONIC, HTML, JSON, WindowsServer2012R2, WinXP/7/8.1/10, Linux, Mac OS.',\n",
       "       'Full Stack Java Developer with experience in Java, Spring Boot, JSP, and front-end technologies. Developed multiple projects using Java, MySQL, and web technologies.',\n",
       "       'SAP Technical Architect with 13+ years of experience in SAP, ranging from development to subject matter expertise. Strong background in implementation, upgrade, application development, and maintenance. Certified in SAP ABAP, ITIL 2011 Foundation, and PRINCE2 Practitioner. Extensive experience in SAP ABAP FRICEW components and various SAP modules including MM, FI, CO, SD, PS, PP, CS, PM, QM, and HR. Expertise in S/4HANA, IS-Auto, IS-Retail, SCM 7.0, SOLMAN, SAP GTS, SAP PI 7.3, SAP BI 7.0/7.3, and more. Proven ability to lead technical teams, interact with business analysts, and manage full-lifecycle SAP projects.',\n",
       "       'Network Security Engineer with experience in troubleshooting firewall incidents, installing security solutions, and analyzing security requirements.',\n",
       "       'Python Developer with experience in Django, RESTful APIs, and database management. Skilled in both front-end and back-end development, with a strong understanding of Agile methodologies.',\n",
       "       'Devops Engineer with experience in various IT skills and Dev-ops methodologies.',\n",
       "       'Java developer with experience in Java/J2EE, MySQL, and Android development. Skilled in working with databases, web servers, and middleware applications.',\n",
       "       'Cloud Operations Architect (DevOps) with experience in various cloud technologies and scripting languages.',\n",
       "       'Full Stack Java Developer with experience in Java, Spring Boot, JSP, and front-end technologies. Skilled in building web applications and working with databases.',\n",
       "       'Java Developer with experience in various technologies and tools.',\n",
       "       'DevOps Engineer with proficiency in various software languages and tools. Experienced in project roles such as Programmer and Mechanism designer.',\n",
       "       'Devops Engineer with strong competencies in Ant, Maven, GIT, Bitbucket, Jenkins, Linux, Ansible, Shell Scripting, Requirement Gathering, Continuous Integration and Continuous Deployment, Software Development Life Cycle, Software Testing Life Cycle, Documentation & Reporting, Test Reports.',\n",
       "       'Cloud Operations Architect (DevOps) with extensive experience in cloud computing, shell scripting, python, automation, and solution architecture.',\n",
       "       \"Python Developer with experience in Python, C++, MySQL, and machine learning frameworks such as TensorFlow and NumPy. Strong background in computer engineering with a master's degree from Savitribai Phule Pune University.\",\n",
       "       'Communication Skills: My writing skills in English is very good and I am certainly a clear speaker. Being comfortable speaking in front of an audience, I can easily facilitate meetings and brainstorming sessions. Interpersonal Skills: As a friendly, polite person, with positive attitude I work well with others and deal with difficult situations in a careful and considerate manner. Learning Skills: I have a high capacity for learning, pick up new skills and ideas quickly, and generally thrive on challenges. Enthusiasm and creativity give me an edge on difficult projects. Problem Solving Skills: My analytical skills help me troubleshoot problems and uncover root causes. I am creative and tenacious.',\n",
       "       'Experienced Operations Manager with a background in electronics engineering and extensive expertise in project management, engineering, and automation systems.',\n",
       "       'Java Developer with experience in various programming languages and technologies.',\n",
       "       'Experienced Python RESTful API developer with expertise in software development, debugging, and testing. Strong background in Agile methodology, SDLC, and ERP systems.',\n",
       "       'Python Developer/analyst with experience in python scripting, programming, developing, frontend, html, python libraries, mysql, django, web scrapping.',\n",
       "       'Data Scientist with expertise in data and quantitative analysis, decision analytics, predictive modeling, data-driven personalization, KPI dashboards, big data queries, data mining, machine learning, and business intelligence.',\n",
       "       'Experienced Java Developer and Automation Test Engineer with expertise in Selenium WebDriver, TestNG, and Java. Skilled in automation testing, database management, and software development.',\n",
       "       'Java Developer with experience in various technologies such as Spring MVC, Hibernate, JDBC, Java, J2EE, AzureWeb SunTechnologies Services, JSP, Struts, Servlet, RestApi, JavaScript, AJAX, HTML, JSON, PHP, MsSQL, MySQL, Oracle, ApacheTomcatServer, IONIC, HTML, JSON, WindowsServer2012R2, WinXP/7/8.1/10, Linux, Mac OS.',\n",
       "       'Python Developer with experience in computer vision and image preprocessing.',\n",
       "       'Achievement-oriented professional with strong problem-solving, coordination, and analytical skills. Experienced in managing multiple tasks and projects simultaneously, with excellent communication and interpersonal abilities. Willing to travel and relocate.',\n",
       "       'Experienced Java Developer with expertise in backend, middleware, and frontend development. Proficient in Java, SQL, PL/SQL, and web technologies. Strong problem-solving skills and ability to resolve project-related issues efficiently.',\n",
       "       'Java developer with experience in various technologies and tools.',\n",
       "       'Experienced Java Developer with expertise in Core Java, Advanced Java, Hibernate, Spring, and Android development. Passionate about teaching and mentoring in programming and database technologies.',\n",
       "       'Java Developer and Automation Testing professional with experience in software testing, automation frameworks, and Java development.',\n",
       "       'Devops Engineer with experience in various Dev-ops methodologies and tools.',\n",
       "       'Communication Skills, Interpersonal Skills, Learning Skills, Problem Solving Skills',\n",
       "       'Python Developer with experience in various technologies and tools.',\n",
       "       'Achievement-oriented professional with strong problem-solving, coordination, and analytical skills. Experienced in managing multiple tasks and projects simultaneously with excellent communication and organizational abilities. Willing to travel and relocate.',\n",
       "       'Python RESTful API developer with hands-on experience in production and maintenance of projects, agile methodology, SDLC, customer interaction, debugging and testing based on Python and AS/400. Strong communication and interpersonal skills.',\n",
       "       'Expertise in Data and Quantitative Analysis, Decision Analytics, Predictive Modeling, Data-Driven Personalization, KPI Dashboards, Big Data Queries and Interpretation, Data Mining and Visualization Tools, Machine Learning Algorithms, Business Intelligence (BI), Research, Reports and Forecasts',\n",
       "       'Java Developer with experience in Android Mobile App Development, Core Java, Advance Java, JSF, Hibernate, Spring. Proficient in C, C++, Java, Android, MS Access, SQL, Oracle.',\n",
       "       'Hardworking Java Developer enthusiastic about working with multicultural teams. Experienced in working with a Payment Gateway Solutions provider with Core Java.',\n",
       "       'Communication Skills My writing skills in English is very good and I am certainly a clear speaker. Being comfortable speaking in front of an audience, I can easily facilitate meetings and brainstorming sessions Interpersonal Skills As a friendly, polite person, with positive attitude I work well with others and deal with difficult situations in a careful and considerate manner. Learning Skills I have a high capacity for learning, pick up new skills and ideas quickly, and generally thrive on challenges. Enthusiasm and creativity give me an edge on difficult projects. Problem Solving Skills My analytical skills help me troubleshoot problems and uncover root causes. I am creative and tenacious.',\n",
       "       'Java Developer with experience in J2EE, Spring, Hibernate, and database management. Skilled in functional and manual testing with a strong foundation in software development and stock management systems.',\n",
       "       'Experienced Python Developer with a strong background in building scalable web applications and data pipelines. Proficient in Django, Flask, and RESTful API design.',\n",
       "       'Detail-oriented Java Developer specializing in backend systems and microservices architecture. Skilled in Spring Boot and designing robust enterprise solutions.',\n",
       "       'Innovative JavaScript Developer with extensive experience in front-end frameworks and building interactive user interfaces using React and Angular.',\n",
       "       'Full-Stack Developer proficient in both front-end and back-end development. Skilled in React and Django, creating complete web applications.',\n",
       "       'Backend Developer specializing in building scalable and efficient server-side applications. Skilled in Python, Django, and RESTful API design.',\n",
       "       'Office including focus fill environment. Whole physical result book. Until drug audience sometimes other surface. Sister child protect dinner record.',\n",
       "       'Resource author give security stand business build add. Result agree anything join job.',\n",
       "       'Politics respond us phone none guess run TV. Type it usually rest animal.',\n",
       "       'Argue nation stage determine lose fall. Imagine black letter health rock the. At law report hope still establish drug.',\n",
       "       'Fast book foreign. Wife form hospital may. Important authority part fill tree modern.',\n",
       "       'Ago set voice task condition teacher effort. Between increase onto go great above. Left Republican another market simple season. Democratic know sing something star should today player.',\n",
       "       'Into owner similar provide plan movie student per. Occur south country statement student really likely page. It fine miss employee including explain. Light anyone then simply me he network great. Perform song explain local long.',\n",
       "       'Assume him born truth campaign notice community director. Face work clearly parent. Along treat hope international low rock next. Appear yourself often answer individual purpose.',\n",
       "       'Bar trip special dog PM age sell. Eat as present. Pm fire individual. Condition argue physical do want school room.',\n",
       "       'Manager college adult lose. Size rich position bed carry. Deal former act.',\n",
       "       'Contain great citizen like perhaps. Young many answer court account cell build. Else will cut central.',\n",
       "       'Dark ball age late door. Investment table ever talk. Quickly without week.',\n",
       "       'Expect interview top figure drive. Almost lawyer customer everything possible. Drug lay image Mrs. Clearly cultural affect nature PM husband.',\n",
       "       'Sort threat bad meet. Tell soon tough leader. Program report paper difficult sport attention natural.',\n",
       "       'Structure then before degree. Method Democrat share another.',\n",
       "       'Church send discussion former. Thousand game room decide sport set soldier information. Yes red whatever place five.',\n",
       "       'Toward power member thank. Line money clearly nearly. Rise rock feeling treatment guy.',\n",
       "       'Claim however student situation town modern without. Recently magazine per here list every prepare. Third good wind.',\n",
       "       'Dog he continue world this spring style. Month beyond position. Ten town become at. Challenge could by now conference. Foreign environment great manage long old.',\n",
       "       'Authority build recently think. Whether do close foot. Fear value natural exist institution. Wife at window skill.',\n",
       "       'Performance leave information sea serious professor. Song small sport city political. On former office democratic wonder. Large media require size speak detail feeling.',\n",
       "       'Almost official player force determine throughout. Every mouth walk bad ask. Fill particularly newspaper. General learn author support record. Job bar parent.',\n",
       "       'Just first try agent off several. New leader data everyone allow song. Environmental station character doctor. Far cup lay play hand.',\n",
       "       'Future financial officer now foreign main brother. Condition resource federal term remain. Way over attorney group spend street before. Cause tree heavy great.',\n",
       "       'Mind only around Mr. Decide care house three little ahead artist.',\n",
       "       'Every this until city something college decision. If history career of. Relate candidate growth risk someone.',\n",
       "       'But standard scientist money among. Trouble bit money step. Quite pressure appear people official central agreement.',\n",
       "       'Record activity very. List analysis mean defense. Security notice kitchen find. Cover lot relate field black court. Thought decision several fill wide attack.',\n",
       "       'Four attack stuff special. Job memory lead. Report body identify voice allow. Various seat security lose.',\n",
       "       'Situation great recent term camera want. Base common simple science why. Tough hope hand action.',\n",
       "       'Great bag leave drug that. Officer plan air politics lay fine democratic. Act recognize order anyone every pass air interesting. Firm condition woman road.',\n",
       "       'Run care site year water. Improve their more make hand work focus. Green similar role still team structure whose from. Whether ability role experience actually everyone strategy. Measure outside relate car focus past economy industry.',\n",
       "       'Vote environment seek piece third behind anyone find. Republican indicate pass stand. Each quickly fish end.',\n",
       "       'Allow or woman town when. Marriage us life customer discussion on. Occur fact continue. Stuff just finish ago computer easy. Include pretty arrive sit reduce.',\n",
       "       'Image national tax its. Receive cold animal. Republican hot bad sure address suffer leg. Article front owner start everyone professional.',\n",
       "       'Others wear company receive nearly floor truth one. Since young conference century speak discuss professional. Protect travel far class thought east there.',\n",
       "       'Me this low yeah me. Say but wall current. Mouth a wind nice bag manage land himself.',\n",
       "       'Page because war which. Stop since measure six.',\n",
       "       'Tonight serious value collection girl most parent institution. Society ball experience trade north card.',\n",
       "       'Read whole trip table within girl life of. Method mission data. Approach free term three would hotel politics.',\n",
       "       'Say benefit since. Arm hundred work personal. Morning end relationship mean he. Expect outside there care.',\n",
       "       'Although eight police through. Power few site road. Dream leave history entire stay note.',\n",
       "       'Reality decision shake red though per. Record close social magazine ahead all four. Star scene arm short better.',\n",
       "       'Company they most executive which. You tend that bar.',\n",
       "       'Lead all decade Congress. Industry politics big oil. On source leader later fast. Range standard team explain important turn.',\n",
       "       'Force including hope walk happy. Woman law fine million spend collection my share. Step rest much national. Agent floor ready specific. Knowledge four fight reflect far window hospital us.',\n",
       "       'Quality center political fund she produce. Ground baby for wait fall if. Question name protect maybe possible police themselves. Body specific five little contain also.',\n",
       "       'Threat evidence as decision sit again. Guess most billion should play pull. Marriage enough effort right short ground call without. Activity firm adult say ok feeling him.',\n",
       "       'Movement challenge usually tonight member population. Husband try hospital too. Agreement child brother know unit. Week significant economy mouth. Face avoid hot day.',\n",
       "       'Contain land minute miss. Me add allow family data. One write point process nice. All road build draw study skill.',\n",
       "       'Try leave that best camera. Old do mention enjoy buy government. Watch everyone service technology use. Professional however another home stop.',\n",
       "       'Family senior peace. Star long chair.',\n",
       "       'Nice represent physical room. Others character condition if house back. Produce right southern himself create.',\n",
       "       'Everything clear avoid thousand. Nothing class agent on same look. Too ready cultural hot hope season. Standard heavy morning pressure.',\n",
       "       'Skill during whose gas wonder modern. Section ever of why throughout clear end. Message single before from. Be red election Republican.',\n",
       "       'Chance interest seat charge bar top he. Stop president order once home girl hold. Also score somebody after personal. Training traditional baby nature hot machine foot move.',\n",
       "       'Candidate her when difficult leg. Act dream tonight process.',\n",
       "       'He interest all plant system. Too hundred find view not. Entire trade front but foot defense.',\n",
       "       'Avoid year court able customer world rate. Office particularly shoulder into four. Late budget set news for three up.',\n",
       "       'Dinner from worker future. Development land so interesting. Recognize similar never color scene page. Understand together than medical.',\n",
       "       'Difference enjoy me life soldier. After us board pattern foreign. Under lot everyone soon manager.',\n",
       "       'Little cold travel son yet he. Nature student executive. Economy break trial fall eight. Particular while common often college.',\n",
       "       'Community bag television country forget find reduce foreign. Community recognize range research. Seat also oil outside.',\n",
       "       'Tonight house instead evidence event simple interesting. Environmental respond ability lay of by. American kind claim player.',\n",
       "       'Peace when cut effect former federal. Bag who nothing plant worry send.',\n",
       "       'Board identify nice. Mother discuss eye against magazine card discuss. Order stand under enter buy view trade.',\n",
       "       'Amount both provide he daughter during. Fast stage culture personal. Operation rise garden girl east past image. Surface offer evening two sing process help. Government result campaign great model compare sit response.',\n",
       "       'Also music for southern force television glass vote. Word father action city history car.',\n",
       "       'Parent around however management decision appear raise. Too bad thought. Firm she minute long best.',\n",
       "       'Spend medical success amount. Soldier expert image ball staff. Fear decision ago.',\n",
       "       'Whole inside clear expert vote TV consider history. After among box keep arm.',\n",
       "       'According building door feeling decide spring arm. Project off light low model information professor. Safe include offer. West it stay local security quite. From table pull part professional.',\n",
       "       'Threat bad act baby foreign interview. Three never million leg church. Look student road people. Young site scientist control trade film service. Source section spend claim try.',\n",
       "       'Always father all western. Finish rich major interview piece film they. Blue present almost paper.',\n",
       "       'Reality voice cell sea. Write list newspaper agent prove modern. Benefit various language air.',\n",
       "       'Politics quality lot again charge station record. Other face south notice. On just around moment.',\n",
       "       'Into view Mr. Spring beyond chance. Unit may tree appear leader. Government program goal time picture really report. Raise whether dark turn community.',\n",
       "       'Camera society expect. Budget agency pressure fire question big young. Surface stuff reality dark even meeting seat. Smile compare together.',\n",
       "       'Box camera line. Agency those note practice upon value. Director lawyer article learn small simple. Sort right word ago.',\n",
       "       'Nothing side less piece. End fight central. Mind run center image apply. Daughter interview stage teacher agree later. War thank very keep.',\n",
       "       'Set watch above standard above. Radio include staff check newspaper site glass. Near need miss morning Mr true similar.',\n",
       "       'Radio others far project product art anyone. Money expect Republican trade. Activity nice should matter people. Rest four write.',\n",
       "       'Stuff their region ask cell they stage. Door gas price table.',\n",
       "       'Face product economy computer use quality send. Ready top father seven record. Product sit politics majority former agree option. Audience source put. Including able herself industry.',\n",
       "       'Few eat itself others true maintain civil. Fact with surface customer another magazine politics break. Law still computer night short us. Feel particularly investment.',\n",
       "       'Young picture cell now start. Street girl film technology send. Hold available floor choice policy for. Imagine nature however now should accept college.',\n",
       "       'Certain her particularly however. Process effect whole serve.',\n",
       "       'Wife bank student college site front report often. Drive window score ever another side themselves. Building perform possible challenge huge guess let. Big city compare next Democrat fast.',\n",
       "       'Forget minute current American test go our. Raise idea federal own consider. Protect recently any page represent more always. Bag candidate again foreign than.',\n",
       "       'Anything answer accept return him hit. Good face people own others seek. Treat change ever push public activity word.',\n",
       "       'Young tonight accept different need phone enter. Company something hard oil people. Several garden dark every law.',\n",
       "       'Care herself especially style report. Reflect player single you season difference. View claim activity add behavior per would.',\n",
       "       'Easy where traditional board threat power. Country design stage laugh car newspaper challenge. Walk particular son important. Section television name call.',\n",
       "       'Public Democrat defense throughout exactly director coach. Popular leader sign its song relationship tell they. Professional onto carry them. Street television avoid month popular blue hospital.',\n",
       "       'About draw by trouble. Western subject popular strong fund from free. Magazine read alone chance ago executive. Also matter friend.',\n",
       "       'Accept million let be. Cell beat gas friend. Lead again early scientist. Sure issue though list. Plan operation no all person car task.',\n",
       "       'Simple can floor identify different race. Degree go series mouth. Item east analysis national. Under social west huge total environment. Guess system dark contain campaign actually.',\n",
       "       'Can few herself discuss yard evening president. Their research rule guess through. One possible toward that time. Center hear leader attack. Require very so.',\n",
       "       'Its keep least south rich music should. Character attorney seven activity voice finish air enter. Score final study itself interest reveal.',\n",
       "       'Great interest me item carry soldier. Lot could would relationship kitchen party relationship continue.',\n",
       "       'Animal admit treatment him. Student team field. Majority ability charge than international these many. Production the TV international.',\n",
       "       'Course tonight home since. Pass should perhaps ask all above different daughter. Plant somebody west different surface note again. Owner back method guy amount economy keep.',\n",
       "       'About then make good eat. True customer business program learn information. Father page training economy. Outside smile Republican political great assume call. Experience help accept figure attention.',\n",
       "       'About enter pull smile wait feeling adult. Civil should traditional policy source standard method. Town air specific test ball police boy. Employee information near manage floor so. Clear fly only skin.',\n",
       "       'Early system culture window brother almost maintain. Republican beyond usually stand home. Point health shoulder goal resource. Material morning war scientist.',\n",
       "       'Yourself second unit anyone personal affect. Red evening else require. End prove also responsibility.',\n",
       "       'Paper hundred civil condition decision eat event military. Apply if human and heavy prepare exist voice. Outside pull box usually pick role. House week TV serious growth go focus. Suddenly shake win policy away.',\n",
       "       'Build local who road. Fund perform scientist during security.',\n",
       "       'Quality stay street you experience discuss evening. Because know avoid manage fact discuss down onto.',\n",
       "       'Method cell friend should idea not. Product its live number sign conference. Wrong off international owner institution.',\n",
       "       'Defense author return source realize. Minute test candidate drug at.',\n",
       "       'Pull traditional forward write relate reduce begin. I theory total majority would speech. Heart style economic particularly ok boy television. Attention ready build around.',\n",
       "       'Entire choice room force piece. School final measure race. Unit recognize who end economy drop market. Themselves language require eight new rate real we.',\n",
       "       'Leave rich body. Store term today need five.',\n",
       "       'Need purpose television specific red. Possible eight hit item much keep reach. View central staff purpose.',\n",
       "       'Red little cultural a. Week cell tonight trip director rather. Morning light pay value recent half. Movie create head impact care professional budget.',\n",
       "       'Offer head choice. Next sound of movement. Hot employee arm worry adult sit. Prove certain guy agency some popular.',\n",
       "       'The newspaper help career citizen. Cause environmental student or particular box. Event stuff television senior building arm.',\n",
       "       'Also top like owner PM feeling star. Audience partner own report help.',\n",
       "       'Generation energy two such. Camera still dinner.',\n",
       "       'Attack morning any Mrs poor laugh. Expect system magazine tree water whose term.',\n",
       "       'Chair board night country sound. Over deal forget these tough set.',\n",
       "       'Something seem low get. Case audience public college service. Create write who particular side when.',\n",
       "       'Threat war win prepare information order. Up message its.',\n",
       "       'Indeed six catch continue. Key local guy ahead go morning. Wall fall ever local. Tv but still heart according pretty again.',\n",
       "       'Defense strong door build gas everyone his allow. Bag form fall turn. Young year sense race hospital happen. Teach certain blood stand. Yet in among area appear.',\n",
       "       'Traditional bag drive perform. Read protect without election think young spend.',\n",
       "       'Physical high over become point art if time. Also common he condition. Believe long energy start. Impact under none manager door. Actually hour ever recently.',\n",
       "       'Determine begin speak care teach save. American its should standard check along development recent. Base book student PM. Far soon few suddenly many street.',\n",
       "       'Provide great hair same science card. West but along spend.',\n",
       "       'Staff writer ball whether less generation trade. Relate power you rule. Country check ask where.',\n",
       "       'Republican crime break tend society whatever leader. But expect state agent reflect view. Culture up daughter. Section wonder argue sit tree. What war hotel key.',\n",
       "       'Visit simply chair camera lot politics my. Feel computer four realize blood. Commercial think better. Mouth feeling even check however. Bank determine common build direction.',\n",
       "       'Prove nothing sign professor Mrs region. Audience on will perhaps old. Stock edge suddenly television summer reason friend.',\n",
       "       'Realize indeed brother. Can house military PM. Dream town to feeling score. Enough eye sort wear expect. Arrive he half discuss officer half.',\n",
       "       'More send wind successful like. Prevent state important bank physical cultural. Tend ahead benefit section play Congress site. Individual race southern environmental walk.',\n",
       "       'Stop service environmental forward anything but that walk. Recent increase shake party.',\n",
       "       'Mean head want common expect. Discover watch necessary pretty situation. Because again point see.',\n",
       "       'Measure world might six store information project. Recent opportunity recent city line.',\n",
       "       'High street ask new get able girl. Leader member try mention. Standard perform new election challenge.',\n",
       "       'Somebody whom plan rather behind. Mother create along million though everybody where. Which far there available for nearly cup. Can music house month strategy.',\n",
       "       'Return now result fire specific. Structure financial set. Board say every true loss pressure part certainly. Leader anyone call may country machine because. Time available people nor when against west.',\n",
       "       'Body while word century likely. Religious likely wait back policy. Character well believe white unit cold food.',\n",
       "       'Remain gas responsibility find which with heavy. Include report probably the. Next soon everybody me.',\n",
       "       'Parent pick image support. Evidence late wrong thank note live. Here structure early couple.',\n",
       "       'Near item popular nice. Service through make. Glass area list stock character later natural. Available collection appear service ground collection. Military beautiful draw senior.',\n",
       "       'Ability bar while give staff. Call really spend soldier thing.',\n",
       "       'There local think boy not image season. Group voice reflect clear record nice. People material or add within.',\n",
       "       'Baby seat now the. Political position cover participant garden past. What back result Congress community. Grow attention sometimes summer.',\n",
       "       'South finish Congress message. Owner me east nature. Available after fear ok perhaps mean.',\n",
       "       'He increase administration defense evidence. Ready offer oil. Meeting herself become audience look. Church effort argue cut.',\n",
       "       'Drive often even agree film industry scene. Kid artist international turn about. Can base hard. Young popular play.',\n",
       "       'News around politics operation wrong. Off pay his former although. Debate but view travel use only. Note clear job. Responsibility administration medical perhaps wear this PM.',\n",
       "       'Investment little your town fire. Ever easy let pressure. Our concern bank this prove. Look whether work. Organization write hit key sing reason every.',\n",
       "       'Nor lawyer find no affect land anyone. Know vote magazine everything sign. Sure I well billion kid. Feeling safe clearly nearly doctor develop.',\n",
       "       'Civil occur understand forward reason professor reality knowledge. There young rock discussion personal simply. Increase trial bad stay.',\n",
       "       'Suggest fight usually. Its technology would. Claim prevent benefit edge form may. Particular image daughter with provide ago member.',\n",
       "       'Realize raise follow people. Executive simply to it college impact. Husband hear church together together wide late year. Team carry establish industry.',\n",
       "       'Service radio majority role. Poor movement late military. Skin type who garden assume training. People suddenly exist coach.',\n",
       "       'Culture Congress economic check name. Rather reduce sound decision. Yes scientist middle during. Me class citizen contain.',\n",
       "       'Later part her south authority scene. Man draw before already say federal whose executive. Weight system forward team wait.',\n",
       "       'Into resource look language. Collection network cold always method meet.',\n",
       "       'Present kid charge. Left know under. Television face me international top.',\n",
       "       'Yard about policy Mrs beautiful test. Spring want reduce wife. Course off tell. Land Mr another forget. Join picture business answer among.',\n",
       "       'Ahead level know yet scientist. Mean development assume up health if second sister. Top season baby role drive thus.',\n",
       "       'Cause past glass. Either base glass movie throughout story author guy. Somebody movement easy rest. Report determine business specific home soon. Than develop indicate however.',\n",
       "       'Season visit month various. Impact simple base tough game. Always risk training task. Choose little growth seat yard. Wait what performance safe.',\n",
       "       'Fire grow may conference rich task become. Hotel discover movie process others wife price. Note effort realize must.',\n",
       "       'Enough color blood. Bag either win when seek real happen. Bar feel part ask.',\n",
       "       'Share friend now drop woman eye administration. Because teach treat lose upon. Modern most network especially because yes. Memory decade race travel that.',\n",
       "       'Until travel west group or we able. Use detail this product summer popular clear. Left make structure month movie significant. Tonight billion seek white other.',\n",
       "       'Sometimes discover fund moment trial. Deal leg gun leg face three. Song lead out form. Affect you these. Ability sing may.',\n",
       "       'Example real child level economy discussion. Old laugh market oil range. Southern fire next name language upon follow.',\n",
       "       'Dark officer cold film practice yeah. Although character of large improve score economy. Indicate human wonder entire beat official. Employee phone growth use indicate real.',\n",
       "       'Company generation pick them size then. Perhaps until cold attention. Clearly learn popular.',\n",
       "       'Film physical however southern drop within check. News sing mission bank ask. Sea never if indicate.',\n",
       "       'Though station marriage of certain both. Themselves system quite research. Cover indeed indeed draw music put represent. Gun different peace wait central former. Light than per clearly.',\n",
       "       'Table pretty both painting quite economic song. South because community industry.',\n",
       "       'Smile ten report matter. The hit behavior school consumer couple note. Appear me power operation point. Firm nearly any son address develop evening.',\n",
       "       'Black people manage some entire. Need improve southern. Help defense different Mrs.',\n",
       "       'Ever now picture couple. Democrat bill factor news. Music reason financial.',\n",
       "       'Side appear support grow fire difficult. Baby successful manage easy Congress instead agency region.',\n",
       "       'Law me family up nation value throughout. Such room know quite. Few exist anyone pick. Whose until such road hope never girl.',\n",
       "       'Somebody amount whose yourself physical. Especially number base nation. Difference road doctor particular public huge.',\n",
       "       'Raise ok statement respond artist. Beautiful type write eight long common tough. Street many the movie page keep. Toward task protect throw television. Organization eat now stage face.',\n",
       "       'Interview boy themselves sense enter box. Local may type religious. Miss pass forward assume. Any on part voice idea cell best whole.',\n",
       "       'Ready group long lead some really. Green begin brother same others fact agreement.',\n",
       "       'Sport recent general appear much. Whose high past citizen. Between time executive bank include whole.',\n",
       "       'Ground look establish approach up something eye. General huge recent forward garden watch. Own describe staff coach level during author. Less order floor summer say.',\n",
       "       'Attorney energy development dark sense not coach. Medical question marriage rate. Possible if ask have list test itself wear. Suggest room sound TV cut gas so least.',\n",
       "       'Special state strong couple. Agree low once father financial theory development.',\n",
       "       'Body development scene strong series threat. Another total car nice. Talk left let picture describe evening risk painting.',\n",
       "       'Pick there recent. Change government recently he really resource. Radio theory laugh change tonight live tree. Together blue crime drop. Maintain treatment camera she always security building dark.',\n",
       "       'Herself quality figure throw. Control floor thousand move over past. Field effort bag care mission. Arrive speak community onto.',\n",
       "       'Situation customer country must. Defense these hit buy day involve. Despite give miss reach.',\n",
       "       'Person according arm particular information set town. Create bill kid market. May majority reason. Enough soon brother data sister positive certainly.',\n",
       "       'Draw nice attack avoid program. Real participant either feel page. Sea visit deep thousand anything bank born song. Because affect learn forget.',\n",
       "       'Hear without particular standard. Morning want author out. Site house or behind.',\n",
       "       'Good attack skin. Professional argue certain from on accept director. Score up continue.',\n",
       "       'Conference realize prepare too police reach. Measure piece wide behavior exist list along. Ask appear individual assume sit upon build.',\n",
       "       'Results-driven DevOps Engineer with proven expertise in cloud infrastructure, automation, and continuous integration. Skilled in AWS, Docker, and Kubernetes.',\n",
       "       'Cloud Engineer with expertise in AWS cloud services, including EC2, S3, Lambda, and VPCs. Proficient in designing and deploying scalable applications in the cloud.',\n",
       "       'Eight man fact yeah. Them everyone treatment factor out necessary rest. Need nor mean wonder property say growth. Reach water this operation growth. Evening side bar forget.',\n",
       "       'Full doctor state spend yard tonight for. Present read but statement direction that hospital. Really professional dinner sure indeed one general. Build exist win live expert issue away.',\n",
       "       'Hot much south. Image last somebody clear. Others knowledge sure music life.',\n",
       "       'Behind a four hope. Rich very start account.',\n",
       "       'Others election between. Life themselves turn series large point. Analysis response moment interest than level. News ahead skill sister.',\n",
       "       'Thank player until professional arm health put maybe. Future talk network wall common general. Police worker phone always into think area. Type cause both consider participant summer million owner. Doctor option condition guy year.',\n",
       "       'Weight admit sometimes site center though. West before weight. Treatment energy cell present. Until find including station live.',\n",
       "       'Within than serve leg rise. Class also special all of. Country mean stay decision difficult chance imagine student.',\n",
       "       'Task type maintain computer take share writer. Story hard environment national yet. Room tend be onto admit. Show attack part contain kid onto.',\n",
       "       'Though sure door may fast source. Much image movie billion item fly. Pattern find write check member growth moment.',\n",
       "       'Civil if every top. Join discuss measure these quality simple. What sea question arm product line. Between management nor task above.',\n",
       "       'Blue see option sound. Along firm for. Even research energy type nothing since. Cost here factor give conference until.',\n",
       "       'Professional sport war usually. Ability it office western fish white prepare. Hot why statement than. Record likely meet.',\n",
       "       'Newspaper over air way. Discover beautiful left. Change generation effect development chance speech forget. Blood threat bring us week.',\n",
       "       'Lot spring of anyone best. Audience upon issue anything blue magazine suddenly. Time nature white father without generation.',\n",
       "       'Miss do anyone skin study different. Me who little who. Business it pretty former back.',\n",
       "       'Quality garden degree. Check where page rest serve. Him bank realize one animal under. Year force writer must will. Top choice everything child evening record.',\n",
       "       'Whole back hundred rather. About this discuss activity listen continue. Home doctor plan lawyer north.',\n",
       "       'Sometimes audience five something. Movie onto western few school book then front. Computer fine receive around design. Tonight fast soldier.',\n",
       "       'Poor back specific discussion perform. Heavy thousand along interest sell.',\n",
       "       'Event keep election remember every. Leader describe air usually write truth.',\n",
       "       'Well side reflect break probably. By financial budget. Owner eight thank experience we stock. Specific personal service.',\n",
       "       'Management scientist ok. Security than fly.',\n",
       "       'Probably represent item data. Really standard democratic listen where sport. Deal group brother feeling concern hair reflect.',\n",
       "       'Two yet never. Church animal enjoy know may sister drug. Official information often maybe.',\n",
       "       'Already degree article stage former involve difference. Fact manager song board early however. Design task green.',\n",
       "       'Capital treat standard example. Television family site design middle as. Two example political minute fill throughout. Ground civil maintain your cold. Town yet consider else within choose easy.',\n",
       "       'Usually sea process responsibility up director. Dream long would while war. Them if ahead kitchen win win.',\n",
       "       'Science trade through win fire including benefit. Fly hope religious official.',\n",
       "       'Offer reality west pretty painting today fast. Quite future put of simply claim as. Often arrive language discussion stuff. Tax wind our hear scene hard although.',\n",
       "       'Table now power technology civil determine. Single gun officer dream red. Create tough leave travel. Energy them campaign particular. Once of world decide show executive grow treat.',\n",
       "       'Miss interesting if especially task. Back structure place western clear. Pull short when dream claim including. Open toward writer information professional term carry.',\n",
       "       'Threat southern least close line. Tend parent professor cost. Police cut hotel large reduce yourself him none. Loss various administration less range.',\n",
       "       'Audience accept run. Say ball why all establish affect.',\n",
       "       'Rise offer remain. Carry less card. Different dark green instead many.',\n",
       "       'Evidence reveal reason skin already now process. Yourself statement upon. Thing meet gas executive reach nearly energy around. May sound education write. Now data modern indeed ask wide different.',\n",
       "       'Gun whose ever feeling prove Republican cup. Sometimes any despite stuff what record fight. Mrs watch well grow agree work politics deep.',\n",
       "       'Put answer may part six under. Window start rich more leave. Show doctor entire some up.',\n",
       "       'Just million less. Mr partner unit set. Six use defense wonder. Return wait send tend better. Argue nature economic let collection.',\n",
       "       'Wind than reality direction protect. Card travel line compare exactly economy free almost. Maybe possible ground show two involve general.',\n",
       "       'Citizen civil agreement family. Short hot remain season soldier short visit. Center say glass nation style culture. Newspaper offer listen girl tree technology address test.',\n",
       "       'Half citizen second return language building. Activity contain ahead action not.',\n",
       "       'Career life drive how. Suddenly street model east ability friend different. Common sit six business feeling.',\n",
       "       'Where last company senior difficult idea. Condition strategy determine develop weight. Popular knowledge growth toward current doctor.',\n",
       "       'Heavy suffer statement nearly figure high most. Sell bank question yet remember fine answer. Under statement window teach fund important.',\n",
       "       'Man impact fall effect none live hotel walk. Happy reduce first security whether. Strong message speak appear hand degree blue.',\n",
       "       'Table yourself worker son strong prove foreign. Picture office himself institution decision a true. Us last form thus article.',\n",
       "       'Open work argue election respond particularly. Conference care choose situation pressure talk. Letter push that something space. Structure capital system heavy difficult. Citizen improve subject back much play economic.',\n",
       "       'Say teacher you affect speech home recently list. Throughout school right manager treat. Radio deep room tend many. Land beyond method scene. Debate billion catch arm on.',\n",
       "       'Range recent military artist while. Left money knowledge forget. Result administration American she politics family happen. Somebody executive position claim.',\n",
       "       'She wear until send defense hot because. Situation product current southern manager relate. Food remain recognize if outside. Black east executive hold public.',\n",
       "       'Prove beat part oil course find identify. Clearly this magazine skin. Book bill after treat help old move. Half together nearly four manage together set politics.',\n",
       "       'Someone couple lot. Seem former fear skill unit from recently.',\n",
       "       'Cold first perhaps account character. Into land central entire score suffer. Somebody former official inside lead. Them research career once perform. Pm anyone wife author he popular.',\n",
       "       'Political everything local garden member quite yes. Glass somebody prove both. Evening expert step party fill attention kitchen visit. Away head since effect free. Music big beyond involve role.',\n",
       "       'Civil specific force our note. Culture writer by tonight. Study discover glass piece.',\n",
       "       'Push name executive wait. Decade interesting story how cover. Brother final building best. Effect door source investment with.',\n",
       "       'Third return man whole central town. Individual economy stock world station. Within much also fish three.',\n",
       "       'Deep teach although option recent decide. Rest will forward turn girl reality. People suffer both truth under little. Book think cultural hour win study.',\n",
       "       'Truth term billion despite anything grow reflect. To deal safe read.',\n",
       "       'Represent much way item. Rich up soldier.',\n",
       "       'World car money four cost see church young. Design response man low affect. Set course gas consumer together organization.',\n",
       "       'Act rate performance media leave support natural. Serve indicate husband. Economic where yes suggest full sound base.',\n",
       "       'Simple do study other. After account mother son man. Think all central mission finally model list.',\n",
       "       'Field maybe public buy. Seat college technology beat pretty agree. Skill interview and tree color. Investment information it especially job. Indeed out indeed cup growth.',\n",
       "       'Billion avoid resource increase fish. Individual start only market nor. Civil kitchen never chair buy. Worker resource well offer. Station society resource concern significant everything these.',\n",
       "       'Bar visit ability lead someone need reveal to. Early thank talk animal nature card consumer. Create simple away alone child.',\n",
       "       'Final manage word affect think matter. Technology foreign read win she just treatment. Beautiful lot let occur lot evidence try star. Attorney air day term but through newspaper. Will main trial election name room left.',\n",
       "       'Political instead race get note over. Reason ok think contain subject eat offer fine.',\n",
       "       'Future require raise remain center arrive. Long least along game purpose situation debate maintain. Cut week democratic affect minute. Interview soldier or movement kitchen purpose.',\n",
       "       'Campaign body need room many opportunity performance. Same see fish walk along.',\n",
       "       'Garden cold thought week. Study seem anything eight provide week. Door spring suddenly suddenly stop low. Forget find note bring them white staff.',\n",
       "       'Up analysis kitchen adult evidence seven hotel. Minute his day anyone total administration. Scene most wall lot against. Government example fish mission town while.',\n",
       "       'Imagine buy serious learn yourself dinner physical. Later lose already ever at list. Work thank author plan including try billion drive.',\n",
       "       'Resource school smile campaign support people. Whom marriage people oil. Most recently feeling nature me per voice.',\n",
       "       'Form series prove bed now appear. Small could affect officer growth. So agree food minute reveal describe social course. Usually morning cost certainly watch audience character.',\n",
       "       'Main they decade require old beat. Father environmental skill certain value member. Teacher usually moment church. Administration central film note show.',\n",
       "       'Bit other else early easy another performance. Sea without myself culture who can. Movie support name majority form. Produce senior inside free treatment military picture trip.',\n",
       "       'Defense check anything. Check whether rate talk movement. Spring easy weight collection senior skill chair.',\n",
       "       'Health own design position into. Never idea court. Question history prove enough production dinner rise support. Their herself discover friend.',\n",
       "       'Practice must question. There deal modern political maybe hand. West brother this age American by ahead. Real prove capital company. Rather tonight hotel or.',\n",
       "       'Person light what letter. Factor democratic modern fire meeting thousand collection. Democratic especially nor also light fear think loss.',\n",
       "       'When research door science letter along own forward. Certain employee for. Between four far white inside explain too.',\n",
       "       'Friend field agreement. Data tax network imagine wall. Institution machine fill I.',\n",
       "       'When glass study describe well during none. Book early coach majority. Care kitchen for food sit.',\n",
       "       'Color girl once they take across some. Letter write describe. Describe all remain pick book thousand child.',\n",
       "       'Likely project question simply over. Two avoid those stop city party. Cover point animal nearly dinner here. Institution decide citizen them deal.',\n",
       "       'Catch wonder director about. Scientist example arrive behavior. Occur seek memory understand method husband. Partner standard win produce care.',\n",
       "       'Side usually federal leg. View red put research likely. Able ahead reach.',\n",
       "       'Clearly two military federal human responsibility. Run there strategy once. House partner mission site contain study. Writer suffer owner whom fish front. Still week less near.',\n",
       "       'Opportunity artist they ago. Entire energy political indicate purpose tell. Evidence use though let carry imagine prevent.',\n",
       "       'Whole body real cost. Food campaign wonder machine maintain.',\n",
       "       'Popular catch serious best we yet. East win thousand agree. Nice party water sure page. Interest pass best.',\n",
       "       'Foot consumer behavior company face international off increase. Science mind remain send between opportunity. Cut trouble worry group when. So start success store official many training region.',\n",
       "       'Leader suffer whole improve six. Involve pretty professional spend property study cost. Station recognize third against reduce just.',\n",
       "       'Travel article conference first. Table evening suffer measure wonder.',\n",
       "       'Than consider focus store bring something. Loss approach hand rock. Color receive run seem fish need ground seek. Kind so material occur become same herself.',\n",
       "       'Environmental issue move worker need family ago. Blue indicate over economic money. Community begin key question continue mouth right my. Voice let up accept trial stuff impact. Law always manager enough hit think reduce.',\n",
       "       'Item pattern pay international national analysis interesting short. Own authority ago popular if.',\n",
       "       'Side discuss consider difference. Listen various simple finally particular ok. Concern sea standard similar learn woman.',\n",
       "       'Skin financial fact quickly quickly. Identify huge foot stand risk animal. Card myself list just Congress.',\n",
       "       'Sure training free culture choose interest first. Represent quite institution school magazine cut.',\n",
       "       'Rise candidate to six perform course story. Career man school lose she hospital.',\n",
       "       'Budget your tend. My affect number month statement plan fire. With either different property heart reduce guess left. Radio detail range enough best upon onto.',\n",
       "       'Avoid system life message board fight. As serve want Democrat various require. Hospital institution matter. Capital lay again skill.',\n",
       "       'Travel modern meet. Prevent thank relate skill work people. Mouth hospital heart few likely.',\n",
       "       'Source me what you early both poor choose. Mean argue require voice student. Attorney wide claim exactly finally former choice.',\n",
       "       'Reduce expect data specific improve agreement cut. Quickly now tend argue.',\n",
       "       'Single provide our law four. They why full choice place under. Statement his page car when. Final TV huge mind.',\n",
       "       'High class threat until also. Try poor important increase. Particular system save share.',\n",
       "       'Music each town almost movement get series. Prove public either almost. Term opportunity subject strong budget firm. For bag pass. Heart political about fact when garden case.',\n",
       "       'Service difficult thousand. Level one establish anyone how energy. Important final car do likely send station.',\n",
       "       'Property course language wide. Push back turn it message voice decide. Market wrong film end serious both. Ago establish single serve weight.',\n",
       "       'Threat note lay history turn one plan turn. Girl production technology standard market past expert space. Of other space character note.',\n",
       "       'Station dinner live buy plan. Spend family because week party grow. Reach he your second also arrive mission.',\n",
       "       'Picture arrive method people back school. Energy production certain want economy every hundred. Determine attention reflect enjoy. Member not summer business.',\n",
       "       'Small thousand pick travel. Decision performance account size friend visit conference the. Recent election contain part hair mouth explain hit. Stop country talk role.',\n",
       "       'Choice third city record front continue American design. Open each great. Hand professor tend environment. Economic natural something yeah task. Those drug tonight behind.',\n",
       "       'Inside practice must list appear. Suggest black simple minute add accept speak. Alone environmental floor.',\n",
       "       'Among skill few wide memory care. Physical ok drug reveal prevent family receive. Thus within myself. Last card wait light.',\n",
       "       'Amount product return never use anything. Any million deep become compare. Force matter agency laugh rest. Test various city leave society partner.',\n",
       "       'Option any southern likely gas answer. Order test board case whose your political upon. Eight property spring perhaps general red worry.',\n",
       "       'Push force deal leader audience. Perform push medical news public former information control. Morning professor happy institution effect hear agency.',\n",
       "       'History certainly perform break if responsibility pass product. Tax machine result development. National mouth feeling anyone. Lead item watch task law often. Maybe foot as computer.',\n",
       "       'Soldier beautiful debate hundred campaign career process role. Hope smile future church challenge work. Follow sport father quite low.',\n",
       "       'I throughout as music. Total foreign share team. Spring trip nor size Democrat technology.',\n",
       "       'Report hold total surface soldier anyone clear. Sister light occur ground not recent buy study. Least better form business network two center.',\n",
       "       'Yes treatment person must support. Past line successful culture trade soldier source. Again dark protect build. Travel professor wife ability.',\n",
       "       'Really possible position value list office. Consumer price trip third. Provide poor argue lay want. As cause his together a blue animal.',\n",
       "       'Yard order step billion phone often. Focus man political increase throughout decision.',\n",
       "       'Evening red decision community. Among feel professional large. Including traditional subject professor individual firm.',\n",
       "       'Myself research war mention too. Open themselves spring away. Already back second since. Again firm car design structure drop actually. Forget perhaps former style film professional network.',\n",
       "       'Environmental everything special relate. Have able recognize control goal best around. Inside single win response crime particularly music least. Happy shoulder product be. Range page over bill medical term.',\n",
       "       'Ago modern get behavior. Truth data network describe story. Impact cold wife western bring rock in.',\n",
       "       'Thus there although. Whom available nature may side poor. Provide wonder age hold. Life act answer support magazine. Record expect meeting there wind same notice.',\n",
       "       'Trial although strong campaign attention evening either. Reason large middle lay financial break mind. Tonight Congress kind add lawyer field of. Order certain dog quickly.',\n",
       "       'Approach push produce want. Point effect place improve toward. Address structure order better one.',\n",
       "       'Each human name world assume move important. Mind fight last avoid. Onto agreement kind. Many on everything often of. See beyond describe drop push sport instead.',\n",
       "       'Real issue reveal act fly pressure class threat. Decide factor adult share which. Shake scientist professional carry catch theory law.',\n",
       "       'Surface difference onto night ten agree soldier. Kitchen price land Democrat necessary.',\n",
       "       'If cell inside raise. Where join section especially. Mention strong student walk last.',\n",
       "       'Specific term rise clear. Question scientist company. Cultural special difficult foot future child.',\n",
       "       'Tonight scene stay let already. Little family move although begin put. Prove size manager establish site join no. Much between will determine war compare. For skill share theory statement far.',\n",
       "       'Environment economy finish this. While attack measure travel. Accept other more. Little capital must exactly.',\n",
       "       'Explain exactly church fear place ground campaign learn. Concern buy treatment international. Line sometimes he. Newspaper later matter market skill six rich three. Green able fire thing item majority behind.',\n",
       "       'Situation realize happy arm scientist. Brother painting center. Role task eight value democratic section energy.',\n",
       "       'Treat all house old individual. South art play learn bit any. Film job customer perform.',\n",
       "       'Occur nature teach individual day. Last scene thank happen remember color will recent. Audience who when sit act.',\n",
       "       'Stage difficult many boy. Professional theory newspaper. Watch case imagine among through. Stock suggest region employee have western. Film small parent black let stock game always.',\n",
       "       'Interesting turn phone meet forget. Remain rock law of yes. Top parent collection grow system his.',\n",
       "       'Enough for answer simply four. Although nation against theory. Music career chance able half key.',\n",
       "       'Role key remember. Ten evening admit argue benefit attention. Stay place anyone visit message heavy instead part. Public show early either long wife pretty.',\n",
       "       'Bank left once dog build purpose. East beat protect respond.',\n",
       "       'Watch wife just morning year. Establish place again dog itself continue significant. Reveal model language member I. Trouble wear recently answer forward.',\n",
       "       'Write support wonder possible morning stand. Where every whatever three expect system stay. Worry street everyone require agent. Office again approach reveal here argue.',\n",
       "       'Carry physical painting compare sit. Expect opportunity program.',\n",
       "       'Tonight personal money we rule mention traditional. Push stage close education opportunity none. Religious quality because room.',\n",
       "       'Investment all entire poor. Control past development him. Share enjoy mention professional paper indeed including include. Gas or however dark development safe reflect open.',\n",
       "       'Participant class try require stuff person. Bag morning seek medical. Challenge member research bed ask.',\n",
       "       'Develop structure physical success during series cup. Month method on. Type society there give smile.',\n",
       "       'Threat thus positive hard. Expect drive face black improve. Town ready leg production.',\n",
       "       'Decision threat save consumer Mrs. Sort film key arrive leave somebody. Can interest owner individual serious score room.',\n",
       "       'Character away red even positive player home. Subject mouth throughout person fish.',\n",
       "       'Worry see movie wall. Across grow traditional test. Long moment total measure build few machine. Free project treatment business trial often face.',\n",
       "       'Cause ability phone option. Door century wife friend.',\n",
       "       'Administration member involve believe. Central become process evening. By agreement fast security camera he.',\n",
       "       'Network expect difference deal. Cultural despite meeting business ready remember. Quickly worker at determine. Best Congress line defense you media three.',\n",
       "       'Not picture put think bed. Significant soon see we. Ball television site impact toward today. Fall what really government recent people.',\n",
       "       'Whom performance finish. Western free too line.',\n",
       "       'Inside with local fund single page. Thank response north difference strategy form look. Concern hospital experience music. Quite learn matter.',\n",
       "       'Far project issue whether write. During think chance source. Listen score outside war. Later another sing team. Well thing region anyone effort.',\n",
       "       'Red point draw reveal low. Wall skin let argue agent ago. Much thing forward your offer.',\n",
       "       'Build speech black player. Prevent billion sport partner sure. Finish seat up administration card subject. All who environmental. Bar south moment do all board.',\n",
       "       'Send full describe use it century beyond. Lead note natural evening believe current analysis. Key interview such. Decide perhaps management television or outside each. Ask alone natural could industry general heavy.',\n",
       "       'Early role town near newspaper. Purpose write thus white impact. Ready arrive sell become.',\n",
       "       'Indeed until happy low. I analysis drop catch senior soon. Author take discuss open money list may. Concern floor mind main little recently. Be the president what class ask officer.',\n",
       "       'International scientist strategy father rich. Care listen daughter natural. Page marriage practice field. Enter upon perhaps cup high trouble next. House rule thousand national member marriage goal.',\n",
       "       'Place fight share world forget speak. Heart television clear kid become dog. Third sense agency account entire west indicate they.',\n",
       "       'Program attorney much necessary whatever forget decide. Old foot onto indicate key.',\n",
       "       'Either central if agreement expect ability. Little reality too hospital east you. Area no person development behind teacher. Also sound able keep measure.',\n",
       "       'Three doctor way image political important may. No article remember space wrong friend thousand. Particularly shake executive.',\n",
       "       'Since level understand serious before care his. Popular head consumer food. People sea law style receive we. Evening start store power compare already cultural. Health name likely ok want.',\n",
       "       'Guess response answer. Term hundred region trade. Little travel far majority sometimes. Less challenge mouth consumer dream particular.',\n",
       "       'Agree sort boy idea. Child campaign value by the three believe or.',\n",
       "       'Whose technology coach fine cause image. Mind state situation to hotel.',\n",
       "       'Today lose care challenge any among test bill. Almost reality where many week radio. Allow accept need national most discuss. Against even learn he.',\n",
       "       'Official also even event see them ago. Per establish always model.',\n",
       "       'Arm plan hear. Many only view agreement area. Risk decade democratic open kitchen feeling. Read approach rich reflect.',\n",
       "       'Create hospital another investment gas. Several management method each wrong cause. Evening including population be air thousand bad. Than choose movement often dog understand nearly huge. World bar quite draw base.',\n",
       "       'Hand rule break level western ago need full. Person easy gas by election get.',\n",
       "       'Movement road person article. Necessary senior or yet responsibility. Buy alone million upon rather worker. We leg development American. Whom sport million song.',\n",
       "       'Safe cause recent. Between movement wonder stock great base door speech. Long throw this evening expert beautiful. Name into trip beautiful.',\n",
       "       'Participant expect mention man. Hundred nearly door single might approach ahead model. Everything culture whose must even like something. Must response find pressure manage town.',\n",
       "       'Try create employee view people. Market might mind whom source sometimes hear. Wall bring game candidate.',\n",
       "       'Simple decision suggest put painting draw article. Focus on surface focus majority at move. Question major simply. Add his interest. Director would as threat option country law.',\n",
       "       'Another product issue difficult down data. Author total national western career mouth. Now tree and answer way score.',\n",
       "       'Put Mr life. Certain instead article bar real firm.',\n",
       "       'Understand work offer employee role. Hold response car say paper. Decision role assume husband partner look total. Office discussion purpose. Notice their strong.',\n",
       "       'Discussion south purpose five. Seven she be believe past size. We run result result loss question.',\n",
       "       'Best thousand wind Republican above. Act design value another mother model involve. Realize process final ten energy nice wrong.',\n",
       "       'Common take million speech walk. Rich list door hold tonight suffer none bank. Pass prove relate set official stuff appear. Attention message spring boy thus off. Store because enter success.',\n",
       "       'Born skin life. Report friend might experience evening. Offer personal lose around present cut. Little crime no worry such box.',\n",
       "       'Her bag interesting trade above town her I. Bar subject than power. Away pressure worker still condition machine control.',\n",
       "       'Arm rather media truth. Garden fast somebody number weight step. Establish general along huge my stage culture. Church wife factor into notice.',\n",
       "       'Next sometimes of officer time movement. Idea report another mention identify behind. Deal yard camera on north join.',\n",
       "       'Enough give student address fill interest. Later work possible. Between evidence themselves bring light. Plant set cost management.',\n",
       "       'At form system during life watch large finally. Top nothing factor only game democratic significant open. Attorney former business pattern. Only wish nice.',\n",
       "       'Line hit certainly quickly whether. Safe reduce government we blue field. Resource key travel director economy. Wall once himself buy strategy.',\n",
       "       'Recent evidence company certainly continue side prepare skill. Need cell floor responsibility my rule. Leg go animal this stand turn economy. Certain notice direction first blue. Someone administration in ever lawyer.',\n",
       "       'Project region current road major box. Office detail let real. Bank piece maintain mind same. Reach determine detail forget trade hard point. Show democratic blue age happen.',\n",
       "       'Other easy fund role deal. Help staff visit. Child then catch high line. Would see billion well able news nor.',\n",
       "       'Line player program mission adult born. Mean hard trip my situation social deep. Up too state pretty pass answer go. Sometimes child son.',\n",
       "       'Forward which society type. Husband building speak a. Mrs expect individual least although.',\n",
       "       'Less dinner near worry. Popular far tonight Republican alone. Hard form perhaps certain soon within. Only our book his. Kitchen white interest industry.',\n",
       "       'Growth reality stay pass box. Artist structure three free.',\n",
       "       'Yourself both program big there. Crime such exist kitchen model research. Collection much away current result ability.',\n",
       "       'Recently exactly arrive right lot. Religious young throughout play.',\n",
       "       'American at name. Factor good summer guess issue. End leave man study reality well. Feel entire they performance radio page learn our.',\n",
       "       'Effect character everyone whole computer effect million week. Field measure find carry turn. Improve anyone wall nothing win boy dinner. Side receive energy manage community. Memory network pass society.',\n",
       "       'Owner almost political music boy. Bring new family happy.',\n",
       "       'Hold relate reflect public heavy but. Matter treatment hope order set pull pass. Each resource event religious speak without performance.',\n",
       "       'Hotel bank with ask. Rather with account my always when. Wait brother left maintain thousand mean. Great million middle size page yard tax.',\n",
       "       'Design them this pick nature successful part gas. World the finally ten yes effort. Road hard director out behind change shake artist. Close live make hundred. Sometimes bed forward picture since security professional education.',\n",
       "       'Value upon democratic machine radio lot identify. Democrat occur very image. Any score check cup challenge.',\n",
       "       'West five professor agree. State challenge phone. Half nation whole occur half its account.',\n",
       "       'Growth sister key hear. Financial now their college. Reach house teacher. Medical especially particularly police Congress keep.',\n",
       "       'Suggest face window boy half five career. Important subject our seek including. Great bag speech. Scientist name model sense. Actually new significant phone.',\n",
       "       'The television even present organization happy fine rest. System pressure eye nothing deal family. Face paper share among fine another network.',\n",
       "       'Federal several notice just decision. Thing approach size sign day fast. Upon politics my north to particularly music. Help report to court agency eye could general. Consumer energy scientist buy ability another believe.',\n",
       "       'Morning want family generation. During set left stuff. Catch economy happen guess. Speech receive have model.',\n",
       "       'Either different old long. Do treat paper because indeed six become. Likely itself law glass long win. Care school task identify so.',\n",
       "       'Whose second her yeah red than necessary. Win early participant their opportunity phone decade speech.',\n",
       "       'Security theory contain final food time. Like hundred mother arrive since least. Response western marriage describe history technology career inside. They his Democrat new.',\n",
       "       'Develop significant dog check. Report item capital politics interview artist answer. Natural present cost note still knowledge.',\n",
       "       'Phone myself possible local score become guess. Design upon final customer himself between.',\n",
       "       'Large box today budget fine senior receive. Represent ask test officer medical rock respond happy. Our box soldier growth player. Rise seek spend realize line.',\n",
       "       'Sport pay house describe bill guess action discover. Method box rise try special. City know none piece.',\n",
       "       'Sure race no benefit. About four measure hold. Operation level common admit science TV.',\n",
       "       'Follow ago image. Second media security cost.',\n",
       "       'Everyone base card college into treatment produce. Argue suggest every get more. College put better everyone realize seem. For several ability finish that trouble.',\n",
       "       'Kitchen do service old wait. According significant teacher scene better charge. Call dog everything of. Within matter goal. Thing environmental idea sense question arrive.',\n",
       "       'Fill deep enter. Mrs doctor probably too before point. Three president material responsibility.',\n",
       "       'Majority painting responsibility where character buy executive identify. Order a seat news. Recently last into team arrive serve more. Sit coach face several throw Republican.',\n",
       "       'Build white eight which catch reach. Continue require land huge make body guy. Role such nice challenge score everything. Look hear art case.',\n",
       "       'Key father partner clear arrive song avoid. Color morning agent again tell chair house. See need section stay. Meeting teach style page.',\n",
       "       'Very hand agent service sense risk happy. Director left American value television. House talk trouble during expect if travel.',\n",
       "       'Would close sister consumer become. Along no company. Product Democrat learn model some whole. Individual success onto sister lead director.',\n",
       "       'Detail member activity statement. Decision into blood week fast eight place. Fund perform positive. Become government wonder character agreement push bad. Old PM hot.',\n",
       "       'Girl nothing ahead lawyer floor happen somebody. Case international head coach animal. Year leg bar democratic. Trouble nearly affect moment. Voice capital professor available conference.',\n",
       "       'Laugh structure per soon television cause kid. None large identify bed either. Decide late although little contain figure piece process. Fish within type give program. Source listen indicate.',\n",
       "       'Feeling successful civil specific top rest north. Last Mrs though would pick. President Democrat thousand head final decision.',\n",
       "       'From career large community agent tonight accept. Author mention three where. Open deep impact whose. Area very prove against less.',\n",
       "       'Between want indicate purpose nation soon there. Not soldier continue visit. Manage magazine off leave draw.',\n",
       "       'Expect structure few government her. Teach recognize against reflect. Which beautiful improve up mother here. Difficult water off area relationship. Music gas whatever product win concern.',\n",
       "       'Many admit traditional write. Back either church bag nation. Clear movement four account sister. Expect recent their event relationship father.',\n",
       "       'Check woman record a its state chair. Require space eye reality. Thank build design leader. Expert others cultural believe guess people table. Require space visit wife yes inside.',\n",
       "       'Leg book important model. Up require leader statement need. Participant rich side short however successful officer.',\n",
       "       'Find church accept news. Somebody process room culture eight. Day federal accept once wait.',\n",
       "       'Evidence company civil significant different drop. Brother begin by lawyer future tree. Church after hear before kid. Congress pressure become financial game relationship song.',\n",
       "       'Film herself entire quality. Recently kind firm. Political play debate home.',\n",
       "       'Mother court though drug. Action difficult reflect discuss. Study west me note. Attack reach ball medical five board receive.',\n",
       "       'Evidence care add thousand should worker see right. College two buy dog tough matter. Floor without television personal yet central. Special agency another simple boy discuss what director.',\n",
       "       'Tree open girl among guess. Drug gas five hot form challenge many. Public health yeah walk mention.',\n",
       "       'Available away attorney century ten. Director if give ground despite force ahead single. Task beyond weight involve. Agree growth establish be degree try.',\n",
       "       'Few structure research moment. Arrive ground laugh man inside style performance hundred. Enter son on simply southern cost also.',\n",
       "       'Debate it personal man pick imagine development. All manager technology floor. Activity time mouth assume attorney. Just case foreign investment. These easy skin memory month.',\n",
       "       'Main although end teacher. Month record kid series still. Word ten himself once know price.',\n",
       "       'Information six support risk. Response kid benefit west speak morning candidate. Apply fill yard decade including field. Player car officer think those lawyer situation rock.',\n",
       "       'Region main memory television customer. Body choose understand turn. Million itself human college create church meet someone. Two provide role back Democrat relate night.',\n",
       "       'Else hit set however need. Growth she either body. Young discover form dream before. Beautiful page out hit.',\n",
       "       'Line cut language out including share expert. Discussion time rate industry. Himself according word.',\n",
       "       'Cover actually word reach person through house. Authority lay trade safe me here.',\n",
       "       'Store city go organization news matter produce. Strategy throw contain true factor.',\n",
       "       'Cold job certain late. Indeed easy moment process feeling. Left key truth follow better answer despite.',\n",
       "       'Radio memory process skin able cut happen. Any home each defense hope big high. Too college front seek.',\n",
       "       'Consider natural thought every security speak loss. Specific term figure from grow student hope.',\n",
       "       'Appear trade success answer degree different church. Pattern production hotel very size him. Guy room difficult exactly career side fish.',\n",
       "       'Measure rather industry. Work interest per week through through money.',\n",
       "       'Region draw run smile financial. Recent me music.',\n",
       "       'Including box what black church budget stop. Industry quite character I tend produce work. Answer attack send prepare administration. Form skill program front western free must.',\n",
       "       'Change join answer successful personal particular drug. Fast real recently meeting side. Leader newspaper cause. Deep clearly idea evidence. Worry consider blood bring middle.',\n",
       "       'Assume bill friend home. Professor air argue star artist three small. Generation bank look plant them argue community reduce. Admit floor mouth then rule may.',\n",
       "       'Soon order design certainly season because off letter. Strong pay foreign. Seem medical speak money partner sometimes feeling available. Notice smile radio chance.',\n",
       "       'Work soon member test keep well. Whom professor strategy anyone throw deep though color. Movement care six strong east.',\n",
       "       'Say least foot have final resource. Audience player side. Old she Mr human clearly can ball.',\n",
       "       'Series product mission assume person contain certain hair. Stand fill yeah opportunity media many. Crime so care media.',\n",
       "       'Ground goal opportunity whose. Human whether figure common. Push point Congress. Color land resource provide exist tonight deal.',\n",
       "       'Ten expert compare sister full. Seven say from city everybody environmental hear. As soldier fire. Way understand voice fish find himself continue.',\n",
       "       'Last thus rate course child. Voice agree nice new know animal pay.',\n",
       "       'Himself evidence across key my. Second shake adult plant training administration feel. Effect management popular free whether many dream.',\n",
       "       'Finish table through girl worker. Fall top reduce central policy rate.',\n",
       "       'Main painting husband behavior seat wife game yard. The office participant blue.',\n",
       "       'Respond policy politics full administration reason question. Large off stage black federal glass region. Green floor mean pick choice loss long away.',\n",
       "       'Clearly other share remain. No church energy order performance stand hair fish. Cover road director book building growth. Late interview ground appear matter population watch. Least school push push result.',\n",
       "       'Should turn financial popular skin. Not level my wait debate success. Eight occur mention executive book perhaps. Heart race throughout story key medical hope nice.',\n",
       "       'Future building great oil camera. Lead camera explain edge. Choose analysis wish. Pick each almost least attorney.',\n",
       "       'Discuss beat hard finish bit. Up job front up bit until call.',\n",
       "       'Hour hear next. Public growth stand small. Claim total speak why.',\n",
       "       'Key skill cause international I program. Service world kid final. Sense next commercial act memory. Serious media rise future Mr without.',\n",
       "       'Yet development while blood thing wrong we wonder. Particular drug approach late memory these listen.',\n",
       "       'Radio hit condition. Send suddenly with staff popular there couple financial.',\n",
       "       'Election keep skill let. Start view degree word. Final light maybe participant major. Security language news goal night store you. Should rock task believe.',\n",
       "       'Of perform newspaper staff protect service eat. Federal yeah defense loss fly.',\n",
       "       'Produce stuff remain. Effect we blue anyone before wait. Feel herself notice offer middle like fire.',\n",
       "       'No start less in design type. Per coach analysis themselves toward life.',\n",
       "       'Throw someone nearly glass matter. Simple father old industry herself source first.',\n",
       "       'Case memory decision forget. Happy wish bad respond prove age I.',\n",
       "       'True stand family school success. Structure parent thus. Full prepare PM career executive. Age language case war course defense.',\n",
       "       'Cut view difficult move. As remain drive describe on stop. Personal fine see my easy summer marriage. Democratic decision write financial.',\n",
       "       'Measure total small finish left call million. Size agent power oil. Hard former trip per although.',\n",
       "       'Note cup alone against hit remain fight might. Talk medical win grow long should surface. Fight per put manager example. Event prove wonder some design nation.',\n",
       "       'Hot white argue agreement physical girl common. Situation middle decade record option particular. Financial bit skin sort. Step whatever blue order material.',\n",
       "       'School consider traditional happen. Laugh door top budget who southern. Record forget resource pay politics drug home couple.',\n",
       "       'Time explain just say occur occur figure. Keep perform meeting. Become particularly series culture a full.',\n",
       "       'Everything start term. Wind treatment always left. Total window hour rate certain system. Federal only million fill day.',\n",
       "       'Century left recent five. Loss sea work green. Power ground compare sport politics speech should. Wonder technology human center.',\n",
       "       'Dark still though third author weight expert. Notice next live number consider character sing. According control with officer.',\n",
       "       'Rest reason local kitchen through information. Fear court itself listen. General those station thousand rise mission.',\n",
       "       'Magazine president care rise. Themselves really open parent life out. Very attack other lead according himself. Five ground outside management. Control why down system night.',\n",
       "       'Same sea measure. Cup produce military young local citizen have art.',\n",
       "       'Gas treatment star remain yeah number. Door fear agent or. Dream president example next well.',\n",
       "       'City school project order type. Threat any stock stage hair TV program. Each ability down compare argue major. Western to explain pass hair like tend.',\n",
       "       'Trade try sell while. Wrong simply agree into main. Everybody they night officer PM arm. Affect eat at game particularly safe role. Type term avoid possible.',\n",
       "       'Popular north else sound center throughout. Thousand rock speak yeah. Lawyer where later person including.',\n",
       "       'North effort might forward. Able security clearly box expect attention evening establish. Key create size every air can. Her home evening close everything interest.',\n",
       "       'Fast late describe own score quickly go include. Method still myself clear fast person. Somebody pick could several choice enough majority large. Bring realize development with.',\n",
       "       'Happen imagine idea relationship serious. Early believe bill skin weight. Site staff wide fill open. Beyond dream rule investment last.',\n",
       "       'While fact to win. Hour beat high statement we. Name second themselves serve seem yes project together. Experience imagine whole its position line.',\n",
       "       'Point worker far something under far save create. Account soon career read might pick.',\n",
       "       'Radio all kind yet. Hot evidence back white specific instead attention. Couple well ground serious attention. Mouth rest over suggest teach whom challenge.',\n",
       "       'Professional realize whole democratic. Someone behind social energy use piece year include. Next miss example guess increase teacher. Hot visit prepare artist ball wind.',\n",
       "       'Miss deal positive name safe she. Nation four establish ability. Official per pretty write item behavior. Level size answer budget where allow. Particular car reach care certain for call trial.',\n",
       "       'Factor charge east evening happen less name. Dark production read admit magazine but.',\n",
       "       'Responsibility play security cup. Far order minute authority. Out other true she important magazine class. True with thank level stop stage. Expect price brother.',\n",
       "       'Fund population table animal. Contain church stand huge church maintain her guess. Resource senior yes able Mrs. Area claim interest condition. Along fish rock company base doctor operation.',\n",
       "       'Cover career involve coach number so. Fine rule soon interview raise project full.',\n",
       "       'When per because but question. Sure concern page wind individual such black. According occur card reach about member. Activity else woman exactly rule.',\n",
       "       'Safe whatever rock have. Official total think them safe perform threat give. Nothing new can movement detail seem work card.',\n",
       "       'Month reveal choice oil interview leader act. Throughout Congress article interview future consider movie. Join recently boy use employee.',\n",
       "       'Quite draw network reduce police issue. Deal book consumer get performance. Another movie situation air dinner art.',\n",
       "       'Money marriage heavy name. Service room condition eat order. Reason situation statement by require. Section area true sometimes.',\n",
       "       'Should me we worker kid decide. Yes memory think prevent.',\n",
       "       'Turn item rather result theory. Top they which or home phone.',\n",
       "       'Foot since process. Nearly man him. Central them all yeah management expert. Receive stand church character oil remain. Help sit tonight off management few budget.',\n",
       "       'When explain student. You choose nature sense including put. Marriage responsibility with check toward assume. Better stand something relate event knowledge away. Measure middle recent.',\n",
       "       'Lead leader see politics. Minute attack detail painting tonight have mention. To want western coach form tend role. Similar fact explain miss personal. Television skin speech feeling.',\n",
       "       'Fast eight measure service point hot. Reflect north step born magazine national suddenly. Piece clearly weight security order. Nice others behavior home. Enter control speak student.',\n",
       "       'Thousand protect property pick. Cause painting little health with environmental. His option memory become war. Decade old add ask Republican.',\n",
       "       'Lead explain cause population view. Should task someone still. Alone manage music office.',\n",
       "       'Certain serve option specific need stay bed. Cell most serious buy gun great it. Class school toward account education. Fire head public work.',\n",
       "       'Threat computer evidence easy much stuff provide. Drug away true generation animal book raise.',\n",
       "       'Such give model option oil. Right although avoid wide trip. Computer least federal Republican speak glass. Around similar grow upon its.',\n",
       "       'Green let ball authority high yeah figure. Across sport kind.',\n",
       "       'Free finally several evening happen your power. Always without professor interview. Fact right assume run citizen process compare become. Onto from particularly walk by grow argue. Worry suddenly either you nature right best.',\n",
       "       'Agreement us increase every. Seem offer sell positive together morning a. Hit check serve hour these wish.',\n",
       "       'Day only of market. A water face life special responsibility minute.',\n",
       "       'Perhaps opportunity news site hotel during participant certainly. Relate close fall realize size particularly rock. Do response citizen agree option. Result data tax. Speak science image project.',\n",
       "       'Attack including race like. South herself thank knowledge since. Couple nature true opportunity unit style.',\n",
       "       'Not cost past program body. Sort reason believe truth tonight. Give trial choice too. My especially bag fine hotel each school. Detail now mention information create.',\n",
       "       'Argue age better hard under themselves. Professor happy positive themselves not. List occur worry here around art soon trial. Five only back Mrs.',\n",
       "       'Yard federal last budget hand local section. Continue like sell play popular show gas ahead.',\n",
       "       'Must authority increase according which ago. Sing politics low ten month which hold detail. Feel fight think economic toward commercial baby. Election final leave other well huge bar.',\n",
       "       'Heavy these visit practice. Article accept big coach official remember. Degree reduce stage.',\n",
       "       'Soon house thousand side dinner visit. Game world not let.',\n",
       "       'Story clear soldier project. Worry enjoy election nature heart six office. Old success one mouth chair. Low Congress investment turn.',\n",
       "       'Easy than order two yourself price member positive. Recent factor year. Discussion nearly attack arm put whether.',\n",
       "       'Performance her this recognize. Technology student however particular professor. Seem ago attorney every through forward.',\n",
       "       'Important environment check. Grow cover outside ball serve agency development himself.',\n",
       "       'Very resource store less I simply. Car this including product attention care weight. Television his reality friend.',\n",
       "       'Court expect six vote much time source. Event why major television thing try. Especially require might party let financial. Color leave fine red. Rise old during really loss cut.',\n",
       "       'Provide out resource whom ask machine. Cause new off activity. Parent per pressure expect government. Model herself her evening. Item meet life because.',\n",
       "       'Detail go class high good. Economy former section let. Side prepare production order hard building. Without model challenge sell social.',\n",
       "       'Exist character thank. Need majority center energy place late war. Treat keep single other perhaps. Serious week whom deep policy sister. Second center spring night character heavy.',\n",
       "       'Clear teacher born. Age call head carry war magazine activity give. Factor economic but management room visit. Worry partner rather economy.',\n",
       "       'Deal view everyone quite case quite well pressure. Discover receive eye tough. Save hand other color campaign collection care. Agency involve certain whose management outside.',\n",
       "       'Guess deep set military trip raise. Participant left tough attention population. Through hear fight tax note forget poor. Trial same quality respond difficult hour soldier. Pretty see their live cause history.',\n",
       "       'Many police bed focus begin. Majority college seat first benefit. Kitchen food think unit. Skin may maintain beautiful table performance.',\n",
       "       'Court painting inside truth director how sell. Inside individual whom through.',\n",
       "       'Blue already piece really. Scientist sound low media.',\n",
       "       'Yard relationship eight us. Other forward goal billion political popular case. Town together responsibility home live student. Result model guess suggest top line. Foot wear suffer whom stay.',\n",
       "       'Past box off person. Out believe raise letter though. Skin determine say not.',\n",
       "       'Success quickly second stage trial through example parent. Economy dark sing doctor between unit lead. Range painting major too themselves participant see television.',\n",
       "       'Decide leg once quality teach general. Later through example cause note present. Because seem ball. Morning lose between itself American explain always market.',\n",
       "       'Own show reality bank determine reason yourself. Guess job sense wind very. Blue check very. Pm create professional bank very.',\n",
       "       'Mr real discussion parent. Probably world value toward on study responsibility.',\n",
       "       'Serious service accept. Speech mean beat consider. Employee four development customer against. Myself each how job thought. Sense inside direction look deal finish.',\n",
       "       'Hit approach eye enter prevent discuss others phone. Firm forget dream opportunity decade and common three. Job feel piece PM religious south though. Enough floor join account direction carry.',\n",
       "       'Early sometimes card. Political coach off son. Community worker keep election mean be. Recognize dinner can threat late speak seven. Author best movement maintain space.',\n",
       "       'Food court agent soldier anything phone property have. Month scene focus discuss themselves himself professional.',\n",
       "       'Doctor professional as country play Mr public worker. Tax author manage second. Box system win bar analysis. Soldier happy me.',\n",
       "       'Sister bar identify their someone miss page leader. Former avoid bar serve second. Force key throughout consumer. Another without teacher involve.',\n",
       "       'General sign answer clearly modern material answer. Hope seem scene college capital lose current or.',\n",
       "       'Agent item term decision matter stand during. Score your anyone prepare from establish community.',\n",
       "       'Country miss forward book Democrat answer country. Foreign site marriage air chair. Local series movement listen.',\n",
       "       'Produce born speech city difference something. Entire statement finish.',\n",
       "       'Already professor away move mind example many. Book model purpose upon. Campaign compare read. Until while hope concern garden loss break. Put question full agreement each actually.',\n",
       "       'Best about better include third surface church. Beyond tough white cold choice. Today yourself nearly final response worker should. Dream center visit hard. Size drive teach hundred responsibility quality short service.',\n",
       "       'Tv wind put admit feel. Describe reveal lose stay occur model. Far energy situation indicate evening. Campaign defense that dog poor agreement bag.',\n",
       "       'Wonder face place choose onto difficult bank position. Among understand best.',\n",
       "       'Natural production again future discuss since one prevent. Night mention our often. Leg send stuff ready behavior.',\n",
       "       'Creative Web Developer with a passion for building responsive and user-friendly web applications. Proficient in HTML, CSS, JavaScript, and front-end frameworks like React.',\n",
       "       'Analytical Data Scientist with a passion for machine learning, statistical analysis, and data-driven decision making. Experienced with Python, R, and modern data visualization tools.',\n",
       "       'Early evening wish maintain such have myself. Game else east accept during. Leg high short they you light. None major research employee improve.',\n",
       "       'Media safe product region assume author PM. Bring old yourself herself when peace eat star. Until decide which how travel expect. Situation near hot parent those word. Fly serious clear pattern data.',\n",
       "       'Local weight course single bad find. Nor able conference free relate. Place anything let without likely machine foreign social. Already well town magazine bill. White road network likely per for.',\n",
       "       'Attention detail measure season organization choose. Significant that development attention surface street. Carry bar issue provide.',\n",
       "       'Just agent detail strategy word. Effect body full wind new yeah season. For suggest color material our goal. Beat southern city peace.',\n",
       "       'Guess although why relationship policy until put long. Worry right leave doctor employee. Save brother trouble hour buy sing. Buy PM administration.',\n",
       "       'Rock term break apply. Real computer serve enjoy wonder a. Exist doctor success little daughter option choose job.',\n",
       "       'Can right herself table now. Page house exactly dinner second. Skin room to it.',\n",
       "       'Room out determine. Inside draw cause woman seek Mrs simply.',\n",
       "       'Mouth trip region international school treat because accept. Lay sound add. Outside again fast how.',\n",
       "       'Similar east wish couple trouble employee future. Paper suddenly our century likely. Quite us admit wind.',\n",
       "       'Return decision specific fly drug popular still. Support system TV alone young body draw. Bit season agree amount. Beat movie apply artist affect either. City one hospital although modern.',\n",
       "       'Deep fund speech organization. Threat really outside property enter different. Husband court response truth role no. Out entire room movie window.',\n",
       "       'Strategy far second whatever stage message president pick. Than knowledge number reduce clear. Rich trial quickly three thank. Land company take station right.',\n",
       "       'Manage civil ten health. Scientist realize goal dark.',\n",
       "       'Determine recent create gun station worry. Him society amount early. Rule read thousand kitchen reach anyone. As line mission life go.',\n",
       "       'Degree knowledge despite grow poor character west. Bit six season staff others hour. Can present city. Media structure beyond worry.',\n",
       "       'Reach group guy sound population data. Six close various enough. Call create deep into until answer night. Huge agreement project same moment local tax I.',\n",
       "       'Because speak owner situation itself. Size television past four several evidence economic. Opportunity none together herself guess image.',\n",
       "       'Reality your plant particularly good explain. High support drop. Hit three group people apply. Career office wind government agree professor.',\n",
       "       'As sometimes eat to. Process nor back science three air as few. Task clearly oil tend American little.',\n",
       "       'Attention election fly difficult director. Bar particular quickly option join. Investment no husband cut standard.',\n",
       "       'Hold particularly international he listen. Eye sort serve my most. Consumer would these career opportunity position theory talk. Choose find oil employee.',\n",
       "       'Wish admit east still million. Accept action computer huge local fact better. Down example find four machine drop. Bank vote ago teach team possible brother. Smile strong computer thousand enter moment federal billion.',\n",
       "       'Security base lose environment west reveal. Total company trouble ready late everything trial. Appear clear instead. Popular situation tell record single by southern.',\n",
       "       'Safe also anything beyond sister million customer. Role other year member. Item effort responsibility present across want court image.',\n",
       "       'Remain avoid outside beyond month child. Pressure whose stock hard throughout. Development identify truth fine.',\n",
       "       'Important own scientist perform article. Yes notice road drug. Set father around piece enjoy. Wait majority safe whom century main. Level science play would executive like.',\n",
       "       'Begin particular thus. Wall protect prepare leave although time. Quickly score while.',\n",
       "       'Thousand field real would image talk. Sea technology enough it natural key.',\n",
       "       'Training special consider peace according size view. Serious small final list why college. Color produce note assume.',\n",
       "       'Change place today force under. Hospital professional no seven agree forward list around. Goal building stock call.',\n",
       "       'Discussion nothing member hour idea herself five. Education born training never above next former. Far pull necessary child. This mother hot response effect soldier difficult.',\n",
       "       'Even attention senior deal positive. As stop million will knowledge. Analysis about like may safe. Machine smile stage unit.',\n",
       "       'Main buy growth assume identify how. Instead control these only hair important. West range international clearly grow approach sound.',\n",
       "       'Buy statement but. Traditional main hundred way. Game beautiful bank find up for drive husband. Cold box behind phone floor speech me throw.',\n",
       "       'Capital if another. Join those individual during her its PM thus.',\n",
       "       'Man American school. Meeting minute candidate section direction rock reveal. Lose however make. Son build small husband if certain.',\n",
       "       'Him draw nothing person during threat yard. Area them dark character. Old somebody drop.',\n",
       "       'Face college wear yard firm real leader. Seven return peace positive very unit line might. Issue threat stop go air rule million. Hot nature quite although become represent government.',\n",
       "       'Seat employee member TV. Pressure during action lot realize chair son career.',\n",
       "       'Decade it exactly kind scene movement commercial simply. Include bed safe. West have heavy member city. Hear positive director growth.',\n",
       "       'Threat owner among product herself animal. Raise car attention. Performance real trial. Page guess more.',\n",
       "       'Move level crime local court shoulder. Along amount interesting argue better trouble investment nature. Impact nor media event choice. Ready reveal hit strong.',\n",
       "       'Analysis political particular discuss particularly. Become create put middle effort home. Science music go capital among administration campaign mother. East skill Mrs mouth skin.',\n",
       "       'Staff however discussion goal only. Apply campaign station enter. Lose poor part through sometimes.',\n",
       "       'Stand claim lawyer for box across benefit. Provide away two any official. Street manage health control pattern store. Answer material realize very interview staff article.',\n",
       "       'According security successful school heavy word ten. Hold manager should ask source. Allow plant security cultural policy hope bring.',\n",
       "       'Billion general modern amount fish change color. Sound ready hold. Serve power prepare medical page meet ok. Stop trade institution others behavior place.',\n",
       "       'Wide board team blood skill usually. Young toward career foreign.',\n",
       "       'Course seek sort happen physical none information program. From teacher stage through believe same bag. Actually drop perhaps your everything. Long work identify art.',\n",
       "       'Exactly already general particularly enjoy research participant. Today usually cut summer. Significant product population response second raise especially management. Experience point civil.',\n",
       "       'Need site behavior hour. Medical into have if stuff pretty including between. Theory relationship produce team realize of. Only machine behavior performance direction true plant. Base building picture owner thank both if.',\n",
       "       'Church during soon suggest. Write according work protect. Author keep choose since however.',\n",
       "       'Nation near appear cold since traditional. Very small exactly occur rise. Pm establish hand research prevent her small. Certainly language return establish perform. Pay mean name daughter.',\n",
       "       'Large daughter charge have scientist. Respond difficult identify threat water argue. Old game research lot. Ahead service a speak imagine voice room about. Very third mind number many top hand remain.',\n",
       "       'Begin gun phone clearly be American. Method force production agency from admit. Poor family page chair message about. Natural mouth food responsibility watch road light. Fact control three animal lose throw half.',\n",
       "       'Forget east common social industry through last. Perform worry market entire where who. Also write finish plant issue.',\n",
       "       'No teach positive half senior herself. Choose great country appear new. Forward young impact arrive.',\n",
       "       'Important two recognize she tell year. School bad pretty. Risk few sit professor. Happen hard case fill. Different try think federal.',\n",
       "       'Over ready responsibility base. Western future apply central summer purpose. Both should how reality. Certainly development simply mouth heart drive accept TV.',\n",
       "       'Ten administration become story during practice involve. Also wait far fall quite cut talk lead. Benefit less hear day charge event visit still. With top first.',\n",
       "       'May later morning decade. Drive I near a lawyer success. Off son while computer too service commercial.',\n",
       "       'Accept support shoulder. Political I easy similar. Risk easy artist after energy force.',\n",
       "       'Trade us hot author strong girl. If check else budget degree such structure respond.',\n",
       "       'Sort get campaign. Lay hit almost late. Table carry piece democratic again. Power model event bad. Consumer character kind involve hair man could.',\n",
       "       'Leg issue or father teacher degree. And effect bed religious almost local attention. Chair think may without.',\n",
       "       'After nice fill and can election interview. Next business thing manage door. Simple our make final plan apply network themselves.',\n",
       "       'Religious town so computer. New season issue cover. Within firm idea likely. Building push statement body must air.',\n",
       "       'Lot body little idea hear bank. Thus vote line too reality. Force center road course. Down card yard yourself reduce pull smile.',\n",
       "       'Physical light player ball. Pull sound present idea why environmental. Later turn debate candidate security contain positive. Man mission network serve.',\n",
       "       'Fire ask piece number fall. Who affect what reveal. Back actually you good.',\n",
       "       'Character child suggest field couple. Prove fine pattern democratic black. Chance seven despite we. Much black sort. Couple table born service too leader.',\n",
       "       'Political record information soon she simple against memory. Perhaps take see want land response remember.',\n",
       "       'Reality star risk PM. Red serious individual production. Fall public training respond try half. Herself voice power skill level nor lot.',\n",
       "       'Happen memory dog during task. Organization ahead camera industry stop.',\n",
       "       'Almost public local health mind. Ever conference anything knowledge yet trade pretty.',\n",
       "       'Until huge how hard both relate yourself. Piece true drop character bar. Better institution bill play beautiful show.',\n",
       "       'Leave despite available. Difficult help service suggest mother surface. Feeling who wind city.',\n",
       "       'Them wind responsibility born majority positive. Fast at environmental catch medical near. Box article else treatment somebody single news water.',\n",
       "       'Democratic hotel past population cover marriage. Which share how here. Stop ground apply lot treatment action choose. Drop since sense recently. Listen rise whatever dream writer land.',\n",
       "       'Heart oil even institution reflect early make. Cup know maintain strategy low. Return class increase agency prove water effort. Sing bag certainly capital laugh.',\n",
       "       'Finally power keep guy describe. Major teacher the appear experience loss end. Music care water reflect just bank. About especially public leader develop finally all.',\n",
       "       'Money trouble to. Foreign station behavior animal despite. Change out especially standard. Author raise really note.',\n",
       "       'Like join relate operation. No benefit against cost allow couple. Lawyer more degree rest first.',\n",
       "       'Our would everyone. Model name both bill account against growth same.',\n",
       "       'Hot thousand in window. Medical around age behind free possible billion. View room project born.',\n",
       "       'Seat everyone family week less prove or. Green total drive money. Draw enter around fly. Special during painting hit.',\n",
       "       'Occur probably American. Miss size section term once finally wife fact. Money else possible conference house between. Issue order and support ten bag.',\n",
       "       'Hard learn than bank there here laugh. Stay bring should phone there.',\n",
       "       'Product benefit me blue force. Writer husband cold he. East include garden agreement. Which test citizen individual treatment walk.',\n",
       "       'Half laugh senior outside. Hear always today customer fund method condition significant. Later network be itself capital however house. Increase red series store job animal notice.',\n",
       "       'Water personal kid standard bad game range. Yeah system admit tough paper. Interesting just focus heart.',\n",
       "       'Reflect car agreement score clearly then reveal. Gas dinner beautiful. Economy really discussion smile education cultural. Smile blue number upon begin degree yard. Investment nor difference face.',\n",
       "       'Term attorney still. Air task former street. Drug hot law quality. Yourself improve order movie computer.',\n",
       "       'Benefit success machine debate season site democratic. Air lay example material read well. Sea every move court bring. Officer drop his computer prevent car effect. Join authority almost detail budget doctor adult.',\n",
       "       'Management always last note stock significant. Pass company bring lay. Market decision deep activity whether policy summer hand.',\n",
       "       'Pm series thousand customer action. Only phone near sit provide list. Beyond station consider. Pull not pass local event.',\n",
       "       'And impact design likely Democrat carry of. Apply than her police up character. Despite skin explain north blue. Great agreement bank.',\n",
       "       'City leave close after leader rock. Best feeling decide blue similar. Sign read player space garden including eye. Argue movie full as. Tree sit mother together politics green.',\n",
       "       'AI Engineer with expertise in artificial intelligence, machine learning, and deep learning. Skilled in Python, TensorFlow, and developing AI-powered applications.',\n",
       "       'Data Engineer with a focus on ETL processes, data pipelines, and data warehousing. Skilled in Python, SQL, and big data technologies like Hadoop and Spark.',\n",
       "       'MLOps Engineer with a strong background in machine learning model deployment, monitoring, and optimization. Skilled in Docker, Kubernetes, and CI/CD pipelines.',\n",
       "       'Passionate Deep Learning Engineer with expertise in neural network design, training, and optimization. Skilled in TensorFlow, PyTorch, and computer vision.',\n",
       "       'Computer Vision Engineer specializing in image processing, object detection, and video analytics. Experienced in OpenCV, TensorFlow, and deep learning models.',\n",
       "       'NLP Engineer with experience in natural language processing, text classification, and sentiment analysis. Skilled in Python, TensorFlow, and NLP libraries like NLTK and spaCy.',\n",
       "       'Creative iOS Developer with a focus on building elegant and user-friendly applications for Apple devices. Proficient in Swift, Xcode, and iOS SDK.',\n",
       "       'Innovative Android Developer with a passion for mobile app development and user experience design. Skilled in Java, Kotlin, and Android Studio.',\n",
       "       'Creative Mobile Developer specializing in iOS and Android app development. Proficient in Swift, Java, and React Native, with a focus on user-centric design principles.',\n",
       "       'React Native Developer specializing in cross-platform mobile app development. Proficient in React, JavaScript, and building high-performance mobile applications.',\n",
       "       'Flutter Developer specializing in mobile app development and user experience design. Skilled in Dart, Flutter SDK, and cross-platform development.',\n",
       "       'Site Reliability Engineer with expertise in maintaining high-availability systems and automating infrastructure. Skilled in Docker, Kubernetes, and cloud services.',\n",
       "       'Systems Engineer with a focus on designing and optimizing complex systems for performance and scalability. Skilled in Python, Linux, and system architecture.',\n",
       "       'Infrastructure Engineer specializing in cloud infrastructure design and management. Proficient in AWS, Azure, and infrastructure as code tools like Terraform.',\n",
       "       'Kubernetes Engineer with experience in container orchestration and managing Kubernetes clusters. Skilled in Docker, Kubernetes, and cloud services.',\n",
       "       'Platform Engineer with expertise in designing and maintaining scalable platforms for web applications. Skilled in Docker, Kubernetes, and cloud infrastructure.',\n",
       "       'Dedicated Security Engineer with a strong background in cybersecurity, risk assessment, and incident response. Skilled in penetration testing and security audits.',\n",
       "       'Cybersecurity Engineer with a strong background in network security, threat detection, and incident response. Skilled in penetration testing and security audits.',\n",
       "       'Information Security Analyst specializing in security assessments, risk management, and compliance. Skilled in cybersecurity tools and incident response.',\n",
       "       'Penetration Tester with experience in ethical hacking, vulnerability assessments, and security audits. Skilled in network security and penetration testing tools.',\n",
       "       'Database Administrator skilled in optimizing SQL queries and maintaining database health through regular backups and maintenance.',\n",
       "       'Number benefit any reality carry. Late final field allow. Call home image seven buy like my green. Marriage customer wide home crime little. Offer also product show.',\n",
       "       'Send world individual. Serve attorney listen bar themselves seven this. Notice Republican sing friend might movement.',\n",
       "       'Green skin affect speech. Bed provide such yes.',\n",
       "       'Finally themselves approach people suffer. Event allow factor pay take beat air. Power nearly majority nature when close and.',\n",
       "       'Process result hair else. Capital worker step development perform left some. Good up party throughout particularly. Than purpose beat research win increase. Interest recent hold.',\n",
       "       'Within treat send establish thus financial. Thing both so author total. Event term last.',\n",
       "       'Both cut husband business glass matter. Data experience test. You today area size. With simple resource blue. Quality charge fly treatment answer tough skin.',\n",
       "       'Ahead trouble listen next. Former big almost recognize. We fish get.',\n",
       "       'Month section west ten present say. Great possible above job big.',\n",
       "       'Subject image without discussion view Democrat. Family measure act specific whose many. Develop former air month.',\n",
       "       'Bring employee capital will boy student respond court. Sea natural gun also art building radio. Skill stage many your indeed. Piece woman can red campaign.',\n",
       "       'Common Congress international human best chair until. Nation foreign center one. Meeting add perform middle brother.',\n",
       "       'Course perform fear act country perhaps plan security. Recent single phone yes spend. Sister center old growth Republican situation meet.',\n",
       "       'Sing yourself fish project since Mr expect. True east wish quite.',\n",
       "       'Live from skin activity include generation. Business him participant nation. Enter together instead forward.',\n",
       "       'Guess reflect appear. Consider between whether recent.',\n",
       "       'Month return break million hotel. Part talk minute indicate young form someone. Force moment cell activity seven agent. Same fear maybe.',\n",
       "       'Director point former factor. Similar remain relate quite amount well. Author grow next former each far. Of if history type life half either.',\n",
       "       'Result value face recent. Director lose thus unit summer practice anyone. Compare ago feel hundred. Series allow attention wonder. Standard data believe teacher.',\n",
       "       'Allow course rock end. Mrs color author task. Already career quite a position candidate read. Them son be let station him entire.',\n",
       "       'Before health move the who strong realize. Together sister individual.',\n",
       "       'Prepare star might debate become whose picture. Land look everyone push state morning produce ever. Range treat list college against dog. Amount end reason spring forget.',\n",
       "       'Blood experience describe TV great six brother. Anyone run for society story under.',\n",
       "       'Station discussion total somebody son assume third. Certainly however view. Today country window southern development it will to.',\n",
       "       'Write write loss century project. Almost response movement later ball. Quickly institution want play effect road weight. Head analysis think ahead.',\n",
       "       'Night thus however treatment note test sell. Bank can lead.',\n",
       "       'Tv above try his participant story seem data. Less develop truth girl mind change born. Finally whom throw pretty financial.',\n",
       "       'Picture director shake Mr defense leave. It respond avoid beat from oil car seem. Foreign medical then article build unit to. Whether own mother by happen. Power can office.',\n",
       "       'Positive subject standard record together debate writer economic. Hair sit over sea project fight. Peace cultural science door her film rich eye.',\n",
       "       'Animal your condition human compare create. Almost design Democrat answer. Year will rule which happen. Force wall spend director. Example leg face their green event Mr.',\n",
       "       'Fire position summer boy life ago. Small must spend hotel draw. Technology use dark. Alone seat attention war skill.',\n",
       "       'Including painting network firm street. Summer all staff leader. Door bed do show. Where news perform his would water TV. Ready stage share would month military.',\n",
       "       'Finally several six lay discuss value. Spend throw everyone draw. Best lot man hospital. Beautiful available someone trouble wait.',\n",
       "       'Case south table family clearly. Along into paper security Mrs child. Son expert soon manage alone factor. Example school true marriage.',\n",
       "       'Order available beyond current. Visit stand thank state significant. Ready dream natural while happen. Its generation television. Technology clearly recent south provide seat lawyer.',\n",
       "       'Because practice any because measure. Medical have really community value. Economy such perform. Environmental herself statement raise better reality step.',\n",
       "       'Action development force it white wear. Floor drive weight write. Receive also into everybody kitchen approach. Central political six resource break effect final. Life church himself.',\n",
       "       'Fill agreement special sing when appear participant. Themselves eat country. Right sense member rate once performance.',\n",
       "       'Court cause poor owner high green. Theory so lose such bring feel remember admit. Anyone entire prevent per project. Several respond shoulder short part adult. Firm place pretty general happen.',\n",
       "       'Myself pressure get at enough. Open create character later. Radio another store they. Once future market size. Training some prevent voice gun spend expert.',\n",
       "       'Media she any threat. Easy likely finish still. Nice true establish who west training. Rather eight sea.',\n",
       "       'Choice able we party. Experience rate down effort health win. Worry which window.',\n",
       "       'Ask maybe somebody staff he. Offer rate million task. Through must southern relationship hour.',\n",
       "       'Hope course production agent begin. Choose fear fish similar production fast fact. Health store let theory sit. Realize everybody which section of follow. Job talk job summer.',\n",
       "       'Product certainly order few store color figure. Man him very trade shoulder fast and. East station tree see. Low happen either method. Teacher try those between.',\n",
       "       'Mrs entire join site dog very. Bag campaign consider remember tree. Cell end street weight relationship quality. Whose citizen director how.',\n",
       "       'Read decision yet deep arrive. Foreign ball personal we.',\n",
       "       'Rich sing significant young director type another. All direction stock bill citizen local little. Southern almost factor international measure research. Bring scientist time her particularly manager. Without hold person entire issue political.',\n",
       "       'Remain brother I read begin space. Style deep check thus single hold rest job. Despite mission citizen assume. Star for night smile evening wish. Task pattern sign attention book.',\n",
       "       'International man note use energy. Pull bar candidate stuff yes. Turn community item support pattern.',\n",
       "       'Yes consider candidate technology card opportunity. Themselves create president. Success over space individual husband fire.',\n",
       "       'Practice policy about development phone. Case knowledge weight. Within walk west pattern range until.',\n",
       "       'Matter article market idea parent. Audience you almost form measure good culture.',\n",
       "       'Red interest fill whose. No question newspaper arrive father. Shoulder yourself send commercial actually avoid level.',\n",
       "       'Plant nature sense as for. Fund important recently grow sport according identify. Peace recent record the perhaps trip. Blue letter identify before.',\n",
       "       'Mind management fact structure even without art poor. Speech question way something indicate area.',\n",
       "       'Summer answer our view item decide. Service science write firm entire. Another lot consider.',\n",
       "       'Rest positive experience many foot. Day suggest chance. Sound either citizen here contain. Toward improve individual house however institution toward option.',\n",
       "       'Individual baby simply view international grow newspaper different. Health speech good on land. Might soldier ever air would person day.',\n",
       "       'Space town take government them at. Only apply increase affect.',\n",
       "       'Would even sister wish decade. Onto arrive similar provide education ahead heavy seven. Build happen focus meet friend issue easy create. History than us decade.',\n",
       "       'Fact job eye near partner development begin. Down less economic painting.',\n",
       "       'Necessary step assume city. Today against over. Above even road game want. Sometimes any song black audience.',\n",
       "       'Point customer professional able level why. Recognize onto market maybe tend teacher. Clearly worry include.',\n",
       "       'Break note cost wish receive conference expect. Worry necessary opportunity movement understand. Phone hot morning message chair.',\n",
       "       'Green nothing go nothing blue mission allow century. That news its knowledge. Finally per ten form election. Act thank really seat generation growth able.',\n",
       "       'Serve put pass responsibility. Identify mean same strategy new really. Kid think above wife let brother.',\n",
       "       'Tree loss do mention. Newspaper community care themselves partner investment.',\n",
       "       'Man people girl change. Dark easy pretty management that rise. Program north other shoulder together population say. Before there but culture protect point must.',\n",
       "       'Notice rate fight enter. Although buy buy maintain hit forget. Choice pretty bed body.',\n",
       "       'Son go increase they. Answer participant increase behind interview. Various local edge last. May recently Republican sit tonight treatment. Care artist both nature test huge.',\n",
       "       'Outside very tax into. Fact its true leave leg. Our its until stock.',\n",
       "       'North story decision. Everybody early spend. Level well foot difference might.',\n",
       "       'Daughter people condition school adult win glass. Common hot rock work around girl. Involve to tonight inside agreement reach fall.',\n",
       "       'Laugh last politics assume hundred late. Energy quite adult learn. Office senior wonder fly somebody fish.',\n",
       "       'Husband quality reflect. Available exactly rather threat attorney.',\n",
       "       'Than movement occur meeting oil. Country safe like letter western. Rise choose maybe friend song final.',\n",
       "       'Else throw population. Third present price read. Process memory maintain leader affect. Note house form reduce spend describe according keep.',\n",
       "       'Seek wife action that win shoulder. Most avoid western behind past its. Bill near more firm produce them. Side individual social.',\n",
       "       'Push part themselves agreement call would. Main there pretty become side behind similar. Difference water say really leave them. Prevent four plant company history father financial study.',\n",
       "       'Whole actually conference two hospital be technology. Rule story one. Recognize result form politics tree exactly particular.',\n",
       "       'Site the and middle. Born data see. Agree keep alone teacher sister bar.',\n",
       "       'Central TV check trouble factor may later just. Challenge bed official dinner offer like second easy. Success three last type Democrat audience. Discussion number leave perhaps thank customer.',\n",
       "       'Person but could raise allow. One machine politics floor. Late growth than consider.',\n",
       "       'Issue result perform. Nation once sing fear family market exist. Unit employee time. Money consider plant force agency goal couple. Will public education quite type race glass under.',\n",
       "       'Story one guess conference whose full article. Play air network pretty expect. Detail Republican leg fast because scientist where situation. Effort movie director face project.',\n",
       "       'Next whole fall. Laugh answer conference above.',\n",
       "       'Spring Mrs challenge baby activity gun else brother. Dinner money stock age fund energy.',\n",
       "       'Court window prove finish kitchen land person. Might middle same next indicate represent.',\n",
       "       'Case term little likely. Within hand forward letter entire management. News use foot admit.',\n",
       "       'Public order site brother defense hot action. Gun business line common big never your. Book dog too across raise inside. Gun mention speech shoulder.',\n",
       "       'At parent simply big option practice than child. Range job performance put card. Discuss world resource skill against teach station picture.',\n",
       "       'Party according develop. Summer exactly idea. Even economic make material. Big ago clear skill. Attorney PM produce say hair.',\n",
       "       'Television north so drug author everybody affect black. Away available star turn reflect final source. Something sit main ask crime. Trial fund card begin current enjoy heart. Race certain direction on total interview.',\n",
       "       'Argue day here. Become ahead mouth hope hard from. Expert unit son particular finally rate bring. Range though though lawyer city use several four.',\n",
       "       'Behind stay analysis reflect bar leader. Choose civil suddenly generation bring involve. Rich democratic matter himself beautiful.',\n",
       "       'Indeed training step radio here who. Expect inside public even fire sport day. Work stock city against travel.',\n",
       "       'Draw two owner. Black employee parent. Simple term half democratic goal.',\n",
       "       'Animal indeed law house threat society. Work thus cultural move. School wall eat with. Bad conference still south.',\n",
       "       'Different authority management indicate. Before open hot top type. Young onto you than. Suggest law happy above whole magazine news degree.',\n",
       "       'SQL Developer specializing in writing optimized SQL queries and database management. Skilled in database design, normalization, and performance tuning.',\n",
       "       'NoSQL Developer with experience in managing and scaling NoSQL databases like MongoDB and DynamoDB. Proficient in JavaScript and database optimization.',\n",
       "       'Blockchain Developer with experience in smart contract development and integration of blockchain technologies in decentralized applications.',\n",
       "       'Embedded Systems Engineer with experience in designing and developing embedded solutions for IoT devices and microcontrollers.',\n",
       "       'Quality Assurance Engineer with extensive experience in testing web applications, identifying bugs, and ensuring software quality. Skilled in test automation and bug tracking tools.',\n",
       "       'Automation Engineer with expertise in designing and implementing automated test scripts and CI/CD pipelines. Skilled in Python, Selenium, and test automation frameworks.',\n",
       "       'Technical Architect with a focus on designing complex software systems and defining technical requirements. Skilled in cloud architecture and system integration.',\n",
       "       'Strategic Solutions Architect with experience in large-scale enterprise system design and implementation. Skilled in cloud architecture and complex system integration.'],\n",
       "      dtype=object)"
      ]
     },
     "execution_count": 778,
     "metadata": {},
     "output_type": "execute_result"
    }
   ],
   "source": [
    "dataframes['candidates'][\"summary\"].unique()"
   ]
  },
  {
   "cell_type": "code",
   "execution_count": 779,
   "metadata": {},
   "outputs": [
    {
     "data": {
      "application/vnd.plotly.v1+json": {
       "config": {
        "plotlyServerURL": "https://plot.ly"
       },
       "data": [
        {
         "name": "name",
         "orientation": "h",
         "showlegend": false,
         "type": "bar",
         "x": {
          "bdata": "USIHBgQEAwMDAw==",
          "dtype": "i1"
         },
         "xaxis": "x",
         "y": [
          "",
          "Not Provided",
          "Artem Sliusarenko",
          "Michael Smith",
          "Stephen Smith",
          "Fahed",
          "Ashley Wilson",
          "Timothy Martinez",
          "Matthew Smith",
          "Jennifer Smith"
         ],
         "yaxis": "y"
        },
        {
         "name": "email",
         "orientation": "h",
         "showlegend": false,
         "type": "bar",
         "x": {
          "bdata": "USMHAwMDAgICAg==",
          "dtype": "i1"
         },
         "xaxis": "x2",
         "y": [
          "",
          "Not Provided",
          "artem.sliusarenko@city.ac.uk",
          "millerkelly@example.org",
          "zsmith@example.net",
          "nwilliams@example.net",
          "jonathan37@example.org",
          "matthewjohnson@example.com",
          "james74@example.org",
          "droberts@example.org"
         ],
         "yaxis": "y2"
        },
        {
         "name": "phone",
         "orientation": "h",
         "showlegend": false,
         "type": "bar",
         "x": {
          "bdata": "USMHAQEBAQEBAQ==",
          "dtype": "i1"
         },
         "xaxis": "x3",
         "y": [
          "",
          "Not Provided",
          "+44 7123456789",
          "6344442370",
          "937-689-3481",
          "383.532.8224",
          "001-712-343-6193x3770",
          "001-832-897-3953",
          "+1-216-644-1104x4623",
          "2114944625"
         ],
         "yaxis": "y3"
        },
        {
         "name": "city",
         "orientation": "h",
         "showlegend": false,
         "type": "bar",
         "x": {
          "bdata": "URoODAwMBwcGBg==",
          "dtype": "i1"
         },
         "xaxis": "x4",
         "y": [
          "Pune",
          "Mumbai",
          "Hyderabad",
          "Amravati",
          "Nagpur",
          "Nashik",
          "",
          "London",
          "East Michael",
          "Lake Christopher"
         ],
         "yaxis": "y4"
        },
        {
         "name": "country",
         "orientation": "h",
         "showlegend": false,
         "type": "bar",
         "x": {
          "bdata": "uAAqACEAHwAdAB0AHQAcABwAHAA=",
          "dtype": "i2"
         },
         "xaxis": "x5",
         "y": [
          "India",
          "Congo",
          "Chile",
          "Trinidad and Tobago",
          "Tajikistan",
          "Korea",
          "Ukraine",
          "Mayotte",
          "Mali",
          "Bulgaria"
         ],
         "yaxis": "y5"
        },
        {
         "name": "remote_preference",
         "orientation": "h",
         "showlegend": false,
         "type": "bar",
         "x": {
          "bdata": "PwbxBdMFTAAjAAEA",
          "dtype": "i2"
         },
         "xaxis": "x6",
         "y": [
          "hybrid",
          "onsite",
          "remote",
          "",
          "Not Provided",
          "No"
         ],
         "yaxis": "y6"
        },
        {
         "name": "linkedin",
         "orientation": "h",
         "showlegend": false,
         "type": "bar",
         "x": {
          "bdata": "USMHBAMDAwMDAw==",
          "dtype": "i1"
         },
         "xaxis": "x7",
         "y": [
          "",
          "Not Provided",
          "linkedin.com/in/artem-sliusarenko",
          "linkedin.com/in/asmith",
          "linkedin.com/in/ejohnson",
          "linkedin.com/in/bsmith",
          "linkedin.com/in/rjohnson",
          "linkedin.com/in/ssmith",
          "linkedin.com/in/elizabeth82",
          "linkedin.com/in/jacksonalexander"
         ],
         "yaxis": "y7"
        },
        {
         "name": "github",
         "orientation": "h",
         "showlegend": false,
         "type": "bar",
         "x": {
          "bdata": "USMHBAMDAwMDAw==",
          "dtype": "i1"
         },
         "xaxis": "x8",
         "y": [
          "",
          "Not Provided",
          "github.com/artemslius",
          "github.com/djohnson",
          "github.com/psmith",
          "github.com/thernandez",
          "github.com/mjones",
          "github.com/ebrown",
          "github.com/ysmith",
          "github.com/whitejessica"
         ],
         "yaxis": "y8"
        },
        {
         "marker": {
          "color": "lightcoral"
         },
         "name": "summary_word_count",
         "orientation": "h",
         "showlegend": false,
         "type": "bar",
         "x": {
          "bdata": "EgBFANIAjQmjBy8ACAA=",
          "dtype": "i2"
         },
         "xaxis": "x9",
         "y": [
          "0-5",
          "6-10",
          "11-15",
          "16-20",
          "21-30",
          "31-50",
          "50+"
         ],
         "yaxis": "y9"
        }
       ],
       "layout": {
        "annotations": [
         {
          "font": {
           "size": 16
          },
          "showarrow": false,
          "text": "name",
          "x": 0.14444444444444446,
          "xanchor": "center",
          "xref": "paper",
          "y": 1,
          "yanchor": "bottom",
          "yref": "paper"
         },
         {
          "font": {
           "size": 16
          },
          "showarrow": false,
          "text": "email",
          "x": 0.5,
          "xanchor": "center",
          "xref": "paper",
          "y": 1,
          "yanchor": "bottom",
          "yref": "paper"
         },
         {
          "font": {
           "size": 16
          },
          "showarrow": false,
          "text": "phone",
          "x": 0.8555555555555556,
          "xanchor": "center",
          "xref": "paper",
          "y": 1,
          "yanchor": "bottom",
          "yref": "paper"
         },
         {
          "font": {
           "size": 16
          },
          "showarrow": false,
          "text": "city",
          "x": 0.14444444444444446,
          "xanchor": "center",
          "xref": "paper",
          "y": 0.6111111111111112,
          "yanchor": "bottom",
          "yref": "paper"
         },
         {
          "font": {
           "size": 16
          },
          "showarrow": false,
          "text": "country",
          "x": 0.5,
          "xanchor": "center",
          "xref": "paper",
          "y": 0.6111111111111112,
          "yanchor": "bottom",
          "yref": "paper"
         },
         {
          "font": {
           "size": 16
          },
          "showarrow": false,
          "text": "remote_preference",
          "x": 0.8555555555555556,
          "xanchor": "center",
          "xref": "paper",
          "y": 0.6111111111111112,
          "yanchor": "bottom",
          "yref": "paper"
         },
         {
          "font": {
           "size": 16
          },
          "showarrow": false,
          "text": "linkedin",
          "x": 0.14444444444444446,
          "xanchor": "center",
          "xref": "paper",
          "y": 0.22222222222222224,
          "yanchor": "bottom",
          "yref": "paper"
         },
         {
          "font": {
           "size": 16
          },
          "showarrow": false,
          "text": "github",
          "x": 0.5,
          "xanchor": "center",
          "xref": "paper",
          "y": 0.22222222222222224,
          "yanchor": "bottom",
          "yref": "paper"
         },
         {
          "font": {
           "size": 16
          },
          "showarrow": false,
          "text": "summary (word count)",
          "x": 0.8555555555555556,
          "xanchor": "center",
          "xref": "paper",
          "y": 0.22222222222222224,
          "yanchor": "bottom",
          "yref": "paper"
         }
        ],
        "height": 1200,
        "showlegend": false,
        "template": {
         "data": {
          "bar": [
           {
            "error_x": {
             "color": "#2a3f5f"
            },
            "error_y": {
             "color": "#2a3f5f"
            },
            "marker": {
             "line": {
              "color": "#E5ECF6",
              "width": 0.5
             },
             "pattern": {
              "fillmode": "overlay",
              "size": 10,
              "solidity": 0.2
             }
            },
            "type": "bar"
           }
          ],
          "barpolar": [
           {
            "marker": {
             "line": {
              "color": "#E5ECF6",
              "width": 0.5
             },
             "pattern": {
              "fillmode": "overlay",
              "size": 10,
              "solidity": 0.2
             }
            },
            "type": "barpolar"
           }
          ],
          "carpet": [
           {
            "aaxis": {
             "endlinecolor": "#2a3f5f",
             "gridcolor": "white",
             "linecolor": "white",
             "minorgridcolor": "white",
             "startlinecolor": "#2a3f5f"
            },
            "baxis": {
             "endlinecolor": "#2a3f5f",
             "gridcolor": "white",
             "linecolor": "white",
             "minorgridcolor": "white",
             "startlinecolor": "#2a3f5f"
            },
            "type": "carpet"
           }
          ],
          "choropleth": [
           {
            "colorbar": {
             "outlinewidth": 0,
             "ticks": ""
            },
            "type": "choropleth"
           }
          ],
          "contour": [
           {
            "colorbar": {
             "outlinewidth": 0,
             "ticks": ""
            },
            "colorscale": [
             [
              0,
              "#0d0887"
             ],
             [
              0.1111111111111111,
              "#46039f"
             ],
             [
              0.2222222222222222,
              "#7201a8"
             ],
             [
              0.3333333333333333,
              "#9c179e"
             ],
             [
              0.4444444444444444,
              "#bd3786"
             ],
             [
              0.5555555555555556,
              "#d8576b"
             ],
             [
              0.6666666666666666,
              "#ed7953"
             ],
             [
              0.7777777777777778,
              "#fb9f3a"
             ],
             [
              0.8888888888888888,
              "#fdca26"
             ],
             [
              1,
              "#f0f921"
             ]
            ],
            "type": "contour"
           }
          ],
          "contourcarpet": [
           {
            "colorbar": {
             "outlinewidth": 0,
             "ticks": ""
            },
            "type": "contourcarpet"
           }
          ],
          "heatmap": [
           {
            "colorbar": {
             "outlinewidth": 0,
             "ticks": ""
            },
            "colorscale": [
             [
              0,
              "#0d0887"
             ],
             [
              0.1111111111111111,
              "#46039f"
             ],
             [
              0.2222222222222222,
              "#7201a8"
             ],
             [
              0.3333333333333333,
              "#9c179e"
             ],
             [
              0.4444444444444444,
              "#bd3786"
             ],
             [
              0.5555555555555556,
              "#d8576b"
             ],
             [
              0.6666666666666666,
              "#ed7953"
             ],
             [
              0.7777777777777778,
              "#fb9f3a"
             ],
             [
              0.8888888888888888,
              "#fdca26"
             ],
             [
              1,
              "#f0f921"
             ]
            ],
            "type": "heatmap"
           }
          ],
          "histogram": [
           {
            "marker": {
             "pattern": {
              "fillmode": "overlay",
              "size": 10,
              "solidity": 0.2
             }
            },
            "type": "histogram"
           }
          ],
          "histogram2d": [
           {
            "colorbar": {
             "outlinewidth": 0,
             "ticks": ""
            },
            "colorscale": [
             [
              0,
              "#0d0887"
             ],
             [
              0.1111111111111111,
              "#46039f"
             ],
             [
              0.2222222222222222,
              "#7201a8"
             ],
             [
              0.3333333333333333,
              "#9c179e"
             ],
             [
              0.4444444444444444,
              "#bd3786"
             ],
             [
              0.5555555555555556,
              "#d8576b"
             ],
             [
              0.6666666666666666,
              "#ed7953"
             ],
             [
              0.7777777777777778,
              "#fb9f3a"
             ],
             [
              0.8888888888888888,
              "#fdca26"
             ],
             [
              1,
              "#f0f921"
             ]
            ],
            "type": "histogram2d"
           }
          ],
          "histogram2dcontour": [
           {
            "colorbar": {
             "outlinewidth": 0,
             "ticks": ""
            },
            "colorscale": [
             [
              0,
              "#0d0887"
             ],
             [
              0.1111111111111111,
              "#46039f"
             ],
             [
              0.2222222222222222,
              "#7201a8"
             ],
             [
              0.3333333333333333,
              "#9c179e"
             ],
             [
              0.4444444444444444,
              "#bd3786"
             ],
             [
              0.5555555555555556,
              "#d8576b"
             ],
             [
              0.6666666666666666,
              "#ed7953"
             ],
             [
              0.7777777777777778,
              "#fb9f3a"
             ],
             [
              0.8888888888888888,
              "#fdca26"
             ],
             [
              1,
              "#f0f921"
             ]
            ],
            "type": "histogram2dcontour"
           }
          ],
          "mesh3d": [
           {
            "colorbar": {
             "outlinewidth": 0,
             "ticks": ""
            },
            "type": "mesh3d"
           }
          ],
          "parcoords": [
           {
            "line": {
             "colorbar": {
              "outlinewidth": 0,
              "ticks": ""
             }
            },
            "type": "parcoords"
           }
          ],
          "pie": [
           {
            "automargin": true,
            "type": "pie"
           }
          ],
          "scatter": [
           {
            "fillpattern": {
             "fillmode": "overlay",
             "size": 10,
             "solidity": 0.2
            },
            "type": "scatter"
           }
          ],
          "scatter3d": [
           {
            "line": {
             "colorbar": {
              "outlinewidth": 0,
              "ticks": ""
             }
            },
            "marker": {
             "colorbar": {
              "outlinewidth": 0,
              "ticks": ""
             }
            },
            "type": "scatter3d"
           }
          ],
          "scattercarpet": [
           {
            "marker": {
             "colorbar": {
              "outlinewidth": 0,
              "ticks": ""
             }
            },
            "type": "scattercarpet"
           }
          ],
          "scattergeo": [
           {
            "marker": {
             "colorbar": {
              "outlinewidth": 0,
              "ticks": ""
             }
            },
            "type": "scattergeo"
           }
          ],
          "scattergl": [
           {
            "marker": {
             "colorbar": {
              "outlinewidth": 0,
              "ticks": ""
             }
            },
            "type": "scattergl"
           }
          ],
          "scattermap": [
           {
            "marker": {
             "colorbar": {
              "outlinewidth": 0,
              "ticks": ""
             }
            },
            "type": "scattermap"
           }
          ],
          "scattermapbox": [
           {
            "marker": {
             "colorbar": {
              "outlinewidth": 0,
              "ticks": ""
             }
            },
            "type": "scattermapbox"
           }
          ],
          "scatterpolar": [
           {
            "marker": {
             "colorbar": {
              "outlinewidth": 0,
              "ticks": ""
             }
            },
            "type": "scatterpolar"
           }
          ],
          "scatterpolargl": [
           {
            "marker": {
             "colorbar": {
              "outlinewidth": 0,
              "ticks": ""
             }
            },
            "type": "scatterpolargl"
           }
          ],
          "scatterternary": [
           {
            "marker": {
             "colorbar": {
              "outlinewidth": 0,
              "ticks": ""
             }
            },
            "type": "scatterternary"
           }
          ],
          "surface": [
           {
            "colorbar": {
             "outlinewidth": 0,
             "ticks": ""
            },
            "colorscale": [
             [
              0,
              "#0d0887"
             ],
             [
              0.1111111111111111,
              "#46039f"
             ],
             [
              0.2222222222222222,
              "#7201a8"
             ],
             [
              0.3333333333333333,
              "#9c179e"
             ],
             [
              0.4444444444444444,
              "#bd3786"
             ],
             [
              0.5555555555555556,
              "#d8576b"
             ],
             [
              0.6666666666666666,
              "#ed7953"
             ],
             [
              0.7777777777777778,
              "#fb9f3a"
             ],
             [
              0.8888888888888888,
              "#fdca26"
             ],
             [
              1,
              "#f0f921"
             ]
            ],
            "type": "surface"
           }
          ],
          "table": [
           {
            "cells": {
             "fill": {
              "color": "#EBF0F8"
             },
             "line": {
              "color": "white"
             }
            },
            "header": {
             "fill": {
              "color": "#C8D4E3"
             },
             "line": {
              "color": "white"
             }
            },
            "type": "table"
           }
          ]
         },
         "layout": {
          "annotationdefaults": {
           "arrowcolor": "#2a3f5f",
           "arrowhead": 0,
           "arrowwidth": 1
          },
          "autotypenumbers": "strict",
          "coloraxis": {
           "colorbar": {
            "outlinewidth": 0,
            "ticks": ""
           }
          },
          "colorscale": {
           "diverging": [
            [
             0,
             "#8e0152"
            ],
            [
             0.1,
             "#c51b7d"
            ],
            [
             0.2,
             "#de77ae"
            ],
            [
             0.3,
             "#f1b6da"
            ],
            [
             0.4,
             "#fde0ef"
            ],
            [
             0.5,
             "#f7f7f7"
            ],
            [
             0.6,
             "#e6f5d0"
            ],
            [
             0.7,
             "#b8e186"
            ],
            [
             0.8,
             "#7fbc41"
            ],
            [
             0.9,
             "#4d9221"
            ],
            [
             1,
             "#276419"
            ]
           ],
           "sequential": [
            [
             0,
             "#0d0887"
            ],
            [
             0.1111111111111111,
             "#46039f"
            ],
            [
             0.2222222222222222,
             "#7201a8"
            ],
            [
             0.3333333333333333,
             "#9c179e"
            ],
            [
             0.4444444444444444,
             "#bd3786"
            ],
            [
             0.5555555555555556,
             "#d8576b"
            ],
            [
             0.6666666666666666,
             "#ed7953"
            ],
            [
             0.7777777777777778,
             "#fb9f3a"
            ],
            [
             0.8888888888888888,
             "#fdca26"
            ],
            [
             1,
             "#f0f921"
            ]
           ],
           "sequentialminus": [
            [
             0,
             "#0d0887"
            ],
            [
             0.1111111111111111,
             "#46039f"
            ],
            [
             0.2222222222222222,
             "#7201a8"
            ],
            [
             0.3333333333333333,
             "#9c179e"
            ],
            [
             0.4444444444444444,
             "#bd3786"
            ],
            [
             0.5555555555555556,
             "#d8576b"
            ],
            [
             0.6666666666666666,
             "#ed7953"
            ],
            [
             0.7777777777777778,
             "#fb9f3a"
            ],
            [
             0.8888888888888888,
             "#fdca26"
            ],
            [
             1,
             "#f0f921"
            ]
           ]
          },
          "colorway": [
           "#636efa",
           "#EF553B",
           "#00cc96",
           "#ab63fa",
           "#FFA15A",
           "#19d3f3",
           "#FF6692",
           "#B6E880",
           "#FF97FF",
           "#FECB52"
          ],
          "font": {
           "color": "#2a3f5f"
          },
          "geo": {
           "bgcolor": "white",
           "lakecolor": "white",
           "landcolor": "#E5ECF6",
           "showlakes": true,
           "showland": true,
           "subunitcolor": "white"
          },
          "hoverlabel": {
           "align": "left"
          },
          "hovermode": "closest",
          "mapbox": {
           "style": "light"
          },
          "paper_bgcolor": "white",
          "plot_bgcolor": "#E5ECF6",
          "polar": {
           "angularaxis": {
            "gridcolor": "white",
            "linecolor": "white",
            "ticks": ""
           },
           "bgcolor": "#E5ECF6",
           "radialaxis": {
            "gridcolor": "white",
            "linecolor": "white",
            "ticks": ""
           }
          },
          "scene": {
           "xaxis": {
            "backgroundcolor": "#E5ECF6",
            "gridcolor": "white",
            "gridwidth": 2,
            "linecolor": "white",
            "showbackground": true,
            "ticks": "",
            "zerolinecolor": "white"
           },
           "yaxis": {
            "backgroundcolor": "#E5ECF6",
            "gridcolor": "white",
            "gridwidth": 2,
            "linecolor": "white",
            "showbackground": true,
            "ticks": "",
            "zerolinecolor": "white"
           },
           "zaxis": {
            "backgroundcolor": "#E5ECF6",
            "gridcolor": "white",
            "gridwidth": 2,
            "linecolor": "white",
            "showbackground": true,
            "ticks": "",
            "zerolinecolor": "white"
           }
          },
          "shapedefaults": {
           "line": {
            "color": "#2a3f5f"
           }
          },
          "ternary": {
           "aaxis": {
            "gridcolor": "white",
            "linecolor": "white",
            "ticks": ""
           },
           "baxis": {
            "gridcolor": "white",
            "linecolor": "white",
            "ticks": ""
           },
           "bgcolor": "#E5ECF6",
           "caxis": {
            "gridcolor": "white",
            "linecolor": "white",
            "ticks": ""
           }
          },
          "title": {
           "x": 0.05
          },
          "xaxis": {
           "automargin": true,
           "gridcolor": "white",
           "linecolor": "white",
           "ticks": "",
           "title": {
            "standoff": 15
           },
           "zerolinecolor": "white",
           "zerolinewidth": 2
          },
          "yaxis": {
           "automargin": true,
           "gridcolor": "white",
           "linecolor": "white",
           "ticks": "",
           "title": {
            "standoff": 15
           },
           "zerolinecolor": "white",
           "zerolinewidth": 2
          }
         }
        },
        "title": {
         "text": "Candidates Column Distribution (Horizontal) - Summary by Word Count"
        },
        "xaxis": {
         "anchor": "y",
         "domain": [
          0,
          0.2888888888888889
         ]
        },
        "xaxis2": {
         "anchor": "y2",
         "domain": [
          0.35555555555555557,
          0.6444444444444445
         ]
        },
        "xaxis3": {
         "anchor": "y3",
         "domain": [
          0.7111111111111111,
          1
         ]
        },
        "xaxis4": {
         "anchor": "y4",
         "domain": [
          0,
          0.2888888888888889
         ]
        },
        "xaxis5": {
         "anchor": "y5",
         "domain": [
          0.35555555555555557,
          0.6444444444444445
         ]
        },
        "xaxis6": {
         "anchor": "y6",
         "domain": [
          0.7111111111111111,
          1
         ]
        },
        "xaxis7": {
         "anchor": "y7",
         "domain": [
          0,
          0.2888888888888889
         ]
        },
        "xaxis8": {
         "anchor": "y8",
         "domain": [
          0.35555555555555557,
          0.6444444444444445
         ]
        },
        "xaxis9": {
         "anchor": "y9",
         "domain": [
          0.7111111111111111,
          1
         ]
        },
        "yaxis": {
         "anchor": "x",
         "domain": [
          0.7777777777777778,
          1
         ]
        },
        "yaxis2": {
         "anchor": "x2",
         "domain": [
          0.7777777777777778,
          1
         ]
        },
        "yaxis3": {
         "anchor": "x3",
         "domain": [
          0.7777777777777778,
          1
         ]
        },
        "yaxis4": {
         "anchor": "x4",
         "domain": [
          0.3888888888888889,
          0.6111111111111112
         ]
        },
        "yaxis5": {
         "anchor": "x5",
         "domain": [
          0.3888888888888889,
          0.6111111111111112
         ]
        },
        "yaxis6": {
         "anchor": "x6",
         "domain": [
          0.3888888888888889,
          0.6111111111111112
         ]
        },
        "yaxis7": {
         "anchor": "x7",
         "domain": [
          0,
          0.22222222222222224
         ]
        },
        "yaxis8": {
         "anchor": "x8",
         "domain": [
          0,
          0.22222222222222224
         ]
        },
        "yaxis9": {
         "anchor": "x9",
         "domain": [
          0,
          0.22222222222222224
         ]
        }
       }
      }
     },
     "metadata": {},
     "output_type": "display_data"
    }
   ],
   "source": [
    "df.distribute_candidates_horizontal()"
   ]
  },
  {
   "cell_type": "code",
   "execution_count": 780,
   "metadata": {},
   "outputs": [],
   "source": [
    "candidates = dataframes[\"candidates\"]"
   ]
  },
  {
   "cell_type": "code",
   "execution_count": 781,
   "metadata": {},
   "outputs": [],
   "source": [
    "candidates.drop(columns=\"candidate_id\", inplace=True)"
   ]
  },
  {
   "cell_type": "code",
   "execution_count": 782,
   "metadata": {},
   "outputs": [
    {
     "data": {
      "text/plain": [
       "name                 4817\n",
       "email                4817\n",
       "phone                4817\n",
       "city                 4817\n",
       "country              4817\n",
       "remote_preference    4817\n",
       "summary              4817\n",
       "linkedin             4817\n",
       "github               4817\n",
       "dtype: int64"
      ]
     },
     "execution_count": 782,
     "metadata": {},
     "output_type": "execute_result"
    }
   ],
   "source": [
    "candidates.count()"
   ]
  },
  {
   "cell_type": "code",
   "execution_count": 783,
   "metadata": {},
   "outputs": [
    {
     "data": {
      "text/html": [
       "<div>\n",
       "<style scoped>\n",
       "    .dataframe tbody tr th:only-of-type {\n",
       "        vertical-align: middle;\n",
       "    }\n",
       "\n",
       "    .dataframe tbody tr th {\n",
       "        vertical-align: top;\n",
       "    }\n",
       "\n",
       "    .dataframe thead th {\n",
       "        text-align: right;\n",
       "    }\n",
       "</style>\n",
       "<table border=\"1\" class=\"dataframe\">\n",
       "  <thead>\n",
       "    <tr style=\"text-align: right;\">\n",
       "      <th></th>\n",
       "      <th>name</th>\n",
       "      <th>email</th>\n",
       "      <th>phone</th>\n",
       "      <th>city</th>\n",
       "      <th>country</th>\n",
       "      <th>remote_preference</th>\n",
       "      <th>summary</th>\n",
       "      <th>linkedin</th>\n",
       "      <th>github</th>\n",
       "    </tr>\n",
       "  </thead>\n",
       "  <tbody>\n",
       "    <tr>\n",
       "      <th>count</th>\n",
       "      <td>4817</td>\n",
       "      <td>4817</td>\n",
       "      <td>4817</td>\n",
       "      <td>4817</td>\n",
       "      <td>4817</td>\n",
       "      <td>4817</td>\n",
       "      <td>4817</td>\n",
       "      <td>4817</td>\n",
       "      <td>4817</td>\n",
       "    </tr>\n",
       "    <tr>\n",
       "      <th>unique</th>\n",
       "      <td>4466</td>\n",
       "      <td>4554</td>\n",
       "      <td>4604</td>\n",
       "      <td>3954</td>\n",
       "      <td>247</td>\n",
       "      <td>7</td>\n",
       "      <td>910</td>\n",
       "      <td>4477</td>\n",
       "      <td>4468</td>\n",
       "    </tr>\n",
       "    <tr>\n",
       "      <th>top</th>\n",
       "      <td>Unknown</td>\n",
       "      <td>Unknown</td>\n",
       "      <td>Unknown</td>\n",
       "      <td>Pune</td>\n",
       "      <td>India</td>\n",
       "      <td>hybrid</td>\n",
       "      <td>Strategic Solutions Architect with experience ...</td>\n",
       "      <td>Unknown</td>\n",
       "      <td>Unknown</td>\n",
       "    </tr>\n",
       "    <tr>\n",
       "      <th>freq</th>\n",
       "      <td>84</td>\n",
       "      <td>94</td>\n",
       "      <td>94</td>\n",
       "      <td>81</td>\n",
       "      <td>184</td>\n",
       "      <td>1599</td>\n",
       "      <td>100</td>\n",
       "      <td>91</td>\n",
       "      <td>91</td>\n",
       "    </tr>\n",
       "  </tbody>\n",
       "</table>\n",
       "</div>"
      ],
      "text/plain": [
       "           name    email    phone  city country remote_preference  \\\n",
       "count      4817     4817     4817  4817    4817              4817   \n",
       "unique     4466     4554     4604  3954     247                 7   \n",
       "top     Unknown  Unknown  Unknown  Pune   India            hybrid   \n",
       "freq         84       94       94    81     184              1599   \n",
       "\n",
       "                                                  summary linkedin   github  \n",
       "count                                                4817     4817     4817  \n",
       "unique                                                910     4477     4468  \n",
       "top     Strategic Solutions Architect with experience ...  Unknown  Unknown  \n",
       "freq                                                  100       91       91  "
      ]
     },
     "execution_count": 783,
     "metadata": {},
     "output_type": "execute_result"
    }
   ],
   "source": [
    "candidates.describe()"
   ]
  },
  {
   "cell_type": "code",
   "execution_count": 784,
   "metadata": {},
   "outputs": [
    {
     "data": {
      "text/plain": [
       "array(['Python Developer with experience in Python, Tensorflow, Numpy, C, C++, MySQL, and various platforms.',\n",
       "       'Experienced Operations Manager with expertise in project execution, engineering, and team coordination. Skilled in managing contractual and commercial issues, ensuring project profitability, and maintaining high client satisfaction.',\n",
       "       'Software Proficiency in various languages and tools. Worked on several projects including FPGA Implementation, Sorting Robot, and RFID Based Student Attendance System.',\n",
       "       '',\n",
       "       'Experienced Java Developer with expertise in JSP, Servlets, Spring, Hibernate, and front-end technologies like HTML, CSS, JavaScript, and jQuery. Proficient in MySQL and development tools such as Eclipse and NetBeans.',\n",
       "       'Devops Engineer with experience in various DevOps methodologies and tools.',\n",
       "       'IABAC Certified Data Scientist with versatile experience over 1+ years in managing business, data science consulting and leading innovation projects, bringing business ideas to working real world solutions. Being a strong advocator of augmented era, where human capabilities are enhanced by machines, Fahed is passionate about bringing business concepts in area of machine learning, AI, robotics etc., to real life solutions.',\n",
       "       'Python Developer/analyst',\n",
       "       'Java Developer with experience in Hibernate, JSP, and Servlets. Passionate about software development and programming.',\n",
       "       'Final year Computer Science student at City, University of London with strong focus on machine learning and software engineering. Experienced in developing ML-powered applications and passionate about solving complex technical challenges.',\n",
       "       'Cloud Operations Architect (DevOps) with experience in various technologies and platforms.',\n",
       "       'A Microsoft Certified Systems Engineer and Advocate with exceptional knowledge of administrative procedures, evidence rules and trials. Able to communicate clearly and concisely with people of diverse backgrounds and levels of authority. Focused and driven to always meet deadlines for pretrial procedures, trials and appellate briefings by effectively utilizing resources.',\n",
       "       'Highly motivated Software Testing & Automation Engineer with strong work ethics, quick learning ability, and experience in test automation, defect tracking, and Agile methodologies.',\n",
       "       'Hardworking Java Developer enthusiastic about working with multicultural teams. Having 2 years of experience in working with a Payment Gateway Solutions provider with Core Java.',\n",
       "       'Senior Business Analyst with extensive experience in RPA, process automation, and business analysis. Skilled in documentation, testing, and integration with a strong background in Agile and Waterfall methodologies.',\n",
       "       'Experienced Python RESTful API developer with expertise in MongoDB, MySQL, and AS/400. Strong background in software development life cycle, debugging, and testing. Skilled in agile methodologies and cloud deployment using Pivotal Cloud Foundry.',\n",
       "       'SAP Technical Architect with 13+ years of experience in SAP, ranging from development to subject matter expertise. Strong background in implementation, upgrade, application development, and maintenance. Certified in SAP ABAP, ITIL 2011 Foundation, and PRINCE2 Practitioner. Extensive experience in SAP ABAP FRICEW components, multiple SAP modules, and S/4HANA. Proven ability to lead technical teams and manage full-lifecycle SAP projects.',\n",
       "       'Java Developer with experience in Spring MVC, Hibernate, JDBC, and various web technologies. Skilled in database management and front-end scripting.',\n",
       "       'SAP Technical Architect and Consultant with 13+ years of experience in SAP, covering implementation, upgrade, application development, and maintenance. Expertise in SAP ABAP, SAP NetWeaver Gateway, S/4HANA, and multiple SAP modules. Strong leadership, client interaction, and project management skills.',\n",
       "       'DevOps Engineer with software proficiency in various languages and tools.',\n",
       "       'Unknown',\n",
       "       'Devops Engineer with strong focus on Dev-ops methodologies, C, Core Java, GIT, Bitbucket, ANT, Maven, Jenkins, Ansible, Shell Script, Apache Tomcat server.',\n",
       "       'Not Provided',\n",
       "       'Network Security Engineer with Cisco certifications and experience in various networking technologies.',\n",
       "       'Experienced Database Administrator with expertise in Oracle RDBMS, RMAN, Data Guard, ASM, RAC, and Golden Gate. Skilled in database management, upgrades, migrations, and troubleshooting in production environments.',\n",
       "       'DevOps Engineer with software proficiency in various languages and tools. Experienced in project roles such as Programmer and Mechanism designer.',\n",
       "       'Java Developer with experience in web application development, backend to frontend module development, and database management. Strong problem-solving skills and ability to resolve project-related issues efficiently.',\n",
       "       'Python Developer',\n",
       "       'Aspiring Python Developer looking to utilize and expand knowledge in a professional organization.',\n",
       "       'Network and Security Engineer with experience in implementing and troubleshooting network security solutions, planning and implementation of multi-vendor firewalls, and configuration of Cisco routers and switches.',\n",
       "       'I want to work in organisation as a python developer to utilize my knowledge & To gain more knowledge with our organisation.',\n",
       "       'DevOps Engineer with experience in various programming languages and software tools.',\n",
       "       'Devops Engineer with strong skills in Ant, Maven, GIT, Bitbucket, Jenkins, Linux, Ansible, Shell Scripting, Requirement Gathering, Continuous Integration and Continuous Deployment, Software Development Life Cycle, Software Testing Life Cycle, Documentation & Reporting, Test Reports.',\n",
       "       'Senior Business Analyst with extensive experience in RPA, process automation, and business analysis. Skilled in requirement gathering, documentation, testing, and stakeholder communication.',\n",
       "       'Java Developer with experience in various technologies such as Spring MVC, Hibernate, JDBC, Java, J2EE, AzureWeb SunTechnologies Services, JSP, Struts, Servlet, RestApi, JavaScript, AJAX, HTML, JSON, PHP, MsSQL, MySQL, Oracle, ApacheTomcatServer, OnesignalWebPushNotifications, AzurewebServices, IONIC, HTML, JSON, WindowsServer2012R2, WinXP/7/8.1/10, Linux, Mac OS.',\n",
       "       'Full Stack Java Developer with experience in Java, Spring Boot, JSP, and front-end technologies. Developed multiple projects using Java, MySQL, and web technologies.',\n",
       "       'SAP Technical Architect with 13+ years of experience in SAP, ranging from development to subject matter expertise. Strong background in implementation, upgrade, application development, and maintenance. Certified in SAP ABAP, ITIL 2011 Foundation, and PRINCE2 Practitioner. Extensive experience in SAP ABAP FRICEW components and various SAP modules including MM, FI, CO, SD, PS, PP, CS, PM, QM, and HR. Expertise in S/4HANA, IS-Auto, IS-Retail, SCM 7.0, SOLMAN, SAP GTS, SAP PI 7.3, SAP BI 7.0/7.3, and more. Proven ability to lead technical teams, interact with business analysts, and manage full-lifecycle SAP projects.',\n",
       "       'Network Security Engineer with experience in troubleshooting firewall incidents, installing security solutions, and analyzing security requirements.',\n",
       "       'Python Developer with experience in Django, RESTful APIs, and database management. Skilled in both front-end and back-end development, with a strong understanding of Agile methodologies.',\n",
       "       'Devops Engineer with experience in various IT skills and Dev-ops methodologies.',\n",
       "       'Java developer with experience in Java/J2EE, MySQL, and Android development. Skilled in working with databases, web servers, and middleware applications.',\n",
       "       'Cloud Operations Architect (DevOps) with experience in various cloud technologies and scripting languages.',\n",
       "       'Full Stack Java Developer with experience in Java, Spring Boot, JSP, and front-end technologies. Skilled in building web applications and working with databases.',\n",
       "       'Java Developer with experience in various technologies and tools.',\n",
       "       'DevOps Engineer with proficiency in various software languages and tools. Experienced in project roles such as Programmer and Mechanism designer.',\n",
       "       'Devops Engineer with strong competencies in Ant, Maven, GIT, Bitbucket, Jenkins, Linux, Ansible, Shell Scripting, Requirement Gathering, Continuous Integration and Continuous Deployment, Software Development Life Cycle, Software Testing Life Cycle, Documentation & Reporting, Test Reports.',\n",
       "       'Cloud Operations Architect (DevOps) with extensive experience in cloud computing, shell scripting, python, automation, and solution architecture.',\n",
       "       \"Python Developer with experience in Python, C++, MySQL, and machine learning frameworks such as TensorFlow and NumPy. Strong background in computer engineering with a master's degree from Savitribai Phule Pune University.\",\n",
       "       'Communication Skills: My writing skills in English is very good and I am certainly a clear speaker. Being comfortable speaking in front of an audience, I can easily facilitate meetings and brainstorming sessions. Interpersonal Skills: As a friendly, polite person, with positive attitude I work well with others and deal with difficult situations in a careful and considerate manner. Learning Skills: I have a high capacity for learning, pick up new skills and ideas quickly, and generally thrive on challenges. Enthusiasm and creativity give me an edge on difficult projects. Problem Solving Skills: My analytical skills help me troubleshoot problems and uncover root causes. I am creative and tenacious.',\n",
       "       'Experienced Operations Manager with a background in electronics engineering and extensive expertise in project management, engineering, and automation systems.',\n",
       "       'Java Developer with experience in various programming languages and technologies.',\n",
       "       'Experienced Python RESTful API developer with expertise in software development, debugging, and testing. Strong background in Agile methodology, SDLC, and ERP systems.',\n",
       "       'Python Developer/analyst with experience in python scripting, programming, developing, frontend, html, python libraries, mysql, django, web scrapping.',\n",
       "       'Data Scientist with expertise in data and quantitative analysis, decision analytics, predictive modeling, data-driven personalization, KPI dashboards, big data queries, data mining, machine learning, and business intelligence.',\n",
       "       'Experienced Java Developer and Automation Test Engineer with expertise in Selenium WebDriver, TestNG, and Java. Skilled in automation testing, database management, and software development.',\n",
       "       'Java Developer with experience in various technologies such as Spring MVC, Hibernate, JDBC, Java, J2EE, AzureWeb SunTechnologies Services, JSP, Struts, Servlet, RestApi, JavaScript, AJAX, HTML, JSON, PHP, MsSQL, MySQL, Oracle, ApacheTomcatServer, IONIC, HTML, JSON, WindowsServer2012R2, WinXP/7/8.1/10, Linux, Mac OS.',\n",
       "       'Python Developer with experience in computer vision and image preprocessing.',\n",
       "       'Achievement-oriented professional with strong problem-solving, coordination, and analytical skills. Experienced in managing multiple tasks and projects simultaneously, with excellent communication and interpersonal abilities. Willing to travel and relocate.',\n",
       "       'Experienced Java Developer with expertise in backend, middleware, and frontend development. Proficient in Java, SQL, PL/SQL, and web technologies. Strong problem-solving skills and ability to resolve project-related issues efficiently.',\n",
       "       'Java developer with experience in various technologies and tools.',\n",
       "       'Experienced Java Developer with expertise in Core Java, Advanced Java, Hibernate, Spring, and Android development. Passionate about teaching and mentoring in programming and database technologies.',\n",
       "       'Java Developer and Automation Testing professional with experience in software testing, automation frameworks, and Java development.',\n",
       "       'Devops Engineer with experience in various Dev-ops methodologies and tools.',\n",
       "       'Communication Skills, Interpersonal Skills, Learning Skills, Problem Solving Skills',\n",
       "       'Python Developer with experience in various technologies and tools.',\n",
       "       'Achievement-oriented professional with strong problem-solving, coordination, and analytical skills. Experienced in managing multiple tasks and projects simultaneously with excellent communication and organizational abilities. Willing to travel and relocate.',\n",
       "       'Python RESTful API developer with hands-on experience in production and maintenance of projects, agile methodology, SDLC, customer interaction, debugging and testing based on Python and AS/400. Strong communication and interpersonal skills.',\n",
       "       'Expertise in Data and Quantitative Analysis, Decision Analytics, Predictive Modeling, Data-Driven Personalization, KPI Dashboards, Big Data Queries and Interpretation, Data Mining and Visualization Tools, Machine Learning Algorithms, Business Intelligence (BI), Research, Reports and Forecasts',\n",
       "       'Java Developer with experience in Android Mobile App Development, Core Java, Advance Java, JSF, Hibernate, Spring. Proficient in C, C++, Java, Android, MS Access, SQL, Oracle.',\n",
       "       'Hardworking Java Developer enthusiastic about working with multicultural teams. Experienced in working with a Payment Gateway Solutions provider with Core Java.',\n",
       "       'Communication Skills My writing skills in English is very good and I am certainly a clear speaker. Being comfortable speaking in front of an audience, I can easily facilitate meetings and brainstorming sessions Interpersonal Skills As a friendly, polite person, with positive attitude I work well with others and deal with difficult situations in a careful and considerate manner. Learning Skills I have a high capacity for learning, pick up new skills and ideas quickly, and generally thrive on challenges. Enthusiasm and creativity give me an edge on difficult projects. Problem Solving Skills My analytical skills help me troubleshoot problems and uncover root causes. I am creative and tenacious.',\n",
       "       'Java Developer with experience in J2EE, Spring, Hibernate, and database management. Skilled in functional and manual testing with a strong foundation in software development and stock management systems.',\n",
       "       'Experienced Python Developer with a strong background in building scalable web applications and data pipelines. Proficient in Django, Flask, and RESTful API design.',\n",
       "       'Detail-oriented Java Developer specializing in backend systems and microservices architecture. Skilled in Spring Boot and designing robust enterprise solutions.',\n",
       "       'Innovative JavaScript Developer with extensive experience in front-end frameworks and building interactive user interfaces using React and Angular.',\n",
       "       'Full-Stack Developer proficient in both front-end and back-end development. Skilled in React and Django, creating complete web applications.',\n",
       "       'Backend Developer specializing in building scalable and efficient server-side applications. Skilled in Python, Django, and RESTful API design.',\n",
       "       'Office including focus fill environment. Whole physical result book. Until drug audience sometimes other surface. Sister child protect dinner record.',\n",
       "       'Resource author give security stand business build add. Result agree anything join job.',\n",
       "       'Politics respond us phone none guess run TV. Type it usually rest animal.',\n",
       "       'Argue nation stage determine lose fall. Imagine black letter health rock the. At law report hope still establish drug.',\n",
       "       'Fast book foreign. Wife form hospital may. Important authority part fill tree modern.',\n",
       "       'Ago set voice task condition teacher effort. Between increase onto go great above. Left Republican another market simple season. Democratic know sing something star should today player.',\n",
       "       'Into owner similar provide plan movie student per. Occur south country statement student really likely page. It fine miss employee including explain. Light anyone then simply me he network great. Perform song explain local long.',\n",
       "       'Assume him born truth campaign notice community director. Face work clearly parent. Along treat hope international low rock next. Appear yourself often answer individual purpose.',\n",
       "       'Bar trip special dog PM age sell. Eat as present. Pm fire individual. Condition argue physical do want school room.',\n",
       "       'Manager college adult lose. Size rich position bed carry. Deal former act.',\n",
       "       'Contain great citizen like perhaps. Young many answer court account cell build. Else will cut central.',\n",
       "       'Dark ball age late door. Investment table ever talk. Quickly without week.',\n",
       "       'Expect interview top figure drive. Almost lawyer customer everything possible. Drug lay image Mrs. Clearly cultural affect nature PM husband.',\n",
       "       'Sort threat bad meet. Tell soon tough leader. Program report paper difficult sport attention natural.',\n",
       "       'Structure then before degree. Method Democrat share another.',\n",
       "       'Church send discussion former. Thousand game room decide sport set soldier information. Yes red whatever place five.',\n",
       "       'Toward power member thank. Line money clearly nearly. Rise rock feeling treatment guy.',\n",
       "       'Claim however student situation town modern without. Recently magazine per here list every prepare. Third good wind.',\n",
       "       'Dog he continue world this spring style. Month beyond position. Ten town become at. Challenge could by now conference. Foreign environment great manage long old.',\n",
       "       'Authority build recently think. Whether do close foot. Fear value natural exist institution. Wife at window skill.',\n",
       "       'Performance leave information sea serious professor. Song small sport city political. On former office democratic wonder. Large media require size speak detail feeling.',\n",
       "       'Almost official player force determine throughout. Every mouth walk bad ask. Fill particularly newspaper. General learn author support record. Job bar parent.',\n",
       "       'Just first try agent off several. New leader data everyone allow song. Environmental station character doctor. Far cup lay play hand.',\n",
       "       'Future financial officer now foreign main brother. Condition resource federal term remain. Way over attorney group spend street before. Cause tree heavy great.',\n",
       "       'Mind only around Mr. Decide care house three little ahead artist.',\n",
       "       'Every this until city something college decision. If history career of. Relate candidate growth risk someone.',\n",
       "       'But standard scientist money among. Trouble bit money step. Quite pressure appear people official central agreement.',\n",
       "       'Record activity very. List analysis mean defense. Security notice kitchen find. Cover lot relate field black court. Thought decision several fill wide attack.',\n",
       "       'Four attack stuff special. Job memory lead. Report body identify voice allow. Various seat security lose.',\n",
       "       'Situation great recent term camera want. Base common simple science why. Tough hope hand action.',\n",
       "       'Great bag leave drug that. Officer plan air politics lay fine democratic. Act recognize order anyone every pass air interesting. Firm condition woman road.',\n",
       "       'Run care site year water. Improve their more make hand work focus. Green similar role still team structure whose from. Whether ability role experience actually everyone strategy. Measure outside relate car focus past economy industry.',\n",
       "       'Vote environment seek piece third behind anyone find. Republican indicate pass stand. Each quickly fish end.',\n",
       "       'Allow or woman town when. Marriage us life customer discussion on. Occur fact continue. Stuff just finish ago computer easy. Include pretty arrive sit reduce.',\n",
       "       'Image national tax its. Receive cold animal. Republican hot bad sure address suffer leg. Article front owner start everyone professional.',\n",
       "       'Others wear company receive nearly floor truth one. Since young conference century speak discuss professional. Protect travel far class thought east there.',\n",
       "       'Me this low yeah me. Say but wall current. Mouth a wind nice bag manage land himself.',\n",
       "       'Page because war which. Stop since measure six.',\n",
       "       'Tonight serious value collection girl most parent institution. Society ball experience trade north card.',\n",
       "       'Read whole trip table within girl life of. Method mission data. Approach free term three would hotel politics.',\n",
       "       'Say benefit since. Arm hundred work personal. Morning end relationship mean he. Expect outside there care.',\n",
       "       'Although eight police through. Power few site road. Dream leave history entire stay note.',\n",
       "       'Reality decision shake red though per. Record close social magazine ahead all four. Star scene arm short better.',\n",
       "       'Company they most executive which. You tend that bar.',\n",
       "       'Lead all decade Congress. Industry politics big oil. On source leader later fast. Range standard team explain important turn.',\n",
       "       'Force including hope walk happy. Woman law fine million spend collection my share. Step rest much national. Agent floor ready specific. Knowledge four fight reflect far window hospital us.',\n",
       "       'Quality center political fund she produce. Ground baby for wait fall if. Question name protect maybe possible police themselves. Body specific five little contain also.',\n",
       "       'Threat evidence as decision sit again. Guess most billion should play pull. Marriage enough effort right short ground call without. Activity firm adult say ok feeling him.',\n",
       "       'Movement challenge usually tonight member population. Husband try hospital too. Agreement child brother know unit. Week significant economy mouth. Face avoid hot day.',\n",
       "       'Contain land minute miss. Me add allow family data. One write point process nice. All road build draw study skill.',\n",
       "       'Try leave that best camera. Old do mention enjoy buy government. Watch everyone service technology use. Professional however another home stop.',\n",
       "       'Family senior peace. Star long chair.',\n",
       "       'Nice represent physical room. Others character condition if house back. Produce right southern himself create.',\n",
       "       'Everything clear avoid thousand. Nothing class agent on same look. Too ready cultural hot hope season. Standard heavy morning pressure.',\n",
       "       'Skill during whose gas wonder modern. Section ever of why throughout clear end. Message single before from. Be red election Republican.',\n",
       "       'Chance interest seat charge bar top he. Stop president order once home girl hold. Also score somebody after personal. Training traditional baby nature hot machine foot move.',\n",
       "       'Candidate her when difficult leg. Act dream tonight process.',\n",
       "       'He interest all plant system. Too hundred find view not. Entire trade front but foot defense.',\n",
       "       'Avoid year court able customer world rate. Office particularly shoulder into four. Late budget set news for three up.',\n",
       "       'Dinner from worker future. Development land so interesting. Recognize similar never color scene page. Understand together than medical.',\n",
       "       'Difference enjoy me life soldier. After us board pattern foreign. Under lot everyone soon manager.',\n",
       "       'Little cold travel son yet he. Nature student executive. Economy break trial fall eight. Particular while common often college.',\n",
       "       'Community bag television country forget find reduce foreign. Community recognize range research. Seat also oil outside.',\n",
       "       'Tonight house instead evidence event simple interesting. Environmental respond ability lay of by. American kind claim player.',\n",
       "       'Peace when cut effect former federal. Bag who nothing plant worry send.',\n",
       "       'Board identify nice. Mother discuss eye against magazine card discuss. Order stand under enter buy view trade.',\n",
       "       'Amount both provide he daughter during. Fast stage culture personal. Operation rise garden girl east past image. Surface offer evening two sing process help. Government result campaign great model compare sit response.',\n",
       "       'Also music for southern force television glass vote. Word father action city history car.',\n",
       "       'Parent around however management decision appear raise. Too bad thought. Firm she minute long best.',\n",
       "       'Spend medical success amount. Soldier expert image ball staff. Fear decision ago.',\n",
       "       'Whole inside clear expert vote TV consider history. After among box keep arm.',\n",
       "       'According building door feeling decide spring arm. Project off light low model information professor. Safe include offer. West it stay local security quite. From table pull part professional.',\n",
       "       'Threat bad act baby foreign interview. Three never million leg church. Look student road people. Young site scientist control trade film service. Source section spend claim try.',\n",
       "       'Always father all western. Finish rich major interview piece film they. Blue present almost paper.',\n",
       "       'Reality voice cell sea. Write list newspaper agent prove modern. Benefit various language air.',\n",
       "       'Politics quality lot again charge station record. Other face south notice. On just around moment.',\n",
       "       'Into view Mr. Spring beyond chance. Unit may tree appear leader. Government program goal time picture really report. Raise whether dark turn community.',\n",
       "       'Camera society expect. Budget agency pressure fire question big young. Surface stuff reality dark even meeting seat. Smile compare together.',\n",
       "       'Box camera line. Agency those note practice upon value. Director lawyer article learn small simple. Sort right word ago.',\n",
       "       'Nothing side less piece. End fight central. Mind run center image apply. Daughter interview stage teacher agree later. War thank very keep.',\n",
       "       'Set watch above standard above. Radio include staff check newspaper site glass. Near need miss morning Mr true similar.',\n",
       "       'Radio others far project product art anyone. Money expect Republican trade. Activity nice should matter people. Rest four write.',\n",
       "       'Stuff their region ask cell they stage. Door gas price table.',\n",
       "       'Face product economy computer use quality send. Ready top father seven record. Product sit politics majority former agree option. Audience source put. Including able herself industry.',\n",
       "       'Few eat itself others true maintain civil. Fact with surface customer another magazine politics break. Law still computer night short us. Feel particularly investment.',\n",
       "       'Young picture cell now start. Street girl film technology send. Hold available floor choice policy for. Imagine nature however now should accept college.',\n",
       "       'Certain her particularly however. Process effect whole serve.',\n",
       "       'Wife bank student college site front report often. Drive window score ever another side themselves. Building perform possible challenge huge guess let. Big city compare next Democrat fast.',\n",
       "       'Forget minute current American test go our. Raise idea federal own consider. Protect recently any page represent more always. Bag candidate again foreign than.',\n",
       "       'Anything answer accept return him hit. Good face people own others seek. Treat change ever push public activity word.',\n",
       "       'Young tonight accept different need phone enter. Company something hard oil people. Several garden dark every law.',\n",
       "       'Care herself especially style report. Reflect player single you season difference. View claim activity add behavior per would.',\n",
       "       'Easy where traditional board threat power. Country design stage laugh car newspaper challenge. Walk particular son important. Section television name call.',\n",
       "       'Public Democrat defense throughout exactly director coach. Popular leader sign its song relationship tell they. Professional onto carry them. Street television avoid month popular blue hospital.',\n",
       "       'About draw by trouble. Western subject popular strong fund from free. Magazine read alone chance ago executive. Also matter friend.',\n",
       "       'Accept million let be. Cell beat gas friend. Lead again early scientist. Sure issue though list. Plan operation no all person car task.',\n",
       "       'Simple can floor identify different race. Degree go series mouth. Item east analysis national. Under social west huge total environment. Guess system dark contain campaign actually.',\n",
       "       'Can few herself discuss yard evening president. Their research rule guess through. One possible toward that time. Center hear leader attack. Require very so.',\n",
       "       'Its keep least south rich music should. Character attorney seven activity voice finish air enter. Score final study itself interest reveal.',\n",
       "       'Great interest me item carry soldier. Lot could would relationship kitchen party relationship continue.',\n",
       "       'Animal admit treatment him. Student team field. Majority ability charge than international these many. Production the TV international.',\n",
       "       'Course tonight home since. Pass should perhaps ask all above different daughter. Plant somebody west different surface note again. Owner back method guy amount economy keep.',\n",
       "       'About then make good eat. True customer business program learn information. Father page training economy. Outside smile Republican political great assume call. Experience help accept figure attention.',\n",
       "       'About enter pull smile wait feeling adult. Civil should traditional policy source standard method. Town air specific test ball police boy. Employee information near manage floor so. Clear fly only skin.',\n",
       "       'Early system culture window brother almost maintain. Republican beyond usually stand home. Point health shoulder goal resource. Material morning war scientist.',\n",
       "       'Yourself second unit anyone personal affect. Red evening else require. End prove also responsibility.',\n",
       "       'Paper hundred civil condition decision eat event military. Apply if human and heavy prepare exist voice. Outside pull box usually pick role. House week TV serious growth go focus. Suddenly shake win policy away.',\n",
       "       'Build local who road. Fund perform scientist during security.',\n",
       "       'Quality stay street you experience discuss evening. Because know avoid manage fact discuss down onto.',\n",
       "       'Method cell friend should idea not. Product its live number sign conference. Wrong off international owner institution.',\n",
       "       'Defense author return source realize. Minute test candidate drug at.',\n",
       "       'Pull traditional forward write relate reduce begin. I theory total majority would speech. Heart style economic particularly ok boy television. Attention ready build around.',\n",
       "       'Entire choice room force piece. School final measure race. Unit recognize who end economy drop market. Themselves language require eight new rate real we.',\n",
       "       'Leave rich body. Store term today need five.',\n",
       "       'Need purpose television specific red. Possible eight hit item much keep reach. View central staff purpose.',\n",
       "       'Red little cultural a. Week cell tonight trip director rather. Morning light pay value recent half. Movie create head impact care professional budget.',\n",
       "       'Offer head choice. Next sound of movement. Hot employee arm worry adult sit. Prove certain guy agency some popular.',\n",
       "       'The newspaper help career citizen. Cause environmental student or particular box. Event stuff television senior building arm.',\n",
       "       'Also top like owner PM feeling star. Audience partner own report help.',\n",
       "       'Generation energy two such. Camera still dinner.',\n",
       "       'Attack morning any Mrs poor laugh. Expect system magazine tree water whose term.',\n",
       "       'Chair board night country sound. Over deal forget these tough set.',\n",
       "       'Something seem low get. Case audience public college service. Create write who particular side when.',\n",
       "       'Threat war win prepare information order. Up message its.',\n",
       "       'Indeed six catch continue. Key local guy ahead go morning. Wall fall ever local. Tv but still heart according pretty again.',\n",
       "       'Defense strong door build gas everyone his allow. Bag form fall turn. Young year sense race hospital happen. Teach certain blood stand. Yet in among area appear.',\n",
       "       'Traditional bag drive perform. Read protect without election think young spend.',\n",
       "       'Physical high over become point art if time. Also common he condition. Believe long energy start. Impact under none manager door. Actually hour ever recently.',\n",
       "       'Determine begin speak care teach save. American its should standard check along development recent. Base book student PM. Far soon few suddenly many street.',\n",
       "       'Provide great hair same science card. West but along spend.',\n",
       "       'Staff writer ball whether less generation trade. Relate power you rule. Country check ask where.',\n",
       "       'Republican crime break tend society whatever leader. But expect state agent reflect view. Culture up daughter. Section wonder argue sit tree. What war hotel key.',\n",
       "       'Visit simply chair camera lot politics my. Feel computer four realize blood. Commercial think better. Mouth feeling even check however. Bank determine common build direction.',\n",
       "       'Prove nothing sign professor Mrs region. Audience on will perhaps old. Stock edge suddenly television summer reason friend.',\n",
       "       'Realize indeed brother. Can house military PM. Dream town to feeling score. Enough eye sort wear expect. Arrive he half discuss officer half.',\n",
       "       'More send wind successful like. Prevent state important bank physical cultural. Tend ahead benefit section play Congress site. Individual race southern environmental walk.',\n",
       "       'Stop service environmental forward anything but that walk. Recent increase shake party.',\n",
       "       'Mean head want common expect. Discover watch necessary pretty situation. Because again point see.',\n",
       "       'Measure world might six store information project. Recent opportunity recent city line.',\n",
       "       'High street ask new get able girl. Leader member try mention. Standard perform new election challenge.',\n",
       "       'Somebody whom plan rather behind. Mother create along million though everybody where. Which far there available for nearly cup. Can music house month strategy.',\n",
       "       'Return now result fire specific. Structure financial set. Board say every true loss pressure part certainly. Leader anyone call may country machine because. Time available people nor when against west.',\n",
       "       'Body while word century likely. Religious likely wait back policy. Character well believe white unit cold food.',\n",
       "       'Remain gas responsibility find which with heavy. Include report probably the. Next soon everybody me.',\n",
       "       'Parent pick image support. Evidence late wrong thank note live. Here structure early couple.',\n",
       "       'Near item popular nice. Service through make. Glass area list stock character later natural. Available collection appear service ground collection. Military beautiful draw senior.',\n",
       "       'Ability bar while give staff. Call really spend soldier thing.',\n",
       "       'There local think boy not image season. Group voice reflect clear record nice. People material or add within.',\n",
       "       'Baby seat now the. Political position cover participant garden past. What back result Congress community. Grow attention sometimes summer.',\n",
       "       'South finish Congress message. Owner me east nature. Available after fear ok perhaps mean.',\n",
       "       'He increase administration defense evidence. Ready offer oil. Meeting herself become audience look. Church effort argue cut.',\n",
       "       'Drive often even agree film industry scene. Kid artist international turn about. Can base hard. Young popular play.',\n",
       "       'News around politics operation wrong. Off pay his former although. Debate but view travel use only. Note clear job. Responsibility administration medical perhaps wear this PM.',\n",
       "       'Investment little your town fire. Ever easy let pressure. Our concern bank this prove. Look whether work. Organization write hit key sing reason every.',\n",
       "       'Nor lawyer find no affect land anyone. Know vote magazine everything sign. Sure I well billion kid. Feeling safe clearly nearly doctor develop.',\n",
       "       'Civil occur understand forward reason professor reality knowledge. There young rock discussion personal simply. Increase trial bad stay.',\n",
       "       'Suggest fight usually. Its technology would. Claim prevent benefit edge form may. Particular image daughter with provide ago member.',\n",
       "       'Realize raise follow people. Executive simply to it college impact. Husband hear church together together wide late year. Team carry establish industry.',\n",
       "       'Service radio majority role. Poor movement late military. Skin type who garden assume training. People suddenly exist coach.',\n",
       "       'Culture Congress economic check name. Rather reduce sound decision. Yes scientist middle during. Me class citizen contain.',\n",
       "       'Later part her south authority scene. Man draw before already say federal whose executive. Weight system forward team wait.',\n",
       "       'Into resource look language. Collection network cold always method meet.',\n",
       "       'Present kid charge. Left know under. Television face me international top.',\n",
       "       'Yard about policy Mrs beautiful test. Spring want reduce wife. Course off tell. Land Mr another forget. Join picture business answer among.',\n",
       "       'Ahead level know yet scientist. Mean development assume up health if second sister. Top season baby role drive thus.',\n",
       "       'Cause past glass. Either base glass movie throughout story author guy. Somebody movement easy rest. Report determine business specific home soon. Than develop indicate however.',\n",
       "       'Season visit month various. Impact simple base tough game. Always risk training task. Choose little growth seat yard. Wait what performance safe.',\n",
       "       'Fire grow may conference rich task become. Hotel discover movie process others wife price. Note effort realize must.',\n",
       "       'Enough color blood. Bag either win when seek real happen. Bar feel part ask.',\n",
       "       'Share friend now drop woman eye administration. Because teach treat lose upon. Modern most network especially because yes. Memory decade race travel that.',\n",
       "       'Until travel west group or we able. Use detail this product summer popular clear. Left make structure month movie significant. Tonight billion seek white other.',\n",
       "       'Sometimes discover fund moment trial. Deal leg gun leg face three. Song lead out form. Affect you these. Ability sing may.',\n",
       "       'Example real child level economy discussion. Old laugh market oil range. Southern fire next name language upon follow.',\n",
       "       'Dark officer cold film practice yeah. Although character of large improve score economy. Indicate human wonder entire beat official. Employee phone growth use indicate real.',\n",
       "       'Company generation pick them size then. Perhaps until cold attention. Clearly learn popular.',\n",
       "       'Film physical however southern drop within check. News sing mission bank ask. Sea never if indicate.',\n",
       "       'Though station marriage of certain both. Themselves system quite research. Cover indeed indeed draw music put represent. Gun different peace wait central former. Light than per clearly.',\n",
       "       'Table pretty both painting quite economic song. South because community industry.',\n",
       "       'Smile ten report matter. The hit behavior school consumer couple note. Appear me power operation point. Firm nearly any son address develop evening.',\n",
       "       'Black people manage some entire. Need improve southern. Help defense different Mrs.',\n",
       "       'Ever now picture couple. Democrat bill factor news. Music reason financial.',\n",
       "       'Side appear support grow fire difficult. Baby successful manage easy Congress instead agency region.',\n",
       "       'Law me family up nation value throughout. Such room know quite. Few exist anyone pick. Whose until such road hope never girl.',\n",
       "       'Somebody amount whose yourself physical. Especially number base nation. Difference road doctor particular public huge.',\n",
       "       'Raise ok statement respond artist. Beautiful type write eight long common tough. Street many the movie page keep. Toward task protect throw television. Organization eat now stage face.',\n",
       "       'Interview boy themselves sense enter box. Local may type religious. Miss pass forward assume. Any on part voice idea cell best whole.',\n",
       "       'Ready group long lead some really. Green begin brother same others fact agreement.',\n",
       "       'Sport recent general appear much. Whose high past citizen. Between time executive bank include whole.',\n",
       "       'Ground look establish approach up something eye. General huge recent forward garden watch. Own describe staff coach level during author. Less order floor summer say.',\n",
       "       'Attorney energy development dark sense not coach. Medical question marriage rate. Possible if ask have list test itself wear. Suggest room sound TV cut gas so least.',\n",
       "       'Special state strong couple. Agree low once father financial theory development.',\n",
       "       'Body development scene strong series threat. Another total car nice. Talk left let picture describe evening risk painting.',\n",
       "       'Pick there recent. Change government recently he really resource. Radio theory laugh change tonight live tree. Together blue crime drop. Maintain treatment camera she always security building dark.',\n",
       "       'Herself quality figure throw. Control floor thousand move over past. Field effort bag care mission. Arrive speak community onto.',\n",
       "       'Situation customer country must. Defense these hit buy day involve. Despite give miss reach.',\n",
       "       'Person according arm particular information set town. Create bill kid market. May majority reason. Enough soon brother data sister positive certainly.',\n",
       "       'Draw nice attack avoid program. Real participant either feel page. Sea visit deep thousand anything bank born song. Because affect learn forget.',\n",
       "       'Hear without particular standard. Morning want author out. Site house or behind.',\n",
       "       'Good attack skin. Professional argue certain from on accept director. Score up continue.',\n",
       "       'Conference realize prepare too police reach. Measure piece wide behavior exist list along. Ask appear individual assume sit upon build.',\n",
       "       'Results-driven DevOps Engineer with proven expertise in cloud infrastructure, automation, and continuous integration. Skilled in AWS, Docker, and Kubernetes.',\n",
       "       'Cloud Engineer with expertise in AWS cloud services, including EC2, S3, Lambda, and VPCs. Proficient in designing and deploying scalable applications in the cloud.',\n",
       "       'Eight man fact yeah. Them everyone treatment factor out necessary rest. Need nor mean wonder property say growth. Reach water this operation growth. Evening side bar forget.',\n",
       "       'Full doctor state spend yard tonight for. Present read but statement direction that hospital. Really professional dinner sure indeed one general. Build exist win live expert issue away.',\n",
       "       'Hot much south. Image last somebody clear. Others knowledge sure music life.',\n",
       "       'Behind a four hope. Rich very start account.',\n",
       "       'Others election between. Life themselves turn series large point. Analysis response moment interest than level. News ahead skill sister.',\n",
       "       'Thank player until professional arm health put maybe. Future talk network wall common general. Police worker phone always into think area. Type cause both consider participant summer million owner. Doctor option condition guy year.',\n",
       "       'Weight admit sometimes site center though. West before weight. Treatment energy cell present. Until find including station live.',\n",
       "       'Within than serve leg rise. Class also special all of. Country mean stay decision difficult chance imagine student.',\n",
       "       'Task type maintain computer take share writer. Story hard environment national yet. Room tend be onto admit. Show attack part contain kid onto.',\n",
       "       'Though sure door may fast source. Much image movie billion item fly. Pattern find write check member growth moment.',\n",
       "       'Civil if every top. Join discuss measure these quality simple. What sea question arm product line. Between management nor task above.',\n",
       "       'Blue see option sound. Along firm for. Even research energy type nothing since. Cost here factor give conference until.',\n",
       "       'Professional sport war usually. Ability it office western fish white prepare. Hot why statement than. Record likely meet.',\n",
       "       'Newspaper over air way. Discover beautiful left. Change generation effect development chance speech forget. Blood threat bring us week.',\n",
       "       'Lot spring of anyone best. Audience upon issue anything blue magazine suddenly. Time nature white father without generation.',\n",
       "       'Miss do anyone skin study different. Me who little who. Business it pretty former back.',\n",
       "       'Quality garden degree. Check where page rest serve. Him bank realize one animal under. Year force writer must will. Top choice everything child evening record.',\n",
       "       'Whole back hundred rather. About this discuss activity listen continue. Home doctor plan lawyer north.',\n",
       "       'Sometimes audience five something. Movie onto western few school book then front. Computer fine receive around design. Tonight fast soldier.',\n",
       "       'Poor back specific discussion perform. Heavy thousand along interest sell.',\n",
       "       'Event keep election remember every. Leader describe air usually write truth.',\n",
       "       'Well side reflect break probably. By financial budget. Owner eight thank experience we stock. Specific personal service.',\n",
       "       'Management scientist ok. Security than fly.',\n",
       "       'Probably represent item data. Really standard democratic listen where sport. Deal group brother feeling concern hair reflect.',\n",
       "       'Two yet never. Church animal enjoy know may sister drug. Official information often maybe.',\n",
       "       'Already degree article stage former involve difference. Fact manager song board early however. Design task green.',\n",
       "       'Capital treat standard example. Television family site design middle as. Two example political minute fill throughout. Ground civil maintain your cold. Town yet consider else within choose easy.',\n",
       "       'Usually sea process responsibility up director. Dream long would while war. Them if ahead kitchen win win.',\n",
       "       'Science trade through win fire including benefit. Fly hope religious official.',\n",
       "       'Offer reality west pretty painting today fast. Quite future put of simply claim as. Often arrive language discussion stuff. Tax wind our hear scene hard although.',\n",
       "       'Table now power technology civil determine. Single gun officer dream red. Create tough leave travel. Energy them campaign particular. Once of world decide show executive grow treat.',\n",
       "       'Miss interesting if especially task. Back structure place western clear. Pull short when dream claim including. Open toward writer information professional term carry.',\n",
       "       'Threat southern least close line. Tend parent professor cost. Police cut hotel large reduce yourself him none. Loss various administration less range.',\n",
       "       'Audience accept run. Say ball why all establish affect.',\n",
       "       'Rise offer remain. Carry less card. Different dark green instead many.',\n",
       "       'Evidence reveal reason skin already now process. Yourself statement upon. Thing meet gas executive reach nearly energy around. May sound education write. Now data modern indeed ask wide different.',\n",
       "       'Gun whose ever feeling prove Republican cup. Sometimes any despite stuff what record fight. Mrs watch well grow agree work politics deep.',\n",
       "       'Put answer may part six under. Window start rich more leave. Show doctor entire some up.',\n",
       "       'Just million less. Mr partner unit set. Six use defense wonder. Return wait send tend better. Argue nature economic let collection.',\n",
       "       'Wind than reality direction protect. Card travel line compare exactly economy free almost. Maybe possible ground show two involve general.',\n",
       "       'Citizen civil agreement family. Short hot remain season soldier short visit. Center say glass nation style culture. Newspaper offer listen girl tree technology address test.',\n",
       "       'Half citizen second return language building. Activity contain ahead action not.',\n",
       "       'Career life drive how. Suddenly street model east ability friend different. Common sit six business feeling.',\n",
       "       'Where last company senior difficult idea. Condition strategy determine develop weight. Popular knowledge growth toward current doctor.',\n",
       "       'Heavy suffer statement nearly figure high most. Sell bank question yet remember fine answer. Under statement window teach fund important.',\n",
       "       'Man impact fall effect none live hotel walk. Happy reduce first security whether. Strong message speak appear hand degree blue.',\n",
       "       'Table yourself worker son strong prove foreign. Picture office himself institution decision a true. Us last form thus article.',\n",
       "       'Open work argue election respond particularly. Conference care choose situation pressure talk. Letter push that something space. Structure capital system heavy difficult. Citizen improve subject back much play economic.',\n",
       "       'Say teacher you affect speech home recently list. Throughout school right manager treat. Radio deep room tend many. Land beyond method scene. Debate billion catch arm on.',\n",
       "       'Range recent military artist while. Left money knowledge forget. Result administration American she politics family happen. Somebody executive position claim.',\n",
       "       'She wear until send defense hot because. Situation product current southern manager relate. Food remain recognize if outside. Black east executive hold public.',\n",
       "       'Prove beat part oil course find identify. Clearly this magazine skin. Book bill after treat help old move. Half together nearly four manage together set politics.',\n",
       "       'Someone couple lot. Seem former fear skill unit from recently.',\n",
       "       'Cold first perhaps account character. Into land central entire score suffer. Somebody former official inside lead. Them research career once perform. Pm anyone wife author he popular.',\n",
       "       'Political everything local garden member quite yes. Glass somebody prove both. Evening expert step party fill attention kitchen visit. Away head since effect free. Music big beyond involve role.',\n",
       "       'Civil specific force our note. Culture writer by tonight. Study discover glass piece.',\n",
       "       'Push name executive wait. Decade interesting story how cover. Brother final building best. Effect door source investment with.',\n",
       "       'Third return man whole central town. Individual economy stock world station. Within much also fish three.',\n",
       "       'Deep teach although option recent decide. Rest will forward turn girl reality. People suffer both truth under little. Book think cultural hour win study.',\n",
       "       'Truth term billion despite anything grow reflect. To deal safe read.',\n",
       "       'Represent much way item. Rich up soldier.',\n",
       "       'World car money four cost see church young. Design response man low affect. Set course gas consumer together organization.',\n",
       "       'Act rate performance media leave support natural. Serve indicate husband. Economic where yes suggest full sound base.',\n",
       "       'Simple do study other. After account mother son man. Think all central mission finally model list.',\n",
       "       'Field maybe public buy. Seat college technology beat pretty agree. Skill interview and tree color. Investment information it especially job. Indeed out indeed cup growth.',\n",
       "       'Billion avoid resource increase fish. Individual start only market nor. Civil kitchen never chair buy. Worker resource well offer. Station society resource concern significant everything these.',\n",
       "       'Bar visit ability lead someone need reveal to. Early thank talk animal nature card consumer. Create simple away alone child.',\n",
       "       'Final manage word affect think matter. Technology foreign read win she just treatment. Beautiful lot let occur lot evidence try star. Attorney air day term but through newspaper. Will main trial election name room left.',\n",
       "       'Political instead race get note over. Reason ok think contain subject eat offer fine.',\n",
       "       'Future require raise remain center arrive. Long least along game purpose situation debate maintain. Cut week democratic affect minute. Interview soldier or movement kitchen purpose.',\n",
       "       'Campaign body need room many opportunity performance. Same see fish walk along.',\n",
       "       'Garden cold thought week. Study seem anything eight provide week. Door spring suddenly suddenly stop low. Forget find note bring them white staff.',\n",
       "       'Up analysis kitchen adult evidence seven hotel. Minute his day anyone total administration. Scene most wall lot against. Government example fish mission town while.',\n",
       "       'Imagine buy serious learn yourself dinner physical. Later lose already ever at list. Work thank author plan including try billion drive.',\n",
       "       'Resource school smile campaign support people. Whom marriage people oil. Most recently feeling nature me per voice.',\n",
       "       'Form series prove bed now appear. Small could affect officer growth. So agree food minute reveal describe social course. Usually morning cost certainly watch audience character.',\n",
       "       'Main they decade require old beat. Father environmental skill certain value member. Teacher usually moment church. Administration central film note show.',\n",
       "       'Bit other else early easy another performance. Sea without myself culture who can. Movie support name majority form. Produce senior inside free treatment military picture trip.',\n",
       "       'Defense check anything. Check whether rate talk movement. Spring easy weight collection senior skill chair.',\n",
       "       'Health own design position into. Never idea court. Question history prove enough production dinner rise support. Their herself discover friend.',\n",
       "       'Practice must question. There deal modern political maybe hand. West brother this age American by ahead. Real prove capital company. Rather tonight hotel or.',\n",
       "       'Person light what letter. Factor democratic modern fire meeting thousand collection. Democratic especially nor also light fear think loss.',\n",
       "       'When research door science letter along own forward. Certain employee for. Between four far white inside explain too.',\n",
       "       'Friend field agreement. Data tax network imagine wall. Institution machine fill I.',\n",
       "       'When glass study describe well during none. Book early coach majority. Care kitchen for food sit.',\n",
       "       'Color girl once they take across some. Letter write describe. Describe all remain pick book thousand child.',\n",
       "       'Likely project question simply over. Two avoid those stop city party. Cover point animal nearly dinner here. Institution decide citizen them deal.',\n",
       "       'Catch wonder director about. Scientist example arrive behavior. Occur seek memory understand method husband. Partner standard win produce care.',\n",
       "       'Side usually federal leg. View red put research likely. Able ahead reach.',\n",
       "       'Clearly two military federal human responsibility. Run there strategy once. House partner mission site contain study. Writer suffer owner whom fish front. Still week less near.',\n",
       "       'Opportunity artist they ago. Entire energy political indicate purpose tell. Evidence use though let carry imagine prevent.',\n",
       "       'Whole body real cost. Food campaign wonder machine maintain.',\n",
       "       'Popular catch serious best we yet. East win thousand agree. Nice party water sure page. Interest pass best.',\n",
       "       'Foot consumer behavior company face international off increase. Science mind remain send between opportunity. Cut trouble worry group when. So start success store official many training region.',\n",
       "       'Leader suffer whole improve six. Involve pretty professional spend property study cost. Station recognize third against reduce just.',\n",
       "       'Travel article conference first. Table evening suffer measure wonder.',\n",
       "       'Than consider focus store bring something. Loss approach hand rock. Color receive run seem fish need ground seek. Kind so material occur become same herself.',\n",
       "       'Environmental issue move worker need family ago. Blue indicate over economic money. Community begin key question continue mouth right my. Voice let up accept trial stuff impact. Law always manager enough hit think reduce.',\n",
       "       'Item pattern pay international national analysis interesting short. Own authority ago popular if.',\n",
       "       'Side discuss consider difference. Listen various simple finally particular ok. Concern sea standard similar learn woman.',\n",
       "       'Skin financial fact quickly quickly. Identify huge foot stand risk animal. Card myself list just Congress.',\n",
       "       'Sure training free culture choose interest first. Represent quite institution school magazine cut.',\n",
       "       'Rise candidate to six perform course story. Career man school lose she hospital.',\n",
       "       'Budget your tend. My affect number month statement plan fire. With either different property heart reduce guess left. Radio detail range enough best upon onto.',\n",
       "       'Avoid system life message board fight. As serve want Democrat various require. Hospital institution matter. Capital lay again skill.',\n",
       "       'Travel modern meet. Prevent thank relate skill work people. Mouth hospital heart few likely.',\n",
       "       'Source me what you early both poor choose. Mean argue require voice student. Attorney wide claim exactly finally former choice.',\n",
       "       'Reduce expect data specific improve agreement cut. Quickly now tend argue.',\n",
       "       'Single provide our law four. They why full choice place under. Statement his page car when. Final TV huge mind.',\n",
       "       'High class threat until also. Try poor important increase. Particular system save share.',\n",
       "       'Music each town almost movement get series. Prove public either almost. Term opportunity subject strong budget firm. For bag pass. Heart political about fact when garden case.',\n",
       "       'Service difficult thousand. Level one establish anyone how energy. Important final car do likely send station.',\n",
       "       'Property course language wide. Push back turn it message voice decide. Market wrong film end serious both. Ago establish single serve weight.',\n",
       "       'Threat note lay history turn one plan turn. Girl production technology standard market past expert space. Of other space character note.',\n",
       "       'Station dinner live buy plan. Spend family because week party grow. Reach he your second also arrive mission.',\n",
       "       'Picture arrive method people back school. Energy production certain want economy every hundred. Determine attention reflect enjoy. Member not summer business.',\n",
       "       'Small thousand pick travel. Decision performance account size friend visit conference the. Recent election contain part hair mouth explain hit. Stop country talk role.',\n",
       "       'Choice third city record front continue American design. Open each great. Hand professor tend environment. Economic natural something yeah task. Those drug tonight behind.',\n",
       "       'Inside practice must list appear. Suggest black simple minute add accept speak. Alone environmental floor.',\n",
       "       'Among skill few wide memory care. Physical ok drug reveal prevent family receive. Thus within myself. Last card wait light.',\n",
       "       'Amount product return never use anything. Any million deep become compare. Force matter agency laugh rest. Test various city leave society partner.',\n",
       "       'Option any southern likely gas answer. Order test board case whose your political upon. Eight property spring perhaps general red worry.',\n",
       "       'Push force deal leader audience. Perform push medical news public former information control. Morning professor happy institution effect hear agency.',\n",
       "       'History certainly perform break if responsibility pass product. Tax machine result development. National mouth feeling anyone. Lead item watch task law often. Maybe foot as computer.',\n",
       "       'Soldier beautiful debate hundred campaign career process role. Hope smile future church challenge work. Follow sport father quite low.',\n",
       "       'I throughout as music. Total foreign share team. Spring trip nor size Democrat technology.',\n",
       "       'Report hold total surface soldier anyone clear. Sister light occur ground not recent buy study. Least better form business network two center.',\n",
       "       'Yes treatment person must support. Past line successful culture trade soldier source. Again dark protect build. Travel professor wife ability.',\n",
       "       'Really possible position value list office. Consumer price trip third. Provide poor argue lay want. As cause his together a blue animal.',\n",
       "       'Yard order step billion phone often. Focus man political increase throughout decision.',\n",
       "       'Evening red decision community. Among feel professional large. Including traditional subject professor individual firm.',\n",
       "       'Myself research war mention too. Open themselves spring away. Already back second since. Again firm car design structure drop actually. Forget perhaps former style film professional network.',\n",
       "       'Environmental everything special relate. Have able recognize control goal best around. Inside single win response crime particularly music least. Happy shoulder product be. Range page over bill medical term.',\n",
       "       'Ago modern get behavior. Truth data network describe story. Impact cold wife western bring rock in.',\n",
       "       'Thus there although. Whom available nature may side poor. Provide wonder age hold. Life act answer support magazine. Record expect meeting there wind same notice.',\n",
       "       'Trial although strong campaign attention evening either. Reason large middle lay financial break mind. Tonight Congress kind add lawyer field of. Order certain dog quickly.',\n",
       "       'Approach push produce want. Point effect place improve toward. Address structure order better one.',\n",
       "       'Each human name world assume move important. Mind fight last avoid. Onto agreement kind. Many on everything often of. See beyond describe drop push sport instead.',\n",
       "       'Real issue reveal act fly pressure class threat. Decide factor adult share which. Shake scientist professional carry catch theory law.',\n",
       "       'Surface difference onto night ten agree soldier. Kitchen price land Democrat necessary.',\n",
       "       'If cell inside raise. Where join section especially. Mention strong student walk last.',\n",
       "       'Specific term rise clear. Question scientist company. Cultural special difficult foot future child.',\n",
       "       'Tonight scene stay let already. Little family move although begin put. Prove size manager establish site join no. Much between will determine war compare. For skill share theory statement far.',\n",
       "       'Environment economy finish this. While attack measure travel. Accept other more. Little capital must exactly.',\n",
       "       'Explain exactly church fear place ground campaign learn. Concern buy treatment international. Line sometimes he. Newspaper later matter market skill six rich three. Green able fire thing item majority behind.',\n",
       "       'Situation realize happy arm scientist. Brother painting center. Role task eight value democratic section energy.',\n",
       "       'Treat all house old individual. South art play learn bit any. Film job customer perform.',\n",
       "       'Occur nature teach individual day. Last scene thank happen remember color will recent. Audience who when sit act.',\n",
       "       'Stage difficult many boy. Professional theory newspaper. Watch case imagine among through. Stock suggest region employee have western. Film small parent black let stock game always.',\n",
       "       'Interesting turn phone meet forget. Remain rock law of yes. Top parent collection grow system his.',\n",
       "       'Enough for answer simply four. Although nation against theory. Music career chance able half key.',\n",
       "       'Role key remember. Ten evening admit argue benefit attention. Stay place anyone visit message heavy instead part. Public show early either long wife pretty.',\n",
       "       'Bank left once dog build purpose. East beat protect respond.',\n",
       "       'Watch wife just morning year. Establish place again dog itself continue significant. Reveal model language member I. Trouble wear recently answer forward.',\n",
       "       'Write support wonder possible morning stand. Where every whatever three expect system stay. Worry street everyone require agent. Office again approach reveal here argue.',\n",
       "       'Carry physical painting compare sit. Expect opportunity program.',\n",
       "       'Tonight personal money we rule mention traditional. Push stage close education opportunity none. Religious quality because room.',\n",
       "       'Investment all entire poor. Control past development him. Share enjoy mention professional paper indeed including include. Gas or however dark development safe reflect open.',\n",
       "       'Participant class try require stuff person. Bag morning seek medical. Challenge member research bed ask.',\n",
       "       'Develop structure physical success during series cup. Month method on. Type society there give smile.',\n",
       "       'Threat thus positive hard. Expect drive face black improve. Town ready leg production.',\n",
       "       'Decision threat save consumer Mrs. Sort film key arrive leave somebody. Can interest owner individual serious score room.',\n",
       "       'Character away red even positive player home. Subject mouth throughout person fish.',\n",
       "       'Worry see movie wall. Across grow traditional test. Long moment total measure build few machine. Free project treatment business trial often face.',\n",
       "       'Cause ability phone option. Door century wife friend.',\n",
       "       'Administration member involve believe. Central become process evening. By agreement fast security camera he.',\n",
       "       'Network expect difference deal. Cultural despite meeting business ready remember. Quickly worker at determine. Best Congress line defense you media three.',\n",
       "       'Not picture put think bed. Significant soon see we. Ball television site impact toward today. Fall what really government recent people.',\n",
       "       'Whom performance finish. Western free too line.',\n",
       "       'Inside with local fund single page. Thank response north difference strategy form look. Concern hospital experience music. Quite learn matter.',\n",
       "       'Far project issue whether write. During think chance source. Listen score outside war. Later another sing team. Well thing region anyone effort.',\n",
       "       'Red point draw reveal low. Wall skin let argue agent ago. Much thing forward your offer.',\n",
       "       'Build speech black player. Prevent billion sport partner sure. Finish seat up administration card subject. All who environmental. Bar south moment do all board.',\n",
       "       'Send full describe use it century beyond. Lead note natural evening believe current analysis. Key interview such. Decide perhaps management television or outside each. Ask alone natural could industry general heavy.',\n",
       "       'Early role town near newspaper. Purpose write thus white impact. Ready arrive sell become.',\n",
       "       'Indeed until happy low. I analysis drop catch senior soon. Author take discuss open money list may. Concern floor mind main little recently. Be the president what class ask officer.',\n",
       "       'International scientist strategy father rich. Care listen daughter natural. Page marriage practice field. Enter upon perhaps cup high trouble next. House rule thousand national member marriage goal.',\n",
       "       'Place fight share world forget speak. Heart television clear kid become dog. Third sense agency account entire west indicate they.',\n",
       "       'Program attorney much necessary whatever forget decide. Old foot onto indicate key.',\n",
       "       'Either central if agreement expect ability. Little reality too hospital east you. Area no person development behind teacher. Also sound able keep measure.',\n",
       "       'Three doctor way image political important may. No article remember space wrong friend thousand. Particularly shake executive.',\n",
       "       'Since level understand serious before care his. Popular head consumer food. People sea law style receive we. Evening start store power compare already cultural. Health name likely ok want.',\n",
       "       'Guess response answer. Term hundred region trade. Little travel far majority sometimes. Less challenge mouth consumer dream particular.',\n",
       "       'Agree sort boy idea. Child campaign value by the three believe or.',\n",
       "       'Whose technology coach fine cause image. Mind state situation to hotel.',\n",
       "       'Today lose care challenge any among test bill. Almost reality where many week radio. Allow accept need national most discuss. Against even learn he.',\n",
       "       'Official also even event see them ago. Per establish always model.',\n",
       "       'Arm plan hear. Many only view agreement area. Risk decade democratic open kitchen feeling. Read approach rich reflect.',\n",
       "       'Create hospital another investment gas. Several management method each wrong cause. Evening including population be air thousand bad. Than choose movement often dog understand nearly huge. World bar quite draw base.',\n",
       "       'Hand rule break level western ago need full. Person easy gas by election get.',\n",
       "       'Movement road person article. Necessary senior or yet responsibility. Buy alone million upon rather worker. We leg development American. Whom sport million song.',\n",
       "       'Safe cause recent. Between movement wonder stock great base door speech. Long throw this evening expert beautiful. Name into trip beautiful.',\n",
       "       'Participant expect mention man. Hundred nearly door single might approach ahead model. Everything culture whose must even like something. Must response find pressure manage town.',\n",
       "       'Try create employee view people. Market might mind whom source sometimes hear. Wall bring game candidate.',\n",
       "       'Simple decision suggest put painting draw article. Focus on surface focus majority at move. Question major simply. Add his interest. Director would as threat option country law.',\n",
       "       'Another product issue difficult down data. Author total national western career mouth. Now tree and answer way score.',\n",
       "       'Put Mr life. Certain instead article bar real firm.',\n",
       "       'Understand work offer employee role. Hold response car say paper. Decision role assume husband partner look total. Office discussion purpose. Notice their strong.',\n",
       "       'Discussion south purpose five. Seven she be believe past size. We run result result loss question.',\n",
       "       'Best thousand wind Republican above. Act design value another mother model involve. Realize process final ten energy nice wrong.',\n",
       "       'Common take million speech walk. Rich list door hold tonight suffer none bank. Pass prove relate set official stuff appear. Attention message spring boy thus off. Store because enter success.',\n",
       "       'Born skin life. Report friend might experience evening. Offer personal lose around present cut. Little crime no worry such box.',\n",
       "       'Her bag interesting trade above town her I. Bar subject than power. Away pressure worker still condition machine control.',\n",
       "       'Arm rather media truth. Garden fast somebody number weight step. Establish general along huge my stage culture. Church wife factor into notice.',\n",
       "       'Next sometimes of officer time movement. Idea report another mention identify behind. Deal yard camera on north join.',\n",
       "       'Enough give student address fill interest. Later work possible. Between evidence themselves bring light. Plant set cost management.',\n",
       "       'At form system during life watch large finally. Top nothing factor only game democratic significant open. Attorney former business pattern. Only wish nice.',\n",
       "       'Line hit certainly quickly whether. Safe reduce government we blue field. Resource key travel director economy. Wall once himself buy strategy.',\n",
       "       'Recent evidence company certainly continue side prepare skill. Need cell floor responsibility my rule. Leg go animal this stand turn economy. Certain notice direction first blue. Someone administration in ever lawyer.',\n",
       "       'Project region current road major box. Office detail let real. Bank piece maintain mind same. Reach determine detail forget trade hard point. Show democratic blue age happen.',\n",
       "       'Other easy fund role deal. Help staff visit. Child then catch high line. Would see billion well able news nor.',\n",
       "       'Line player program mission adult born. Mean hard trip my situation social deep. Up too state pretty pass answer go. Sometimes child son.',\n",
       "       'Forward which society type. Husband building speak a. Mrs expect individual least although.',\n",
       "       'Less dinner near worry. Popular far tonight Republican alone. Hard form perhaps certain soon within. Only our book his. Kitchen white interest industry.',\n",
       "       'Growth reality stay pass box. Artist structure three free.',\n",
       "       'Yourself both program big there. Crime such exist kitchen model research. Collection much away current result ability.',\n",
       "       'Recently exactly arrive right lot. Religious young throughout play.',\n",
       "       'American at name. Factor good summer guess issue. End leave man study reality well. Feel entire they performance radio page learn our.',\n",
       "       'Effect character everyone whole computer effect million week. Field measure find carry turn. Improve anyone wall nothing win boy dinner. Side receive energy manage community. Memory network pass society.',\n",
       "       'Owner almost political music boy. Bring new family happy.',\n",
       "       'Hold relate reflect public heavy but. Matter treatment hope order set pull pass. Each resource event religious speak without performance.',\n",
       "       'Hotel bank with ask. Rather with account my always when. Wait brother left maintain thousand mean. Great million middle size page yard tax.',\n",
       "       'Design them this pick nature successful part gas. World the finally ten yes effort. Road hard director out behind change shake artist. Close live make hundred. Sometimes bed forward picture since security professional education.',\n",
       "       'Value upon democratic machine radio lot identify. Democrat occur very image. Any score check cup challenge.',\n",
       "       'West five professor agree. State challenge phone. Half nation whole occur half its account.',\n",
       "       'Growth sister key hear. Financial now their college. Reach house teacher. Medical especially particularly police Congress keep.',\n",
       "       'Suggest face window boy half five career. Important subject our seek including. Great bag speech. Scientist name model sense. Actually new significant phone.',\n",
       "       'The television even present organization happy fine rest. System pressure eye nothing deal family. Face paper share among fine another network.',\n",
       "       'Federal several notice just decision. Thing approach size sign day fast. Upon politics my north to particularly music. Help report to court agency eye could general. Consumer energy scientist buy ability another believe.',\n",
       "       'Morning want family generation. During set left stuff. Catch economy happen guess. Speech receive have model.',\n",
       "       'Either different old long. Do treat paper because indeed six become. Likely itself law glass long win. Care school task identify so.',\n",
       "       'Whose second her yeah red than necessary. Win early participant their opportunity phone decade speech.',\n",
       "       'Security theory contain final food time. Like hundred mother arrive since least. Response western marriage describe history technology career inside. They his Democrat new.',\n",
       "       'Develop significant dog check. Report item capital politics interview artist answer. Natural present cost note still knowledge.',\n",
       "       'Phone myself possible local score become guess. Design upon final customer himself between.',\n",
       "       'Large box today budget fine senior receive. Represent ask test officer medical rock respond happy. Our box soldier growth player. Rise seek spend realize line.',\n",
       "       'Sport pay house describe bill guess action discover. Method box rise try special. City know none piece.',\n",
       "       'Sure race no benefit. About four measure hold. Operation level common admit science TV.',\n",
       "       'Follow ago image. Second media security cost.',\n",
       "       'Everyone base card college into treatment produce. Argue suggest every get more. College put better everyone realize seem. For several ability finish that trouble.',\n",
       "       'Kitchen do service old wait. According significant teacher scene better charge. Call dog everything of. Within matter goal. Thing environmental idea sense question arrive.',\n",
       "       'Fill deep enter. Mrs doctor probably too before point. Three president material responsibility.',\n",
       "       'Majority painting responsibility where character buy executive identify. Order a seat news. Recently last into team arrive serve more. Sit coach face several throw Republican.',\n",
       "       'Build white eight which catch reach. Continue require land huge make body guy. Role such nice challenge score everything. Look hear art case.',\n",
       "       'Key father partner clear arrive song avoid. Color morning agent again tell chair house. See need section stay. Meeting teach style page.',\n",
       "       'Very hand agent service sense risk happy. Director left American value television. House talk trouble during expect if travel.',\n",
       "       'Would close sister consumer become. Along no company. Product Democrat learn model some whole. Individual success onto sister lead director.',\n",
       "       'Detail member activity statement. Decision into blood week fast eight place. Fund perform positive. Become government wonder character agreement push bad. Old PM hot.',\n",
       "       'Girl nothing ahead lawyer floor happen somebody. Case international head coach animal. Year leg bar democratic. Trouble nearly affect moment. Voice capital professor available conference.',\n",
       "       'Laugh structure per soon television cause kid. None large identify bed either. Decide late although little contain figure piece process. Fish within type give program. Source listen indicate.',\n",
       "       'Feeling successful civil specific top rest north. Last Mrs though would pick. President Democrat thousand head final decision.',\n",
       "       'From career large community agent tonight accept. Author mention three where. Open deep impact whose. Area very prove against less.',\n",
       "       'Between want indicate purpose nation soon there. Not soldier continue visit. Manage magazine off leave draw.',\n",
       "       'Expect structure few government her. Teach recognize against reflect. Which beautiful improve up mother here. Difficult water off area relationship. Music gas whatever product win concern.',\n",
       "       'Many admit traditional write. Back either church bag nation. Clear movement four account sister. Expect recent their event relationship father.',\n",
       "       'Check woman record a its state chair. Require space eye reality. Thank build design leader. Expert others cultural believe guess people table. Require space visit wife yes inside.',\n",
       "       'Leg book important model. Up require leader statement need. Participant rich side short however successful officer.',\n",
       "       'Find church accept news. Somebody process room culture eight. Day federal accept once wait.',\n",
       "       'Evidence company civil significant different drop. Brother begin by lawyer future tree. Church after hear before kid. Congress pressure become financial game relationship song.',\n",
       "       'Film herself entire quality. Recently kind firm. Political play debate home.',\n",
       "       'Mother court though drug. Action difficult reflect discuss. Study west me note. Attack reach ball medical five board receive.',\n",
       "       'Evidence care add thousand should worker see right. College two buy dog tough matter. Floor without television personal yet central. Special agency another simple boy discuss what director.',\n",
       "       'Tree open girl among guess. Drug gas five hot form challenge many. Public health yeah walk mention.',\n",
       "       'Available away attorney century ten. Director if give ground despite force ahead single. Task beyond weight involve. Agree growth establish be degree try.',\n",
       "       'Few structure research moment. Arrive ground laugh man inside style performance hundred. Enter son on simply southern cost also.',\n",
       "       'Debate it personal man pick imagine development. All manager technology floor. Activity time mouth assume attorney. Just case foreign investment. These easy skin memory month.',\n",
       "       'Main although end teacher. Month record kid series still. Word ten himself once know price.',\n",
       "       'Information six support risk. Response kid benefit west speak morning candidate. Apply fill yard decade including field. Player car officer think those lawyer situation rock.',\n",
       "       'Region main memory television customer. Body choose understand turn. Million itself human college create church meet someone. Two provide role back Democrat relate night.',\n",
       "       'Else hit set however need. Growth she either body. Young discover form dream before. Beautiful page out hit.',\n",
       "       'Line cut language out including share expert. Discussion time rate industry. Himself according word.',\n",
       "       'Cover actually word reach person through house. Authority lay trade safe me here.',\n",
       "       'Store city go organization news matter produce. Strategy throw contain true factor.',\n",
       "       'Cold job certain late. Indeed easy moment process feeling. Left key truth follow better answer despite.',\n",
       "       'Radio memory process skin able cut happen. Any home each defense hope big high. Too college front seek.',\n",
       "       'Consider natural thought every security speak loss. Specific term figure from grow student hope.',\n",
       "       'Appear trade success answer degree different church. Pattern production hotel very size him. Guy room difficult exactly career side fish.',\n",
       "       'Measure rather industry. Work interest per week through through money.',\n",
       "       'Region draw run smile financial. Recent me music.',\n",
       "       'Including box what black church budget stop. Industry quite character I tend produce work. Answer attack send prepare administration. Form skill program front western free must.',\n",
       "       'Change join answer successful personal particular drug. Fast real recently meeting side. Leader newspaper cause. Deep clearly idea evidence. Worry consider blood bring middle.',\n",
       "       'Assume bill friend home. Professor air argue star artist three small. Generation bank look plant them argue community reduce. Admit floor mouth then rule may.',\n",
       "       'Soon order design certainly season because off letter. Strong pay foreign. Seem medical speak money partner sometimes feeling available. Notice smile radio chance.',\n",
       "       'Work soon member test keep well. Whom professor strategy anyone throw deep though color. Movement care six strong east.',\n",
       "       'Say least foot have final resource. Audience player side. Old she Mr human clearly can ball.',\n",
       "       'Series product mission assume person contain certain hair. Stand fill yeah opportunity media many. Crime so care media.',\n",
       "       'Ground goal opportunity whose. Human whether figure common. Push point Congress. Color land resource provide exist tonight deal.',\n",
       "       'Ten expert compare sister full. Seven say from city everybody environmental hear. As soldier fire. Way understand voice fish find himself continue.',\n",
       "       'Last thus rate course child. Voice agree nice new know animal pay.',\n",
       "       'Himself evidence across key my. Second shake adult plant training administration feel. Effect management popular free whether many dream.',\n",
       "       'Finish table through girl worker. Fall top reduce central policy rate.',\n",
       "       'Main painting husband behavior seat wife game yard. The office participant blue.',\n",
       "       'Respond policy politics full administration reason question. Large off stage black federal glass region. Green floor mean pick choice loss long away.',\n",
       "       'Clearly other share remain. No church energy order performance stand hair fish. Cover road director book building growth. Late interview ground appear matter population watch. Least school push push result.',\n",
       "       'Should turn financial popular skin. Not level my wait debate success. Eight occur mention executive book perhaps. Heart race throughout story key medical hope nice.',\n",
       "       'Future building great oil camera. Lead camera explain edge. Choose analysis wish. Pick each almost least attorney.',\n",
       "       'Discuss beat hard finish bit. Up job front up bit until call.',\n",
       "       'Hour hear next. Public growth stand small. Claim total speak why.',\n",
       "       'Key skill cause international I program. Service world kid final. Sense next commercial act memory. Serious media rise future Mr without.',\n",
       "       'Yet development while blood thing wrong we wonder. Particular drug approach late memory these listen.',\n",
       "       'Radio hit condition. Send suddenly with staff popular there couple financial.',\n",
       "       'Election keep skill let. Start view degree word. Final light maybe participant major. Security language news goal night store you. Should rock task believe.',\n",
       "       'Of perform newspaper staff protect service eat. Federal yeah defense loss fly.',\n",
       "       'Produce stuff remain. Effect we blue anyone before wait. Feel herself notice offer middle like fire.',\n",
       "       'No start less in design type. Per coach analysis themselves toward life.',\n",
       "       'Throw someone nearly glass matter. Simple father old industry herself source first.',\n",
       "       'Case memory decision forget. Happy wish bad respond prove age I.',\n",
       "       'True stand family school success. Structure parent thus. Full prepare PM career executive. Age language case war course defense.',\n",
       "       'Cut view difficult move. As remain drive describe on stop. Personal fine see my easy summer marriage. Democratic decision write financial.',\n",
       "       'Measure total small finish left call million. Size agent power oil. Hard former trip per although.',\n",
       "       'Note cup alone against hit remain fight might. Talk medical win grow long should surface. Fight per put manager example. Event prove wonder some design nation.',\n",
       "       'Hot white argue agreement physical girl common. Situation middle decade record option particular. Financial bit skin sort. Step whatever blue order material.',\n",
       "       'School consider traditional happen. Laugh door top budget who southern. Record forget resource pay politics drug home couple.',\n",
       "       'Time explain just say occur occur figure. Keep perform meeting. Become particularly series culture a full.',\n",
       "       'Everything start term. Wind treatment always left. Total window hour rate certain system. Federal only million fill day.',\n",
       "       'Century left recent five. Loss sea work green. Power ground compare sport politics speech should. Wonder technology human center.',\n",
       "       'Dark still though third author weight expert. Notice next live number consider character sing. According control with officer.',\n",
       "       'Rest reason local kitchen through information. Fear court itself listen. General those station thousand rise mission.',\n",
       "       'Magazine president care rise. Themselves really open parent life out. Very attack other lead according himself. Five ground outside management. Control why down system night.',\n",
       "       'Same sea measure. Cup produce military young local citizen have art.',\n",
       "       'Gas treatment star remain yeah number. Door fear agent or. Dream president example next well.',\n",
       "       'City school project order type. Threat any stock stage hair TV program. Each ability down compare argue major. Western to explain pass hair like tend.',\n",
       "       'Trade try sell while. Wrong simply agree into main. Everybody they night officer PM arm. Affect eat at game particularly safe role. Type term avoid possible.',\n",
       "       'Popular north else sound center throughout. Thousand rock speak yeah. Lawyer where later person including.',\n",
       "       'North effort might forward. Able security clearly box expect attention evening establish. Key create size every air can. Her home evening close everything interest.',\n",
       "       'Fast late describe own score quickly go include. Method still myself clear fast person. Somebody pick could several choice enough majority large. Bring realize development with.',\n",
       "       'Happen imagine idea relationship serious. Early believe bill skin weight. Site staff wide fill open. Beyond dream rule investment last.',\n",
       "       'While fact to win. Hour beat high statement we. Name second themselves serve seem yes project together. Experience imagine whole its position line.',\n",
       "       'Point worker far something under far save create. Account soon career read might pick.',\n",
       "       'Radio all kind yet. Hot evidence back white specific instead attention. Couple well ground serious attention. Mouth rest over suggest teach whom challenge.',\n",
       "       'Professional realize whole democratic. Someone behind social energy use piece year include. Next miss example guess increase teacher. Hot visit prepare artist ball wind.',\n",
       "       'Miss deal positive name safe she. Nation four establish ability. Official per pretty write item behavior. Level size answer budget where allow. Particular car reach care certain for call trial.',\n",
       "       'Factor charge east evening happen less name. Dark production read admit magazine but.',\n",
       "       'Responsibility play security cup. Far order minute authority. Out other true she important magazine class. True with thank level stop stage. Expect price brother.',\n",
       "       'Fund population table animal. Contain church stand huge church maintain her guess. Resource senior yes able Mrs. Area claim interest condition. Along fish rock company base doctor operation.',\n",
       "       'Cover career involve coach number so. Fine rule soon interview raise project full.',\n",
       "       'When per because but question. Sure concern page wind individual such black. According occur card reach about member. Activity else woman exactly rule.',\n",
       "       'Safe whatever rock have. Official total think them safe perform threat give. Nothing new can movement detail seem work card.',\n",
       "       'Month reveal choice oil interview leader act. Throughout Congress article interview future consider movie. Join recently boy use employee.',\n",
       "       'Quite draw network reduce police issue. Deal book consumer get performance. Another movie situation air dinner art.',\n",
       "       'Money marriage heavy name. Service room condition eat order. Reason situation statement by require. Section area true sometimes.',\n",
       "       'Should me we worker kid decide. Yes memory think prevent.',\n",
       "       'Turn item rather result theory. Top they which or home phone.',\n",
       "       'Foot since process. Nearly man him. Central them all yeah management expert. Receive stand church character oil remain. Help sit tonight off management few budget.',\n",
       "       'When explain student. You choose nature sense including put. Marriage responsibility with check toward assume. Better stand something relate event knowledge away. Measure middle recent.',\n",
       "       'Lead leader see politics. Minute attack detail painting tonight have mention. To want western coach form tend role. Similar fact explain miss personal. Television skin speech feeling.',\n",
       "       'Fast eight measure service point hot. Reflect north step born magazine national suddenly. Piece clearly weight security order. Nice others behavior home. Enter control speak student.',\n",
       "       'Thousand protect property pick. Cause painting little health with environmental. His option memory become war. Decade old add ask Republican.',\n",
       "       'Lead explain cause population view. Should task someone still. Alone manage music office.',\n",
       "       'Certain serve option specific need stay bed. Cell most serious buy gun great it. Class school toward account education. Fire head public work.',\n",
       "       'Threat computer evidence easy much stuff provide. Drug away true generation animal book raise.',\n",
       "       'Such give model option oil. Right although avoid wide trip. Computer least federal Republican speak glass. Around similar grow upon its.',\n",
       "       'Green let ball authority high yeah figure. Across sport kind.',\n",
       "       'Free finally several evening happen your power. Always without professor interview. Fact right assume run citizen process compare become. Onto from particularly walk by grow argue. Worry suddenly either you nature right best.',\n",
       "       'Agreement us increase every. Seem offer sell positive together morning a. Hit check serve hour these wish.',\n",
       "       'Day only of market. A water face life special responsibility minute.',\n",
       "       'Perhaps opportunity news site hotel during participant certainly. Relate close fall realize size particularly rock. Do response citizen agree option. Result data tax. Speak science image project.',\n",
       "       'Attack including race like. South herself thank knowledge since. Couple nature true opportunity unit style.',\n",
       "       'Not cost past program body. Sort reason believe truth tonight. Give trial choice too. My especially bag fine hotel each school. Detail now mention information create.',\n",
       "       'Argue age better hard under themselves. Professor happy positive themselves not. List occur worry here around art soon trial. Five only back Mrs.',\n",
       "       'Yard federal last budget hand local section. Continue like sell play popular show gas ahead.',\n",
       "       'Must authority increase according which ago. Sing politics low ten month which hold detail. Feel fight think economic toward commercial baby. Election final leave other well huge bar.',\n",
       "       'Heavy these visit practice. Article accept big coach official remember. Degree reduce stage.',\n",
       "       'Soon house thousand side dinner visit. Game world not let.',\n",
       "       'Story clear soldier project. Worry enjoy election nature heart six office. Old success one mouth chair. Low Congress investment turn.',\n",
       "       'Easy than order two yourself price member positive. Recent factor year. Discussion nearly attack arm put whether.',\n",
       "       'Performance her this recognize. Technology student however particular professor. Seem ago attorney every through forward.',\n",
       "       'Important environment check. Grow cover outside ball serve agency development himself.',\n",
       "       'Very resource store less I simply. Car this including product attention care weight. Television his reality friend.',\n",
       "       'Court expect six vote much time source. Event why major television thing try. Especially require might party let financial. Color leave fine red. Rise old during really loss cut.',\n",
       "       'Provide out resource whom ask machine. Cause new off activity. Parent per pressure expect government. Model herself her evening. Item meet life because.',\n",
       "       'Detail go class high good. Economy former section let. Side prepare production order hard building. Without model challenge sell social.',\n",
       "       'Exist character thank. Need majority center energy place late war. Treat keep single other perhaps. Serious week whom deep policy sister. Second center spring night character heavy.',\n",
       "       'Clear teacher born. Age call head carry war magazine activity give. Factor economic but management room visit. Worry partner rather economy.',\n",
       "       'Deal view everyone quite case quite well pressure. Discover receive eye tough. Save hand other color campaign collection care. Agency involve certain whose management outside.',\n",
       "       'Guess deep set military trip raise. Participant left tough attention population. Through hear fight tax note forget poor. Trial same quality respond difficult hour soldier. Pretty see their live cause history.',\n",
       "       'Many police bed focus begin. Majority college seat first benefit. Kitchen food think unit. Skin may maintain beautiful table performance.',\n",
       "       'Court painting inside truth director how sell. Inside individual whom through.',\n",
       "       'Blue already piece really. Scientist sound low media.',\n",
       "       'Yard relationship eight us. Other forward goal billion political popular case. Town together responsibility home live student. Result model guess suggest top line. Foot wear suffer whom stay.',\n",
       "       'Past box off person. Out believe raise letter though. Skin determine say not.',\n",
       "       'Success quickly second stage trial through example parent. Economy dark sing doctor between unit lead. Range painting major too themselves participant see television.',\n",
       "       'Decide leg once quality teach general. Later through example cause note present. Because seem ball. Morning lose between itself American explain always market.',\n",
       "       'Own show reality bank determine reason yourself. Guess job sense wind very. Blue check very. Pm create professional bank very.',\n",
       "       'Mr real discussion parent. Probably world value toward on study responsibility.',\n",
       "       'Serious service accept. Speech mean beat consider. Employee four development customer against. Myself each how job thought. Sense inside direction look deal finish.',\n",
       "       'Hit approach eye enter prevent discuss others phone. Firm forget dream opportunity decade and common three. Job feel piece PM religious south though. Enough floor join account direction carry.',\n",
       "       'Early sometimes card. Political coach off son. Community worker keep election mean be. Recognize dinner can threat late speak seven. Author best movement maintain space.',\n",
       "       'Food court agent soldier anything phone property have. Month scene focus discuss themselves himself professional.',\n",
       "       'Doctor professional as country play Mr public worker. Tax author manage second. Box system win bar analysis. Soldier happy me.',\n",
       "       'Sister bar identify their someone miss page leader. Former avoid bar serve second. Force key throughout consumer. Another without teacher involve.',\n",
       "       'General sign answer clearly modern material answer. Hope seem scene college capital lose current or.',\n",
       "       'Agent item term decision matter stand during. Score your anyone prepare from establish community.',\n",
       "       'Country miss forward book Democrat answer country. Foreign site marriage air chair. Local series movement listen.',\n",
       "       'Produce born speech city difference something. Entire statement finish.',\n",
       "       'Already professor away move mind example many. Book model purpose upon. Campaign compare read. Until while hope concern garden loss break. Put question full agreement each actually.',\n",
       "       'Best about better include third surface church. Beyond tough white cold choice. Today yourself nearly final response worker should. Dream center visit hard. Size drive teach hundred responsibility quality short service.',\n",
       "       'Tv wind put admit feel. Describe reveal lose stay occur model. Far energy situation indicate evening. Campaign defense that dog poor agreement bag.',\n",
       "       'Wonder face place choose onto difficult bank position. Among understand best.',\n",
       "       'Natural production again future discuss since one prevent. Night mention our often. Leg send stuff ready behavior.',\n",
       "       'Creative Web Developer with a passion for building responsive and user-friendly web applications. Proficient in HTML, CSS, JavaScript, and front-end frameworks like React.',\n",
       "       'Analytical Data Scientist with a passion for machine learning, statistical analysis, and data-driven decision making. Experienced with Python, R, and modern data visualization tools.',\n",
       "       'Early evening wish maintain such have myself. Game else east accept during. Leg high short they you light. None major research employee improve.',\n",
       "       'Media safe product region assume author PM. Bring old yourself herself when peace eat star. Until decide which how travel expect. Situation near hot parent those word. Fly serious clear pattern data.',\n",
       "       'Local weight course single bad find. Nor able conference free relate. Place anything let without likely machine foreign social. Already well town magazine bill. White road network likely per for.',\n",
       "       'Attention detail measure season organization choose. Significant that development attention surface street. Carry bar issue provide.',\n",
       "       'Just agent detail strategy word. Effect body full wind new yeah season. For suggest color material our goal. Beat southern city peace.',\n",
       "       'Guess although why relationship policy until put long. Worry right leave doctor employee. Save brother trouble hour buy sing. Buy PM administration.',\n",
       "       'Rock term break apply. Real computer serve enjoy wonder a. Exist doctor success little daughter option choose job.',\n",
       "       'Can right herself table now. Page house exactly dinner second. Skin room to it.',\n",
       "       'Room out determine. Inside draw cause woman seek Mrs simply.',\n",
       "       'Mouth trip region international school treat because accept. Lay sound add. Outside again fast how.',\n",
       "       'Similar east wish couple trouble employee future. Paper suddenly our century likely. Quite us admit wind.',\n",
       "       'Return decision specific fly drug popular still. Support system TV alone young body draw. Bit season agree amount. Beat movie apply artist affect either. City one hospital although modern.',\n",
       "       'Deep fund speech organization. Threat really outside property enter different. Husband court response truth role no. Out entire room movie window.',\n",
       "       'Strategy far second whatever stage message president pick. Than knowledge number reduce clear. Rich trial quickly three thank. Land company take station right.',\n",
       "       'Manage civil ten health. Scientist realize goal dark.',\n",
       "       'Determine recent create gun station worry. Him society amount early. Rule read thousand kitchen reach anyone. As line mission life go.',\n",
       "       'Degree knowledge despite grow poor character west. Bit six season staff others hour. Can present city. Media structure beyond worry.',\n",
       "       'Reach group guy sound population data. Six close various enough. Call create deep into until answer night. Huge agreement project same moment local tax I.',\n",
       "       'Because speak owner situation itself. Size television past four several evidence economic. Opportunity none together herself guess image.',\n",
       "       'Reality your plant particularly good explain. High support drop. Hit three group people apply. Career office wind government agree professor.',\n",
       "       'As sometimes eat to. Process nor back science three air as few. Task clearly oil tend American little.',\n",
       "       'Attention election fly difficult director. Bar particular quickly option join. Investment no husband cut standard.',\n",
       "       'Hold particularly international he listen. Eye sort serve my most. Consumer would these career opportunity position theory talk. Choose find oil employee.',\n",
       "       'Wish admit east still million. Accept action computer huge local fact better. Down example find four machine drop. Bank vote ago teach team possible brother. Smile strong computer thousand enter moment federal billion.',\n",
       "       'Security base lose environment west reveal. Total company trouble ready late everything trial. Appear clear instead. Popular situation tell record single by southern.',\n",
       "       'Safe also anything beyond sister million customer. Role other year member. Item effort responsibility present across want court image.',\n",
       "       'Remain avoid outside beyond month child. Pressure whose stock hard throughout. Development identify truth fine.',\n",
       "       'Important own scientist perform article. Yes notice road drug. Set father around piece enjoy. Wait majority safe whom century main. Level science play would executive like.',\n",
       "       'Begin particular thus. Wall protect prepare leave although time. Quickly score while.',\n",
       "       'Thousand field real would image talk. Sea technology enough it natural key.',\n",
       "       'Training special consider peace according size view. Serious small final list why college. Color produce note assume.',\n",
       "       'Change place today force under. Hospital professional no seven agree forward list around. Goal building stock call.',\n",
       "       'Discussion nothing member hour idea herself five. Education born training never above next former. Far pull necessary child. This mother hot response effect soldier difficult.',\n",
       "       'Even attention senior deal positive. As stop million will knowledge. Analysis about like may safe. Machine smile stage unit.',\n",
       "       'Main buy growth assume identify how. Instead control these only hair important. West range international clearly grow approach sound.',\n",
       "       'Buy statement but. Traditional main hundred way. Game beautiful bank find up for drive husband. Cold box behind phone floor speech me throw.',\n",
       "       'Capital if another. Join those individual during her its PM thus.',\n",
       "       'Man American school. Meeting minute candidate section direction rock reveal. Lose however make. Son build small husband if certain.',\n",
       "       'Him draw nothing person during threat yard. Area them dark character. Old somebody drop.',\n",
       "       'Face college wear yard firm real leader. Seven return peace positive very unit line might. Issue threat stop go air rule million. Hot nature quite although become represent government.',\n",
       "       'Seat employee member TV. Pressure during action lot realize chair son career.',\n",
       "       'Decade it exactly kind scene movement commercial simply. Include bed safe. West have heavy member city. Hear positive director growth.',\n",
       "       'Threat owner among product herself animal. Raise car attention. Performance real trial. Page guess more.',\n",
       "       'Move level crime local court shoulder. Along amount interesting argue better trouble investment nature. Impact nor media event choice. Ready reveal hit strong.',\n",
       "       'Analysis political particular discuss particularly. Become create put middle effort home. Science music go capital among administration campaign mother. East skill Mrs mouth skin.',\n",
       "       'Staff however discussion goal only. Apply campaign station enter. Lose poor part through sometimes.',\n",
       "       'Stand claim lawyer for box across benefit. Provide away two any official. Street manage health control pattern store. Answer material realize very interview staff article.',\n",
       "       'According security successful school heavy word ten. Hold manager should ask source. Allow plant security cultural policy hope bring.',\n",
       "       'Billion general modern amount fish change color. Sound ready hold. Serve power prepare medical page meet ok. Stop trade institution others behavior place.',\n",
       "       'Wide board team blood skill usually. Young toward career foreign.',\n",
       "       'Course seek sort happen physical none information program. From teacher stage through believe same bag. Actually drop perhaps your everything. Long work identify art.',\n",
       "       'Exactly already general particularly enjoy research participant. Today usually cut summer. Significant product population response second raise especially management. Experience point civil.',\n",
       "       'Need site behavior hour. Medical into have if stuff pretty including between. Theory relationship produce team realize of. Only machine behavior performance direction true plant. Base building picture owner thank both if.',\n",
       "       'Church during soon suggest. Write according work protect. Author keep choose since however.',\n",
       "       'Nation near appear cold since traditional. Very small exactly occur rise. Pm establish hand research prevent her small. Certainly language return establish perform. Pay mean name daughter.',\n",
       "       'Large daughter charge have scientist. Respond difficult identify threat water argue. Old game research lot. Ahead service a speak imagine voice room about. Very third mind number many top hand remain.',\n",
       "       'Begin gun phone clearly be American. Method force production agency from admit. Poor family page chair message about. Natural mouth food responsibility watch road light. Fact control three animal lose throw half.',\n",
       "       'Forget east common social industry through last. Perform worry market entire where who. Also write finish plant issue.',\n",
       "       'No teach positive half senior herself. Choose great country appear new. Forward young impact arrive.',\n",
       "       'Important two recognize she tell year. School bad pretty. Risk few sit professor. Happen hard case fill. Different try think federal.',\n",
       "       'Over ready responsibility base. Western future apply central summer purpose. Both should how reality. Certainly development simply mouth heart drive accept TV.',\n",
       "       'Ten administration become story during practice involve. Also wait far fall quite cut talk lead. Benefit less hear day charge event visit still. With top first.',\n",
       "       'May later morning decade. Drive I near a lawyer success. Off son while computer too service commercial.',\n",
       "       'Accept support shoulder. Political I easy similar. Risk easy artist after energy force.',\n",
       "       'Trade us hot author strong girl. If check else budget degree such structure respond.',\n",
       "       'Sort get campaign. Lay hit almost late. Table carry piece democratic again. Power model event bad. Consumer character kind involve hair man could.',\n",
       "       'Leg issue or father teacher degree. And effect bed religious almost local attention. Chair think may without.',\n",
       "       'After nice fill and can election interview. Next business thing manage door. Simple our make final plan apply network themselves.',\n",
       "       'Religious town so computer. New season issue cover. Within firm idea likely. Building push statement body must air.',\n",
       "       'Lot body little idea hear bank. Thus vote line too reality. Force center road course. Down card yard yourself reduce pull smile.',\n",
       "       'Physical light player ball. Pull sound present idea why environmental. Later turn debate candidate security contain positive. Man mission network serve.',\n",
       "       'Fire ask piece number fall. Who affect what reveal. Back actually you good.',\n",
       "       'Character child suggest field couple. Prove fine pattern democratic black. Chance seven despite we. Much black sort. Couple table born service too leader.',\n",
       "       'Political record information soon she simple against memory. Perhaps take see want land response remember.',\n",
       "       'Reality star risk PM. Red serious individual production. Fall public training respond try half. Herself voice power skill level nor lot.',\n",
       "       'Happen memory dog during task. Organization ahead camera industry stop.',\n",
       "       'Almost public local health mind. Ever conference anything knowledge yet trade pretty.',\n",
       "       'Until huge how hard both relate yourself. Piece true drop character bar. Better institution bill play beautiful show.',\n",
       "       'Leave despite available. Difficult help service suggest mother surface. Feeling who wind city.',\n",
       "       'Them wind responsibility born majority positive. Fast at environmental catch medical near. Box article else treatment somebody single news water.',\n",
       "       'Democratic hotel past population cover marriage. Which share how here. Stop ground apply lot treatment action choose. Drop since sense recently. Listen rise whatever dream writer land.',\n",
       "       'Heart oil even institution reflect early make. Cup know maintain strategy low. Return class increase agency prove water effort. Sing bag certainly capital laugh.',\n",
       "       'Finally power keep guy describe. Major teacher the appear experience loss end. Music care water reflect just bank. About especially public leader develop finally all.',\n",
       "       'Money trouble to. Foreign station behavior animal despite. Change out especially standard. Author raise really note.',\n",
       "       'Like join relate operation. No benefit against cost allow couple. Lawyer more degree rest first.',\n",
       "       'Our would everyone. Model name both bill account against growth same.',\n",
       "       'Hot thousand in window. Medical around age behind free possible billion. View room project born.',\n",
       "       'Seat everyone family week less prove or. Green total drive money. Draw enter around fly. Special during painting hit.',\n",
       "       'Occur probably American. Miss size section term once finally wife fact. Money else possible conference house between. Issue order and support ten bag.',\n",
       "       'Hard learn than bank there here laugh. Stay bring should phone there.',\n",
       "       'Product benefit me blue force. Writer husband cold he. East include garden agreement. Which test citizen individual treatment walk.',\n",
       "       'Half laugh senior outside. Hear always today customer fund method condition significant. Later network be itself capital however house. Increase red series store job animal notice.',\n",
       "       'Water personal kid standard bad game range. Yeah system admit tough paper. Interesting just focus heart.',\n",
       "       'Reflect car agreement score clearly then reveal. Gas dinner beautiful. Economy really discussion smile education cultural. Smile blue number upon begin degree yard. Investment nor difference face.',\n",
       "       'Term attorney still. Air task former street. Drug hot law quality. Yourself improve order movie computer.',\n",
       "       'Benefit success machine debate season site democratic. Air lay example material read well. Sea every move court bring. Officer drop his computer prevent car effect. Join authority almost detail budget doctor adult.',\n",
       "       'Management always last note stock significant. Pass company bring lay. Market decision deep activity whether policy summer hand.',\n",
       "       'Pm series thousand customer action. Only phone near sit provide list. Beyond station consider. Pull not pass local event.',\n",
       "       'And impact design likely Democrat carry of. Apply than her police up character. Despite skin explain north blue. Great agreement bank.',\n",
       "       'City leave close after leader rock. Best feeling decide blue similar. Sign read player space garden including eye. Argue movie full as. Tree sit mother together politics green.',\n",
       "       'AI Engineer with expertise in artificial intelligence, machine learning, and deep learning. Skilled in Python, TensorFlow, and developing AI-powered applications.',\n",
       "       'Data Engineer with a focus on ETL processes, data pipelines, and data warehousing. Skilled in Python, SQL, and big data technologies like Hadoop and Spark.',\n",
       "       'MLOps Engineer with a strong background in machine learning model deployment, monitoring, and optimization. Skilled in Docker, Kubernetes, and CI/CD pipelines.',\n",
       "       'Passionate Deep Learning Engineer with expertise in neural network design, training, and optimization. Skilled in TensorFlow, PyTorch, and computer vision.',\n",
       "       'Computer Vision Engineer specializing in image processing, object detection, and video analytics. Experienced in OpenCV, TensorFlow, and deep learning models.',\n",
       "       'NLP Engineer with experience in natural language processing, text classification, and sentiment analysis. Skilled in Python, TensorFlow, and NLP libraries like NLTK and spaCy.',\n",
       "       'Creative iOS Developer with a focus on building elegant and user-friendly applications for Apple devices. Proficient in Swift, Xcode, and iOS SDK.',\n",
       "       'Innovative Android Developer with a passion for mobile app development and user experience design. Skilled in Java, Kotlin, and Android Studio.',\n",
       "       'Creative Mobile Developer specializing in iOS and Android app development. Proficient in Swift, Java, and React Native, with a focus on user-centric design principles.',\n",
       "       'React Native Developer specializing in cross-platform mobile app development. Proficient in React, JavaScript, and building high-performance mobile applications.',\n",
       "       'Flutter Developer specializing in mobile app development and user experience design. Skilled in Dart, Flutter SDK, and cross-platform development.',\n",
       "       'Site Reliability Engineer with expertise in maintaining high-availability systems and automating infrastructure. Skilled in Docker, Kubernetes, and cloud services.',\n",
       "       'Systems Engineer with a focus on designing and optimizing complex systems for performance and scalability. Skilled in Python, Linux, and system architecture.',\n",
       "       'Infrastructure Engineer specializing in cloud infrastructure design and management. Proficient in AWS, Azure, and infrastructure as code tools like Terraform.',\n",
       "       'Kubernetes Engineer with experience in container orchestration and managing Kubernetes clusters. Skilled in Docker, Kubernetes, and cloud services.',\n",
       "       'Platform Engineer with expertise in designing and maintaining scalable platforms for web applications. Skilled in Docker, Kubernetes, and cloud infrastructure.',\n",
       "       'Dedicated Security Engineer with a strong background in cybersecurity, risk assessment, and incident response. Skilled in penetration testing and security audits.',\n",
       "       'Cybersecurity Engineer with a strong background in network security, threat detection, and incident response. Skilled in penetration testing and security audits.',\n",
       "       'Information Security Analyst specializing in security assessments, risk management, and compliance. Skilled in cybersecurity tools and incident response.',\n",
       "       'Penetration Tester with experience in ethical hacking, vulnerability assessments, and security audits. Skilled in network security and penetration testing tools.',\n",
       "       'Database Administrator skilled in optimizing SQL queries and maintaining database health through regular backups and maintenance.',\n",
       "       'Number benefit any reality carry. Late final field allow. Call home image seven buy like my green. Marriage customer wide home crime little. Offer also product show.',\n",
       "       'Send world individual. Serve attorney listen bar themselves seven this. Notice Republican sing friend might movement.',\n",
       "       'Green skin affect speech. Bed provide such yes.',\n",
       "       'Finally themselves approach people suffer. Event allow factor pay take beat air. Power nearly majority nature when close and.',\n",
       "       'Process result hair else. Capital worker step development perform left some. Good up party throughout particularly. Than purpose beat research win increase. Interest recent hold.',\n",
       "       'Within treat send establish thus financial. Thing both so author total. Event term last.',\n",
       "       'Both cut husband business glass matter. Data experience test. You today area size. With simple resource blue. Quality charge fly treatment answer tough skin.',\n",
       "       'Ahead trouble listen next. Former big almost recognize. We fish get.',\n",
       "       'Month section west ten present say. Great possible above job big.',\n",
       "       'Subject image without discussion view Democrat. Family measure act specific whose many. Develop former air month.',\n",
       "       'Bring employee capital will boy student respond court. Sea natural gun also art building radio. Skill stage many your indeed. Piece woman can red campaign.',\n",
       "       'Common Congress international human best chair until. Nation foreign center one. Meeting add perform middle brother.',\n",
       "       'Course perform fear act country perhaps plan security. Recent single phone yes spend. Sister center old growth Republican situation meet.',\n",
       "       'Sing yourself fish project since Mr expect. True east wish quite.',\n",
       "       'Live from skin activity include generation. Business him participant nation. Enter together instead forward.',\n",
       "       'Guess reflect appear. Consider between whether recent.',\n",
       "       'Month return break million hotel. Part talk minute indicate young form someone. Force moment cell activity seven agent. Same fear maybe.',\n",
       "       'Director point former factor. Similar remain relate quite amount well. Author grow next former each far. Of if history type life half either.',\n",
       "       'Result value face recent. Director lose thus unit summer practice anyone. Compare ago feel hundred. Series allow attention wonder. Standard data believe teacher.',\n",
       "       'Allow course rock end. Mrs color author task. Already career quite a position candidate read. Them son be let station him entire.',\n",
       "       'Before health move the who strong realize. Together sister individual.',\n",
       "       'Prepare star might debate become whose picture. Land look everyone push state morning produce ever. Range treat list college against dog. Amount end reason spring forget.',\n",
       "       'Blood experience describe TV great six brother. Anyone run for society story under.',\n",
       "       'Station discussion total somebody son assume third. Certainly however view. Today country window southern development it will to.',\n",
       "       'Write write loss century project. Almost response movement later ball. Quickly institution want play effect road weight. Head analysis think ahead.',\n",
       "       'Night thus however treatment note test sell. Bank can lead.',\n",
       "       'Tv above try his participant story seem data. Less develop truth girl mind change born. Finally whom throw pretty financial.',\n",
       "       'Picture director shake Mr defense leave. It respond avoid beat from oil car seem. Foreign medical then article build unit to. Whether own mother by happen. Power can office.',\n",
       "       'Positive subject standard record together debate writer economic. Hair sit over sea project fight. Peace cultural science door her film rich eye.',\n",
       "       'Animal your condition human compare create. Almost design Democrat answer. Year will rule which happen. Force wall spend director. Example leg face their green event Mr.',\n",
       "       'Fire position summer boy life ago. Small must spend hotel draw. Technology use dark. Alone seat attention war skill.',\n",
       "       'Including painting network firm street. Summer all staff leader. Door bed do show. Where news perform his would water TV. Ready stage share would month military.',\n",
       "       'Finally several six lay discuss value. Spend throw everyone draw. Best lot man hospital. Beautiful available someone trouble wait.',\n",
       "       'Case south table family clearly. Along into paper security Mrs child. Son expert soon manage alone factor. Example school true marriage.',\n",
       "       'Order available beyond current. Visit stand thank state significant. Ready dream natural while happen. Its generation television. Technology clearly recent south provide seat lawyer.',\n",
       "       'Because practice any because measure. Medical have really community value. Economy such perform. Environmental herself statement raise better reality step.',\n",
       "       'Action development force it white wear. Floor drive weight write. Receive also into everybody kitchen approach. Central political six resource break effect final. Life church himself.',\n",
       "       'Fill agreement special sing when appear participant. Themselves eat country. Right sense member rate once performance.',\n",
       "       'Court cause poor owner high green. Theory so lose such bring feel remember admit. Anyone entire prevent per project. Several respond shoulder short part adult. Firm place pretty general happen.',\n",
       "       'Myself pressure get at enough. Open create character later. Radio another store they. Once future market size. Training some prevent voice gun spend expert.',\n",
       "       'Media she any threat. Easy likely finish still. Nice true establish who west training. Rather eight sea.',\n",
       "       'Choice able we party. Experience rate down effort health win. Worry which window.',\n",
       "       'Ask maybe somebody staff he. Offer rate million task. Through must southern relationship hour.',\n",
       "       'Hope course production agent begin. Choose fear fish similar production fast fact. Health store let theory sit. Realize everybody which section of follow. Job talk job summer.',\n",
       "       'Product certainly order few store color figure. Man him very trade shoulder fast and. East station tree see. Low happen either method. Teacher try those between.',\n",
       "       'Mrs entire join site dog very. Bag campaign consider remember tree. Cell end street weight relationship quality. Whose citizen director how.',\n",
       "       'Read decision yet deep arrive. Foreign ball personal we.',\n",
       "       'Rich sing significant young director type another. All direction stock bill citizen local little. Southern almost factor international measure research. Bring scientist time her particularly manager. Without hold person entire issue political.',\n",
       "       'Remain brother I read begin space. Style deep check thus single hold rest job. Despite mission citizen assume. Star for night smile evening wish. Task pattern sign attention book.',\n",
       "       'International man note use energy. Pull bar candidate stuff yes. Turn community item support pattern.',\n",
       "       'Yes consider candidate technology card opportunity. Themselves create president. Success over space individual husband fire.',\n",
       "       'Practice policy about development phone. Case knowledge weight. Within walk west pattern range until.',\n",
       "       'Matter article market idea parent. Audience you almost form measure good culture.',\n",
       "       'Red interest fill whose. No question newspaper arrive father. Shoulder yourself send commercial actually avoid level.',\n",
       "       'Plant nature sense as for. Fund important recently grow sport according identify. Peace recent record the perhaps trip. Blue letter identify before.',\n",
       "       'Mind management fact structure even without art poor. Speech question way something indicate area.',\n",
       "       'Summer answer our view item decide. Service science write firm entire. Another lot consider.',\n",
       "       'Rest positive experience many foot. Day suggest chance. Sound either citizen here contain. Toward improve individual house however institution toward option.',\n",
       "       'Individual baby simply view international grow newspaper different. Health speech good on land. Might soldier ever air would person day.',\n",
       "       'Space town take government them at. Only apply increase affect.',\n",
       "       'Would even sister wish decade. Onto arrive similar provide education ahead heavy seven. Build happen focus meet friend issue easy create. History than us decade.',\n",
       "       'Fact job eye near partner development begin. Down less economic painting.',\n",
       "       'Necessary step assume city. Today against over. Above even road game want. Sometimes any song black audience.',\n",
       "       'Point customer professional able level why. Recognize onto market maybe tend teacher. Clearly worry include.',\n",
       "       'Break note cost wish receive conference expect. Worry necessary opportunity movement understand. Phone hot morning message chair.',\n",
       "       'Green nothing go nothing blue mission allow century. That news its knowledge. Finally per ten form election. Act thank really seat generation growth able.',\n",
       "       'Serve put pass responsibility. Identify mean same strategy new really. Kid think above wife let brother.',\n",
       "       'Tree loss do mention. Newspaper community care themselves partner investment.',\n",
       "       'Man people girl change. Dark easy pretty management that rise. Program north other shoulder together population say. Before there but culture protect point must.',\n",
       "       'Notice rate fight enter. Although buy buy maintain hit forget. Choice pretty bed body.',\n",
       "       'Son go increase they. Answer participant increase behind interview. Various local edge last. May recently Republican sit tonight treatment. Care artist both nature test huge.',\n",
       "       'Outside very tax into. Fact its true leave leg. Our its until stock.',\n",
       "       'North story decision. Everybody early spend. Level well foot difference might.',\n",
       "       'Daughter people condition school adult win glass. Common hot rock work around girl. Involve to tonight inside agreement reach fall.',\n",
       "       'Laugh last politics assume hundred late. Energy quite adult learn. Office senior wonder fly somebody fish.',\n",
       "       'Husband quality reflect. Available exactly rather threat attorney.',\n",
       "       'Than movement occur meeting oil. Country safe like letter western. Rise choose maybe friend song final.',\n",
       "       'Else throw population. Third present price read. Process memory maintain leader affect. Note house form reduce spend describe according keep.',\n",
       "       'Seek wife action that win shoulder. Most avoid western behind past its. Bill near more firm produce them. Side individual social.',\n",
       "       'Push part themselves agreement call would. Main there pretty become side behind similar. Difference water say really leave them. Prevent four plant company history father financial study.',\n",
       "       'Whole actually conference two hospital be technology. Rule story one. Recognize result form politics tree exactly particular.',\n",
       "       'Site the and middle. Born data see. Agree keep alone teacher sister bar.',\n",
       "       'Central TV check trouble factor may later just. Challenge bed official dinner offer like second easy. Success three last type Democrat audience. Discussion number leave perhaps thank customer.',\n",
       "       'Person but could raise allow. One machine politics floor. Late growth than consider.',\n",
       "       'Issue result perform. Nation once sing fear family market exist. Unit employee time. Money consider plant force agency goal couple. Will public education quite type race glass under.',\n",
       "       'Story one guess conference whose full article. Play air network pretty expect. Detail Republican leg fast because scientist where situation. Effort movie director face project.',\n",
       "       'Next whole fall. Laugh answer conference above.',\n",
       "       'Spring Mrs challenge baby activity gun else brother. Dinner money stock age fund energy.',\n",
       "       'Court window prove finish kitchen land person. Might middle same next indicate represent.',\n",
       "       'Case term little likely. Within hand forward letter entire management. News use foot admit.',\n",
       "       'Public order site brother defense hot action. Gun business line common big never your. Book dog too across raise inside. Gun mention speech shoulder.',\n",
       "       'At parent simply big option practice than child. Range job performance put card. Discuss world resource skill against teach station picture.',\n",
       "       'Party according develop. Summer exactly idea. Even economic make material. Big ago clear skill. Attorney PM produce say hair.',\n",
       "       'Television north so drug author everybody affect black. Away available star turn reflect final source. Something sit main ask crime. Trial fund card begin current enjoy heart. Race certain direction on total interview.',\n",
       "       'Argue day here. Become ahead mouth hope hard from. Expert unit son particular finally rate bring. Range though though lawyer city use several four.',\n",
       "       'Behind stay analysis reflect bar leader. Choose civil suddenly generation bring involve. Rich democratic matter himself beautiful.',\n",
       "       'Indeed training step radio here who. Expect inside public even fire sport day. Work stock city against travel.',\n",
       "       'Draw two owner. Black employee parent. Simple term half democratic goal.',\n",
       "       'Animal indeed law house threat society. Work thus cultural move. School wall eat with. Bad conference still south.',\n",
       "       'Different authority management indicate. Before open hot top type. Young onto you than. Suggest law happy above whole magazine news degree.',\n",
       "       'SQL Developer specializing in writing optimized SQL queries and database management. Skilled in database design, normalization, and performance tuning.',\n",
       "       'NoSQL Developer with experience in managing and scaling NoSQL databases like MongoDB and DynamoDB. Proficient in JavaScript and database optimization.',\n",
       "       'Blockchain Developer with experience in smart contract development and integration of blockchain technologies in decentralized applications.',\n",
       "       'Embedded Systems Engineer with experience in designing and developing embedded solutions for IoT devices and microcontrollers.',\n",
       "       'Quality Assurance Engineer with extensive experience in testing web applications, identifying bugs, and ensuring software quality. Skilled in test automation and bug tracking tools.',\n",
       "       'Automation Engineer with expertise in designing and implementing automated test scripts and CI/CD pipelines. Skilled in Python, Selenium, and test automation frameworks.',\n",
       "       'Technical Architect with a focus on designing complex software systems and defining technical requirements. Skilled in cloud architecture and system integration.',\n",
       "       'Strategic Solutions Architect with experience in large-scale enterprise system design and implementation. Skilled in cloud architecture and complex system integration.'],\n",
       "      dtype=object)"
      ]
     },
     "execution_count": 784,
     "metadata": {},
     "output_type": "execute_result"
    }
   ],
   "source": [
    "candidates[\"summary\"].unique()"
   ]
  },
  {
   "cell_type": "markdown",
   "metadata": {},
   "source": [
    "**Removing rows where any of the columns provided has unwanted_values**"
   ]
  },
  {
   "cell_type": "code",
   "execution_count": 785,
   "metadata": {},
   "outputs": [],
   "source": [
    "columns_to_clean = ['name', 'email', 'summary','phone','city','country','remote_preference','linkedin','github']\n",
    "unwanted_values = ['Unknown', 'Not Provided', '','no']\n",
    "cleaned_candidates = candidates[~candidates[columns_to_clean].isin(unwanted_values).any(axis=1)]"
   ]
  },
  {
   "cell_type": "code",
   "execution_count": 786,
   "metadata": {},
   "outputs": [
    {
     "data": {
      "text/html": [
       "<div>\n",
       "<style scoped>\n",
       "    .dataframe tbody tr th:only-of-type {\n",
       "        vertical-align: middle;\n",
       "    }\n",
       "\n",
       "    .dataframe tbody tr th {\n",
       "        vertical-align: top;\n",
       "    }\n",
       "\n",
       "    .dataframe thead th {\n",
       "        text-align: right;\n",
       "    }\n",
       "</style>\n",
       "<table border=\"1\" class=\"dataframe\">\n",
       "  <thead>\n",
       "    <tr style=\"text-align: right;\">\n",
       "      <th></th>\n",
       "      <th>name</th>\n",
       "      <th>email</th>\n",
       "      <th>phone</th>\n",
       "      <th>city</th>\n",
       "      <th>country</th>\n",
       "      <th>remote_preference</th>\n",
       "      <th>summary</th>\n",
       "      <th>linkedin</th>\n",
       "      <th>github</th>\n",
       "    </tr>\n",
       "  </thead>\n",
       "  <tbody>\n",
       "    <tr>\n",
       "      <th>16</th>\n",
       "      <td>Artem Sliusarenko</td>\n",
       "      <td>artem.sliusarenko@city.ac.uk</td>\n",
       "      <td>+44 7123456789</td>\n",
       "      <td>London</td>\n",
       "      <td>United Kingdom</td>\n",
       "      <td>hybrid</td>\n",
       "      <td>Final year Computer Science student at City, U...</td>\n",
       "      <td>linkedin.com/in/artem-sliusarenko</td>\n",
       "      <td>github.com/artemslius</td>\n",
       "    </tr>\n",
       "    <tr>\n",
       "      <th>20</th>\n",
       "      <td>Artem Sliusarenko</td>\n",
       "      <td>artem.sliusarenko@city.ac.uk</td>\n",
       "      <td>+44 7123456789</td>\n",
       "      <td>London</td>\n",
       "      <td>United Kingdom</td>\n",
       "      <td>hybrid</td>\n",
       "      <td>Final year Computer Science student at City, U...</td>\n",
       "      <td>linkedin.com/in/artem-sliusarenko</td>\n",
       "      <td>github.com/artemslius</td>\n",
       "    </tr>\n",
       "    <tr>\n",
       "      <th>53</th>\n",
       "      <td>Artem Sliusarenko</td>\n",
       "      <td>artem.sliusarenko@city.ac.uk</td>\n",
       "      <td>+44 7123456789</td>\n",
       "      <td>London</td>\n",
       "      <td>United Kingdom</td>\n",
       "      <td>hybrid</td>\n",
       "      <td>Final year Computer Science student at City, U...</td>\n",
       "      <td>linkedin.com/in/artem-sliusarenko</td>\n",
       "      <td>github.com/artemslius</td>\n",
       "    </tr>\n",
       "    <tr>\n",
       "      <th>72</th>\n",
       "      <td>Artem Sliusarenko</td>\n",
       "      <td>artem.sliusarenko@city.ac.uk</td>\n",
       "      <td>+44 7123456789</td>\n",
       "      <td>London</td>\n",
       "      <td>United Kingdom</td>\n",
       "      <td>hybrid</td>\n",
       "      <td>Final year Computer Science student at City, U...</td>\n",
       "      <td>linkedin.com/in/artem-sliusarenko</td>\n",
       "      <td>github.com/artemslius</td>\n",
       "    </tr>\n",
       "    <tr>\n",
       "      <th>81</th>\n",
       "      <td>Artem Sliusarenko</td>\n",
       "      <td>artem.sliusarenko@city.ac.uk</td>\n",
       "      <td>+44 7123456789</td>\n",
       "      <td>London</td>\n",
       "      <td>United Kingdom</td>\n",
       "      <td>hybrid</td>\n",
       "      <td>Final year Computer Science student at City, U...</td>\n",
       "      <td>linkedin.com/in/artem-sliusarenko</td>\n",
       "      <td>github.com/artemslius</td>\n",
       "    </tr>\n",
       "    <tr>\n",
       "      <th>...</th>\n",
       "      <td>...</td>\n",
       "      <td>...</td>\n",
       "      <td>...</td>\n",
       "      <td>...</td>\n",
       "      <td>...</td>\n",
       "      <td>...</td>\n",
       "      <td>...</td>\n",
       "      <td>...</td>\n",
       "      <td>...</td>\n",
       "    </tr>\n",
       "    <tr>\n",
       "      <th>4812</th>\n",
       "      <td>Patricia Pratt</td>\n",
       "      <td>nthomas@example.org</td>\n",
       "      <td>+1-789-612-6930x4273</td>\n",
       "      <td>Lake Mark</td>\n",
       "      <td>India</td>\n",
       "      <td>hybrid</td>\n",
       "      <td>Strategic Solutions Architect with experience ...</td>\n",
       "      <td>linkedin.com/in/woodardryan</td>\n",
       "      <td>github.com/brandon28</td>\n",
       "    </tr>\n",
       "    <tr>\n",
       "      <th>4813</th>\n",
       "      <td>Paul Ferguson</td>\n",
       "      <td>fletcherjeremy@example.net</td>\n",
       "      <td>382.974.4937x589</td>\n",
       "      <td>West Rachael</td>\n",
       "      <td>Trinidad and Tobago</td>\n",
       "      <td>hybrid</td>\n",
       "      <td>Strategic Solutions Architect with experience ...</td>\n",
       "      <td>linkedin.com/in/ashleygonzalez</td>\n",
       "      <td>github.com/elliottcorey</td>\n",
       "    </tr>\n",
       "    <tr>\n",
       "      <th>4814</th>\n",
       "      <td>Amy Blackwell</td>\n",
       "      <td>thall@example.net</td>\n",
       "      <td>2143612884</td>\n",
       "      <td>West Samantha</td>\n",
       "      <td>Anguilla</td>\n",
       "      <td>remote</td>\n",
       "      <td>Strategic Solutions Architect with experience ...</td>\n",
       "      <td>linkedin.com/in/clifford80</td>\n",
       "      <td>github.com/angel76</td>\n",
       "    </tr>\n",
       "    <tr>\n",
       "      <th>4815</th>\n",
       "      <td>Andrew Brown</td>\n",
       "      <td>debra88@example.com</td>\n",
       "      <td>973.404.4501</td>\n",
       "      <td>South Thomasmouth</td>\n",
       "      <td>Saint Martin</td>\n",
       "      <td>onsite</td>\n",
       "      <td>Strategic Solutions Architect with experience ...</td>\n",
       "      <td>linkedin.com/in/melissa61</td>\n",
       "      <td>github.com/smithbrittney</td>\n",
       "    </tr>\n",
       "    <tr>\n",
       "      <th>4816</th>\n",
       "      <td>Mr. Aaron Lawrence IV</td>\n",
       "      <td>michael99@example.net</td>\n",
       "      <td>001-828-201-0247x7555</td>\n",
       "      <td>New Robertshire</td>\n",
       "      <td>French Southern Territories</td>\n",
       "      <td>remote</td>\n",
       "      <td>Strategic Solutions Architect with experience ...</td>\n",
       "      <td>linkedin.com/in/mcmillanjoanna</td>\n",
       "      <td>github.com/pevans</td>\n",
       "    </tr>\n",
       "  </tbody>\n",
       "</table>\n",
       "<p>4607 rows × 9 columns</p>\n",
       "</div>"
      ],
      "text/plain": [
       "                       name                         email  \\\n",
       "16        Artem Sliusarenko  artem.sliusarenko@city.ac.uk   \n",
       "20        Artem Sliusarenko  artem.sliusarenko@city.ac.uk   \n",
       "53        Artem Sliusarenko  artem.sliusarenko@city.ac.uk   \n",
       "72        Artem Sliusarenko  artem.sliusarenko@city.ac.uk   \n",
       "81        Artem Sliusarenko  artem.sliusarenko@city.ac.uk   \n",
       "...                     ...                           ...   \n",
       "4812         Patricia Pratt           nthomas@example.org   \n",
       "4813          Paul Ferguson    fletcherjeremy@example.net   \n",
       "4814          Amy Blackwell             thall@example.net   \n",
       "4815           Andrew Brown           debra88@example.com   \n",
       "4816  Mr. Aaron Lawrence IV         michael99@example.net   \n",
       "\n",
       "                      phone               city                      country  \\\n",
       "16           +44 7123456789             London               United Kingdom   \n",
       "20           +44 7123456789             London               United Kingdom   \n",
       "53           +44 7123456789             London               United Kingdom   \n",
       "72           +44 7123456789             London               United Kingdom   \n",
       "81           +44 7123456789             London               United Kingdom   \n",
       "...                     ...                ...                          ...   \n",
       "4812   +1-789-612-6930x4273          Lake Mark                        India   \n",
       "4813       382.974.4937x589       West Rachael          Trinidad and Tobago   \n",
       "4814             2143612884      West Samantha                     Anguilla   \n",
       "4815           973.404.4501  South Thomasmouth                 Saint Martin   \n",
       "4816  001-828-201-0247x7555    New Robertshire  French Southern Territories   \n",
       "\n",
       "     remote_preference                                            summary  \\\n",
       "16              hybrid  Final year Computer Science student at City, U...   \n",
       "20              hybrid  Final year Computer Science student at City, U...   \n",
       "53              hybrid  Final year Computer Science student at City, U...   \n",
       "72              hybrid  Final year Computer Science student at City, U...   \n",
       "81              hybrid  Final year Computer Science student at City, U...   \n",
       "...                ...                                                ...   \n",
       "4812            hybrid  Strategic Solutions Architect with experience ...   \n",
       "4813            hybrid  Strategic Solutions Architect with experience ...   \n",
       "4814            remote  Strategic Solutions Architect with experience ...   \n",
       "4815            onsite  Strategic Solutions Architect with experience ...   \n",
       "4816            remote  Strategic Solutions Architect with experience ...   \n",
       "\n",
       "                               linkedin                    github  \n",
       "16    linkedin.com/in/artem-sliusarenko     github.com/artemslius  \n",
       "20    linkedin.com/in/artem-sliusarenko     github.com/artemslius  \n",
       "53    linkedin.com/in/artem-sliusarenko     github.com/artemslius  \n",
       "72    linkedin.com/in/artem-sliusarenko     github.com/artemslius  \n",
       "81    linkedin.com/in/artem-sliusarenko     github.com/artemslius  \n",
       "...                                 ...                       ...  \n",
       "4812        linkedin.com/in/woodardryan      github.com/brandon28  \n",
       "4813     linkedin.com/in/ashleygonzalez   github.com/elliottcorey  \n",
       "4814         linkedin.com/in/clifford80        github.com/angel76  \n",
       "4815          linkedin.com/in/melissa61  github.com/smithbrittney  \n",
       "4816     linkedin.com/in/mcmillanjoanna         github.com/pevans  \n",
       "\n",
       "[4607 rows x 9 columns]"
      ]
     },
     "execution_count": 786,
     "metadata": {},
     "output_type": "execute_result"
    }
   ],
   "source": [
    "cleaned_candidates\n"
   ]
  },
  {
   "cell_type": "markdown",
   "metadata": {},
   "source": [
    "**Getting an overview over the datasets Summary values**"
   ]
  },
  {
   "cell_type": "code",
   "execution_count": 787,
   "metadata": {},
   "outputs": [
    {
     "data": {
      "text/plain": [
       "array(['Final year Computer Science student at City, University of London with strong focus on machine learning and software engineering. Experienced in developing ML-powered applications and passionate about solving complex technical challenges.',\n",
       "       'Experienced Python Developer with a strong background in building scalable web applications and data pipelines. Proficient in Django, Flask, and RESTful API design.',\n",
       "       'Detail-oriented Java Developer specializing in backend systems and microservices architecture. Skilled in Spring Boot and designing robust enterprise solutions.',\n",
       "       'Innovative JavaScript Developer with extensive experience in front-end frameworks and building interactive user interfaces using React and Angular.',\n",
       "       'Full-Stack Developer proficient in both front-end and back-end development. Skilled in React and Django, creating complete web applications.',\n",
       "       'Backend Developer specializing in building scalable and efficient server-side applications. Skilled in Python, Django, and RESTful API design.',\n",
       "       'Office including focus fill environment. Whole physical result book. Until drug audience sometimes other surface. Sister child protect dinner record.',\n",
       "       'Resource author give security stand business build add. Result agree anything join job.',\n",
       "       'Politics respond us phone none guess run TV. Type it usually rest animal.',\n",
       "       'Argue nation stage determine lose fall. Imagine black letter health rock the. At law report hope still establish drug.',\n",
       "       'Fast book foreign. Wife form hospital may. Important authority part fill tree modern.',\n",
       "       'Ago set voice task condition teacher effort. Between increase onto go great above. Left Republican another market simple season. Democratic know sing something star should today player.',\n",
       "       'Into owner similar provide plan movie student per. Occur south country statement student really likely page. It fine miss employee including explain. Light anyone then simply me he network great. Perform song explain local long.',\n",
       "       'Assume him born truth campaign notice community director. Face work clearly parent. Along treat hope international low rock next. Appear yourself often answer individual purpose.',\n",
       "       'Bar trip special dog PM age sell. Eat as present. Pm fire individual. Condition argue physical do want school room.',\n",
       "       'Manager college adult lose. Size rich position bed carry. Deal former act.',\n",
       "       'Contain great citizen like perhaps. Young many answer court account cell build. Else will cut central.',\n",
       "       'Dark ball age late door. Investment table ever talk. Quickly without week.',\n",
       "       'Expect interview top figure drive. Almost lawyer customer everything possible. Drug lay image Mrs. Clearly cultural affect nature PM husband.',\n",
       "       'Sort threat bad meet. Tell soon tough leader. Program report paper difficult sport attention natural.',\n",
       "       'Structure then before degree. Method Democrat share another.',\n",
       "       'Church send discussion former. Thousand game room decide sport set soldier information. Yes red whatever place five.',\n",
       "       'Toward power member thank. Line money clearly nearly. Rise rock feeling treatment guy.',\n",
       "       'Claim however student situation town modern without. Recently magazine per here list every prepare. Third good wind.',\n",
       "       'Dog he continue world this spring style. Month beyond position. Ten town become at. Challenge could by now conference. Foreign environment great manage long old.',\n",
       "       'Authority build recently think. Whether do close foot. Fear value natural exist institution. Wife at window skill.',\n",
       "       'Performance leave information sea serious professor. Song small sport city political. On former office democratic wonder. Large media require size speak detail feeling.',\n",
       "       'Almost official player force determine throughout. Every mouth walk bad ask. Fill particularly newspaper. General learn author support record. Job bar parent.',\n",
       "       'Just first try agent off several. New leader data everyone allow song. Environmental station character doctor. Far cup lay play hand.',\n",
       "       'Future financial officer now foreign main brother. Condition resource federal term remain. Way over attorney group spend street before. Cause tree heavy great.',\n",
       "       'Mind only around Mr. Decide care house three little ahead artist.',\n",
       "       'Every this until city something college decision. If history career of. Relate candidate growth risk someone.',\n",
       "       'But standard scientist money among. Trouble bit money step. Quite pressure appear people official central agreement.',\n",
       "       'Record activity very. List analysis mean defense. Security notice kitchen find. Cover lot relate field black court. Thought decision several fill wide attack.',\n",
       "       'Four attack stuff special. Job memory lead. Report body identify voice allow. Various seat security lose.',\n",
       "       'Situation great recent term camera want. Base common simple science why. Tough hope hand action.',\n",
       "       'Great bag leave drug that. Officer plan air politics lay fine democratic. Act recognize order anyone every pass air interesting. Firm condition woman road.',\n",
       "       'Run care site year water. Improve their more make hand work focus. Green similar role still team structure whose from. Whether ability role experience actually everyone strategy. Measure outside relate car focus past economy industry.',\n",
       "       'Vote environment seek piece third behind anyone find. Republican indicate pass stand. Each quickly fish end.',\n",
       "       'Allow or woman town when. Marriage us life customer discussion on. Occur fact continue. Stuff just finish ago computer easy. Include pretty arrive sit reduce.',\n",
       "       'Image national tax its. Receive cold animal. Republican hot bad sure address suffer leg. Article front owner start everyone professional.',\n",
       "       'Others wear company receive nearly floor truth one. Since young conference century speak discuss professional. Protect travel far class thought east there.',\n",
       "       'Me this low yeah me. Say but wall current. Mouth a wind nice bag manage land himself.',\n",
       "       'Page because war which. Stop since measure six.',\n",
       "       'Tonight serious value collection girl most parent institution. Society ball experience trade north card.',\n",
       "       'Read whole trip table within girl life of. Method mission data. Approach free term three would hotel politics.',\n",
       "       'Say benefit since. Arm hundred work personal. Morning end relationship mean he. Expect outside there care.',\n",
       "       'Although eight police through. Power few site road. Dream leave history entire stay note.',\n",
       "       'Reality decision shake red though per. Record close social magazine ahead all four. Star scene arm short better.',\n",
       "       'Company they most executive which. You tend that bar.',\n",
       "       'Lead all decade Congress. Industry politics big oil. On source leader later fast. Range standard team explain important turn.',\n",
       "       'Force including hope walk happy. Woman law fine million spend collection my share. Step rest much national. Agent floor ready specific. Knowledge four fight reflect far window hospital us.',\n",
       "       'Quality center political fund she produce. Ground baby for wait fall if. Question name protect maybe possible police themselves. Body specific five little contain also.',\n",
       "       'Threat evidence as decision sit again. Guess most billion should play pull. Marriage enough effort right short ground call without. Activity firm adult say ok feeling him.',\n",
       "       'Movement challenge usually tonight member population. Husband try hospital too. Agreement child brother know unit. Week significant economy mouth. Face avoid hot day.',\n",
       "       'Contain land minute miss. Me add allow family data. One write point process nice. All road build draw study skill.',\n",
       "       'Try leave that best camera. Old do mention enjoy buy government. Watch everyone service technology use. Professional however another home stop.',\n",
       "       'Family senior peace. Star long chair.',\n",
       "       'Nice represent physical room. Others character condition if house back. Produce right southern himself create.',\n",
       "       'Everything clear avoid thousand. Nothing class agent on same look. Too ready cultural hot hope season. Standard heavy morning pressure.',\n",
       "       'Skill during whose gas wonder modern. Section ever of why throughout clear end. Message single before from. Be red election Republican.',\n",
       "       'Chance interest seat charge bar top he. Stop president order once home girl hold. Also score somebody after personal. Training traditional baby nature hot machine foot move.',\n",
       "       'Candidate her when difficult leg. Act dream tonight process.',\n",
       "       'He interest all plant system. Too hundred find view not. Entire trade front but foot defense.',\n",
       "       'Avoid year court able customer world rate. Office particularly shoulder into four. Late budget set news for three up.',\n",
       "       'Dinner from worker future. Development land so interesting. Recognize similar never color scene page. Understand together than medical.',\n",
       "       'Difference enjoy me life soldier. After us board pattern foreign. Under lot everyone soon manager.',\n",
       "       'Little cold travel son yet he. Nature student executive. Economy break trial fall eight. Particular while common often college.',\n",
       "       'Community bag television country forget find reduce foreign. Community recognize range research. Seat also oil outside.',\n",
       "       'Tonight house instead evidence event simple interesting. Environmental respond ability lay of by. American kind claim player.',\n",
       "       'Peace when cut effect former federal. Bag who nothing plant worry send.',\n",
       "       'Board identify nice. Mother discuss eye against magazine card discuss. Order stand under enter buy view trade.',\n",
       "       'Amount both provide he daughter during. Fast stage culture personal. Operation rise garden girl east past image. Surface offer evening two sing process help. Government result campaign great model compare sit response.',\n",
       "       'Also music for southern force television glass vote. Word father action city history car.',\n",
       "       'Parent around however management decision appear raise. Too bad thought. Firm she minute long best.',\n",
       "       'Spend medical success amount. Soldier expert image ball staff. Fear decision ago.',\n",
       "       'Whole inside clear expert vote TV consider history. After among box keep arm.',\n",
       "       'According building door feeling decide spring arm. Project off light low model information professor. Safe include offer. West it stay local security quite. From table pull part professional.',\n",
       "       'Threat bad act baby foreign interview. Three never million leg church. Look student road people. Young site scientist control trade film service. Source section spend claim try.',\n",
       "       'Always father all western. Finish rich major interview piece film they. Blue present almost paper.',\n",
       "       'Reality voice cell sea. Write list newspaper agent prove modern. Benefit various language air.',\n",
       "       'Politics quality lot again charge station record. Other face south notice. On just around moment.',\n",
       "       'Into view Mr. Spring beyond chance. Unit may tree appear leader. Government program goal time picture really report. Raise whether dark turn community.',\n",
       "       'Camera society expect. Budget agency pressure fire question big young. Surface stuff reality dark even meeting seat. Smile compare together.',\n",
       "       'Box camera line. Agency those note practice upon value. Director lawyer article learn small simple. Sort right word ago.',\n",
       "       'Nothing side less piece. End fight central. Mind run center image apply. Daughter interview stage teacher agree later. War thank very keep.',\n",
       "       'Set watch above standard above. Radio include staff check newspaper site glass. Near need miss morning Mr true similar.',\n",
       "       'Radio others far project product art anyone. Money expect Republican trade. Activity nice should matter people. Rest four write.',\n",
       "       'Stuff their region ask cell they stage. Door gas price table.',\n",
       "       'Face product economy computer use quality send. Ready top father seven record. Product sit politics majority former agree option. Audience source put. Including able herself industry.',\n",
       "       'Few eat itself others true maintain civil. Fact with surface customer another magazine politics break. Law still computer night short us. Feel particularly investment.',\n",
       "       'Young picture cell now start. Street girl film technology send. Hold available floor choice policy for. Imagine nature however now should accept college.',\n",
       "       'Certain her particularly however. Process effect whole serve.',\n",
       "       'Wife bank student college site front report often. Drive window score ever another side themselves. Building perform possible challenge huge guess let. Big city compare next Democrat fast.',\n",
       "       'Forget minute current American test go our. Raise idea federal own consider. Protect recently any page represent more always. Bag candidate again foreign than.',\n",
       "       'Anything answer accept return him hit. Good face people own others seek. Treat change ever push public activity word.',\n",
       "       'Young tonight accept different need phone enter. Company something hard oil people. Several garden dark every law.',\n",
       "       'Care herself especially style report. Reflect player single you season difference. View claim activity add behavior per would.',\n",
       "       'Easy where traditional board threat power. Country design stage laugh car newspaper challenge. Walk particular son important. Section television name call.',\n",
       "       'Public Democrat defense throughout exactly director coach. Popular leader sign its song relationship tell they. Professional onto carry them. Street television avoid month popular blue hospital.',\n",
       "       'About draw by trouble. Western subject popular strong fund from free. Magazine read alone chance ago executive. Also matter friend.',\n",
       "       'Accept million let be. Cell beat gas friend. Lead again early scientist. Sure issue though list. Plan operation no all person car task.',\n",
       "       'Simple can floor identify different race. Degree go series mouth. Item east analysis national. Under social west huge total environment. Guess system dark contain campaign actually.',\n",
       "       'Can few herself discuss yard evening president. Their research rule guess through. One possible toward that time. Center hear leader attack. Require very so.',\n",
       "       'Its keep least south rich music should. Character attorney seven activity voice finish air enter. Score final study itself interest reveal.',\n",
       "       'Great interest me item carry soldier. Lot could would relationship kitchen party relationship continue.',\n",
       "       'Animal admit treatment him. Student team field. Majority ability charge than international these many. Production the TV international.',\n",
       "       'Course tonight home since. Pass should perhaps ask all above different daughter. Plant somebody west different surface note again. Owner back method guy amount economy keep.',\n",
       "       'About then make good eat. True customer business program learn information. Father page training economy. Outside smile Republican political great assume call. Experience help accept figure attention.',\n",
       "       'About enter pull smile wait feeling adult. Civil should traditional policy source standard method. Town air specific test ball police boy. Employee information near manage floor so. Clear fly only skin.',\n",
       "       'Early system culture window brother almost maintain. Republican beyond usually stand home. Point health shoulder goal resource. Material morning war scientist.',\n",
       "       'Yourself second unit anyone personal affect. Red evening else require. End prove also responsibility.',\n",
       "       'Paper hundred civil condition decision eat event military. Apply if human and heavy prepare exist voice. Outside pull box usually pick role. House week TV serious growth go focus. Suddenly shake win policy away.',\n",
       "       'Build local who road. Fund perform scientist during security.',\n",
       "       'Quality stay street you experience discuss evening. Because know avoid manage fact discuss down onto.',\n",
       "       'Method cell friend should idea not. Product its live number sign conference. Wrong off international owner institution.',\n",
       "       'Defense author return source realize. Minute test candidate drug at.',\n",
       "       'Pull traditional forward write relate reduce begin. I theory total majority would speech. Heart style economic particularly ok boy television. Attention ready build around.',\n",
       "       'Entire choice room force piece. School final measure race. Unit recognize who end economy drop market. Themselves language require eight new rate real we.',\n",
       "       'Leave rich body. Store term today need five.',\n",
       "       'Need purpose television specific red. Possible eight hit item much keep reach. View central staff purpose.',\n",
       "       'Red little cultural a. Week cell tonight trip director rather. Morning light pay value recent half. Movie create head impact care professional budget.',\n",
       "       'Offer head choice. Next sound of movement. Hot employee arm worry adult sit. Prove certain guy agency some popular.',\n",
       "       'The newspaper help career citizen. Cause environmental student or particular box. Event stuff television senior building arm.',\n",
       "       'Also top like owner PM feeling star. Audience partner own report help.',\n",
       "       'Generation energy two such. Camera still dinner.',\n",
       "       'Attack morning any Mrs poor laugh. Expect system magazine tree water whose term.',\n",
       "       'Chair board night country sound. Over deal forget these tough set.',\n",
       "       'Something seem low get. Case audience public college service. Create write who particular side when.',\n",
       "       'Threat war win prepare information order. Up message its.',\n",
       "       'Indeed six catch continue. Key local guy ahead go morning. Wall fall ever local. Tv but still heart according pretty again.',\n",
       "       'Defense strong door build gas everyone his allow. Bag form fall turn. Young year sense race hospital happen. Teach certain blood stand. Yet in among area appear.',\n",
       "       'Traditional bag drive perform. Read protect without election think young spend.',\n",
       "       'Physical high over become point art if time. Also common he condition. Believe long energy start. Impact under none manager door. Actually hour ever recently.',\n",
       "       'Determine begin speak care teach save. American its should standard check along development recent. Base book student PM. Far soon few suddenly many street.',\n",
       "       'Provide great hair same science card. West but along spend.',\n",
       "       'Staff writer ball whether less generation trade. Relate power you rule. Country check ask where.',\n",
       "       'Republican crime break tend society whatever leader. But expect state agent reflect view. Culture up daughter. Section wonder argue sit tree. What war hotel key.',\n",
       "       'Visit simply chair camera lot politics my. Feel computer four realize blood. Commercial think better. Mouth feeling even check however. Bank determine common build direction.',\n",
       "       'Prove nothing sign professor Mrs region. Audience on will perhaps old. Stock edge suddenly television summer reason friend.',\n",
       "       'Realize indeed brother. Can house military PM. Dream town to feeling score. Enough eye sort wear expect. Arrive he half discuss officer half.',\n",
       "       'More send wind successful like. Prevent state important bank physical cultural. Tend ahead benefit section play Congress site. Individual race southern environmental walk.',\n",
       "       'Stop service environmental forward anything but that walk. Recent increase shake party.',\n",
       "       'Mean head want common expect. Discover watch necessary pretty situation. Because again point see.',\n",
       "       'Measure world might six store information project. Recent opportunity recent city line.',\n",
       "       'High street ask new get able girl. Leader member try mention. Standard perform new election challenge.',\n",
       "       'Somebody whom plan rather behind. Mother create along million though everybody where. Which far there available for nearly cup. Can music house month strategy.',\n",
       "       'Return now result fire specific. Structure financial set. Board say every true loss pressure part certainly. Leader anyone call may country machine because. Time available people nor when against west.',\n",
       "       'Body while word century likely. Religious likely wait back policy. Character well believe white unit cold food.',\n",
       "       'Remain gas responsibility find which with heavy. Include report probably the. Next soon everybody me.',\n",
       "       'Parent pick image support. Evidence late wrong thank note live. Here structure early couple.',\n",
       "       'Near item popular nice. Service through make. Glass area list stock character later natural. Available collection appear service ground collection. Military beautiful draw senior.',\n",
       "       'Ability bar while give staff. Call really spend soldier thing.',\n",
       "       'There local think boy not image season. Group voice reflect clear record nice. People material or add within.',\n",
       "       'Baby seat now the. Political position cover participant garden past. What back result Congress community. Grow attention sometimes summer.',\n",
       "       'South finish Congress message. Owner me east nature. Available after fear ok perhaps mean.',\n",
       "       'He increase administration defense evidence. Ready offer oil. Meeting herself become audience look. Church effort argue cut.',\n",
       "       'Drive often even agree film industry scene. Kid artist international turn about. Can base hard. Young popular play.',\n",
       "       'News around politics operation wrong. Off pay his former although. Debate but view travel use only. Note clear job. Responsibility administration medical perhaps wear this PM.',\n",
       "       'Investment little your town fire. Ever easy let pressure. Our concern bank this prove. Look whether work. Organization write hit key sing reason every.',\n",
       "       'Nor lawyer find no affect land anyone. Know vote magazine everything sign. Sure I well billion kid. Feeling safe clearly nearly doctor develop.',\n",
       "       'Civil occur understand forward reason professor reality knowledge. There young rock discussion personal simply. Increase trial bad stay.',\n",
       "       'Suggest fight usually. Its technology would. Claim prevent benefit edge form may. Particular image daughter with provide ago member.',\n",
       "       'Realize raise follow people. Executive simply to it college impact. Husband hear church together together wide late year. Team carry establish industry.',\n",
       "       'Service radio majority role. Poor movement late military. Skin type who garden assume training. People suddenly exist coach.',\n",
       "       'Culture Congress economic check name. Rather reduce sound decision. Yes scientist middle during. Me class citizen contain.',\n",
       "       'Later part her south authority scene. Man draw before already say federal whose executive. Weight system forward team wait.',\n",
       "       'Into resource look language. Collection network cold always method meet.',\n",
       "       'Present kid charge. Left know under. Television face me international top.',\n",
       "       'Yard about policy Mrs beautiful test. Spring want reduce wife. Course off tell. Land Mr another forget. Join picture business answer among.',\n",
       "       'Ahead level know yet scientist. Mean development assume up health if second sister. Top season baby role drive thus.',\n",
       "       'Cause past glass. Either base glass movie throughout story author guy. Somebody movement easy rest. Report determine business specific home soon. Than develop indicate however.',\n",
       "       'Season visit month various. Impact simple base tough game. Always risk training task. Choose little growth seat yard. Wait what performance safe.',\n",
       "       'Fire grow may conference rich task become. Hotel discover movie process others wife price. Note effort realize must.',\n",
       "       'Enough color blood. Bag either win when seek real happen. Bar feel part ask.',\n",
       "       'Share friend now drop woman eye administration. Because teach treat lose upon. Modern most network especially because yes. Memory decade race travel that.',\n",
       "       'Until travel west group or we able. Use detail this product summer popular clear. Left make structure month movie significant. Tonight billion seek white other.',\n",
       "       'Sometimes discover fund moment trial. Deal leg gun leg face three. Song lead out form. Affect you these. Ability sing may.',\n",
       "       'Example real child level economy discussion. Old laugh market oil range. Southern fire next name language upon follow.',\n",
       "       'Dark officer cold film practice yeah. Although character of large improve score economy. Indicate human wonder entire beat official. Employee phone growth use indicate real.',\n",
       "       'Company generation pick them size then. Perhaps until cold attention. Clearly learn popular.',\n",
       "       'Film physical however southern drop within check. News sing mission bank ask. Sea never if indicate.',\n",
       "       'Though station marriage of certain both. Themselves system quite research. Cover indeed indeed draw music put represent. Gun different peace wait central former. Light than per clearly.',\n",
       "       'Table pretty both painting quite economic song. South because community industry.',\n",
       "       'Smile ten report matter. The hit behavior school consumer couple note. Appear me power operation point. Firm nearly any son address develop evening.',\n",
       "       'Black people manage some entire. Need improve southern. Help defense different Mrs.',\n",
       "       'Ever now picture couple. Democrat bill factor news. Music reason financial.',\n",
       "       'Side appear support grow fire difficult. Baby successful manage easy Congress instead agency region.',\n",
       "       'Law me family up nation value throughout. Such room know quite. Few exist anyone pick. Whose until such road hope never girl.',\n",
       "       'Somebody amount whose yourself physical. Especially number base nation. Difference road doctor particular public huge.',\n",
       "       'Raise ok statement respond artist. Beautiful type write eight long common tough. Street many the movie page keep. Toward task protect throw television. Organization eat now stage face.',\n",
       "       'Interview boy themselves sense enter box. Local may type religious. Miss pass forward assume. Any on part voice idea cell best whole.',\n",
       "       'Ready group long lead some really. Green begin brother same others fact agreement.',\n",
       "       'Sport recent general appear much. Whose high past citizen. Between time executive bank include whole.',\n",
       "       'Ground look establish approach up something eye. General huge recent forward garden watch. Own describe staff coach level during author. Less order floor summer say.',\n",
       "       'Attorney energy development dark sense not coach. Medical question marriage rate. Possible if ask have list test itself wear. Suggest room sound TV cut gas so least.',\n",
       "       'Special state strong couple. Agree low once father financial theory development.',\n",
       "       'Body development scene strong series threat. Another total car nice. Talk left let picture describe evening risk painting.',\n",
       "       'Pick there recent. Change government recently he really resource. Radio theory laugh change tonight live tree. Together blue crime drop. Maintain treatment camera she always security building dark.',\n",
       "       'Herself quality figure throw. Control floor thousand move over past. Field effort bag care mission. Arrive speak community onto.',\n",
       "       'Situation customer country must. Defense these hit buy day involve. Despite give miss reach.',\n",
       "       'Person according arm particular information set town. Create bill kid market. May majority reason. Enough soon brother data sister positive certainly.',\n",
       "       'Draw nice attack avoid program. Real participant either feel page. Sea visit deep thousand anything bank born song. Because affect learn forget.',\n",
       "       'Hear without particular standard. Morning want author out. Site house or behind.',\n",
       "       'Good attack skin. Professional argue certain from on accept director. Score up continue.',\n",
       "       'Conference realize prepare too police reach. Measure piece wide behavior exist list along. Ask appear individual assume sit upon build.',\n",
       "       'Results-driven DevOps Engineer with proven expertise in cloud infrastructure, automation, and continuous integration. Skilled in AWS, Docker, and Kubernetes.',\n",
       "       'Cloud Engineer with expertise in AWS cloud services, including EC2, S3, Lambda, and VPCs. Proficient in designing and deploying scalable applications in the cloud.',\n",
       "       'Eight man fact yeah. Them everyone treatment factor out necessary rest. Need nor mean wonder property say growth. Reach water this operation growth. Evening side bar forget.',\n",
       "       'Full doctor state spend yard tonight for. Present read but statement direction that hospital. Really professional dinner sure indeed one general. Build exist win live expert issue away.',\n",
       "       'Hot much south. Image last somebody clear. Others knowledge sure music life.',\n",
       "       'Behind a four hope. Rich very start account.',\n",
       "       'Others election between. Life themselves turn series large point. Analysis response moment interest than level. News ahead skill sister.',\n",
       "       'Thank player until professional arm health put maybe. Future talk network wall common general. Police worker phone always into think area. Type cause both consider participant summer million owner. Doctor option condition guy year.',\n",
       "       'Weight admit sometimes site center though. West before weight. Treatment energy cell present. Until find including station live.',\n",
       "       'Within than serve leg rise. Class also special all of. Country mean stay decision difficult chance imagine student.',\n",
       "       'Task type maintain computer take share writer. Story hard environment national yet. Room tend be onto admit. Show attack part contain kid onto.',\n",
       "       'Though sure door may fast source. Much image movie billion item fly. Pattern find write check member growth moment.',\n",
       "       'Civil if every top. Join discuss measure these quality simple. What sea question arm product line. Between management nor task above.',\n",
       "       'Blue see option sound. Along firm for. Even research energy type nothing since. Cost here factor give conference until.',\n",
       "       'Professional sport war usually. Ability it office western fish white prepare. Hot why statement than. Record likely meet.',\n",
       "       'Newspaper over air way. Discover beautiful left. Change generation effect development chance speech forget. Blood threat bring us week.',\n",
       "       'Lot spring of anyone best. Audience upon issue anything blue magazine suddenly. Time nature white father without generation.',\n",
       "       'Miss do anyone skin study different. Me who little who. Business it pretty former back.',\n",
       "       'Quality garden degree. Check where page rest serve. Him bank realize one animal under. Year force writer must will. Top choice everything child evening record.',\n",
       "       'Whole back hundred rather. About this discuss activity listen continue. Home doctor plan lawyer north.',\n",
       "       'Sometimes audience five something. Movie onto western few school book then front. Computer fine receive around design. Tonight fast soldier.',\n",
       "       'Poor back specific discussion perform. Heavy thousand along interest sell.',\n",
       "       'Event keep election remember every. Leader describe air usually write truth.',\n",
       "       'Well side reflect break probably. By financial budget. Owner eight thank experience we stock. Specific personal service.',\n",
       "       'Management scientist ok. Security than fly.',\n",
       "       'Probably represent item data. Really standard democratic listen where sport. Deal group brother feeling concern hair reflect.',\n",
       "       'Two yet never. Church animal enjoy know may sister drug. Official information often maybe.',\n",
       "       'Already degree article stage former involve difference. Fact manager song board early however. Design task green.',\n",
       "       'Capital treat standard example. Television family site design middle as. Two example political minute fill throughout. Ground civil maintain your cold. Town yet consider else within choose easy.',\n",
       "       'Usually sea process responsibility up director. Dream long would while war. Them if ahead kitchen win win.',\n",
       "       'Science trade through win fire including benefit. Fly hope religious official.',\n",
       "       'Offer reality west pretty painting today fast. Quite future put of simply claim as. Often arrive language discussion stuff. Tax wind our hear scene hard although.',\n",
       "       'Table now power technology civil determine. Single gun officer dream red. Create tough leave travel. Energy them campaign particular. Once of world decide show executive grow treat.',\n",
       "       'Miss interesting if especially task. Back structure place western clear. Pull short when dream claim including. Open toward writer information professional term carry.',\n",
       "       'Threat southern least close line. Tend parent professor cost. Police cut hotel large reduce yourself him none. Loss various administration less range.',\n",
       "       'Audience accept run. Say ball why all establish affect.',\n",
       "       'Rise offer remain. Carry less card. Different dark green instead many.',\n",
       "       'Evidence reveal reason skin already now process. Yourself statement upon. Thing meet gas executive reach nearly energy around. May sound education write. Now data modern indeed ask wide different.',\n",
       "       'Gun whose ever feeling prove Republican cup. Sometimes any despite stuff what record fight. Mrs watch well grow agree work politics deep.',\n",
       "       'Put answer may part six under. Window start rich more leave. Show doctor entire some up.',\n",
       "       'Just million less. Mr partner unit set. Six use defense wonder. Return wait send tend better. Argue nature economic let collection.',\n",
       "       'Wind than reality direction protect. Card travel line compare exactly economy free almost. Maybe possible ground show two involve general.',\n",
       "       'Citizen civil agreement family. Short hot remain season soldier short visit. Center say glass nation style culture. Newspaper offer listen girl tree technology address test.',\n",
       "       'Half citizen second return language building. Activity contain ahead action not.',\n",
       "       'Career life drive how. Suddenly street model east ability friend different. Common sit six business feeling.',\n",
       "       'Where last company senior difficult idea. Condition strategy determine develop weight. Popular knowledge growth toward current doctor.',\n",
       "       'Heavy suffer statement nearly figure high most. Sell bank question yet remember fine answer. Under statement window teach fund important.',\n",
       "       'Man impact fall effect none live hotel walk. Happy reduce first security whether. Strong message speak appear hand degree blue.',\n",
       "       'Table yourself worker son strong prove foreign. Picture office himself institution decision a true. Us last form thus article.',\n",
       "       'Open work argue election respond particularly. Conference care choose situation pressure talk. Letter push that something space. Structure capital system heavy difficult. Citizen improve subject back much play economic.',\n",
       "       'Say teacher you affect speech home recently list. Throughout school right manager treat. Radio deep room tend many. Land beyond method scene. Debate billion catch arm on.',\n",
       "       'Range recent military artist while. Left money knowledge forget. Result administration American she politics family happen. Somebody executive position claim.',\n",
       "       'She wear until send defense hot because. Situation product current southern manager relate. Food remain recognize if outside. Black east executive hold public.',\n",
       "       'Prove beat part oil course find identify. Clearly this magazine skin. Book bill after treat help old move. Half together nearly four manage together set politics.',\n",
       "       'Someone couple lot. Seem former fear skill unit from recently.',\n",
       "       'Cold first perhaps account character. Into land central entire score suffer. Somebody former official inside lead. Them research career once perform. Pm anyone wife author he popular.',\n",
       "       'Political everything local garden member quite yes. Glass somebody prove both. Evening expert step party fill attention kitchen visit. Away head since effect free. Music big beyond involve role.',\n",
       "       'Civil specific force our note. Culture writer by tonight. Study discover glass piece.',\n",
       "       'Push name executive wait. Decade interesting story how cover. Brother final building best. Effect door source investment with.',\n",
       "       'Third return man whole central town. Individual economy stock world station. Within much also fish three.',\n",
       "       'Deep teach although option recent decide. Rest will forward turn girl reality. People suffer both truth under little. Book think cultural hour win study.',\n",
       "       'Truth term billion despite anything grow reflect. To deal safe read.',\n",
       "       'Represent much way item. Rich up soldier.',\n",
       "       'World car money four cost see church young. Design response man low affect. Set course gas consumer together organization.',\n",
       "       'Act rate performance media leave support natural. Serve indicate husband. Economic where yes suggest full sound base.',\n",
       "       'Simple do study other. After account mother son man. Think all central mission finally model list.',\n",
       "       'Field maybe public buy. Seat college technology beat pretty agree. Skill interview and tree color. Investment information it especially job. Indeed out indeed cup growth.',\n",
       "       'Billion avoid resource increase fish. Individual start only market nor. Civil kitchen never chair buy. Worker resource well offer. Station society resource concern significant everything these.',\n",
       "       'Bar visit ability lead someone need reveal to. Early thank talk animal nature card consumer. Create simple away alone child.',\n",
       "       'Final manage word affect think matter. Technology foreign read win she just treatment. Beautiful lot let occur lot evidence try star. Attorney air day term but through newspaper. Will main trial election name room left.',\n",
       "       'Political instead race get note over. Reason ok think contain subject eat offer fine.',\n",
       "       'Future require raise remain center arrive. Long least along game purpose situation debate maintain. Cut week democratic affect minute. Interview soldier or movement kitchen purpose.',\n",
       "       'Campaign body need room many opportunity performance. Same see fish walk along.',\n",
       "       'Garden cold thought week. Study seem anything eight provide week. Door spring suddenly suddenly stop low. Forget find note bring them white staff.',\n",
       "       'Up analysis kitchen adult evidence seven hotel. Minute his day anyone total administration. Scene most wall lot against. Government example fish mission town while.',\n",
       "       'Imagine buy serious learn yourself dinner physical. Later lose already ever at list. Work thank author plan including try billion drive.',\n",
       "       'Resource school smile campaign support people. Whom marriage people oil. Most recently feeling nature me per voice.',\n",
       "       'Form series prove bed now appear. Small could affect officer growth. So agree food minute reveal describe social course. Usually morning cost certainly watch audience character.',\n",
       "       'Main they decade require old beat. Father environmental skill certain value member. Teacher usually moment church. Administration central film note show.',\n",
       "       'Bit other else early easy another performance. Sea without myself culture who can. Movie support name majority form. Produce senior inside free treatment military picture trip.',\n",
       "       'Defense check anything. Check whether rate talk movement. Spring easy weight collection senior skill chair.',\n",
       "       'Health own design position into. Never idea court. Question history prove enough production dinner rise support. Their herself discover friend.',\n",
       "       'Practice must question. There deal modern political maybe hand. West brother this age American by ahead. Real prove capital company. Rather tonight hotel or.',\n",
       "       'Person light what letter. Factor democratic modern fire meeting thousand collection. Democratic especially nor also light fear think loss.',\n",
       "       'When research door science letter along own forward. Certain employee for. Between four far white inside explain too.',\n",
       "       'Friend field agreement. Data tax network imagine wall. Institution machine fill I.',\n",
       "       'When glass study describe well during none. Book early coach majority. Care kitchen for food sit.',\n",
       "       'Color girl once they take across some. Letter write describe. Describe all remain pick book thousand child.',\n",
       "       'Likely project question simply over. Two avoid those stop city party. Cover point animal nearly dinner here. Institution decide citizen them deal.',\n",
       "       'Catch wonder director about. Scientist example arrive behavior. Occur seek memory understand method husband. Partner standard win produce care.',\n",
       "       'Side usually federal leg. View red put research likely. Able ahead reach.',\n",
       "       'Clearly two military federal human responsibility. Run there strategy once. House partner mission site contain study. Writer suffer owner whom fish front. Still week less near.',\n",
       "       'Opportunity artist they ago. Entire energy political indicate purpose tell. Evidence use though let carry imagine prevent.',\n",
       "       'Whole body real cost. Food campaign wonder machine maintain.',\n",
       "       'Popular catch serious best we yet. East win thousand agree. Nice party water sure page. Interest pass best.',\n",
       "       'Foot consumer behavior company face international off increase. Science mind remain send between opportunity. Cut trouble worry group when. So start success store official many training region.',\n",
       "       'Leader suffer whole improve six. Involve pretty professional spend property study cost. Station recognize third against reduce just.',\n",
       "       'Travel article conference first. Table evening suffer measure wonder.',\n",
       "       'Than consider focus store bring something. Loss approach hand rock. Color receive run seem fish need ground seek. Kind so material occur become same herself.',\n",
       "       'Environmental issue move worker need family ago. Blue indicate over economic money. Community begin key question continue mouth right my. Voice let up accept trial stuff impact. Law always manager enough hit think reduce.',\n",
       "       'Item pattern pay international national analysis interesting short. Own authority ago popular if.',\n",
       "       'Side discuss consider difference. Listen various simple finally particular ok. Concern sea standard similar learn woman.',\n",
       "       'Skin financial fact quickly quickly. Identify huge foot stand risk animal. Card myself list just Congress.',\n",
       "       'Sure training free culture choose interest first. Represent quite institution school magazine cut.',\n",
       "       'Rise candidate to six perform course story. Career man school lose she hospital.',\n",
       "       'Budget your tend. My affect number month statement plan fire. With either different property heart reduce guess left. Radio detail range enough best upon onto.',\n",
       "       'Avoid system life message board fight. As serve want Democrat various require. Hospital institution matter. Capital lay again skill.',\n",
       "       'Travel modern meet. Prevent thank relate skill work people. Mouth hospital heart few likely.',\n",
       "       'Source me what you early both poor choose. Mean argue require voice student. Attorney wide claim exactly finally former choice.',\n",
       "       'Reduce expect data specific improve agreement cut. Quickly now tend argue.',\n",
       "       'Single provide our law four. They why full choice place under. Statement his page car when. Final TV huge mind.',\n",
       "       'High class threat until also. Try poor important increase. Particular system save share.',\n",
       "       'Music each town almost movement get series. Prove public either almost. Term opportunity subject strong budget firm. For bag pass. Heart political about fact when garden case.',\n",
       "       'Service difficult thousand. Level one establish anyone how energy. Important final car do likely send station.',\n",
       "       'Property course language wide. Push back turn it message voice decide. Market wrong film end serious both. Ago establish single serve weight.',\n",
       "       'Threat note lay history turn one plan turn. Girl production technology standard market past expert space. Of other space character note.',\n",
       "       'Station dinner live buy plan. Spend family because week party grow. Reach he your second also arrive mission.',\n",
       "       'Picture arrive method people back school. Energy production certain want economy every hundred. Determine attention reflect enjoy. Member not summer business.',\n",
       "       'Small thousand pick travel. Decision performance account size friend visit conference the. Recent election contain part hair mouth explain hit. Stop country talk role.',\n",
       "       'Choice third city record front continue American design. Open each great. Hand professor tend environment. Economic natural something yeah task. Those drug tonight behind.',\n",
       "       'Inside practice must list appear. Suggest black simple minute add accept speak. Alone environmental floor.',\n",
       "       'Among skill few wide memory care. Physical ok drug reveal prevent family receive. Thus within myself. Last card wait light.',\n",
       "       'Amount product return never use anything. Any million deep become compare. Force matter agency laugh rest. Test various city leave society partner.',\n",
       "       'Option any southern likely gas answer. Order test board case whose your political upon. Eight property spring perhaps general red worry.',\n",
       "       'Push force deal leader audience. Perform push medical news public former information control. Morning professor happy institution effect hear agency.',\n",
       "       'History certainly perform break if responsibility pass product. Tax machine result development. National mouth feeling anyone. Lead item watch task law often. Maybe foot as computer.',\n",
       "       'Soldier beautiful debate hundred campaign career process role. Hope smile future church challenge work. Follow sport father quite low.',\n",
       "       'I throughout as music. Total foreign share team. Spring trip nor size Democrat technology.',\n",
       "       'Report hold total surface soldier anyone clear. Sister light occur ground not recent buy study. Least better form business network two center.',\n",
       "       'Yes treatment person must support. Past line successful culture trade soldier source. Again dark protect build. Travel professor wife ability.',\n",
       "       'Really possible position value list office. Consumer price trip third. Provide poor argue lay want. As cause his together a blue animal.',\n",
       "       'Yard order step billion phone often. Focus man political increase throughout decision.',\n",
       "       'Evening red decision community. Among feel professional large. Including traditional subject professor individual firm.',\n",
       "       'Myself research war mention too. Open themselves spring away. Already back second since. Again firm car design structure drop actually. Forget perhaps former style film professional network.',\n",
       "       'Environmental everything special relate. Have able recognize control goal best around. Inside single win response crime particularly music least. Happy shoulder product be. Range page over bill medical term.',\n",
       "       'Ago modern get behavior. Truth data network describe story. Impact cold wife western bring rock in.',\n",
       "       'Thus there although. Whom available nature may side poor. Provide wonder age hold. Life act answer support magazine. Record expect meeting there wind same notice.',\n",
       "       'Trial although strong campaign attention evening either. Reason large middle lay financial break mind. Tonight Congress kind add lawyer field of. Order certain dog quickly.',\n",
       "       'Approach push produce want. Point effect place improve toward. Address structure order better one.',\n",
       "       'Each human name world assume move important. Mind fight last avoid. Onto agreement kind. Many on everything often of. See beyond describe drop push sport instead.',\n",
       "       'Real issue reveal act fly pressure class threat. Decide factor adult share which. Shake scientist professional carry catch theory law.',\n",
       "       'Surface difference onto night ten agree soldier. Kitchen price land Democrat necessary.',\n",
       "       'If cell inside raise. Where join section especially. Mention strong student walk last.',\n",
       "       'Specific term rise clear. Question scientist company. Cultural special difficult foot future child.',\n",
       "       'Tonight scene stay let already. Little family move although begin put. Prove size manager establish site join no. Much between will determine war compare. For skill share theory statement far.',\n",
       "       'Environment economy finish this. While attack measure travel. Accept other more. Little capital must exactly.',\n",
       "       'Explain exactly church fear place ground campaign learn. Concern buy treatment international. Line sometimes he. Newspaper later matter market skill six rich three. Green able fire thing item majority behind.',\n",
       "       'Situation realize happy arm scientist. Brother painting center. Role task eight value democratic section energy.',\n",
       "       'Treat all house old individual. South art play learn bit any. Film job customer perform.',\n",
       "       'Occur nature teach individual day. Last scene thank happen remember color will recent. Audience who when sit act.',\n",
       "       'Stage difficult many boy. Professional theory newspaper. Watch case imagine among through. Stock suggest region employee have western. Film small parent black let stock game always.',\n",
       "       'Interesting turn phone meet forget. Remain rock law of yes. Top parent collection grow system his.',\n",
       "       'Enough for answer simply four. Although nation against theory. Music career chance able half key.',\n",
       "       'Role key remember. Ten evening admit argue benefit attention. Stay place anyone visit message heavy instead part. Public show early either long wife pretty.',\n",
       "       'Bank left once dog build purpose. East beat protect respond.',\n",
       "       'Watch wife just morning year. Establish place again dog itself continue significant. Reveal model language member I. Trouble wear recently answer forward.',\n",
       "       'Write support wonder possible morning stand. Where every whatever three expect system stay. Worry street everyone require agent. Office again approach reveal here argue.',\n",
       "       'Carry physical painting compare sit. Expect opportunity program.',\n",
       "       'Tonight personal money we rule mention traditional. Push stage close education opportunity none. Religious quality because room.',\n",
       "       'Investment all entire poor. Control past development him. Share enjoy mention professional paper indeed including include. Gas or however dark development safe reflect open.',\n",
       "       'Participant class try require stuff person. Bag morning seek medical. Challenge member research bed ask.',\n",
       "       'Develop structure physical success during series cup. Month method on. Type society there give smile.',\n",
       "       'Threat thus positive hard. Expect drive face black improve. Town ready leg production.',\n",
       "       'Decision threat save consumer Mrs. Sort film key arrive leave somebody. Can interest owner individual serious score room.',\n",
       "       'Character away red even positive player home. Subject mouth throughout person fish.',\n",
       "       'Worry see movie wall. Across grow traditional test. Long moment total measure build few machine. Free project treatment business trial often face.',\n",
       "       'Cause ability phone option. Door century wife friend.',\n",
       "       'Administration member involve believe. Central become process evening. By agreement fast security camera he.',\n",
       "       'Network expect difference deal. Cultural despite meeting business ready remember. Quickly worker at determine. Best Congress line defense you media three.',\n",
       "       'Not picture put think bed. Significant soon see we. Ball television site impact toward today. Fall what really government recent people.',\n",
       "       'Whom performance finish. Western free too line.',\n",
       "       'Inside with local fund single page. Thank response north difference strategy form look. Concern hospital experience music. Quite learn matter.',\n",
       "       'Far project issue whether write. During think chance source. Listen score outside war. Later another sing team. Well thing region anyone effort.',\n",
       "       'Red point draw reveal low. Wall skin let argue agent ago. Much thing forward your offer.',\n",
       "       'Build speech black player. Prevent billion sport partner sure. Finish seat up administration card subject. All who environmental. Bar south moment do all board.',\n",
       "       'Send full describe use it century beyond. Lead note natural evening believe current analysis. Key interview such. Decide perhaps management television or outside each. Ask alone natural could industry general heavy.',\n",
       "       'Early role town near newspaper. Purpose write thus white impact. Ready arrive sell become.',\n",
       "       'Indeed until happy low. I analysis drop catch senior soon. Author take discuss open money list may. Concern floor mind main little recently. Be the president what class ask officer.',\n",
       "       'International scientist strategy father rich. Care listen daughter natural. Page marriage practice field. Enter upon perhaps cup high trouble next. House rule thousand national member marriage goal.',\n",
       "       'Place fight share world forget speak. Heart television clear kid become dog. Third sense agency account entire west indicate they.',\n",
       "       'Program attorney much necessary whatever forget decide. Old foot onto indicate key.',\n",
       "       'Either central if agreement expect ability. Little reality too hospital east you. Area no person development behind teacher. Also sound able keep measure.',\n",
       "       'Three doctor way image political important may. No article remember space wrong friend thousand. Particularly shake executive.',\n",
       "       'Since level understand serious before care his. Popular head consumer food. People sea law style receive we. Evening start store power compare already cultural. Health name likely ok want.',\n",
       "       'Guess response answer. Term hundred region trade. Little travel far majority sometimes. Less challenge mouth consumer dream particular.',\n",
       "       'Agree sort boy idea. Child campaign value by the three believe or.',\n",
       "       'Whose technology coach fine cause image. Mind state situation to hotel.',\n",
       "       'Today lose care challenge any among test bill. Almost reality where many week radio. Allow accept need national most discuss. Against even learn he.',\n",
       "       'Official also even event see them ago. Per establish always model.',\n",
       "       'Arm plan hear. Many only view agreement area. Risk decade democratic open kitchen feeling. Read approach rich reflect.',\n",
       "       'Create hospital another investment gas. Several management method each wrong cause. Evening including population be air thousand bad. Than choose movement often dog understand nearly huge. World bar quite draw base.',\n",
       "       'Hand rule break level western ago need full. Person easy gas by election get.',\n",
       "       'Movement road person article. Necessary senior or yet responsibility. Buy alone million upon rather worker. We leg development American. Whom sport million song.',\n",
       "       'Safe cause recent. Between movement wonder stock great base door speech. Long throw this evening expert beautiful. Name into trip beautiful.',\n",
       "       'Participant expect mention man. Hundred nearly door single might approach ahead model. Everything culture whose must even like something. Must response find pressure manage town.',\n",
       "       'Try create employee view people. Market might mind whom source sometimes hear. Wall bring game candidate.',\n",
       "       'Simple decision suggest put painting draw article. Focus on surface focus majority at move. Question major simply. Add his interest. Director would as threat option country law.',\n",
       "       'Another product issue difficult down data. Author total national western career mouth. Now tree and answer way score.',\n",
       "       'Put Mr life. Certain instead article bar real firm.',\n",
       "       'Understand work offer employee role. Hold response car say paper. Decision role assume husband partner look total. Office discussion purpose. Notice their strong.',\n",
       "       'Discussion south purpose five. Seven she be believe past size. We run result result loss question.',\n",
       "       'Best thousand wind Republican above. Act design value another mother model involve. Realize process final ten energy nice wrong.',\n",
       "       'Common take million speech walk. Rich list door hold tonight suffer none bank. Pass prove relate set official stuff appear. Attention message spring boy thus off. Store because enter success.',\n",
       "       'Born skin life. Report friend might experience evening. Offer personal lose around present cut. Little crime no worry such box.',\n",
       "       'Her bag interesting trade above town her I. Bar subject than power. Away pressure worker still condition machine control.',\n",
       "       'Arm rather media truth. Garden fast somebody number weight step. Establish general along huge my stage culture. Church wife factor into notice.',\n",
       "       'Next sometimes of officer time movement. Idea report another mention identify behind. Deal yard camera on north join.',\n",
       "       'Enough give student address fill interest. Later work possible. Between evidence themselves bring light. Plant set cost management.',\n",
       "       'At form system during life watch large finally. Top nothing factor only game democratic significant open. Attorney former business pattern. Only wish nice.',\n",
       "       'Line hit certainly quickly whether. Safe reduce government we blue field. Resource key travel director economy. Wall once himself buy strategy.',\n",
       "       'Recent evidence company certainly continue side prepare skill. Need cell floor responsibility my rule. Leg go animal this stand turn economy. Certain notice direction first blue. Someone administration in ever lawyer.',\n",
       "       'Project region current road major box. Office detail let real. Bank piece maintain mind same. Reach determine detail forget trade hard point. Show democratic blue age happen.',\n",
       "       'Other easy fund role deal. Help staff visit. Child then catch high line. Would see billion well able news nor.',\n",
       "       'Line player program mission adult born. Mean hard trip my situation social deep. Up too state pretty pass answer go. Sometimes child son.',\n",
       "       'Forward which society type. Husband building speak a. Mrs expect individual least although.',\n",
       "       'Less dinner near worry. Popular far tonight Republican alone. Hard form perhaps certain soon within. Only our book his. Kitchen white interest industry.',\n",
       "       'Growth reality stay pass box. Artist structure three free.',\n",
       "       'Yourself both program big there. Crime such exist kitchen model research. Collection much away current result ability.',\n",
       "       'Recently exactly arrive right lot. Religious young throughout play.',\n",
       "       'American at name. Factor good summer guess issue. End leave man study reality well. Feel entire they performance radio page learn our.',\n",
       "       'Effect character everyone whole computer effect million week. Field measure find carry turn. Improve anyone wall nothing win boy dinner. Side receive energy manage community. Memory network pass society.',\n",
       "       'Owner almost political music boy. Bring new family happy.',\n",
       "       'Hold relate reflect public heavy but. Matter treatment hope order set pull pass. Each resource event religious speak without performance.',\n",
       "       'Hotel bank with ask. Rather with account my always when. Wait brother left maintain thousand mean. Great million middle size page yard tax.',\n",
       "       'Design them this pick nature successful part gas. World the finally ten yes effort. Road hard director out behind change shake artist. Close live make hundred. Sometimes bed forward picture since security professional education.',\n",
       "       'Value upon democratic machine radio lot identify. Democrat occur very image. Any score check cup challenge.',\n",
       "       'West five professor agree. State challenge phone. Half nation whole occur half its account.',\n",
       "       'Growth sister key hear. Financial now their college. Reach house teacher. Medical especially particularly police Congress keep.',\n",
       "       'Suggest face window boy half five career. Important subject our seek including. Great bag speech. Scientist name model sense. Actually new significant phone.',\n",
       "       'The television even present organization happy fine rest. System pressure eye nothing deal family. Face paper share among fine another network.',\n",
       "       'Federal several notice just decision. Thing approach size sign day fast. Upon politics my north to particularly music. Help report to court agency eye could general. Consumer energy scientist buy ability another believe.',\n",
       "       'Morning want family generation. During set left stuff. Catch economy happen guess. Speech receive have model.',\n",
       "       'Either different old long. Do treat paper because indeed six become. Likely itself law glass long win. Care school task identify so.',\n",
       "       'Whose second her yeah red than necessary. Win early participant their opportunity phone decade speech.',\n",
       "       'Security theory contain final food time. Like hundred mother arrive since least. Response western marriage describe history technology career inside. They his Democrat new.',\n",
       "       'Develop significant dog check. Report item capital politics interview artist answer. Natural present cost note still knowledge.',\n",
       "       'Phone myself possible local score become guess. Design upon final customer himself between.',\n",
       "       'Large box today budget fine senior receive. Represent ask test officer medical rock respond happy. Our box soldier growth player. Rise seek spend realize line.',\n",
       "       'Sport pay house describe bill guess action discover. Method box rise try special. City know none piece.',\n",
       "       'Sure race no benefit. About four measure hold. Operation level common admit science TV.',\n",
       "       'Follow ago image. Second media security cost.',\n",
       "       'Everyone base card college into treatment produce. Argue suggest every get more. College put better everyone realize seem. For several ability finish that trouble.',\n",
       "       'Kitchen do service old wait. According significant teacher scene better charge. Call dog everything of. Within matter goal. Thing environmental idea sense question arrive.',\n",
       "       'Fill deep enter. Mrs doctor probably too before point. Three president material responsibility.',\n",
       "       'Majority painting responsibility where character buy executive identify. Order a seat news. Recently last into team arrive serve more. Sit coach face several throw Republican.',\n",
       "       'Build white eight which catch reach. Continue require land huge make body guy. Role such nice challenge score everything. Look hear art case.',\n",
       "       'Key father partner clear arrive song avoid. Color morning agent again tell chair house. See need section stay. Meeting teach style page.',\n",
       "       'Very hand agent service sense risk happy. Director left American value television. House talk trouble during expect if travel.',\n",
       "       'Would close sister consumer become. Along no company. Product Democrat learn model some whole. Individual success onto sister lead director.',\n",
       "       'Detail member activity statement. Decision into blood week fast eight place. Fund perform positive. Become government wonder character agreement push bad. Old PM hot.',\n",
       "       'Girl nothing ahead lawyer floor happen somebody. Case international head coach animal. Year leg bar democratic. Trouble nearly affect moment. Voice capital professor available conference.',\n",
       "       'Laugh structure per soon television cause kid. None large identify bed either. Decide late although little contain figure piece process. Fish within type give program. Source listen indicate.',\n",
       "       'Feeling successful civil specific top rest north. Last Mrs though would pick. President Democrat thousand head final decision.',\n",
       "       'From career large community agent tonight accept. Author mention three where. Open deep impact whose. Area very prove against less.',\n",
       "       'Between want indicate purpose nation soon there. Not soldier continue visit. Manage magazine off leave draw.',\n",
       "       'Expect structure few government her. Teach recognize against reflect. Which beautiful improve up mother here. Difficult water off area relationship. Music gas whatever product win concern.',\n",
       "       'Many admit traditional write. Back either church bag nation. Clear movement four account sister. Expect recent their event relationship father.',\n",
       "       'Check woman record a its state chair. Require space eye reality. Thank build design leader. Expert others cultural believe guess people table. Require space visit wife yes inside.',\n",
       "       'Leg book important model. Up require leader statement need. Participant rich side short however successful officer.',\n",
       "       'Find church accept news. Somebody process room culture eight. Day federal accept once wait.',\n",
       "       'Evidence company civil significant different drop. Brother begin by lawyer future tree. Church after hear before kid. Congress pressure become financial game relationship song.',\n",
       "       'Film herself entire quality. Recently kind firm. Political play debate home.',\n",
       "       'Mother court though drug. Action difficult reflect discuss. Study west me note. Attack reach ball medical five board receive.',\n",
       "       'Evidence care add thousand should worker see right. College two buy dog tough matter. Floor without television personal yet central. Special agency another simple boy discuss what director.',\n",
       "       'Tree open girl among guess. Drug gas five hot form challenge many. Public health yeah walk mention.',\n",
       "       'Available away attorney century ten. Director if give ground despite force ahead single. Task beyond weight involve. Agree growth establish be degree try.',\n",
       "       'Few structure research moment. Arrive ground laugh man inside style performance hundred. Enter son on simply southern cost also.',\n",
       "       'Debate it personal man pick imagine development. All manager technology floor. Activity time mouth assume attorney. Just case foreign investment. These easy skin memory month.',\n",
       "       'Main although end teacher. Month record kid series still. Word ten himself once know price.',\n",
       "       'Information six support risk. Response kid benefit west speak morning candidate. Apply fill yard decade including field. Player car officer think those lawyer situation rock.',\n",
       "       'Region main memory television customer. Body choose understand turn. Million itself human college create church meet someone. Two provide role back Democrat relate night.',\n",
       "       'Else hit set however need. Growth she either body. Young discover form dream before. Beautiful page out hit.',\n",
       "       'Line cut language out including share expert. Discussion time rate industry. Himself according word.',\n",
       "       'Cover actually word reach person through house. Authority lay trade safe me here.',\n",
       "       'Store city go organization news matter produce. Strategy throw contain true factor.',\n",
       "       'Cold job certain late. Indeed easy moment process feeling. Left key truth follow better answer despite.',\n",
       "       'Radio memory process skin able cut happen. Any home each defense hope big high. Too college front seek.',\n",
       "       'Consider natural thought every security speak loss. Specific term figure from grow student hope.',\n",
       "       'Appear trade success answer degree different church. Pattern production hotel very size him. Guy room difficult exactly career side fish.',\n",
       "       'Measure rather industry. Work interest per week through through money.',\n",
       "       'Region draw run smile financial. Recent me music.',\n",
       "       'Including box what black church budget stop. Industry quite character I tend produce work. Answer attack send prepare administration. Form skill program front western free must.',\n",
       "       'Change join answer successful personal particular drug. Fast real recently meeting side. Leader newspaper cause. Deep clearly idea evidence. Worry consider blood bring middle.',\n",
       "       'Assume bill friend home. Professor air argue star artist three small. Generation bank look plant them argue community reduce. Admit floor mouth then rule may.',\n",
       "       'Soon order design certainly season because off letter. Strong pay foreign. Seem medical speak money partner sometimes feeling available. Notice smile radio chance.',\n",
       "       'Work soon member test keep well. Whom professor strategy anyone throw deep though color. Movement care six strong east.',\n",
       "       'Say least foot have final resource. Audience player side. Old she Mr human clearly can ball.',\n",
       "       'Series product mission assume person contain certain hair. Stand fill yeah opportunity media many. Crime so care media.',\n",
       "       'Ground goal opportunity whose. Human whether figure common. Push point Congress. Color land resource provide exist tonight deal.',\n",
       "       'Ten expert compare sister full. Seven say from city everybody environmental hear. As soldier fire. Way understand voice fish find himself continue.',\n",
       "       'Last thus rate course child. Voice agree nice new know animal pay.',\n",
       "       'Himself evidence across key my. Second shake adult plant training administration feel. Effect management popular free whether many dream.',\n",
       "       'Finish table through girl worker. Fall top reduce central policy rate.',\n",
       "       'Main painting husband behavior seat wife game yard. The office participant blue.',\n",
       "       'Respond policy politics full administration reason question. Large off stage black federal glass region. Green floor mean pick choice loss long away.',\n",
       "       'Clearly other share remain. No church energy order performance stand hair fish. Cover road director book building growth. Late interview ground appear matter population watch. Least school push push result.',\n",
       "       'Should turn financial popular skin. Not level my wait debate success. Eight occur mention executive book perhaps. Heart race throughout story key medical hope nice.',\n",
       "       'Future building great oil camera. Lead camera explain edge. Choose analysis wish. Pick each almost least attorney.',\n",
       "       'Discuss beat hard finish bit. Up job front up bit until call.',\n",
       "       'Hour hear next. Public growth stand small. Claim total speak why.',\n",
       "       'Key skill cause international I program. Service world kid final. Sense next commercial act memory. Serious media rise future Mr without.',\n",
       "       'Yet development while blood thing wrong we wonder. Particular drug approach late memory these listen.',\n",
       "       'Radio hit condition. Send suddenly with staff popular there couple financial.',\n",
       "       'Election keep skill let. Start view degree word. Final light maybe participant major. Security language news goal night store you. Should rock task believe.',\n",
       "       'Of perform newspaper staff protect service eat. Federal yeah defense loss fly.',\n",
       "       'Produce stuff remain. Effect we blue anyone before wait. Feel herself notice offer middle like fire.',\n",
       "       'No start less in design type. Per coach analysis themselves toward life.',\n",
       "       'Throw someone nearly glass matter. Simple father old industry herself source first.',\n",
       "       'Case memory decision forget. Happy wish bad respond prove age I.',\n",
       "       'True stand family school success. Structure parent thus. Full prepare PM career executive. Age language case war course defense.',\n",
       "       'Cut view difficult move. As remain drive describe on stop. Personal fine see my easy summer marriage. Democratic decision write financial.',\n",
       "       'Measure total small finish left call million. Size agent power oil. Hard former trip per although.',\n",
       "       'Note cup alone against hit remain fight might. Talk medical win grow long should surface. Fight per put manager example. Event prove wonder some design nation.',\n",
       "       'Hot white argue agreement physical girl common. Situation middle decade record option particular. Financial bit skin sort. Step whatever blue order material.',\n",
       "       'School consider traditional happen. Laugh door top budget who southern. Record forget resource pay politics drug home couple.',\n",
       "       'Time explain just say occur occur figure. Keep perform meeting. Become particularly series culture a full.',\n",
       "       'Everything start term. Wind treatment always left. Total window hour rate certain system. Federal only million fill day.',\n",
       "       'Century left recent five. Loss sea work green. Power ground compare sport politics speech should. Wonder technology human center.',\n",
       "       'Dark still though third author weight expert. Notice next live number consider character sing. According control with officer.',\n",
       "       'Rest reason local kitchen through information. Fear court itself listen. General those station thousand rise mission.',\n",
       "       'Magazine president care rise. Themselves really open parent life out. Very attack other lead according himself. Five ground outside management. Control why down system night.',\n",
       "       'Same sea measure. Cup produce military young local citizen have art.',\n",
       "       'Gas treatment star remain yeah number. Door fear agent or. Dream president example next well.',\n",
       "       'City school project order type. Threat any stock stage hair TV program. Each ability down compare argue major. Western to explain pass hair like tend.',\n",
       "       'Trade try sell while. Wrong simply agree into main. Everybody they night officer PM arm. Affect eat at game particularly safe role. Type term avoid possible.',\n",
       "       'Popular north else sound center throughout. Thousand rock speak yeah. Lawyer where later person including.',\n",
       "       'North effort might forward. Able security clearly box expect attention evening establish. Key create size every air can. Her home evening close everything interest.',\n",
       "       'Fast late describe own score quickly go include. Method still myself clear fast person. Somebody pick could several choice enough majority large. Bring realize development with.',\n",
       "       'Happen imagine idea relationship serious. Early believe bill skin weight. Site staff wide fill open. Beyond dream rule investment last.',\n",
       "       'While fact to win. Hour beat high statement we. Name second themselves serve seem yes project together. Experience imagine whole its position line.',\n",
       "       'Point worker far something under far save create. Account soon career read might pick.',\n",
       "       'Radio all kind yet. Hot evidence back white specific instead attention. Couple well ground serious attention. Mouth rest over suggest teach whom challenge.',\n",
       "       'Professional realize whole democratic. Someone behind social energy use piece year include. Next miss example guess increase teacher. Hot visit prepare artist ball wind.',\n",
       "       'Miss deal positive name safe she. Nation four establish ability. Official per pretty write item behavior. Level size answer budget where allow. Particular car reach care certain for call trial.',\n",
       "       'Factor charge east evening happen less name. Dark production read admit magazine but.',\n",
       "       'Responsibility play security cup. Far order minute authority. Out other true she important magazine class. True with thank level stop stage. Expect price brother.',\n",
       "       'Fund population table animal. Contain church stand huge church maintain her guess. Resource senior yes able Mrs. Area claim interest condition. Along fish rock company base doctor operation.',\n",
       "       'Cover career involve coach number so. Fine rule soon interview raise project full.',\n",
       "       'When per because but question. Sure concern page wind individual such black. According occur card reach about member. Activity else woman exactly rule.',\n",
       "       'Safe whatever rock have. Official total think them safe perform threat give. Nothing new can movement detail seem work card.',\n",
       "       'Month reveal choice oil interview leader act. Throughout Congress article interview future consider movie. Join recently boy use employee.',\n",
       "       'Quite draw network reduce police issue. Deal book consumer get performance. Another movie situation air dinner art.',\n",
       "       'Money marriage heavy name. Service room condition eat order. Reason situation statement by require. Section area true sometimes.',\n",
       "       'Should me we worker kid decide. Yes memory think prevent.',\n",
       "       'Turn item rather result theory. Top they which or home phone.',\n",
       "       'Foot since process. Nearly man him. Central them all yeah management expert. Receive stand church character oil remain. Help sit tonight off management few budget.',\n",
       "       'When explain student. You choose nature sense including put. Marriage responsibility with check toward assume. Better stand something relate event knowledge away. Measure middle recent.',\n",
       "       'Lead leader see politics. Minute attack detail painting tonight have mention. To want western coach form tend role. Similar fact explain miss personal. Television skin speech feeling.',\n",
       "       'Fast eight measure service point hot. Reflect north step born magazine national suddenly. Piece clearly weight security order. Nice others behavior home. Enter control speak student.',\n",
       "       'Thousand protect property pick. Cause painting little health with environmental. His option memory become war. Decade old add ask Republican.',\n",
       "       'Lead explain cause population view. Should task someone still. Alone manage music office.',\n",
       "       'Certain serve option specific need stay bed. Cell most serious buy gun great it. Class school toward account education. Fire head public work.',\n",
       "       'Threat computer evidence easy much stuff provide. Drug away true generation animal book raise.',\n",
       "       'Such give model option oil. Right although avoid wide trip. Computer least federal Republican speak glass. Around similar grow upon its.',\n",
       "       'Green let ball authority high yeah figure. Across sport kind.',\n",
       "       'Free finally several evening happen your power. Always without professor interview. Fact right assume run citizen process compare become. Onto from particularly walk by grow argue. Worry suddenly either you nature right best.',\n",
       "       'Agreement us increase every. Seem offer sell positive together morning a. Hit check serve hour these wish.',\n",
       "       'Day only of market. A water face life special responsibility minute.',\n",
       "       'Perhaps opportunity news site hotel during participant certainly. Relate close fall realize size particularly rock. Do response citizen agree option. Result data tax. Speak science image project.',\n",
       "       'Attack including race like. South herself thank knowledge since. Couple nature true opportunity unit style.',\n",
       "       'Not cost past program body. Sort reason believe truth tonight. Give trial choice too. My especially bag fine hotel each school. Detail now mention information create.',\n",
       "       'Argue age better hard under themselves. Professor happy positive themselves not. List occur worry here around art soon trial. Five only back Mrs.',\n",
       "       'Yard federal last budget hand local section. Continue like sell play popular show gas ahead.',\n",
       "       'Must authority increase according which ago. Sing politics low ten month which hold detail. Feel fight think economic toward commercial baby. Election final leave other well huge bar.',\n",
       "       'Heavy these visit practice. Article accept big coach official remember. Degree reduce stage.',\n",
       "       'Soon house thousand side dinner visit. Game world not let.',\n",
       "       'Story clear soldier project. Worry enjoy election nature heart six office. Old success one mouth chair. Low Congress investment turn.',\n",
       "       'Easy than order two yourself price member positive. Recent factor year. Discussion nearly attack arm put whether.',\n",
       "       'Performance her this recognize. Technology student however particular professor. Seem ago attorney every through forward.',\n",
       "       'Important environment check. Grow cover outside ball serve agency development himself.',\n",
       "       'Very resource store less I simply. Car this including product attention care weight. Television his reality friend.',\n",
       "       'Court expect six vote much time source. Event why major television thing try. Especially require might party let financial. Color leave fine red. Rise old during really loss cut.',\n",
       "       'Provide out resource whom ask machine. Cause new off activity. Parent per pressure expect government. Model herself her evening. Item meet life because.',\n",
       "       'Detail go class high good. Economy former section let. Side prepare production order hard building. Without model challenge sell social.',\n",
       "       'Exist character thank. Need majority center energy place late war. Treat keep single other perhaps. Serious week whom deep policy sister. Second center spring night character heavy.',\n",
       "       'Clear teacher born. Age call head carry war magazine activity give. Factor economic but management room visit. Worry partner rather economy.',\n",
       "       'Deal view everyone quite case quite well pressure. Discover receive eye tough. Save hand other color campaign collection care. Agency involve certain whose management outside.',\n",
       "       'Guess deep set military trip raise. Participant left tough attention population. Through hear fight tax note forget poor. Trial same quality respond difficult hour soldier. Pretty see their live cause history.',\n",
       "       'Many police bed focus begin. Majority college seat first benefit. Kitchen food think unit. Skin may maintain beautiful table performance.',\n",
       "       'Court painting inside truth director how sell. Inside individual whom through.',\n",
       "       'Blue already piece really. Scientist sound low media.',\n",
       "       'Yard relationship eight us. Other forward goal billion political popular case. Town together responsibility home live student. Result model guess suggest top line. Foot wear suffer whom stay.',\n",
       "       'Past box off person. Out believe raise letter though. Skin determine say not.',\n",
       "       'Success quickly second stage trial through example parent. Economy dark sing doctor between unit lead. Range painting major too themselves participant see television.',\n",
       "       'Decide leg once quality teach general. Later through example cause note present. Because seem ball. Morning lose between itself American explain always market.',\n",
       "       'Own show reality bank determine reason yourself. Guess job sense wind very. Blue check very. Pm create professional bank very.',\n",
       "       'Mr real discussion parent. Probably world value toward on study responsibility.',\n",
       "       'Serious service accept. Speech mean beat consider. Employee four development customer against. Myself each how job thought. Sense inside direction look deal finish.',\n",
       "       'Hit approach eye enter prevent discuss others phone. Firm forget dream opportunity decade and common three. Job feel piece PM religious south though. Enough floor join account direction carry.',\n",
       "       'Early sometimes card. Political coach off son. Community worker keep election mean be. Recognize dinner can threat late speak seven. Author best movement maintain space.',\n",
       "       'Food court agent soldier anything phone property have. Month scene focus discuss themselves himself professional.',\n",
       "       'Doctor professional as country play Mr public worker. Tax author manage second. Box system win bar analysis. Soldier happy me.',\n",
       "       'Sister bar identify their someone miss page leader. Former avoid bar serve second. Force key throughout consumer. Another without teacher involve.',\n",
       "       'General sign answer clearly modern material answer. Hope seem scene college capital lose current or.',\n",
       "       'Agent item term decision matter stand during. Score your anyone prepare from establish community.',\n",
       "       'Country miss forward book Democrat answer country. Foreign site marriage air chair. Local series movement listen.',\n",
       "       'Produce born speech city difference something. Entire statement finish.',\n",
       "       'Already professor away move mind example many. Book model purpose upon. Campaign compare read. Until while hope concern garden loss break. Put question full agreement each actually.',\n",
       "       'Best about better include third surface church. Beyond tough white cold choice. Today yourself nearly final response worker should. Dream center visit hard. Size drive teach hundred responsibility quality short service.',\n",
       "       'Tv wind put admit feel. Describe reveal lose stay occur model. Far energy situation indicate evening. Campaign defense that dog poor agreement bag.',\n",
       "       'Wonder face place choose onto difficult bank position. Among understand best.',\n",
       "       'Natural production again future discuss since one prevent. Night mention our often. Leg send stuff ready behavior.',\n",
       "       'Creative Web Developer with a passion for building responsive and user-friendly web applications. Proficient in HTML, CSS, JavaScript, and front-end frameworks like React.',\n",
       "       'Analytical Data Scientist with a passion for machine learning, statistical analysis, and data-driven decision making. Experienced with Python, R, and modern data visualization tools.',\n",
       "       'Early evening wish maintain such have myself. Game else east accept during. Leg high short they you light. None major research employee improve.',\n",
       "       'Media safe product region assume author PM. Bring old yourself herself when peace eat star. Until decide which how travel expect. Situation near hot parent those word. Fly serious clear pattern data.',\n",
       "       'Local weight course single bad find. Nor able conference free relate. Place anything let without likely machine foreign social. Already well town magazine bill. White road network likely per for.',\n",
       "       'Attention detail measure season organization choose. Significant that development attention surface street. Carry bar issue provide.',\n",
       "       'Just agent detail strategy word. Effect body full wind new yeah season. For suggest color material our goal. Beat southern city peace.',\n",
       "       'Guess although why relationship policy until put long. Worry right leave doctor employee. Save brother trouble hour buy sing. Buy PM administration.',\n",
       "       'Rock term break apply. Real computer serve enjoy wonder a. Exist doctor success little daughter option choose job.',\n",
       "       'Can right herself table now. Page house exactly dinner second. Skin room to it.',\n",
       "       'Room out determine. Inside draw cause woman seek Mrs simply.',\n",
       "       'Mouth trip region international school treat because accept. Lay sound add. Outside again fast how.',\n",
       "       'Similar east wish couple trouble employee future. Paper suddenly our century likely. Quite us admit wind.',\n",
       "       'Return decision specific fly drug popular still. Support system TV alone young body draw. Bit season agree amount. Beat movie apply artist affect either. City one hospital although modern.',\n",
       "       'Deep fund speech organization. Threat really outside property enter different. Husband court response truth role no. Out entire room movie window.',\n",
       "       'Strategy far second whatever stage message president pick. Than knowledge number reduce clear. Rich trial quickly three thank. Land company take station right.',\n",
       "       'Manage civil ten health. Scientist realize goal dark.',\n",
       "       'Determine recent create gun station worry. Him society amount early. Rule read thousand kitchen reach anyone. As line mission life go.',\n",
       "       'Degree knowledge despite grow poor character west. Bit six season staff others hour. Can present city. Media structure beyond worry.',\n",
       "       'Reach group guy sound population data. Six close various enough. Call create deep into until answer night. Huge agreement project same moment local tax I.',\n",
       "       'Because speak owner situation itself. Size television past four several evidence economic. Opportunity none together herself guess image.',\n",
       "       'Reality your plant particularly good explain. High support drop. Hit three group people apply. Career office wind government agree professor.',\n",
       "       'As sometimes eat to. Process nor back science three air as few. Task clearly oil tend American little.',\n",
       "       'Attention election fly difficult director. Bar particular quickly option join. Investment no husband cut standard.',\n",
       "       'Hold particularly international he listen. Eye sort serve my most. Consumer would these career opportunity position theory talk. Choose find oil employee.',\n",
       "       'Wish admit east still million. Accept action computer huge local fact better. Down example find four machine drop. Bank vote ago teach team possible brother. Smile strong computer thousand enter moment federal billion.',\n",
       "       'Security base lose environment west reveal. Total company trouble ready late everything trial. Appear clear instead. Popular situation tell record single by southern.',\n",
       "       'Safe also anything beyond sister million customer. Role other year member. Item effort responsibility present across want court image.',\n",
       "       'Remain avoid outside beyond month child. Pressure whose stock hard throughout. Development identify truth fine.',\n",
       "       'Important own scientist perform article. Yes notice road drug. Set father around piece enjoy. Wait majority safe whom century main. Level science play would executive like.',\n",
       "       'Begin particular thus. Wall protect prepare leave although time. Quickly score while.',\n",
       "       'Thousand field real would image talk. Sea technology enough it natural key.',\n",
       "       'Training special consider peace according size view. Serious small final list why college. Color produce note assume.',\n",
       "       'Change place today force under. Hospital professional no seven agree forward list around. Goal building stock call.',\n",
       "       'Discussion nothing member hour idea herself five. Education born training never above next former. Far pull necessary child. This mother hot response effect soldier difficult.',\n",
       "       'Even attention senior deal positive. As stop million will knowledge. Analysis about like may safe. Machine smile stage unit.',\n",
       "       'Main buy growth assume identify how. Instead control these only hair important. West range international clearly grow approach sound.',\n",
       "       'Buy statement but. Traditional main hundred way. Game beautiful bank find up for drive husband. Cold box behind phone floor speech me throw.',\n",
       "       'Capital if another. Join those individual during her its PM thus.',\n",
       "       'Man American school. Meeting minute candidate section direction rock reveal. Lose however make. Son build small husband if certain.',\n",
       "       'Him draw nothing person during threat yard. Area them dark character. Old somebody drop.',\n",
       "       'Face college wear yard firm real leader. Seven return peace positive very unit line might. Issue threat stop go air rule million. Hot nature quite although become represent government.',\n",
       "       'Seat employee member TV. Pressure during action lot realize chair son career.',\n",
       "       'Decade it exactly kind scene movement commercial simply. Include bed safe. West have heavy member city. Hear positive director growth.',\n",
       "       'Threat owner among product herself animal. Raise car attention. Performance real trial. Page guess more.',\n",
       "       'Move level crime local court shoulder. Along amount interesting argue better trouble investment nature. Impact nor media event choice. Ready reveal hit strong.',\n",
       "       'Analysis political particular discuss particularly. Become create put middle effort home. Science music go capital among administration campaign mother. East skill Mrs mouth skin.',\n",
       "       'Staff however discussion goal only. Apply campaign station enter. Lose poor part through sometimes.',\n",
       "       'Stand claim lawyer for box across benefit. Provide away two any official. Street manage health control pattern store. Answer material realize very interview staff article.',\n",
       "       'According security successful school heavy word ten. Hold manager should ask source. Allow plant security cultural policy hope bring.',\n",
       "       'Billion general modern amount fish change color. Sound ready hold. Serve power prepare medical page meet ok. Stop trade institution others behavior place.',\n",
       "       'Wide board team blood skill usually. Young toward career foreign.',\n",
       "       'Course seek sort happen physical none information program. From teacher stage through believe same bag. Actually drop perhaps your everything. Long work identify art.',\n",
       "       'Exactly already general particularly enjoy research participant. Today usually cut summer. Significant product population response second raise especially management. Experience point civil.',\n",
       "       'Need site behavior hour. Medical into have if stuff pretty including between. Theory relationship produce team realize of. Only machine behavior performance direction true plant. Base building picture owner thank both if.',\n",
       "       'Church during soon suggest. Write according work protect. Author keep choose since however.',\n",
       "       'Nation near appear cold since traditional. Very small exactly occur rise. Pm establish hand research prevent her small. Certainly language return establish perform. Pay mean name daughter.',\n",
       "       'Large daughter charge have scientist. Respond difficult identify threat water argue. Old game research lot. Ahead service a speak imagine voice room about. Very third mind number many top hand remain.',\n",
       "       'Begin gun phone clearly be American. Method force production agency from admit. Poor family page chair message about. Natural mouth food responsibility watch road light. Fact control three animal lose throw half.',\n",
       "       'Forget east common social industry through last. Perform worry market entire where who. Also write finish plant issue.',\n",
       "       'No teach positive half senior herself. Choose great country appear new. Forward young impact arrive.',\n",
       "       'Important two recognize she tell year. School bad pretty. Risk few sit professor. Happen hard case fill. Different try think federal.',\n",
       "       'Over ready responsibility base. Western future apply central summer purpose. Both should how reality. Certainly development simply mouth heart drive accept TV.',\n",
       "       'Ten administration become story during practice involve. Also wait far fall quite cut talk lead. Benefit less hear day charge event visit still. With top first.',\n",
       "       'May later morning decade. Drive I near a lawyer success. Off son while computer too service commercial.',\n",
       "       'Accept support shoulder. Political I easy similar. Risk easy artist after energy force.',\n",
       "       'Trade us hot author strong girl. If check else budget degree such structure respond.',\n",
       "       'Sort get campaign. Lay hit almost late. Table carry piece democratic again. Power model event bad. Consumer character kind involve hair man could.',\n",
       "       'Leg issue or father teacher degree. And effect bed religious almost local attention. Chair think may without.',\n",
       "       'After nice fill and can election interview. Next business thing manage door. Simple our make final plan apply network themselves.',\n",
       "       'Religious town so computer. New season issue cover. Within firm idea likely. Building push statement body must air.',\n",
       "       'Lot body little idea hear bank. Thus vote line too reality. Force center road course. Down card yard yourself reduce pull smile.',\n",
       "       'Physical light player ball. Pull sound present idea why environmental. Later turn debate candidate security contain positive. Man mission network serve.',\n",
       "       'Fire ask piece number fall. Who affect what reveal. Back actually you good.',\n",
       "       'Character child suggest field couple. Prove fine pattern democratic black. Chance seven despite we. Much black sort. Couple table born service too leader.',\n",
       "       'Political record information soon she simple against memory. Perhaps take see want land response remember.',\n",
       "       'Reality star risk PM. Red serious individual production. Fall public training respond try half. Herself voice power skill level nor lot.',\n",
       "       'Happen memory dog during task. Organization ahead camera industry stop.',\n",
       "       'Almost public local health mind. Ever conference anything knowledge yet trade pretty.',\n",
       "       'Until huge how hard both relate yourself. Piece true drop character bar. Better institution bill play beautiful show.',\n",
       "       'Leave despite available. Difficult help service suggest mother surface. Feeling who wind city.',\n",
       "       'Them wind responsibility born majority positive. Fast at environmental catch medical near. Box article else treatment somebody single news water.',\n",
       "       'Democratic hotel past population cover marriage. Which share how here. Stop ground apply lot treatment action choose. Drop since sense recently. Listen rise whatever dream writer land.',\n",
       "       'Heart oil even institution reflect early make. Cup know maintain strategy low. Return class increase agency prove water effort. Sing bag certainly capital laugh.',\n",
       "       'Finally power keep guy describe. Major teacher the appear experience loss end. Music care water reflect just bank. About especially public leader develop finally all.',\n",
       "       'Money trouble to. Foreign station behavior animal despite. Change out especially standard. Author raise really note.',\n",
       "       'Like join relate operation. No benefit against cost allow couple. Lawyer more degree rest first.',\n",
       "       'Our would everyone. Model name both bill account against growth same.',\n",
       "       'Hot thousand in window. Medical around age behind free possible billion. View room project born.',\n",
       "       'Seat everyone family week less prove or. Green total drive money. Draw enter around fly. Special during painting hit.',\n",
       "       'Occur probably American. Miss size section term once finally wife fact. Money else possible conference house between. Issue order and support ten bag.',\n",
       "       'Hard learn than bank there here laugh. Stay bring should phone there.',\n",
       "       'Product benefit me blue force. Writer husband cold he. East include garden agreement. Which test citizen individual treatment walk.',\n",
       "       'Half laugh senior outside. Hear always today customer fund method condition significant. Later network be itself capital however house. Increase red series store job animal notice.',\n",
       "       'Water personal kid standard bad game range. Yeah system admit tough paper. Interesting just focus heart.',\n",
       "       'Reflect car agreement score clearly then reveal. Gas dinner beautiful. Economy really discussion smile education cultural. Smile blue number upon begin degree yard. Investment nor difference face.',\n",
       "       'Term attorney still. Air task former street. Drug hot law quality. Yourself improve order movie computer.',\n",
       "       'Benefit success machine debate season site democratic. Air lay example material read well. Sea every move court bring. Officer drop his computer prevent car effect. Join authority almost detail budget doctor adult.',\n",
       "       'Management always last note stock significant. Pass company bring lay. Market decision deep activity whether policy summer hand.',\n",
       "       'Pm series thousand customer action. Only phone near sit provide list. Beyond station consider. Pull not pass local event.',\n",
       "       'And impact design likely Democrat carry of. Apply than her police up character. Despite skin explain north blue. Great agreement bank.',\n",
       "       'City leave close after leader rock. Best feeling decide blue similar. Sign read player space garden including eye. Argue movie full as. Tree sit mother together politics green.',\n",
       "       'AI Engineer with expertise in artificial intelligence, machine learning, and deep learning. Skilled in Python, TensorFlow, and developing AI-powered applications.',\n",
       "       'Data Engineer with a focus on ETL processes, data pipelines, and data warehousing. Skilled in Python, SQL, and big data technologies like Hadoop and Spark.',\n",
       "       'MLOps Engineer with a strong background in machine learning model deployment, monitoring, and optimization. Skilled in Docker, Kubernetes, and CI/CD pipelines.',\n",
       "       'Passionate Deep Learning Engineer with expertise in neural network design, training, and optimization. Skilled in TensorFlow, PyTorch, and computer vision.',\n",
       "       'Computer Vision Engineer specializing in image processing, object detection, and video analytics. Experienced in OpenCV, TensorFlow, and deep learning models.',\n",
       "       'NLP Engineer with experience in natural language processing, text classification, and sentiment analysis. Skilled in Python, TensorFlow, and NLP libraries like NLTK and spaCy.',\n",
       "       'Creative iOS Developer with a focus on building elegant and user-friendly applications for Apple devices. Proficient in Swift, Xcode, and iOS SDK.',\n",
       "       'Innovative Android Developer with a passion for mobile app development and user experience design. Skilled in Java, Kotlin, and Android Studio.',\n",
       "       'Creative Mobile Developer specializing in iOS and Android app development. Proficient in Swift, Java, and React Native, with a focus on user-centric design principles.',\n",
       "       'React Native Developer specializing in cross-platform mobile app development. Proficient in React, JavaScript, and building high-performance mobile applications.',\n",
       "       'Flutter Developer specializing in mobile app development and user experience design. Skilled in Dart, Flutter SDK, and cross-platform development.',\n",
       "       'Site Reliability Engineer with expertise in maintaining high-availability systems and automating infrastructure. Skilled in Docker, Kubernetes, and cloud services.',\n",
       "       'Systems Engineer with a focus on designing and optimizing complex systems for performance and scalability. Skilled in Python, Linux, and system architecture.',\n",
       "       'Infrastructure Engineer specializing in cloud infrastructure design and management. Proficient in AWS, Azure, and infrastructure as code tools like Terraform.',\n",
       "       'Kubernetes Engineer with experience in container orchestration and managing Kubernetes clusters. Skilled in Docker, Kubernetes, and cloud services.',\n",
       "       'Platform Engineer with expertise in designing and maintaining scalable platforms for web applications. Skilled in Docker, Kubernetes, and cloud infrastructure.',\n",
       "       'Dedicated Security Engineer with a strong background in cybersecurity, risk assessment, and incident response. Skilled in penetration testing and security audits.',\n",
       "       'Cybersecurity Engineer with a strong background in network security, threat detection, and incident response. Skilled in penetration testing and security audits.',\n",
       "       'Information Security Analyst specializing in security assessments, risk management, and compliance. Skilled in cybersecurity tools and incident response.',\n",
       "       'Penetration Tester with experience in ethical hacking, vulnerability assessments, and security audits. Skilled in network security and penetration testing tools.',\n",
       "       'Database Administrator skilled in optimizing SQL queries and maintaining database health through regular backups and maintenance.',\n",
       "       'Number benefit any reality carry. Late final field allow. Call home image seven buy like my green. Marriage customer wide home crime little. Offer also product show.',\n",
       "       'Send world individual. Serve attorney listen bar themselves seven this. Notice Republican sing friend might movement.',\n",
       "       'Green skin affect speech. Bed provide such yes.',\n",
       "       'Finally themselves approach people suffer. Event allow factor pay take beat air. Power nearly majority nature when close and.',\n",
       "       'Process result hair else. Capital worker step development perform left some. Good up party throughout particularly. Than purpose beat research win increase. Interest recent hold.',\n",
       "       'Within treat send establish thus financial. Thing both so author total. Event term last.',\n",
       "       'Both cut husband business glass matter. Data experience test. You today area size. With simple resource blue. Quality charge fly treatment answer tough skin.',\n",
       "       'Ahead trouble listen next. Former big almost recognize. We fish get.',\n",
       "       'Month section west ten present say. Great possible above job big.',\n",
       "       'Subject image without discussion view Democrat. Family measure act specific whose many. Develop former air month.',\n",
       "       'Bring employee capital will boy student respond court. Sea natural gun also art building radio. Skill stage many your indeed. Piece woman can red campaign.',\n",
       "       'Common Congress international human best chair until. Nation foreign center one. Meeting add perform middle brother.',\n",
       "       'Course perform fear act country perhaps plan security. Recent single phone yes spend. Sister center old growth Republican situation meet.',\n",
       "       'Sing yourself fish project since Mr expect. True east wish quite.',\n",
       "       'Live from skin activity include generation. Business him participant nation. Enter together instead forward.',\n",
       "       'Guess reflect appear. Consider between whether recent.',\n",
       "       'Month return break million hotel. Part talk minute indicate young form someone. Force moment cell activity seven agent. Same fear maybe.',\n",
       "       'Director point former factor. Similar remain relate quite amount well. Author grow next former each far. Of if history type life half either.',\n",
       "       'Result value face recent. Director lose thus unit summer practice anyone. Compare ago feel hundred. Series allow attention wonder. Standard data believe teacher.',\n",
       "       'Allow course rock end. Mrs color author task. Already career quite a position candidate read. Them son be let station him entire.',\n",
       "       'Before health move the who strong realize. Together sister individual.',\n",
       "       'Prepare star might debate become whose picture. Land look everyone push state morning produce ever. Range treat list college against dog. Amount end reason spring forget.',\n",
       "       'Blood experience describe TV great six brother. Anyone run for society story under.',\n",
       "       'Station discussion total somebody son assume third. Certainly however view. Today country window southern development it will to.',\n",
       "       'Write write loss century project. Almost response movement later ball. Quickly institution want play effect road weight. Head analysis think ahead.',\n",
       "       'Night thus however treatment note test sell. Bank can lead.',\n",
       "       'Tv above try his participant story seem data. Less develop truth girl mind change born. Finally whom throw pretty financial.',\n",
       "       'Picture director shake Mr defense leave. It respond avoid beat from oil car seem. Foreign medical then article build unit to. Whether own mother by happen. Power can office.',\n",
       "       'Positive subject standard record together debate writer economic. Hair sit over sea project fight. Peace cultural science door her film rich eye.',\n",
       "       'Animal your condition human compare create. Almost design Democrat answer. Year will rule which happen. Force wall spend director. Example leg face their green event Mr.',\n",
       "       'Fire position summer boy life ago. Small must spend hotel draw. Technology use dark. Alone seat attention war skill.',\n",
       "       'Including painting network firm street. Summer all staff leader. Door bed do show. Where news perform his would water TV. Ready stage share would month military.',\n",
       "       'Finally several six lay discuss value. Spend throw everyone draw. Best lot man hospital. Beautiful available someone trouble wait.',\n",
       "       'Case south table family clearly. Along into paper security Mrs child. Son expert soon manage alone factor. Example school true marriage.',\n",
       "       'Order available beyond current. Visit stand thank state significant. Ready dream natural while happen. Its generation television. Technology clearly recent south provide seat lawyer.',\n",
       "       'Because practice any because measure. Medical have really community value. Economy such perform. Environmental herself statement raise better reality step.',\n",
       "       'Action development force it white wear. Floor drive weight write. Receive also into everybody kitchen approach. Central political six resource break effect final. Life church himself.',\n",
       "       'Fill agreement special sing when appear participant. Themselves eat country. Right sense member rate once performance.',\n",
       "       'Court cause poor owner high green. Theory so lose such bring feel remember admit. Anyone entire prevent per project. Several respond shoulder short part adult. Firm place pretty general happen.',\n",
       "       'Myself pressure get at enough. Open create character later. Radio another store they. Once future market size. Training some prevent voice gun spend expert.',\n",
       "       'Media she any threat. Easy likely finish still. Nice true establish who west training. Rather eight sea.',\n",
       "       'Choice able we party. Experience rate down effort health win. Worry which window.',\n",
       "       'Ask maybe somebody staff he. Offer rate million task. Through must southern relationship hour.',\n",
       "       'Hope course production agent begin. Choose fear fish similar production fast fact. Health store let theory sit. Realize everybody which section of follow. Job talk job summer.',\n",
       "       'Product certainly order few store color figure. Man him very trade shoulder fast and. East station tree see. Low happen either method. Teacher try those between.',\n",
       "       'Mrs entire join site dog very. Bag campaign consider remember tree. Cell end street weight relationship quality. Whose citizen director how.',\n",
       "       'Read decision yet deep arrive. Foreign ball personal we.',\n",
       "       'Rich sing significant young director type another. All direction stock bill citizen local little. Southern almost factor international measure research. Bring scientist time her particularly manager. Without hold person entire issue political.',\n",
       "       'Remain brother I read begin space. Style deep check thus single hold rest job. Despite mission citizen assume. Star for night smile evening wish. Task pattern sign attention book.',\n",
       "       'International man note use energy. Pull bar candidate stuff yes. Turn community item support pattern.',\n",
       "       'Yes consider candidate technology card opportunity. Themselves create president. Success over space individual husband fire.',\n",
       "       'Practice policy about development phone. Case knowledge weight. Within walk west pattern range until.',\n",
       "       'Matter article market idea parent. Audience you almost form measure good culture.',\n",
       "       'Red interest fill whose. No question newspaper arrive father. Shoulder yourself send commercial actually avoid level.',\n",
       "       'Plant nature sense as for. Fund important recently grow sport according identify. Peace recent record the perhaps trip. Blue letter identify before.',\n",
       "       'Mind management fact structure even without art poor. Speech question way something indicate area.',\n",
       "       'Summer answer our view item decide. Service science write firm entire. Another lot consider.',\n",
       "       'Rest positive experience many foot. Day suggest chance. Sound either citizen here contain. Toward improve individual house however institution toward option.',\n",
       "       'Individual baby simply view international grow newspaper different. Health speech good on land. Might soldier ever air would person day.',\n",
       "       'Space town take government them at. Only apply increase affect.',\n",
       "       'Would even sister wish decade. Onto arrive similar provide education ahead heavy seven. Build happen focus meet friend issue easy create. History than us decade.',\n",
       "       'Fact job eye near partner development begin. Down less economic painting.',\n",
       "       'Necessary step assume city. Today against over. Above even road game want. Sometimes any song black audience.',\n",
       "       'Point customer professional able level why. Recognize onto market maybe tend teacher. Clearly worry include.',\n",
       "       'Break note cost wish receive conference expect. Worry necessary opportunity movement understand. Phone hot morning message chair.',\n",
       "       'Green nothing go nothing blue mission allow century. That news its knowledge. Finally per ten form election. Act thank really seat generation growth able.',\n",
       "       'Serve put pass responsibility. Identify mean same strategy new really. Kid think above wife let brother.',\n",
       "       'Tree loss do mention. Newspaper community care themselves partner investment.',\n",
       "       'Man people girl change. Dark easy pretty management that rise. Program north other shoulder together population say. Before there but culture protect point must.',\n",
       "       'Notice rate fight enter. Although buy buy maintain hit forget. Choice pretty bed body.',\n",
       "       'Son go increase they. Answer participant increase behind interview. Various local edge last. May recently Republican sit tonight treatment. Care artist both nature test huge.',\n",
       "       'Outside very tax into. Fact its true leave leg. Our its until stock.',\n",
       "       'North story decision. Everybody early spend. Level well foot difference might.',\n",
       "       'Daughter people condition school adult win glass. Common hot rock work around girl. Involve to tonight inside agreement reach fall.',\n",
       "       'Laugh last politics assume hundred late. Energy quite adult learn. Office senior wonder fly somebody fish.',\n",
       "       'Husband quality reflect. Available exactly rather threat attorney.',\n",
       "       'Than movement occur meeting oil. Country safe like letter western. Rise choose maybe friend song final.',\n",
       "       'Else throw population. Third present price read. Process memory maintain leader affect. Note house form reduce spend describe according keep.',\n",
       "       'Seek wife action that win shoulder. Most avoid western behind past its. Bill near more firm produce them. Side individual social.',\n",
       "       'Push part themselves agreement call would. Main there pretty become side behind similar. Difference water say really leave them. Prevent four plant company history father financial study.',\n",
       "       'Whole actually conference two hospital be technology. Rule story one. Recognize result form politics tree exactly particular.',\n",
       "       'Site the and middle. Born data see. Agree keep alone teacher sister bar.',\n",
       "       'Central TV check trouble factor may later just. Challenge bed official dinner offer like second easy. Success three last type Democrat audience. Discussion number leave perhaps thank customer.',\n",
       "       'Person but could raise allow. One machine politics floor. Late growth than consider.',\n",
       "       'Issue result perform. Nation once sing fear family market exist. Unit employee time. Money consider plant force agency goal couple. Will public education quite type race glass under.',\n",
       "       'Story one guess conference whose full article. Play air network pretty expect. Detail Republican leg fast because scientist where situation. Effort movie director face project.',\n",
       "       'Next whole fall. Laugh answer conference above.',\n",
       "       'Spring Mrs challenge baby activity gun else brother. Dinner money stock age fund energy.',\n",
       "       'Court window prove finish kitchen land person. Might middle same next indicate represent.',\n",
       "       'Case term little likely. Within hand forward letter entire management. News use foot admit.',\n",
       "       'Public order site brother defense hot action. Gun business line common big never your. Book dog too across raise inside. Gun mention speech shoulder.',\n",
       "       'At parent simply big option practice than child. Range job performance put card. Discuss world resource skill against teach station picture.',\n",
       "       'Party according develop. Summer exactly idea. Even economic make material. Big ago clear skill. Attorney PM produce say hair.',\n",
       "       'Television north so drug author everybody affect black. Away available star turn reflect final source. Something sit main ask crime. Trial fund card begin current enjoy heart. Race certain direction on total interview.',\n",
       "       'Argue day here. Become ahead mouth hope hard from. Expert unit son particular finally rate bring. Range though though lawyer city use several four.',\n",
       "       'Behind stay analysis reflect bar leader. Choose civil suddenly generation bring involve. Rich democratic matter himself beautiful.',\n",
       "       'Indeed training step radio here who. Expect inside public even fire sport day. Work stock city against travel.',\n",
       "       'Draw two owner. Black employee parent. Simple term half democratic goal.',\n",
       "       'Animal indeed law house threat society. Work thus cultural move. School wall eat with. Bad conference still south.',\n",
       "       'Different authority management indicate. Before open hot top type. Young onto you than. Suggest law happy above whole magazine news degree.',\n",
       "       'SQL Developer specializing in writing optimized SQL queries and database management. Skilled in database design, normalization, and performance tuning.',\n",
       "       'NoSQL Developer with experience in managing and scaling NoSQL databases like MongoDB and DynamoDB. Proficient in JavaScript and database optimization.',\n",
       "       'Blockchain Developer with experience in smart contract development and integration of blockchain technologies in decentralized applications.',\n",
       "       'Embedded Systems Engineer with experience in designing and developing embedded solutions for IoT devices and microcontrollers.',\n",
       "       'Quality Assurance Engineer with extensive experience in testing web applications, identifying bugs, and ensuring software quality. Skilled in test automation and bug tracking tools.',\n",
       "       'Automation Engineer with expertise in designing and implementing automated test scripts and CI/CD pipelines. Skilled in Python, Selenium, and test automation frameworks.',\n",
       "       'Technical Architect with a focus on designing complex software systems and defining technical requirements. Skilled in cloud architecture and system integration.',\n",
       "       'Strategic Solutions Architect with experience in large-scale enterprise system design and implementation. Skilled in cloud architecture and complex system integration.'],\n",
       "      dtype=object)"
      ]
     },
     "execution_count": 787,
     "metadata": {},
     "output_type": "execute_result"
    }
   ],
   "source": [
    "cleaned_candidates[\"summary\"].unique()"
   ]
  },
  {
   "cell_type": "code",
   "execution_count": 788,
   "metadata": {},
   "outputs": [],
   "source": [
    "def count_duplicate_summaries(df):\n",
    "   duplicate_counts = df['summary'].value_counts()\n",
    "   duplicates_only = duplicate_counts[duplicate_counts > 1]\n",
    "   \n",
    "   total_affected_rows = duplicates_only.sum()\n",
    "   \n",
    "   print(f\"Found {len(duplicates_only)} summaries with duplicates:\")\n",
    "   print(f\"Total rows affected: {total_affected_rows}\")\n",
    "   print()\n",
    "   \n",
    "   for summary, count in duplicates_only.items():\n",
    "       print(f\"'{summary[:50]}...' appears {count} times\")\n",
    "   \n",
    "   return duplicates_only\n",
    "\n",
    "def count_unique_summaries(df):\n",
    "   duplicate_counts = df['summary'].value_counts()\n",
    "   unique_only = duplicate_counts[duplicate_counts == 1]\n",
    "   \n",
    "   print(f\"Found {len(unique_only)} unique summaries:\")\n",
    "   for summary in unique_only.index:\n",
    "       print(f\"'{summary[:50]}...'\")\n",
    "   \n",
    "   return unique_only"
   ]
  },
  {
   "cell_type": "code",
   "execution_count": 789,
   "metadata": {},
   "outputs": [
    {
     "name": "stdout",
     "output_type": "stream",
     "text": [
      "Found 39 summaries with duplicates:\n",
      "Total rows affected: 3807\n",
      "\n",
      "'Strategic Solutions Architect with experience in l...' appears 100 times\n",
      "'NLP Engineer with experience in natural language p...' appears 100 times\n",
      "'Systems Engineer with a focus on designing and opt...' appears 100 times\n",
      "'Site Reliability Engineer with expertise in mainta...' appears 100 times\n",
      "'Flutter Developer specializing in mobile app devel...' appears 100 times\n",
      "'React Native Developer specializing in cross-platf...' appears 100 times\n",
      "'Creative Mobile Developer specializing in iOS and ...' appears 100 times\n",
      "'Innovative Android Developer with a passion for mo...' appears 100 times\n",
      "'Creative iOS Developer with a focus on building el...' appears 100 times\n",
      "'Computer Vision Engineer specializing in image pro...' appears 100 times\n",
      "'Results-driven DevOps Engineer with proven experti...' appears 100 times\n",
      "'Passionate Deep Learning Engineer with expertise i...' appears 100 times\n",
      "'MLOps Engineer with a strong background in machine...' appears 100 times\n",
      "'Data Engineer with a focus on ETL processes, data ...' appears 100 times\n",
      "'AI Engineer with expertise in artificial intellige...' appears 100 times\n",
      "'Analytical Data Scientist with a passion for machi...' appears 100 times\n",
      "'Creative Web Developer with a passion for building...' appears 100 times\n",
      "'Experienced Python Developer with a strong backgro...' appears 100 times\n",
      "'Infrastructure Engineer specializing in cloud infr...' appears 100 times\n",
      "'Kubernetes Engineer with experience in container o...' appears 100 times\n",
      "'Platform Engineer with expertise in designing and ...' appears 100 times\n",
      "'Dedicated Security Engineer with a strong backgrou...' appears 100 times\n",
      "'Detail-oriented Java Developer specializing in bac...' appears 100 times\n",
      "'Innovative JavaScript Developer with extensive exp...' appears 100 times\n",
      "'Full-Stack Developer proficient in both front-end ...' appears 100 times\n",
      "'Backend Developer specializing in building scalabl...' appears 100 times\n",
      "'Technical Architect with a focus on designing comp...' appears 100 times\n",
      "'Automation Engineer with expertise in designing an...' appears 100 times\n",
      "'Quality Assurance Engineer with extensive experien...' appears 100 times\n",
      "'Embedded Systems Engineer with experience in desig...' appears 100 times\n",
      "'Blockchain Developer with experience in smart cont...' appears 100 times\n",
      "'NoSQL Developer with experience in managing and sc...' appears 100 times\n",
      "'SQL Developer specializing in writing optimized SQ...' appears 100 times\n",
      "'Database Administrator skilled in optimizing SQL q...' appears 100 times\n",
      "'Penetration Tester with experience in ethical hack...' appears 100 times\n",
      "'Information Security Analyst specializing in secur...' appears 100 times\n",
      "'Cybersecurity Engineer with a strong background in...' appears 100 times\n",
      "'Cloud Engineer with expertise in AWS cloud service...' appears 100 times\n",
      "'Final year Computer Science student at City, Unive...' appears 7 times\n"
     ]
    }
   ],
   "source": [
    "duplicate_summary_counts = count_duplicate_summaries(cleaned_candidates)"
   ]
  },
  {
   "cell_type": "code",
   "execution_count": 790,
   "metadata": {},
   "outputs": [
    {
     "name": "stdout",
     "output_type": "stream",
     "text": [
      "Found 800 unique summaries:\n",
      "'Allow or woman town when. Marriage us life custome...'\n",
      "'Very resource store less I simply. Car this includ...'\n",
      "'Not cost past program body. Sort reason believe tr...'\n",
      "'Argue age better hard under themselves. Professor ...'\n",
      "'Yard federal last budget hand local section. Conti...'\n",
      "'Must authority increase according which ago. Sing ...'\n",
      "'Heavy these visit practice. Article accept big coa...'\n",
      "'Soon house thousand side dinner visit. Game world ...'\n",
      "'Story clear soldier project. Worry enjoy election ...'\n",
      "'Easy than order two yourself price member positive...'\n",
      "'Performance her this recognize. Technology student...'\n",
      "'Important environment check. Grow cover outside ba...'\n",
      "'Court expect six vote much time source. Event why ...'\n",
      "'Image national tax its. Receive cold animal. Repub...'\n",
      "'Provide out resource whom ask machine. Cause new o...'\n",
      "'Detail go class high good. Economy former section ...'\n",
      "'Exist character thank. Need majority center energy...'\n",
      "'Clear teacher born. Age call head carry war magazi...'\n",
      "'Deal view everyone quite case quite well pressure....'\n",
      "'Guess deep set military trip raise. Participant le...'\n",
      "'Many police bed focus begin. Majority college seat...'\n",
      "'Court painting inside truth director how sell. Ins...'\n",
      "'Blue already piece really. Scientist sound low med...'\n",
      "'Yard relationship eight us. Other forward goal bil...'\n",
      "'Attack including race like. South herself thank kn...'\n",
      "'Perhaps opportunity news site hotel during partici...'\n",
      "'Day only of market. A water face life special resp...'\n",
      "'Agreement us increase every. Seem offer sell posit...'\n",
      "'Responsibility play security cup. Far order minute...'\n",
      "'Fund population table animal. Contain church stand...'\n",
      "'Cover career involve coach number so. Fine rule so...'\n",
      "'When per because but question. Sure concern page w...'\n",
      "'Safe whatever rock have. Official total think them...'\n",
      "'Month reveal choice oil interview leader act. Thro...'\n",
      "'Quite draw network reduce police issue. Deal book ...'\n",
      "'Money marriage heavy name. Service room condition ...'\n",
      "'Should me we worker kid decide. Yes memory think p...'\n",
      "'Turn item rather result theory. Top they which or ...'\n",
      "'Foot since process. Nearly man him. Central them a...'\n",
      "'When explain student. You choose nature sense incl...'\n",
      "'Lead leader see politics. Minute attack detail pai...'\n",
      "'Fast eight measure service point hot. Reflect nort...'\n",
      "'Thousand protect property pick. Cause painting lit...'\n",
      "'Lead explain cause population view. Should task so...'\n",
      "'Certain serve option specific need stay bed. Cell ...'\n",
      "'Threat computer evidence easy much stuff provide. ...'\n",
      "'Such give model option oil. Right although avoid w...'\n",
      "'Green let ball authority high yeah figure. Across ...'\n",
      "'Free finally several evening happen your power. Al...'\n",
      "'Past box off person. Out believe raise letter thou...'\n",
      "'Success quickly second stage trial through example...'\n",
      "'Decide leg once quality teach general. Later throu...'\n",
      "'Guess although why relationship policy until put l...'\n",
      "'Can right herself table now. Page house exactly di...'\n",
      "'Room out determine. Inside draw cause woman seek M...'\n",
      "'Mouth trip region international school treat becau...'\n",
      "'Similar east wish couple trouble employee future. ...'\n",
      "'Return decision specific fly drug popular still. S...'\n",
      "'Deep fund speech organization. Threat really outsi...'\n",
      "'Strategy far second whatever stage message preside...'\n",
      "'Manage civil ten health. Scientist realize goal da...'\n",
      "'Determine recent create gun station worry. Him soc...'\n",
      "'Degree knowledge despite grow poor character west....'\n",
      "'Reach group guy sound population data. Six close v...'\n",
      "'Because speak owner situation itself. Size televis...'\n",
      "'Reality your plant particularly good explain. High...'\n",
      "'As sometimes eat to. Process nor back science thre...'\n",
      "'Attention election fly difficult director. Bar par...'\n",
      "'Hold particularly international he listen. Eye sor...'\n",
      "'Wish admit east still million. Accept action compu...'\n",
      "'Security base lose environment west reveal. Total ...'\n",
      "'Safe also anything beyond sister million customer....'\n",
      "'Remain avoid outside beyond month child. Pressure ...'\n",
      "'Important own scientist perform article. Yes notic...'\n",
      "'Rock term break apply. Real computer serve enjoy w...'\n",
      "'Just agent detail strategy word. Effect body full ...'\n",
      "'Own show reality bank determine reason yourself. G...'\n",
      "'Attention detail measure season organization choos...'\n",
      "'Mr real discussion parent. Probably world value to...'\n",
      "'Serious service accept. Speech mean beat consider....'\n",
      "'Hit approach eye enter prevent discuss others phon...'\n",
      "'Early sometimes card. Political coach off son. Com...'\n",
      "'Food court agent soldier anything phone property h...'\n",
      "'Doctor professional as country play Mr public work...'\n",
      "'Sister bar identify their someone miss page leader...'\n",
      "'General sign answer clearly modern material answer...'\n",
      "'Agent item term decision matter stand during. Scor...'\n",
      "'Country miss forward book Democrat answer country....'\n",
      "'Produce born speech city difference something. Ent...'\n",
      "'Already professor away move mind example many. Boo...'\n",
      "'Best about better include third surface church. Be...'\n",
      "'Tv wind put admit feel. Describe reveal lose stay ...'\n",
      "'Wonder face place choose onto difficult bank posit...'\n",
      "'Natural production again future discuss since one ...'\n",
      "'Situation great recent term camera want. Base comm...'\n",
      "'Four attack stuff special. Job memory lead. Report...'\n",
      "'Early evening wish maintain such have myself. Game...'\n",
      "'Media safe product region assume author PM. Bring ...'\n",
      "'Local weight course single bad find. Nor able conf...'\n",
      "'Factor charge east evening happen less name. Dark ...'\n",
      "'Miss deal positive name safe she. Nation four esta...'\n",
      "'Professional realize whole democratic. Someone beh...'\n",
      "'Leg book important model. Up require leader statem...'\n",
      "'Evidence company civil significant different drop....'\n",
      "'Film herself entire quality. Recently kind firm. P...'\n",
      "'Mother court though drug. Action difficult reflect...'\n",
      "'Evidence care add thousand should worker see right...'\n",
      "'Tree open girl among guess. Drug gas five hot form...'\n",
      "'Available away attorney century ten. Director if g...'\n",
      "'Few structure research moment. Arrive ground laugh...'\n",
      "'Debate it personal man pick imagine development. A...'\n",
      "'Main although end teacher. Month record kid series...'\n",
      "'Information six support risk. Response kid benefit...'\n",
      "'Region main memory television customer. Body choos...'\n",
      "'Else hit set however need. Growth she either body....'\n",
      "'Line cut language out including share expert. Disc...'\n",
      "'Cover actually word reach person through house. Au...'\n",
      "'Store city go organization news matter produce. St...'\n",
      "'Cold job certain late. Indeed easy moment process ...'\n",
      "'Radio memory process skin able cut happen. Any hom...'\n",
      "'Consider natural thought every security speak loss...'\n",
      "'Appear trade success answer degree different churc...'\n",
      "'Measure rather industry. Work interest per week th...'\n",
      "'Region draw run smile financial. Recent me music....'\n",
      "'Find church accept news. Somebody process room cul...'\n",
      "'Check woman record a its state chair. Require spac...'\n",
      "'Change join answer successful personal particular ...'\n",
      "'Many admit traditional write. Back either church b...'\n",
      "'Develop significant dog check. Report item capital...'\n",
      "'Phone myself possible local score become guess. De...'\n",
      "'Large box today budget fine senior receive. Repres...'\n",
      "'Sport pay house describe bill guess action discove...'\n",
      "'Sure race no benefit. About four measure hold. Ope...'\n",
      "'Follow ago image. Second media security cost....'\n",
      "'Everyone base card college into treatment produce....'\n",
      "'Kitchen do service old wait. According significant...'\n",
      "'Fill deep enter. Mrs doctor probably too before po...'\n",
      "'Majority painting responsibility where character b...'\n",
      "'Build white eight which catch reach. Continue requ...'\n",
      "'Key father partner clear arrive song avoid. Color ...'\n",
      "'Very hand agent service sense risk happy. Director...'\n",
      "'Would close sister consumer become. Along no compa...'\n",
      "'Detail member activity statement. Decision into bl...'\n",
      "'Girl nothing ahead lawyer floor happen somebody. C...'\n",
      "'Laugh structure per soon television cause kid. Non...'\n",
      "'Feeling successful civil specific top rest north. ...'\n",
      "'From career large community agent tonight accept. ...'\n",
      "'Between want indicate purpose nation soon there. N...'\n",
      "'Expect structure few government her. Teach recogni...'\n",
      "'Including box what black church budget stop. Indus...'\n",
      "'Assume bill friend home. Professor air argue star ...'\n",
      "'Radio all kind yet. Hot evidence back white specif...'\n",
      "'Case memory decision forget. Happy wish bad respon...'\n",
      "'Cut view difficult move. As remain drive describe ...'\n",
      "'Measure total small finish left call million. Size...'\n",
      "'Note cup alone against hit remain fight might. Tal...'\n",
      "'Hot white argue agreement physical girl common. Si...'\n",
      "'School consider traditional happen. Laugh door top...'\n",
      "'Time explain just say occur occur figure. Keep per...'\n",
      "'Everything start term. Wind treatment always left....'\n",
      "'Century left recent five. Loss sea work green. Pow...'\n",
      "'Dark still though third author weight expert. Noti...'\n",
      "'Rest reason local kitchen through information. Fea...'\n",
      "'Magazine president care rise. Themselves really op...'\n",
      "'Same sea measure. Cup produce military young local...'\n",
      "'Gas treatment star remain yeah number. Door fear a...'\n",
      "'City school project order type. Threat any stock s...'\n",
      "'Trade try sell while. Wrong simply agree into main...'\n",
      "'Popular north else sound center throughout. Thousa...'\n",
      "'North effort might forward. Able security clearly ...'\n",
      "'Fast late describe own score quickly go include. M...'\n",
      "'Happen imagine idea relationship serious. Early be...'\n",
      "'While fact to win. Hour beat high statement we. Na...'\n",
      "'Point worker far something under far save create. ...'\n",
      "'True stand family school success. Structure parent...'\n",
      "'Throw someone nearly glass matter. Simple father o...'\n",
      "'Soon order design certainly season because off let...'\n",
      "'No start less in design type. Per coach analysis t...'\n",
      "'Work soon member test keep well. Whom professor st...'\n",
      "'Say least foot have final resource. Audience playe...'\n",
      "'Series product mission assume person contain certa...'\n",
      "'Ground goal opportunity whose. Human whether figur...'\n",
      "'Ten expert compare sister full. Seven say from cit...'\n",
      "'Last thus rate course child. Voice agree nice new ...'\n",
      "'Himself evidence across key my. Second shake adult...'\n",
      "'Finish table through girl worker. Fall top reduce ...'\n",
      "'Main painting husband behavior seat wife game yard...'\n",
      "'Respond policy politics full administration reason...'\n",
      "'Clearly other share remain. No church energy order...'\n",
      "'Should turn financial popular skin. Not level my w...'\n",
      "'Future building great oil camera. Lead camera expl...'\n",
      "'Discuss beat hard finish bit. Up job front up bit ...'\n",
      "'Hour hear next. Public growth stand small. Claim t...'\n",
      "'Key skill cause international I program. Service w...'\n",
      "'Yet development while blood thing wrong we wonder....'\n",
      "'Radio hit condition. Send suddenly with staff popu...'\n",
      "'Election keep skill let. Start view degree word. F...'\n",
      "'Of perform newspaper staff protect service eat. Fe...'\n",
      "'Produce stuff remain. Effect we blue anyone before...'\n",
      "'Begin particular thus. Wall protect prepare leave ...'\n",
      "'Thousand field real would image talk. Sea technolo...'\n",
      "'Training special consider peace according size vie...'\n",
      "'Order available beyond current. Visit stand thank ...'\n",
      "'Action development force it white wear. Floor driv...'\n",
      "'Fill agreement special sing when appear participan...'\n",
      "'Court cause poor owner high green. Theory so lose ...'\n",
      "'Myself pressure get at enough. Open create charact...'\n",
      "'Media she any threat. Easy likely finish still. Ni...'\n",
      "'Choice able we party. Experience rate down effort ...'\n",
      "'Ask maybe somebody staff he. Offer rate million ta...'\n",
      "'Hope course production agent begin. Choose fear fi...'\n",
      "'Product certainly order few store color figure. Ma...'\n",
      "'Mrs entire join site dog very. Bag campaign consid...'\n",
      "'Read decision yet deep arrive. Foreign ball person...'\n",
      "'Rich sing significant young director type another....'\n",
      "'Remain brother I read begin space. Style deep chec...'\n",
      "'International man note use energy. Pull bar candid...'\n",
      "'Yes consider candidate technology card opportunity...'\n",
      "'Practice policy about development phone. Case know...'\n",
      "'Matter article market idea parent. Audience you al...'\n",
      "'Red interest fill whose. No question newspaper arr...'\n",
      "'Plant nature sense as for. Fund important recently...'\n",
      "'Mind management fact structure even without art po...'\n",
      "'Summer answer our view item decide. Service scienc...'\n",
      "'Because practice any because measure. Medical have...'\n",
      "'Case south table family clearly. Along into paper ...'\n",
      "'Individual baby simply view international grow new...'\n",
      "'Finally several six lay discuss value. Spend throw...'\n",
      "'Common Congress international human best chair unt...'\n",
      "'Course perform fear act country perhaps plan secur...'\n",
      "'Sing yourself fish project since Mr expect. True e...'\n",
      "'Live from skin activity include generation. Busine...'\n",
      "'Guess reflect appear. Consider between whether rec...'\n",
      "'Month return break million hotel. Part talk minute...'\n",
      "'Director point former factor. Similar remain relat...'\n",
      "'Result value face recent. Director lose thus unit ...'\n",
      "'Allow course rock end. Mrs color author task. Alre...'\n",
      "'Before health move the who strong realize. Togethe...'\n",
      "'Prepare star might debate become whose picture. La...'\n",
      "'Blood experience describe TV great six brother. An...'\n",
      "'Station discussion total somebody son assume third...'\n",
      "'Write write loss century project. Almost response ...'\n",
      "'Night thus however treatment note test sell. Bank ...'\n",
      "'Tv above try his participant story seem data. Less...'\n",
      "'Picture director shake Mr defense leave. It respon...'\n",
      "'Positive subject standard record together debate w...'\n",
      "'Animal your condition human compare create. Almost...'\n",
      "'Fire position summer boy life ago. Small must spen...'\n",
      "'Including painting network firm street. Summer all...'\n",
      "'Rest positive experience many foot. Day suggest ch...'\n",
      "'Space town take government them at. Only apply inc...'\n",
      "'Subject image without discussion view Democrat. Fa...'\n",
      "'Issue result perform. Nation once sing fear family...'\n",
      "'Next whole fall. Laugh answer conference above....'\n",
      "'Spring Mrs challenge baby activity gun else brothe...'\n",
      "'Court window prove finish kitchen land person. Mig...'\n",
      "'Case term little likely. Within hand forward lette...'\n",
      "'Public order site brother defense hot action. Gun ...'\n",
      "'At parent simply big option practice than child. R...'\n",
      "'Party according develop. Summer exactly idea. Even...'\n",
      "'Television north so drug author everybody affect b...'\n",
      "'Argue day here. Become ahead mouth hope hard from....'\n",
      "'Behind stay analysis reflect bar leader. Choose ci...'\n",
      "'Indeed training step radio here who. Expect inside...'\n",
      "'Draw two owner. Black employee parent. Simple term...'\n",
      "'Animal indeed law house threat society. Work thus ...'\n",
      "'Different authority management indicate. Before op...'\n",
      "'Into owner similar provide plan movie student per....'\n",
      "'Ago set voice task condition teacher effort. Betwe...'\n",
      "'Fast book foreign. Wife form hospital may. Importa...'\n",
      "'Argue nation stage determine lose fall. Imagine bl...'\n",
      "'Politics respond us phone none guess run TV. Type ...'\n",
      "'Resource author give security stand business build...'\n",
      "'Office including focus fill environment. Whole phy...'\n",
      "'Story one guess conference whose full article. Pla...'\n",
      "'Person but could raise allow. One machine politics...'\n",
      "'Would even sister wish decade. Onto arrive similar...'\n",
      "'Central TV check trouble factor may later just. Ch...'\n",
      "'Fact job eye near partner development begin. Down ...'\n",
      "'Necessary step assume city. Today against over. Ab...'\n",
      "'Point customer professional able level why. Recogn...'\n",
      "'Break note cost wish receive conference expect. Wo...'\n",
      "'Green nothing go nothing blue mission allow centur...'\n",
      "'Serve put pass responsibility. Identify mean same ...'\n",
      "'Tree loss do mention. Newspaper community care the...'\n",
      "'Man people girl change. Dark easy pretty managemen...'\n",
      "'Notice rate fight enter. Although buy buy maintain...'\n",
      "'Son go increase they. Answer participant increase ...'\n",
      "'Outside very tax into. Fact its true leave leg. Ou...'\n",
      "'North story decision. Everybody early spend. Level...'\n",
      "'Daughter people condition school adult win glass. ...'\n",
      "'Laugh last politics assume hundred late. Energy qu...'\n",
      "'Husband quality reflect. Available exactly rather ...'\n",
      "'Than movement occur meeting oil. Country safe like...'\n",
      "'Else throw population. Third present price read. P...'\n",
      "'Seek wife action that win shoulder. Most avoid wes...'\n",
      "'Push part themselves agreement call would. Main th...'\n",
      "'Whole actually conference two hospital be technolo...'\n",
      "'Site the and middle. Born data see. Agree keep alo...'\n",
      "'Bring employee capital will boy student respond co...'\n",
      "'Month section west ten present say. Great possible...'\n",
      "'Change place today force under. Hospital professio...'\n",
      "'Large daughter charge have scientist. Respond diff...'\n",
      "'Forget east common social industry through last. P...'\n",
      "'No teach positive half senior herself. Choose grea...'\n",
      "'Important two recognize she tell year. School bad ...'\n",
      "'Over ready responsibility base. Western future app...'\n",
      "'Ten administration become story during practice in...'\n",
      "'May later morning decade. Drive I near a lawyer su...'\n",
      "'Accept support shoulder. Political I easy similar....'\n",
      "'Trade us hot author strong girl. If check else bud...'\n",
      "'Sort get campaign. Lay hit almost late. Table carr...'\n",
      "'Leg issue or father teacher degree. And effect bed...'\n",
      "'After nice fill and can election interview. Next b...'\n",
      "'Religious town so computer. New season issue cover...'\n",
      "'Lot body little idea hear bank. Thus vote line too...'\n",
      "'Physical light player ball. Pull sound present ide...'\n",
      "'Fire ask piece number fall. Who affect what reveal...'\n",
      "'Character child suggest field couple. Prove fine p...'\n",
      "'Political record information soon she simple again...'\n",
      "'Reality star risk PM. Red serious individual produ...'\n",
      "'Happen memory dog during task. Organization ahead ...'\n",
      "'Almost public local health mind. Ever conference a...'\n",
      "'Until huge how hard both relate yourself. Piece tr...'\n",
      "'Begin gun phone clearly be American. Method force ...'\n",
      "'Nation near appear cold since traditional. Very sm...'\n",
      "'Them wind responsibility born majority positive. F...'\n",
      "'Church during soon suggest. Write according work p...'\n",
      "'Discussion nothing member hour idea herself five. ...'\n",
      "'Even attention senior deal positive. As stop milli...'\n",
      "'Main buy growth assume identify how. Instead contr...'\n",
      "'Buy statement but. Traditional main hundred way. G...'\n",
      "'Capital if another. Join those individual during h...'\n",
      "'Man American school. Meeting minute candidate sect...'\n",
      "'Him draw nothing person during threat yard. Area t...'\n",
      "'Face college wear yard firm real leader. Seven ret...'\n",
      "'Seat employee member TV. Pressure during action lo...'\n",
      "'Decade it exactly kind scene movement commercial s...'\n",
      "'Threat owner among product herself animal. Raise c...'\n",
      "'Move level crime local court shoulder. Along amoun...'\n",
      "'Analysis political particular discuss particularly...'\n",
      "'Staff however discussion goal only. Apply campaign...'\n",
      "'Stand claim lawyer for box across benefit. Provide...'\n",
      "'According security successful school heavy word te...'\n",
      "'Billion general modern amount fish change color. S...'\n",
      "'Wide board team blood skill usually. Young toward ...'\n",
      "'Course seek sort happen physical none information ...'\n",
      "'Exactly already general particularly enjoy researc...'\n",
      "'Need site behavior hour. Medical into have if stuf...'\n",
      "'Leave despite available. Difficult help service su...'\n",
      "'Democratic hotel past population cover marriage. W...'\n",
      "'Ahead trouble listen next. Former big almost recog...'\n",
      "'Just first try agent off several. New leader data ...'\n",
      "'Performance leave information sea serious professo...'\n",
      "'Authority build recently think. Whether do close f...'\n",
      "'Dog he continue world this spring style. Month bey...'\n",
      "'Claim however student situation town modern withou...'\n",
      "'Toward power member thank. Line money clearly near...'\n",
      "'Church send discussion former. Thousand game room ...'\n",
      "'Structure then before degree. Method Democrat shar...'\n",
      "'Sort threat bad meet. Tell soon tough leader. Prog...'\n",
      "'Expect interview top figure drive. Almost lawyer c...'\n",
      "'Dark ball age late door. Investment table ever tal...'\n",
      "'Contain great citizen like perhaps. Young many ans...'\n",
      "'Manager college adult lose. Size rich position bed...'\n",
      "'Bar trip special dog PM age sell. Eat as present. ...'\n",
      "'Assume him born truth campaign notice community di...'\n",
      "'Number benefit any reality carry. Late final field...'\n",
      "'Send world individual. Serve attorney listen bar t...'\n",
      "'Green skin affect speech. Bed provide such yes....'\n",
      "'Finally themselves approach people suffer. Event a...'\n",
      "'Process result hair else. Capital worker step deve...'\n",
      "'Within treat send establish thus financial. Thing ...'\n",
      "'Both cut husband business glass matter. Data exper...'\n",
      "'Almost official player force determine throughout....'\n",
      "'Future financial officer now foreign main brother....'\n",
      "'Heart oil even institution reflect early make. Cup...'\n",
      "'Mind only around Mr. Decide care house three littl...'\n",
      "'Finally power keep guy describe. Major teacher the...'\n",
      "'Money trouble to. Foreign station behavior animal ...'\n",
      "'Like join relate operation. No benefit against cos...'\n",
      "'Our would everyone. Model name both bill account a...'\n",
      "'Hot thousand in window. Medical around age behind ...'\n",
      "'Seat everyone family week less prove or. Green tot...'\n",
      "'Occur probably American. Miss size section term on...'\n",
      "'Hard learn than bank there here laugh. Stay bring ...'\n",
      "'Product benefit me blue force. Writer husband cold...'\n",
      "'Half laugh senior outside. Hear always today custo...'\n",
      "'Water personal kid standard bad game range. Yeah s...'\n",
      "'Reflect car agreement score clearly then reveal. G...'\n",
      "'Term attorney still. Air task former street. Drug ...'\n",
      "'Benefit success machine debate season site democra...'\n",
      "'Management always last note stock significant. Pas...'\n",
      "'Pm series thousand customer action. Only phone nea...'\n",
      "'And impact design likely Democrat carry of. Apply ...'\n",
      "'City leave close after leader rock. Best feeling d...'\n",
      "'Record activity very. List analysis mean defense. ...'\n",
      "'But standard scientist money among. Trouble bit mo...'\n",
      "'Every this until city something college decision. ...'\n",
      "'Security theory contain final food time. Like hund...'\n",
      "'Whose second her yeah red than necessary. Win earl...'\n",
      "'Either different old long. Do treat paper because ...'\n",
      "'Service radio majority role. Poor movement late mi...'\n",
      "'Later part her south authority scene. Man draw bef...'\n",
      "'Into resource look language. Collection network co...'\n",
      "'Present kid charge. Left know under. Television fa...'\n",
      "'Yard about policy Mrs beautiful test. Spring want ...'\n",
      "'Ahead level know yet scientist. Mean development a...'\n",
      "'Cause past glass. Either base glass movie througho...'\n",
      "'Season visit month various. Impact simple base tou...'\n",
      "'Fire grow may conference rich task become. Hotel d...'\n",
      "'Enough color blood. Bag either win when seek real ...'\n",
      "'Share friend now drop woman eye administration. Be...'\n",
      "'Until travel west group or we able. Use detail thi...'\n",
      "'Sometimes discover fund moment trial. Deal leg gun...'\n",
      "'Example real child level economy discussion. Old l...'\n",
      "'Dark officer cold film practice yeah. Although cha...'\n",
      "'Company generation pick them size then. Perhaps un...'\n",
      "'Film physical however southern drop within check. ...'\n",
      "'Though station marriage of certain both. Themselve...'\n",
      "'Table pretty both painting quite economic song. So...'\n",
      "'Smile ten report matter. The hit behavior school c...'\n",
      "'Black people manage some entire. Need improve sout...'\n",
      "'Ever now picture couple. Democrat bill factor news...'\n",
      "'Culture Congress economic check name. Rather reduc...'\n",
      "'Realize raise follow people. Executive simply to i...'\n",
      "'Law me family up nation value throughout. Such roo...'\n",
      "'Suggest fight usually. Its technology would. Claim...'\n",
      "'More send wind successful like. Prevent state impo...'\n",
      "'Stop service environmental forward anything but th...'\n",
      "'Mean head want common expect. Discover watch neces...'\n",
      "'Measure world might six store information project....'\n",
      "'High street ask new get able girl. Leader member t...'\n",
      "'Somebody whom plan rather behind. Mother create al...'\n",
      "'Return now result fire specific. Structure financi...'\n",
      "'Body while word century likely. Religious likely w...'\n",
      "'Remain gas responsibility find which with heavy. I...'\n",
      "'Parent pick image support. Evidence late wrong tha...'\n",
      "'Near item popular nice. Service through make. Glas...'\n",
      "'Ability bar while give staff. Call really spend so...'\n",
      "'There local think boy not image season. Group voic...'\n",
      "'Baby seat now the. Political position cover partic...'\n",
      "'South finish Congress message. Owner me east natur...'\n",
      "'He increase administration defense evidence. Ready...'\n",
      "'Drive often even agree film industry scene. Kid ar...'\n",
      "'News around politics operation wrong. Off pay his ...'\n",
      "'Investment little your town fire. Ever easy let pr...'\n",
      "'Nor lawyer find no affect land anyone. Know vote m...'\n",
      "'Civil occur understand forward reason professor re...'\n",
      "'Side appear support grow fire difficult. Baby succ...'\n",
      "'Somebody amount whose yourself physical. Especiall...'\n",
      "'Prove nothing sign professor Mrs region. Audience ...'\n",
      "'Weight admit sometimes site center though. West be...'\n",
      "'Task type maintain computer take share writer. Sto...'\n",
      "'Though sure door may fast source. Much image movie...'\n",
      "'Civil if every top. Join discuss measure these qua...'\n",
      "'Blue see option sound. Along firm for. Even resear...'\n",
      "'Professional sport war usually. Ability it office ...'\n",
      "'Newspaper over air way. Discover beautiful left. C...'\n",
      "'Lot spring of anyone best. Audience upon issue any...'\n",
      "'Miss do anyone skin study different. Me who little...'\n",
      "'Quality garden degree. Check where page rest serve...'\n",
      "'Whole back hundred rather. About this discuss acti...'\n",
      "'Sometimes audience five something. Movie onto west...'\n",
      "'Poor back specific discussion perform. Heavy thous...'\n",
      "'Event keep election remember every. Leader describ...'\n",
      "'Well side reflect break probably. By financial bud...'\n",
      "'Management scientist ok. Security than fly....'\n",
      "'Probably represent item data. Really standard demo...'\n",
      "'Two yet never. Church animal enjoy know may sister...'\n",
      "'Already degree article stage former involve differ...'\n",
      "'Capital treat standard example. Television family ...'\n",
      "'Usually sea process responsibility up director. Dr...'\n",
      "'Science trade through win fire including benefit. ...'\n",
      "'Within than serve leg rise. Class also special all...'\n",
      "'Thank player until professional arm health put may...'\n",
      "'Raise ok statement respond artist. Beautiful type ...'\n",
      "'Others election between. Life themselves turn seri...'\n",
      "'Interview boy themselves sense enter box. Local ma...'\n",
      "'Ready group long lead some really. Green begin bro...'\n",
      "'Sport recent general appear much. Whose high past ...'\n",
      "'Ground look establish approach up something eye. G...'\n",
      "'Attorney energy development dark sense not coach. ...'\n",
      "'Special state strong couple. Agree low once father...'\n",
      "'Body development scene strong series threat. Anoth...'\n",
      "'Pick there recent. Change government recently he r...'\n",
      "'Herself quality figure throw. Control floor thousa...'\n",
      "'Situation customer country must. Defense these hit...'\n",
      "'Person according arm particular information set to...'\n",
      "'Draw nice attack avoid program. Real participant e...'\n",
      "'Hear without particular standard. Morning want aut...'\n",
      "'Good attack skin. Professional argue certain from ...'\n",
      "'Conference realize prepare too police reach. Measu...'\n",
      "'Vote environment seek piece third behind anyone fi...'\n",
      "'Run care site year water. Improve their more make ...'\n",
      "'Eight man fact yeah. Them everyone treatment facto...'\n",
      "'Full doctor state spend yard tonight for. Present ...'\n",
      "'Hot much south. Image last somebody clear. Others ...'\n",
      "'Behind a four hope. Rich very start account....'\n",
      "'Realize indeed brother. Can house military PM. Dre...'\n",
      "'Visit simply chair camera lot politics my. Feel co...'\n",
      "'Table now power technology civil determine. Single...'\n",
      "'Avoid year court able customer world rate. Office ...'\n",
      "'Difference enjoy me life soldier. After us board p...'\n",
      "'Little cold travel son yet he. Nature student exec...'\n",
      "'Community bag television country forget find reduc...'\n",
      "'Tonight house instead evidence event simple intere...'\n",
      "'Peace when cut effect former federal. Bag who noth...'\n",
      "'Board identify nice. Mother discuss eye against ma...'\n",
      "'Amount both provide he daughter during. Fast stage...'\n",
      "'Also music for southern force television glass vot...'\n",
      "'Parent around however management decision appear r...'\n",
      "'Spend medical success amount. Soldier expert image...'\n",
      "'Whole inside clear expert vote TV consider history...'\n",
      "'According building door feeling decide spring arm....'\n",
      "'Threat bad act baby foreign interview. Three never...'\n",
      "'Always father all western. Finish rich major inter...'\n",
      "'Reality voice cell sea. Write list newspaper agent...'\n",
      "'Politics quality lot again charge station record. ...'\n",
      "'Into view Mr. Spring beyond chance. Unit may tree ...'\n",
      "'Camera society expect. Budget agency pressure fire...'\n",
      "'Box camera line. Agency those note practice upon v...'\n",
      "'Nothing side less piece. End fight central. Mind r...'\n",
      "'Set watch above standard above. Radio include staf...'\n",
      "'Dinner from worker future. Development land so int...'\n",
      "'He interest all plant system. Too hundred find vie...'\n",
      "'Stuff their region ask cell they stage. Door gas p...'\n",
      "'Candidate her when difficult leg. Act dream tonigh...'\n",
      "'Others wear company receive nearly floor truth one...'\n",
      "'Me this low yeah me. Say but wall current. Mouth a...'\n",
      "'Page because war which. Stop since measure six....'\n",
      "'Tonight serious value collection girl most parent ...'\n",
      "'Read whole trip table within girl life of. Method ...'\n",
      "'Say benefit since. Arm hundred work personal. Morn...'\n",
      "'Although eight police through. Power few site road...'\n",
      "'Reality decision shake red though per. Record clos...'\n",
      "'Company they most executive which. You tend that b...'\n",
      "'Lead all decade Congress. Industry politics big oi...'\n",
      "'Force including hope walk happy. Woman law fine mi...'\n",
      "'Quality center political fund she produce. Ground ...'\n",
      "'Threat evidence as decision sit again. Guess most ...'\n",
      "'Movement challenge usually tonight member populati...'\n",
      "'Contain land minute miss. Me add allow family data...'\n",
      "'Try leave that best camera. Old do mention enjoy b...'\n",
      "'Family senior peace. Star long chair....'\n",
      "'Nice represent physical room. Others character con...'\n",
      "'Everything clear avoid thousand. Nothing class age...'\n",
      "'Skill during whose gas wonder modern. Section ever...'\n",
      "'Chance interest seat charge bar top he. Stop presi...'\n",
      "'Radio others far project product art anyone. Money...'\n",
      "'Face product economy computer use quality send. Re...'\n",
      "'Republican crime break tend society whatever leade...'\n",
      "'Quality stay street you experience discuss evening...'\n",
      "'Defense author return source realize. Minute test ...'\n",
      "'Pull traditional forward write relate reduce begin...'\n",
      "'Entire choice room force piece. School final measu...'\n",
      "'Leave rich body. Store term today need five....'\n",
      "'Need purpose television specific red. Possible eig...'\n",
      "'Red little cultural a. Week cell tonight trip dire...'\n",
      "'Offer head choice. Next sound of movement. Hot emp...'\n",
      "'The newspaper help career citizen. Cause environme...'\n",
      "'Also top like owner PM feeling star. Audience part...'\n",
      "'Generation energy two such. Camera still dinner....'\n",
      "'Attack morning any Mrs poor laugh. Expect system m...'\n",
      "'Chair board night country sound. Over deal forget ...'\n",
      "'Something seem low get. Case audience public colle...'\n",
      "'Threat war win prepare information order. Up messa...'\n",
      "'Indeed six catch continue. Key local guy ahead go ...'\n",
      "'Defense strong door build gas everyone his allow. ...'\n",
      "'Traditional bag drive perform. Read protect withou...'\n",
      "'Physical high over become point art if time. Also ...'\n",
      "'Determine begin speak care teach save. American it...'\n",
      "'Provide great hair same science card. West but alo...'\n",
      "'Staff writer ball whether less generation trade. R...'\n",
      "'Method cell friend should idea not. Product its li...'\n",
      "'Build local who road. Fund perform scientist durin...'\n",
      "'Few eat itself others true maintain civil. Fact wi...'\n",
      "'Paper hundred civil condition decision eat event m...'\n",
      "'Young picture cell now start. Street girl film tec...'\n",
      "'Certain her particularly however. Process effect w...'\n",
      "'Wife bank student college site front report often....'\n",
      "'Forget minute current American test go our. Raise ...'\n",
      "'Anything answer accept return him hit. Good face p...'\n",
      "'Young tonight accept different need phone enter. C...'\n",
      "'Care herself especially style report. Reflect play...'\n",
      "'Easy where traditional board threat power. Country...'\n",
      "'Public Democrat defense throughout exactly directo...'\n",
      "'About draw by trouble. Western subject popular str...'\n",
      "'Accept million let be. Cell beat gas friend. Lead ...'\n",
      "'Simple can floor identify different race. Degree g...'\n",
      "'Can few herself discuss yard evening president. Th...'\n",
      "'Its keep least south rich music should. Character ...'\n",
      "'Great interest me item carry soldier. Lot could wo...'\n",
      "'Animal admit treatment him. Student team field. Ma...'\n",
      "'Course tonight home since. Pass should perhaps ask...'\n",
      "'About then make good eat. True customer business p...'\n",
      "'About enter pull smile wait feeling adult. Civil s...'\n",
      "'Early system culture window brother almost maintai...'\n",
      "'Yourself second unit anyone personal affect. Red e...'\n",
      "'Offer reality west pretty painting today fast. Qui...'\n",
      "'Miss interesting if especially task. Back structur...'\n",
      "'Morning want family generation. During set left st...'\n",
      "'Tonight personal money we rule mention traditional...'\n",
      "'Participant class try require stuff person. Bag mo...'\n",
      "'Develop structure physical success during series c...'\n",
      "'Threat thus positive hard. Expect drive face black...'\n",
      "'Decision threat save consumer Mrs. Sort film key a...'\n",
      "'Character away red even positive player home. Subj...'\n",
      "'Worry see movie wall. Across grow traditional test...'\n",
      "'Cause ability phone option. Door century wife frie...'\n",
      "'Administration member involve believe. Central bec...'\n",
      "'Network expect difference deal. Cultural despite m...'\n",
      "'Not picture put think bed. Significant soon see we...'\n",
      "'Whom performance finish. Western free too line....'\n",
      "'Inside with local fund single page. Thank response...'\n",
      "'Far project issue whether write. During think chan...'\n",
      "'Red point draw reveal low. Wall skin let argue age...'\n",
      "'Build speech black player. Prevent billion sport p...'\n",
      "'Send full describe use it century beyond. Lead not...'\n",
      "'Early role town near newspaper. Purpose write thus...'\n",
      "'Indeed until happy low. I analysis drop catch seni...'\n",
      "'International scientist strategy father rich. Care...'\n",
      "'Place fight share world forget speak. Heart televi...'\n",
      "'Program attorney much necessary whatever forget de...'\n",
      "'Investment all entire poor. Control past developme...'\n",
      "'Carry physical painting compare sit. Expect opport...'\n",
      "'Three doctor way image political important may. No...'\n",
      "'Write support wonder possible morning stand. Where...'\n",
      "'Ago modern get behavior. Truth data network descri...'\n",
      "'Thus there although. Whom available nature may sid...'\n",
      "'Trial although strong campaign attention evening e...'\n",
      "'Approach push produce want. Point effect place imp...'\n",
      "'Each human name world assume move important. Mind ...'\n",
      "'Real issue reveal act fly pressure class threat. D...'\n",
      "'Surface difference onto night ten agree soldier. K...'\n",
      "'If cell inside raise. Where join section especiall...'\n",
      "'Specific term rise clear. Question scientist compa...'\n",
      "'Tonight scene stay let already. Little family move...'\n",
      "'Environment economy finish this. While attack meas...'\n",
      "'Explain exactly church fear place ground campaign ...'\n",
      "'Situation realize happy arm scientist. Brother pai...'\n",
      "'Treat all house old individual. South art play lea...'\n",
      "'Occur nature teach individual day. Last scene than...'\n",
      "'Stage difficult many boy. Professional theory news...'\n",
      "'Interesting turn phone meet forget. Remain rock la...'\n",
      "'Enough for answer simply four. Although nation aga...'\n",
      "'Role key remember. Ten evening admit argue benefit...'\n",
      "'Bank left once dog build purpose. East beat protec...'\n",
      "'Watch wife just morning year. Establish place agai...'\n",
      "'Either central if agreement expect ability. Little...'\n",
      "'Since level understand serious before care his. Po...'\n",
      "'Myself research war mention too. Open themselves s...'\n",
      "'At form system during life watch large finally. To...'\n",
      "'Recent evidence company certainly continue side pr...'\n",
      "'Project region current road major box. Office deta...'\n",
      "'Other easy fund role deal. Help staff visit. Child...'\n",
      "'Great bag leave drug that. Officer plan air politi...'\n",
      "'Forward which society type. Husband building speak...'\n",
      "'Less dinner near worry. Popular far tonight Republ...'\n",
      "'Growth reality stay pass box. Artist structure thr...'\n",
      "'Yourself both program big there. Crime such exist ...'\n",
      "'Recently exactly arrive right lot. Religious young...'\n",
      "'American at name. Factor good summer guess issue. ...'\n",
      "'Effect character everyone whole computer effect mi...'\n",
      "'Owner almost political music boy. Bring new family...'\n",
      "'Hold relate reflect public heavy but. Matter treat...'\n",
      "'Hotel bank with ask. Rather with account my always...'\n",
      "'Design them this pick nature successful part gas. ...'\n",
      "'Value upon democratic machine radio lot identify. ...'\n",
      "'West five professor agree. State challenge phone. ...'\n",
      "'Growth sister key hear. Financial now their colleg...'\n",
      "'Suggest face window boy half five career. Importan...'\n",
      "'The television even present organization happy fin...'\n",
      "'Federal several notice just decision. Thing approa...'\n",
      "'Line hit certainly quickly whether. Safe reduce go...'\n",
      "'Enough give student address fill interest. Later w...'\n",
      "'Guess response answer. Term hundred region trade. ...'\n",
      "'Next sometimes of officer time movement. Idea repo...'\n",
      "'Agree sort boy idea. Child campaign value by the t...'\n",
      "'Whose technology coach fine cause image. Mind stat...'\n",
      "'Today lose care challenge any among test bill. Alm...'\n",
      "'Official also even event see them ago. Per establi...'\n",
      "'Arm plan hear. Many only view agreement area. Risk...'\n",
      "'Create hospital another investment gas. Several ma...'\n",
      "'Hand rule break level western ago need full. Perso...'\n",
      "'Movement road person article. Necessary senior or ...'\n",
      "'Safe cause recent. Between movement wonder stock g...'\n",
      "'Participant expect mention man. Hundred nearly doo...'\n",
      "'Try create employee view people. Market might mind...'\n",
      "'Simple decision suggest put painting draw article....'\n",
      "'Another product issue difficult down data. Author ...'\n",
      "'Put Mr life. Certain instead article bar real firm...'\n",
      "'Understand work offer employee role. Hold response...'\n",
      "'Discussion south purpose five. Seven she be believ...'\n",
      "'Best thousand wind Republican above. Act design va...'\n",
      "'Common take million speech walk. Rich list door ho...'\n",
      "'Born skin life. Report friend might experience eve...'\n",
      "'Her bag interesting trade above town her I. Bar su...'\n",
      "'Arm rather media truth. Garden fast somebody numbe...'\n",
      "'Environmental everything special relate. Have able...'\n",
      "'Evening red decision community. Among feel profess...'\n",
      "'Threat southern least close line. Tend parent prof...'\n",
      "'Push name executive wait. Decade interesting story...'\n",
      "'Deep teach although option recent decide. Rest wil...'\n",
      "'Truth term billion despite anything grow reflect. ...'\n",
      "'Represent much way item. Rich up soldier....'\n",
      "'World car money four cost see church young. Design...'\n",
      "'Act rate performance media leave support natural. ...'\n",
      "'Simple do study other. After account mother son ma...'\n",
      "'Field maybe public buy. Seat college technology be...'\n",
      "'Billion avoid resource increase fish. Individual s...'\n",
      "'Bar visit ability lead someone need reveal to. Ear...'\n",
      "'Final manage word affect think matter. Technology ...'\n",
      "'Political instead race get note over. Reason ok th...'\n",
      "'Future require raise remain center arrive. Long le...'\n",
      "'Campaign body need room many opportunity performan...'\n",
      "'Garden cold thought week. Study seem anything eigh...'\n",
      "'Up analysis kitchen adult evidence seven hotel. Mi...'\n",
      "'Imagine buy serious learn yourself dinner physical...'\n",
      "'Resource school smile campaign support people. Who...'\n",
      "'Form series prove bed now appear. Small could affe...'\n",
      "'Main they decade require old beat. Father environm...'\n",
      "'Bit other else early easy another performance. Sea...'\n",
      "'Defense check anything. Check whether rate talk mo...'\n",
      "'Third return man whole central town. Individual ec...'\n",
      "'Civil specific force our note. Culture writer by t...'\n",
      "'Practice must question. There deal modern politica...'\n",
      "'Political everything local garden member quite yes...'\n",
      "'Audience accept run. Say ball why all establish af...'\n",
      "'Rise offer remain. Carry less card. Different dark...'\n",
      "'Evidence reveal reason skin already now process. Y...'\n",
      "'Gun whose ever feeling prove Republican cup. Somet...'\n",
      "'Put answer may part six under. Window start rich m...'\n",
      "'Just million less. Mr partner unit set. Six use de...'\n",
      "'Wind than reality direction protect. Card travel l...'\n",
      "'Citizen civil agreement family. Short hot remain s...'\n",
      "'Half citizen second return language building. Acti...'\n",
      "'Career life drive how. Suddenly street model east ...'\n",
      "'Where last company senior difficult idea. Conditio...'\n",
      "'Heavy suffer statement nearly figure high most. Se...'\n",
      "'Man impact fall effect none live hotel walk. Happy...'\n",
      "'Table yourself worker son strong prove foreign. Pi...'\n",
      "'Open work argue election respond particularly. Con...'\n",
      "'Say teacher you affect speech home recently list. ...'\n",
      "'Range recent military artist while. Left money kno...'\n",
      "'She wear until send defense hot because. Situation...'\n",
      "'Prove beat part oil course find identify. Clearly ...'\n",
      "'Someone couple lot. Seem former fear skill unit fr...'\n",
      "'Cold first perhaps account character. Into land ce...'\n",
      "'Health own design position into. Never idea court....'\n",
      "'Person light what letter. Factor democratic modern...'\n",
      "'Yard order step billion phone often. Focus man pol...'\n",
      "'Source me what you early both poor choose. Mean ar...'\n",
      "'Single provide our law four. They why full choice ...'\n",
      "'High class threat until also. Try poor important i...'\n",
      "'Music each town almost movement get series. Prove ...'\n",
      "'Service difficult thousand. Level one establish an...'\n",
      "'Property course language wide. Push back turn it m...'\n",
      "'Threat note lay history turn one plan turn. Girl p...'\n",
      "'Station dinner live buy plan. Spend family because...'\n",
      "'Picture arrive method people back school. Energy p...'\n",
      "'Small thousand pick travel. Decision performance a...'\n",
      "'Choice third city record front continue American d...'\n",
      "'Inside practice must list appear. Suggest black si...'\n",
      "'Among skill few wide memory care. Physical ok drug...'\n",
      "'Amount product return never use anything. Any mill...'\n",
      "'Option any southern likely gas answer. Order test ...'\n",
      "'Push force deal leader audience. Perform push medi...'\n",
      "'History certainly perform break if responsibility ...'\n",
      "'Soldier beautiful debate hundred campaign career p...'\n",
      "'I throughout as music. Total foreign share team. S...'\n",
      "'Report hold total surface soldier anyone clear. Si...'\n",
      "'Yes treatment person must support. Past line succe...'\n",
      "'Really possible position value list office. Consum...'\n",
      "'Reduce expect data specific improve agreement cut....'\n",
      "'Travel modern meet. Prevent thank relate skill wor...'\n",
      "'When research door science letter along own forwar...'\n",
      "'Avoid system life message board fight. As serve wa...'\n",
      "'Friend field agreement. Data tax network imagine w...'\n",
      "'When glass study describe well during none. Book e...'\n",
      "'Color girl once they take across some. Letter writ...'\n",
      "'Likely project question simply over. Two avoid tho...'\n",
      "'Catch wonder director about. Scientist example arr...'\n",
      "'Side usually federal leg. View red put research li...'\n",
      "'Clearly two military federal human responsibility....'\n",
      "'Opportunity artist they ago. Entire energy politic...'\n",
      "'Whole body real cost. Food campaign wonder machine...'\n",
      "'Popular catch serious best we yet. East win thousa...'\n",
      "'Foot consumer behavior company face international ...'\n",
      "'Leader suffer whole improve six. Involve pretty pr...'\n",
      "'Travel article conference first. Table evening suf...'\n",
      "'Than consider focus store bring something. Loss ap...'\n",
      "'Environmental issue move worker need family ago. B...'\n",
      "'Item pattern pay international national analysis i...'\n",
      "'Side discuss consider difference. Listen various s...'\n",
      "'Skin financial fact quickly quickly. Identify huge...'\n",
      "'Sure training free culture choose interest first. ...'\n",
      "'Rise candidate to six perform course story. Career...'\n",
      "'Budget your tend. My affect number month statement...'\n",
      "'Line player program mission adult born. Mean hard ...'\n"
     ]
    }
   ],
   "source": [
    "duplicate_summary_counts = count_unique_summaries(cleaned_candidates)"
   ]
  },
  {
   "cell_type": "markdown",
   "metadata": {},
   "source": [
    "**Apparently the dataset has 800 unique rows of mumbojumbo (non-relative summaries) and should not be used**"
   ]
  },
  {
   "cell_type": "code",
   "execution_count": 791,
   "metadata": {},
   "outputs": [],
   "source": [
    "def remove_unique_summaries(df):\n",
    "   summary_counts = df['summary'].value_counts()\n",
    "   duplicated_summaries = summary_counts[summary_counts > 1].index\n",
    "   return df[df['summary'].isin(duplicated_summaries)]"
   ]
  },
  {
   "cell_type": "code",
   "execution_count": 792,
   "metadata": {},
   "outputs": [],
   "source": [
    "df_no_uniques = remove_unique_summaries(cleaned_candidates)"
   ]
  },
  {
   "cell_type": "code",
   "execution_count": 793,
   "metadata": {},
   "outputs": [],
   "source": [
    "def drop_all_duplicates_except(df,exceptions): \n",
    "    original_len = len(df)\n",
    "\n",
    "    for column in df.columns:\n",
    "        before_len = len(df)\n",
    "        if column in exceptions:\n",
    "            continue\n",
    "        df = df.drop_duplicates(subset=[column])\n",
    "        after_len = len(df)\n",
    "        print(f\"Column '{column}': removed {before_len - after_len} duplicates\")\n",
    "\n",
    "\n",
    "    print(f\"Total rows: {original_len} -> {len(df)}\")   \n",
    "    return df"
   ]
  },
  {
   "cell_type": "code",
   "execution_count": 794,
   "metadata": {},
   "outputs": [
    {
     "name": "stdout",
     "output_type": "stream",
     "text": [
      "Column 'name': removed 96 duplicates\n",
      "Column 'email': removed 35 duplicates\n",
      "Column 'phone': removed 0 duplicates\n",
      "Column 'linkedin': removed 85 duplicates\n",
      "Column 'github': removed 77 duplicates\n",
      "Total rows: 3807 -> 3514\n"
     ]
    }
   ],
   "source": [
    "exceptions = ['city', 'country', 'remote_preference','summary']\n",
    "df_candidates = drop_all_duplicates_except(df_no_uniques, exceptions)\n",
    "    "
   ]
  },
  {
   "cell_type": "code",
   "execution_count": 795,
   "metadata": {},
   "outputs": [
    {
     "data": {
      "text/html": [
       "<div>\n",
       "<style scoped>\n",
       "    .dataframe tbody tr th:only-of-type {\n",
       "        vertical-align: middle;\n",
       "    }\n",
       "\n",
       "    .dataframe tbody tr th {\n",
       "        vertical-align: top;\n",
       "    }\n",
       "\n",
       "    .dataframe thead th {\n",
       "        text-align: right;\n",
       "    }\n",
       "</style>\n",
       "<table border=\"1\" class=\"dataframe\">\n",
       "  <thead>\n",
       "    <tr style=\"text-align: right;\">\n",
       "      <th></th>\n",
       "      <th>name</th>\n",
       "      <th>email</th>\n",
       "      <th>phone</th>\n",
       "      <th>city</th>\n",
       "      <th>country</th>\n",
       "      <th>remote_preference</th>\n",
       "      <th>summary</th>\n",
       "      <th>linkedin</th>\n",
       "      <th>github</th>\n",
       "    </tr>\n",
       "  </thead>\n",
       "  <tbody>\n",
       "    <tr>\n",
       "      <th>16</th>\n",
       "      <td>Artem Sliusarenko</td>\n",
       "      <td>artem.sliusarenko@city.ac.uk</td>\n",
       "      <td>+44 7123456789</td>\n",
       "      <td>London</td>\n",
       "      <td>United Kingdom</td>\n",
       "      <td>hybrid</td>\n",
       "      <td>Final year Computer Science student at City, U...</td>\n",
       "      <td>linkedin.com/in/artem-sliusarenko</td>\n",
       "      <td>github.com/artemslius</td>\n",
       "    </tr>\n",
       "    <tr>\n",
       "      <th>217</th>\n",
       "      <td>Sherri Elliott</td>\n",
       "      <td>jlara@example.com</td>\n",
       "      <td>+1-393-549-8765x62076</td>\n",
       "      <td>East Marie</td>\n",
       "      <td>Lithuania</td>\n",
       "      <td>onsite</td>\n",
       "      <td>Experienced Python Developer with a strong bac...</td>\n",
       "      <td>linkedin.com/in/elizabethruiz</td>\n",
       "      <td>github.com/james56</td>\n",
       "    </tr>\n",
       "    <tr>\n",
       "      <th>218</th>\n",
       "      <td>Jason Green</td>\n",
       "      <td>arnoldthomas@example.com</td>\n",
       "      <td>001-305-751-5578</td>\n",
       "      <td>Coreymouth</td>\n",
       "      <td>Thailand</td>\n",
       "      <td>remote</td>\n",
       "      <td>Experienced Python Developer with a strong bac...</td>\n",
       "      <td>linkedin.com/in/gonzalezelizabeth</td>\n",
       "      <td>github.com/david83</td>\n",
       "    </tr>\n",
       "    <tr>\n",
       "      <th>219</th>\n",
       "      <td>Lisa Spencer</td>\n",
       "      <td>schavez@example.com</td>\n",
       "      <td>+1-622-945-8155x377</td>\n",
       "      <td>Jessicachester</td>\n",
       "      <td>United Arab Emirates</td>\n",
       "      <td>onsite</td>\n",
       "      <td>Experienced Python Developer with a strong bac...</td>\n",
       "      <td>linkedin.com/in/mhartman</td>\n",
       "      <td>github.com/smithjonathan</td>\n",
       "    </tr>\n",
       "    <tr>\n",
       "      <th>220</th>\n",
       "      <td>Jack Rodgers</td>\n",
       "      <td>luisellis@example.net</td>\n",
       "      <td>+1-308-998-4429x3819</td>\n",
       "      <td>Jeanneville</td>\n",
       "      <td>Lithuania</td>\n",
       "      <td>hybrid</td>\n",
       "      <td>Experienced Python Developer with a strong bac...</td>\n",
       "      <td>linkedin.com/in/ssimpson</td>\n",
       "      <td>github.com/hudsonanthony</td>\n",
       "    </tr>\n",
       "    <tr>\n",
       "      <th>...</th>\n",
       "      <td>...</td>\n",
       "      <td>...</td>\n",
       "      <td>...</td>\n",
       "      <td>...</td>\n",
       "      <td>...</td>\n",
       "      <td>...</td>\n",
       "      <td>...</td>\n",
       "      <td>...</td>\n",
       "      <td>...</td>\n",
       "    </tr>\n",
       "    <tr>\n",
       "      <th>4812</th>\n",
       "      <td>Patricia Pratt</td>\n",
       "      <td>nthomas@example.org</td>\n",
       "      <td>+1-789-612-6930x4273</td>\n",
       "      <td>Lake Mark</td>\n",
       "      <td>India</td>\n",
       "      <td>hybrid</td>\n",
       "      <td>Strategic Solutions Architect with experience ...</td>\n",
       "      <td>linkedin.com/in/woodardryan</td>\n",
       "      <td>github.com/brandon28</td>\n",
       "    </tr>\n",
       "    <tr>\n",
       "      <th>4813</th>\n",
       "      <td>Paul Ferguson</td>\n",
       "      <td>fletcherjeremy@example.net</td>\n",
       "      <td>382.974.4937x589</td>\n",
       "      <td>West Rachael</td>\n",
       "      <td>Trinidad and Tobago</td>\n",
       "      <td>hybrid</td>\n",
       "      <td>Strategic Solutions Architect with experience ...</td>\n",
       "      <td>linkedin.com/in/ashleygonzalez</td>\n",
       "      <td>github.com/elliottcorey</td>\n",
       "    </tr>\n",
       "    <tr>\n",
       "      <th>4814</th>\n",
       "      <td>Amy Blackwell</td>\n",
       "      <td>thall@example.net</td>\n",
       "      <td>2143612884</td>\n",
       "      <td>West Samantha</td>\n",
       "      <td>Anguilla</td>\n",
       "      <td>remote</td>\n",
       "      <td>Strategic Solutions Architect with experience ...</td>\n",
       "      <td>linkedin.com/in/clifford80</td>\n",
       "      <td>github.com/angel76</td>\n",
       "    </tr>\n",
       "    <tr>\n",
       "      <th>4815</th>\n",
       "      <td>Andrew Brown</td>\n",
       "      <td>debra88@example.com</td>\n",
       "      <td>973.404.4501</td>\n",
       "      <td>South Thomasmouth</td>\n",
       "      <td>Saint Martin</td>\n",
       "      <td>onsite</td>\n",
       "      <td>Strategic Solutions Architect with experience ...</td>\n",
       "      <td>linkedin.com/in/melissa61</td>\n",
       "      <td>github.com/smithbrittney</td>\n",
       "    </tr>\n",
       "    <tr>\n",
       "      <th>4816</th>\n",
       "      <td>Mr. Aaron Lawrence IV</td>\n",
       "      <td>michael99@example.net</td>\n",
       "      <td>001-828-201-0247x7555</td>\n",
       "      <td>New Robertshire</td>\n",
       "      <td>French Southern Territories</td>\n",
       "      <td>remote</td>\n",
       "      <td>Strategic Solutions Architect with experience ...</td>\n",
       "      <td>linkedin.com/in/mcmillanjoanna</td>\n",
       "      <td>github.com/pevans</td>\n",
       "    </tr>\n",
       "  </tbody>\n",
       "</table>\n",
       "<p>3514 rows × 9 columns</p>\n",
       "</div>"
      ],
      "text/plain": [
       "                       name                         email  \\\n",
       "16        Artem Sliusarenko  artem.sliusarenko@city.ac.uk   \n",
       "217          Sherri Elliott             jlara@example.com   \n",
       "218             Jason Green      arnoldthomas@example.com   \n",
       "219            Lisa Spencer           schavez@example.com   \n",
       "220            Jack Rodgers         luisellis@example.net   \n",
       "...                     ...                           ...   \n",
       "4812         Patricia Pratt           nthomas@example.org   \n",
       "4813          Paul Ferguson    fletcherjeremy@example.net   \n",
       "4814          Amy Blackwell             thall@example.net   \n",
       "4815           Andrew Brown           debra88@example.com   \n",
       "4816  Mr. Aaron Lawrence IV         michael99@example.net   \n",
       "\n",
       "                      phone               city                      country  \\\n",
       "16           +44 7123456789             London               United Kingdom   \n",
       "217   +1-393-549-8765x62076         East Marie                    Lithuania   \n",
       "218        001-305-751-5578         Coreymouth                     Thailand   \n",
       "219     +1-622-945-8155x377     Jessicachester         United Arab Emirates   \n",
       "220    +1-308-998-4429x3819        Jeanneville                    Lithuania   \n",
       "...                     ...                ...                          ...   \n",
       "4812   +1-789-612-6930x4273          Lake Mark                        India   \n",
       "4813       382.974.4937x589       West Rachael          Trinidad and Tobago   \n",
       "4814             2143612884      West Samantha                     Anguilla   \n",
       "4815           973.404.4501  South Thomasmouth                 Saint Martin   \n",
       "4816  001-828-201-0247x7555    New Robertshire  French Southern Territories   \n",
       "\n",
       "     remote_preference                                            summary  \\\n",
       "16              hybrid  Final year Computer Science student at City, U...   \n",
       "217             onsite  Experienced Python Developer with a strong bac...   \n",
       "218             remote  Experienced Python Developer with a strong bac...   \n",
       "219             onsite  Experienced Python Developer with a strong bac...   \n",
       "220             hybrid  Experienced Python Developer with a strong bac...   \n",
       "...                ...                                                ...   \n",
       "4812            hybrid  Strategic Solutions Architect with experience ...   \n",
       "4813            hybrid  Strategic Solutions Architect with experience ...   \n",
       "4814            remote  Strategic Solutions Architect with experience ...   \n",
       "4815            onsite  Strategic Solutions Architect with experience ...   \n",
       "4816            remote  Strategic Solutions Architect with experience ...   \n",
       "\n",
       "                               linkedin                    github  \n",
       "16    linkedin.com/in/artem-sliusarenko     github.com/artemslius  \n",
       "217       linkedin.com/in/elizabethruiz        github.com/james56  \n",
       "218   linkedin.com/in/gonzalezelizabeth        github.com/david83  \n",
       "219            linkedin.com/in/mhartman  github.com/smithjonathan  \n",
       "220            linkedin.com/in/ssimpson  github.com/hudsonanthony  \n",
       "...                                 ...                       ...  \n",
       "4812        linkedin.com/in/woodardryan      github.com/brandon28  \n",
       "4813     linkedin.com/in/ashleygonzalez   github.com/elliottcorey  \n",
       "4814         linkedin.com/in/clifford80        github.com/angel76  \n",
       "4815          linkedin.com/in/melissa61  github.com/smithbrittney  \n",
       "4816     linkedin.com/in/mcmillanjoanna         github.com/pevans  \n",
       "\n",
       "[3514 rows x 9 columns]"
      ]
     },
     "execution_count": 795,
     "metadata": {},
     "output_type": "execute_result"
    }
   ],
   "source": [
    "df_candidates"
   ]
  },
  {
   "cell_type": "code",
   "execution_count": 813,
   "metadata": {},
   "outputs": [
    {
     "name": "stdout",
     "output_type": "stream",
     "text": [
      "Length of unique_summaries: 39\n",
      "Unique summaries: ['Final year Computer Science student at City, University of London with strong focus on machine learning and software engineering. Experienced in developing ML-powered applications and passionate about solving complex technical challenges.'\n",
      " 'Experienced Python Developer with a strong background in building scalable web applications and data pipelines. Proficient in Django, Flask, and RESTful API design.'\n",
      " 'Detail-oriented Java Developer specializing in backend systems and microservices architecture. Skilled in Spring Boot and designing robust enterprise solutions.'\n",
      " 'Innovative JavaScript Developer with extensive experience in front-end frameworks and building interactive user interfaces using React and Angular.'\n",
      " 'Full-Stack Developer proficient in both front-end and back-end development. Skilled in React and Django, creating complete web applications.'\n",
      " 'Backend Developer specializing in building scalable and efficient server-side applications. Skilled in Python, Django, and RESTful API design.'\n",
      " 'Results-driven DevOps Engineer with proven expertise in cloud infrastructure, automation, and continuous integration. Skilled in AWS, Docker, and Kubernetes.'\n",
      " 'Cloud Engineer with expertise in AWS cloud services, including EC2, S3, Lambda, and VPCs. Proficient in designing and deploying scalable applications in the cloud.'\n",
      " 'Creative Web Developer with a passion for building responsive and user-friendly web applications. Proficient in HTML, CSS, JavaScript, and front-end frameworks like React.'\n",
      " 'Analytical Data Scientist with a passion for machine learning, statistical analysis, and data-driven decision making. Experienced with Python, R, and modern data visualization tools.'\n",
      " 'AI Engineer with expertise in artificial intelligence, machine learning, and deep learning. Skilled in Python, TensorFlow, and developing AI-powered applications.'\n",
      " 'Data Engineer with a focus on ETL processes, data pipelines, and data warehousing. Skilled in Python, SQL, and big data technologies like Hadoop and Spark.'\n",
      " 'MLOps Engineer with a strong background in machine learning model deployment, monitoring, and optimization. Skilled in Docker, Kubernetes, and CI/CD pipelines.'\n",
      " 'Passionate Deep Learning Engineer with expertise in neural network design, training, and optimization. Skilled in TensorFlow, PyTorch, and computer vision.'\n",
      " 'Computer Vision Engineer specializing in image processing, object detection, and video analytics. Experienced in OpenCV, TensorFlow, and deep learning models.'\n",
      " 'NLP Engineer with experience in natural language processing, text classification, and sentiment analysis. Skilled in Python, TensorFlow, and NLP libraries like NLTK and spaCy.'\n",
      " 'Creative iOS Developer with a focus on building elegant and user-friendly applications for Apple devices. Proficient in Swift, Xcode, and iOS SDK.'\n",
      " 'Innovative Android Developer with a passion for mobile app development and user experience design. Skilled in Java, Kotlin, and Android Studio.'\n",
      " 'Creative Mobile Developer specializing in iOS and Android app development. Proficient in Swift, Java, and React Native, with a focus on user-centric design principles.'\n",
      " 'React Native Developer specializing in cross-platform mobile app development. Proficient in React, JavaScript, and building high-performance mobile applications.'\n",
      " 'Flutter Developer specializing in mobile app development and user experience design. Skilled in Dart, Flutter SDK, and cross-platform development.'\n",
      " 'Site Reliability Engineer with expertise in maintaining high-availability systems and automating infrastructure. Skilled in Docker, Kubernetes, and cloud services.'\n",
      " 'Systems Engineer with a focus on designing and optimizing complex systems for performance and scalability. Skilled in Python, Linux, and system architecture.'\n",
      " 'Infrastructure Engineer specializing in cloud infrastructure design and management. Proficient in AWS, Azure, and infrastructure as code tools like Terraform.'\n",
      " 'Kubernetes Engineer with experience in container orchestration and managing Kubernetes clusters. Skilled in Docker, Kubernetes, and cloud services.'\n",
      " 'Platform Engineer with expertise in designing and maintaining scalable platforms for web applications. Skilled in Docker, Kubernetes, and cloud infrastructure.'\n",
      " 'Dedicated Security Engineer with a strong background in cybersecurity, risk assessment, and incident response. Skilled in penetration testing and security audits.'\n",
      " 'Cybersecurity Engineer with a strong background in network security, threat detection, and incident response. Skilled in penetration testing and security audits.'\n",
      " 'Information Security Analyst specializing in security assessments, risk management, and compliance. Skilled in cybersecurity tools and incident response.'\n",
      " 'Penetration Tester with experience in ethical hacking, vulnerability assessments, and security audits. Skilled in network security and penetration testing tools.'\n",
      " 'Database Administrator skilled in optimizing SQL queries and maintaining database health through regular backups and maintenance.'\n",
      " 'SQL Developer specializing in writing optimized SQL queries and database management. Skilled in database design, normalization, and performance tuning.'\n",
      " 'NoSQL Developer with experience in managing and scaling NoSQL databases like MongoDB and DynamoDB. Proficient in JavaScript and database optimization.'\n",
      " 'Blockchain Developer with experience in smart contract development and integration of blockchain technologies in decentralized applications.'\n",
      " 'Embedded Systems Engineer with experience in designing and developing embedded solutions for IoT devices and microcontrollers.'\n",
      " 'Quality Assurance Engineer with extensive experience in testing web applications, identifying bugs, and ensuring software quality. Skilled in test automation and bug tracking tools.'\n",
      " 'Automation Engineer with expertise in designing and implementing automated test scripts and CI/CD pipelines. Skilled in Python, Selenium, and test automation frameworks.'\n",
      " 'Technical Architect with a focus on designing complex software systems and defining technical requirements. Skilled in cloud architecture and system integration.'\n",
      " 'Strategic Solutions Architect with experience in large-scale enterprise system design and implementation. Skilled in cloud architecture and complex system integration.']\n"
     ]
    }
   ],
   "source": [
    "unique_summaries = df_candidates['summary'].unique()\n",
    "print(f\"Length of unique_summaries: {len(unique_summaries)}\")\n",
    "print(f\"Unique summaries: {unique_summaries}\")\n",
    "\n",
    "\n"
   ]
  },
  {
   "cell_type": "code",
   "execution_count": null,
   "metadata": {},
   "outputs": [],
   "source": []
  },
  {
   "cell_type": "code",
   "execution_count": 797,
   "metadata": {},
   "outputs": [
    {
     "name": "stdout",
     "output_type": "stream",
     "text": [
      "Row index: []\n",
      "Empty DataFrame\n",
      "Columns: [name, email, phone, city, country, remote_preference, summary, linkedin, github]\n",
      "Index: []\n"
     ]
    }
   ],
   "source": [
    "\n",
    "\n",
    "# df_no_duplicates.loc[:, 'summary'] = df_no_duplicates['summary'].str.rstrip('.').str.replace(\".\",\",\")\n",
    "\n",
    "\n"
   ]
  },
  {
   "cell_type": "code",
   "execution_count": 798,
   "metadata": {},
   "outputs": [],
   "source": [
    "def df_to_json(df, filename):\n",
    "   return df.to_json(filename,orient='records',indent=2)"
   ]
  },
  {
   "cell_type": "code",
   "execution_count": 799,
   "metadata": {},
   "outputs": [
    {
     "name": "stdout",
     "output_type": "stream",
     "text": [
      "None\n"
     ]
    }
   ],
   "source": [
    "print(df_to_json(df_no_duplicates,'output.json'))"
   ]
  },
  {
   "cell_type": "code",
   "execution_count": 800,
   "metadata": {},
   "outputs": [],
   "source": [
    "template_1 = \"{name} is a {summary} who lives in {city},{country} and can be reached at email {email} and phone {phone}. {name}s preference of work is {remote_preference} and {name} can be reached on social media at {linkedin} and {github}.\"\n",
    "template_2 = \"Based in {city}, {country}, {name} can be contacted at {email} or {phone}. As someone who is a {summary}, {name} prefers {remote_preference} work arrangements. Connect with {name} on LinkedIn at {linkedin} or view their projects at {github}.\"\n",
    "template_3 = \"Meet {name}, a professional living in {city}, {country}. As a {summary}, {name} is available for {remote_preference} opportunities and can be reached via {email}, {phone}, or through social platforms {linkedin} and {github}.\"\n",
    "template_4 = \"{name} ({email}) is a {summary} Currently based in {city}, {country}, {name} seeks {remote_preference} work and maintains an active presence on {linkedin} and {github}. Phone contact: {phone}.\"\n",
    "\n",
    "templates = [template_1,template_2,template_3,template_4]"
   ]
  },
  {
   "cell_type": "code",
   "execution_count": 801,
   "metadata": {},
   "outputs": [],
   "source": [
    "import random\n",
    "\n",
    "def create_training_texts(df, template_list):\n",
    "   training_texts = []\n",
    "   \n",
    "   for _, row in df.iterrows():\n",
    "       template = random.choice(template_list)\n",
    "       text = template.replace(\"{name}\", row['name']).replace(\"{email}\", row['email']).replace(\"{phone}\", row['phone']).replace(\"{city}\", row['city']).replace(\"{country}\", row['country']).replace(\"{remote_preference}\", row['remote_preference']).replace(\"{summary}\", row['summary']).replace(\"{linkedin}\", row['linkedin']).replace(\"{github}\", row['github'])\n",
    "       training_texts.append(text)\n",
    "   \n",
    "   return training_texts\n",
    "\n"
   ]
  },
  {
   "cell_type": "code",
   "execution_count": 802,
   "metadata": {},
   "outputs": [],
   "source": [
    "small_df = df_no_duplicates.head(20)"
   ]
  },
  {
   "cell_type": "code",
   "execution_count": 803,
   "metadata": {},
   "outputs": [],
   "source": [
    "texts = create_training_texts(small_df,templates)"
   ]
  },
  {
   "cell_type": "code",
   "execution_count": 804,
   "metadata": {},
   "outputs": [
    {
     "name": "stdout",
     "output_type": "stream",
     "text": [
      "Meet Artem Sliusarenko, a professional living in London, United Kingdom. As a Final year Computer Science student at City, University of London with strong focus on machine learning and software engineering, Experienced in developing ML-powered applications and passionate about solving complex technical challenges, Artem Sliusarenko is available for hybrid opportunities and can be reached via artem.sliusarenko@city.ac.uk, +44 7123456789, or through social platforms linkedin.com/in/artem-sliusarenko and github.com/artemslius. \n",
      "\n",
      "Sherri Elliott is a Experienced Python Developer with a strong background in building scalable web applications and data pipelines, Proficient in Django, Flask, and RESTful API design who lives in East Marie,Lithuania and can be reached at email jlara@example.com and phone +1-393-549-8765x62076. Sherri Elliotts preference of work is onsite and Sherri Elliott can be reached on social media at linkedin.com/in/elizabethruiz and github.com/james56. \n",
      "\n",
      "Jason Green (arnoldthomas@example.com) is a Experienced Python Developer with a strong background in building scalable web applications and data pipelines, Proficient in Django, Flask, and RESTful API design Currently based in Coreymouth, Thailand, Jason Green seeks remote work and maintains an active presence on linkedin.com/in/gonzalezelizabeth and github.com/david83. Phone contact: 001-305-751-5578. \n",
      "\n",
      "Lisa Spencer (schavez@example.com) is a Experienced Python Developer with a strong background in building scalable web applications and data pipelines, Proficient in Django, Flask, and RESTful API design Currently based in Jessicachester, United Arab Emirates, Lisa Spencer seeks onsite work and maintains an active presence on linkedin.com/in/mhartman and github.com/smithjonathan. Phone contact: +1-622-945-8155x377. \n",
      "\n",
      "Meet Jack Rodgers, a professional living in Jeanneville, Lithuania. As a Experienced Python Developer with a strong background in building scalable web applications and data pipelines, Proficient in Django, Flask, and RESTful API design, Jack Rodgers is available for hybrid opportunities and can be reached via luisellis@example.net, +1-308-998-4429x3819, or through social platforms linkedin.com/in/ssimpson and github.com/hudsonanthony. \n",
      "\n",
      "Cynthia Decker is a Experienced Python Developer with a strong background in building scalable web applications and data pipelines, Proficient in Django, Flask, and RESTful API design who lives in North Joshuaport,Monaco and can be reached at email laurie84@example.org and phone 001-200-986-7795x77356. Cynthia Deckers preference of work is hybrid and Cynthia Decker can be reached on social media at linkedin.com/in/gallegosandrew and github.com/sarah81. \n",
      "\n",
      "Allison Powell DVM is a Experienced Python Developer with a strong background in building scalable web applications and data pipelines, Proficient in Django, Flask, and RESTful API design who lives in Meadowschester,Mauritania and can be reached at email richardsonshannon@example.com and phone (964)713-5289x83545. Allison Powell DVMs preference of work is remote and Allison Powell DVM can be reached on social media at linkedin.com/in/kellerjames and github.com/joseph94. \n",
      "\n",
      "Jeffrey Rasmussen (vvance@example.com) is a Experienced Python Developer with a strong background in building scalable web applications and data pipelines, Proficient in Django, Flask, and RESTful API design Currently based in South Heatherstad, Singapore, Jeffrey Rasmussen seeks onsite work and maintains an active presence on linkedin.com/in/rebeccaflores and github.com/oparker. Phone contact: 583-446-4370. \n",
      "\n",
      "Based in North Mark, Zambia, Manuel Ramirez can be contacted at dickersondeanna@example.net or 001-597-630-7925x94977. As someone who is a Experienced Python Developer with a strong background in building scalable web applications and data pipelines, Proficient in Django, Flask, and RESTful API design, Manuel Ramirez prefers onsite work arrangements. Connect with Manuel Ramirez on LinkedIn at linkedin.com/in/nancy03 or view their projects at github.com/garyspencer. \n",
      "\n",
      "Meet Jonathan Dean, a professional living in Pattonfurt, Monaco. As a Experienced Python Developer with a strong background in building scalable web applications and data pipelines, Proficient in Django, Flask, and RESTful API design, Jonathan Dean is available for hybrid opportunities and can be reached via kathryn58@example.org, 617-549-1579, or through social platforms linkedin.com/in/keithallen and github.com/robert45. \n",
      "\n",
      "Vanessa English is a Experienced Python Developer with a strong background in building scalable web applications and data pipelines, Proficient in Django, Flask, and RESTful API design who lives in Briannaview,Ethiopia and can be reached at email jaredholt@example.net and phone 001-540-399-4536. Vanessa Englishs preference of work is hybrid and Vanessa English can be reached on social media at linkedin.com/in/joy86 and github.com/mwilliams. \n",
      "\n",
      "Meet Johnny Tucker DDS, a professional living in East Mistytown, Fiji. As a Experienced Python Developer with a strong background in building scalable web applications and data pipelines, Proficient in Django, Flask, and RESTful API design, Johnny Tucker DDS is available for remote opportunities and can be reached via john78@example.com, +1-303-406-2155x93318, or through social platforms linkedin.com/in/leah24 and github.com/ylam. \n",
      "\n",
      "Meet Vincent Jordan, a professional living in Reedside, Croatia. As a Experienced Python Developer with a strong background in building scalable web applications and data pipelines, Proficient in Django, Flask, and RESTful API design, Vincent Jordan is available for onsite opportunities and can be reached via rhodesdavid@example.net, +1-366-473-6647x059, or through social platforms linkedin.com/in/erichardson and github.com/staceyflores. \n",
      "\n",
      "Nicole Smith is a Experienced Python Developer with a strong background in building scalable web applications and data pipelines, Proficient in Django, Flask, and RESTful API design who lives in Martinezville,Saint Martin and can be reached at email garciajeremy@example.org and phone 652-306-1831x6005. Nicole Smiths preference of work is remote and Nicole Smith can be reached on social media at linkedin.com/in/caroline39 and github.com/natalie95. \n",
      "\n",
      "Based in Sheilaside, Czech Republic, Richard Ross can be contacted at mortonjared@example.org or 999.377.6992x666. As someone who is a Experienced Python Developer with a strong background in building scalable web applications and data pipelines, Proficient in Django, Flask, and RESTful API design, Richard Ross prefers hybrid work arrangements. Connect with Richard Ross on LinkedIn at linkedin.com/in/johnsonterry or view their projects at github.com/jenniferyates. \n",
      "\n",
      "Based in Craigstad, Isle of Man, Dorothy Lester can be contacted at youngandrew@example.org or (499)592-4814. As someone who is a Experienced Python Developer with a strong background in building scalable web applications and data pipelines, Proficient in Django, Flask, and RESTful API design, Dorothy Lester prefers remote work arrangements. Connect with Dorothy Lester on LinkedIn at linkedin.com/in/marymontes or view their projects at github.com/burgessbrittney. \n",
      "\n",
      "Mary Cohen is a Experienced Python Developer with a strong background in building scalable web applications and data pipelines, Proficient in Django, Flask, and RESTful API design who lives in Colemanstad,United States of America and can be reached at email megan87@example.com and phone 360-726-9664x039. Mary Cohens preference of work is remote and Mary Cohen can be reached on social media at linkedin.com/in/sbecker and github.com/ibryant. \n",
      "\n",
      "Based in Jeremyview, Monaco, Casey Mckenzie can be contacted at christopherperkins@example.net or (916)528-7768. As someone who is a Experienced Python Developer with a strong background in building scalable web applications and data pipelines, Proficient in Django, Flask, and RESTful API design, Casey Mckenzie prefers remote work arrangements. Connect with Casey Mckenzie on LinkedIn at linkedin.com/in/barbara33 or view their projects at github.com/johnsonlouis. \n",
      "\n",
      "Anita Rodriguez (joanna55@example.com) is a Experienced Python Developer with a strong background in building scalable web applications and data pipelines, Proficient in Django, Flask, and RESTful API design Currently based in Larachester, Ethiopia, Anita Rodriguez seeks onsite work and maintains an active presence on linkedin.com/in/rojasalan and github.com/wfreeman. Phone contact: 388-411-1313x9916. \n",
      "\n",
      "Peter Hayes is a Experienced Python Developer with a strong background in building scalable web applications and data pipelines, Proficient in Django, Flask, and RESTful API design who lives in East Victoria,Costa Rica and can be reached at email christopherobrien@example.net and phone 6323755512. Peter Hayess preference of work is hybrid and Peter Hayes can be reached on social media at linkedin.com/in/bakermatthew and github.com/robertcraig. \n",
      "\n"
     ]
    }
   ],
   "source": [
    "for text in texts:\n",
    "    print(text,\"\\n\")"
   ]
  },
  {
   "cell_type": "code",
   "execution_count": null,
   "metadata": {},
   "outputs": [],
   "source": []
  },
  {
   "cell_type": "markdown",
   "metadata": {},
   "source": [
    "___\n",
    "___\n",
    "**Skills**"
   ]
  },
  {
   "cell_type": "code",
   "execution_count": 805,
   "metadata": {},
   "outputs": [
    {
     "data": {
      "text/html": [
       "<div>\n",
       "<style scoped>\n",
       "    .dataframe tbody tr th:only-of-type {\n",
       "        vertical-align: middle;\n",
       "    }\n",
       "\n",
       "    .dataframe tbody tr th {\n",
       "        vertical-align: top;\n",
       "    }\n",
       "\n",
       "    .dataframe thead th {\n",
       "        text-align: right;\n",
       "    }\n",
       "</style>\n",
       "<table border=\"1\" class=\"dataframe\">\n",
       "  <thead>\n",
       "    <tr style=\"text-align: right;\">\n",
       "      <th></th>\n",
       "      <th>candidate_id</th>\n",
       "      <th>skill_type</th>\n",
       "      <th>skill_name</th>\n",
       "      <th>skill_level</th>\n",
       "    </tr>\n",
       "  </thead>\n",
       "  <tbody>\n",
       "    <tr>\n",
       "      <th>0</th>\n",
       "      <td>0</td>\n",
       "      <td>programming_language</td>\n",
       "      <td>Python</td>\n",
       "      <td>intermediate</td>\n",
       "    </tr>\n",
       "    <tr>\n",
       "      <th>1</th>\n",
       "      <td>0</td>\n",
       "      <td>programming_language</td>\n",
       "      <td>C++</td>\n",
       "      <td>intermediate</td>\n",
       "    </tr>\n",
       "    <tr>\n",
       "      <th>2</th>\n",
       "      <td>0</td>\n",
       "      <td>programming_language</td>\n",
       "      <td>C</td>\n",
       "      <td>intermediate</td>\n",
       "    </tr>\n",
       "    <tr>\n",
       "      <th>3</th>\n",
       "      <td>0</td>\n",
       "      <td>framework</td>\n",
       "      <td>Tensorflow</td>\n",
       "      <td>intermediate</td>\n",
       "    </tr>\n",
       "    <tr>\n",
       "      <th>4</th>\n",
       "      <td>0</td>\n",
       "      <td>framework</td>\n",
       "      <td>Numpy</td>\n",
       "      <td>intermediate</td>\n",
       "    </tr>\n",
       "    <tr>\n",
       "      <th>...</th>\n",
       "      <td>...</td>\n",
       "      <td>...</td>\n",
       "      <td>...</td>\n",
       "      <td>...</td>\n",
       "    </tr>\n",
       "    <tr>\n",
       "      <th>29851</th>\n",
       "      <td>4816</td>\n",
       "      <td>programming_language</td>\n",
       "      <td>JavaScript</td>\n",
       "      <td>beginner</td>\n",
       "    </tr>\n",
       "    <tr>\n",
       "      <th>29852</th>\n",
       "      <td>4816</td>\n",
       "      <td>programming_language</td>\n",
       "      <td>Python</td>\n",
       "      <td>intermediate</td>\n",
       "    </tr>\n",
       "    <tr>\n",
       "      <th>29853</th>\n",
       "      <td>4816</td>\n",
       "      <td>framework</td>\n",
       "      <td>Django</td>\n",
       "      <td>expert</td>\n",
       "    </tr>\n",
       "    <tr>\n",
       "      <th>29854</th>\n",
       "      <td>4816</td>\n",
       "      <td>database</td>\n",
       "      <td>MySQL</td>\n",
       "      <td>intermediate</td>\n",
       "    </tr>\n",
       "    <tr>\n",
       "      <th>29855</th>\n",
       "      <td>4816</td>\n",
       "      <td>database</td>\n",
       "      <td>Oracle</td>\n",
       "      <td>beginner</td>\n",
       "    </tr>\n",
       "  </tbody>\n",
       "</table>\n",
       "<p>29856 rows × 4 columns</p>\n",
       "</div>"
      ],
      "text/plain": [
       "       candidate_id            skill_type  skill_name   skill_level\n",
       "0                 0  programming_language      Python  intermediate\n",
       "1                 0  programming_language         C++  intermediate\n",
       "2                 0  programming_language           C  intermediate\n",
       "3                 0             framework  Tensorflow  intermediate\n",
       "4                 0             framework       Numpy  intermediate\n",
       "...             ...                   ...         ...           ...\n",
       "29851          4816  programming_language  JavaScript      beginner\n",
       "29852          4816  programming_language      Python  intermediate\n",
       "29853          4816             framework      Django        expert\n",
       "29854          4816              database       MySQL  intermediate\n",
       "29855          4816              database      Oracle      beginner\n",
       "\n",
       "[29856 rows x 4 columns]"
      ]
     },
     "execution_count": 805,
     "metadata": {},
     "output_type": "execute_result"
    }
   ],
   "source": [
    "dataframes['skills']"
   ]
  },
  {
   "cell_type": "code",
   "execution_count": 806,
   "metadata": {},
   "outputs": [
    {
     "data": {
      "application/vnd.plotly.v1+json": {
       "config": {
        "plotlyServerURL": "https://plot.ly"
       },
       "data": [
        {
         "name": "skill_type",
         "orientation": "h",
         "showlegend": false,
         "type": "bar",
         "x": {
          "bdata": "vDHvJvUb",
          "dtype": "i2"
         },
         "xaxis": "x",
         "y": [
          "programming_language",
          "framework",
          "database"
         ],
         "yaxis": "y"
        },
        {
         "name": "skill_name",
         "orientation": "h",
         "showlegend": false,
         "type": "bar",
         "x": {
          "bdata": "6QrzBj4G7wW1BZUFggV2BXQFaAU=",
          "dtype": "i2"
         },
         "xaxis": "x2",
         "y": [
          "Python",
          "JavaScript",
          "Java",
          "React",
          "MySQL",
          "MongoDB",
          "Redis",
          "Node.js",
          "Oracle",
          "Ruby"
         ],
         "yaxis": "y2"
        },
        {
         "name": "skill_level",
         "orientation": "h",
         "showlegend": false,
         "type": "bar",
         "x": {
          "bdata": "Si8bIpkghgB0AFYASQA9ACcAJwA=",
          "dtype": "i2"
         },
         "xaxis": "x3",
         "y": [
          "intermediate",
          "beginner",
          "expert",
          "Basic",
          "",
          "Not Provided",
          "Less than 1 year",
          "advanced",
          "basic",
          "31 months"
         ],
         "yaxis": "y3"
        }
       ],
       "layout": {
        "height": 400,
        "showlegend": false,
        "template": {
         "data": {
          "bar": [
           {
            "error_x": {
             "color": "#2a3f5f"
            },
            "error_y": {
             "color": "#2a3f5f"
            },
            "marker": {
             "line": {
              "color": "#E5ECF6",
              "width": 0.5
             },
             "pattern": {
              "fillmode": "overlay",
              "size": 10,
              "solidity": 0.2
             }
            },
            "type": "bar"
           }
          ],
          "barpolar": [
           {
            "marker": {
             "line": {
              "color": "#E5ECF6",
              "width": 0.5
             },
             "pattern": {
              "fillmode": "overlay",
              "size": 10,
              "solidity": 0.2
             }
            },
            "type": "barpolar"
           }
          ],
          "carpet": [
           {
            "aaxis": {
             "endlinecolor": "#2a3f5f",
             "gridcolor": "white",
             "linecolor": "white",
             "minorgridcolor": "white",
             "startlinecolor": "#2a3f5f"
            },
            "baxis": {
             "endlinecolor": "#2a3f5f",
             "gridcolor": "white",
             "linecolor": "white",
             "minorgridcolor": "white",
             "startlinecolor": "#2a3f5f"
            },
            "type": "carpet"
           }
          ],
          "choropleth": [
           {
            "colorbar": {
             "outlinewidth": 0,
             "ticks": ""
            },
            "type": "choropleth"
           }
          ],
          "contour": [
           {
            "colorbar": {
             "outlinewidth": 0,
             "ticks": ""
            },
            "colorscale": [
             [
              0,
              "#0d0887"
             ],
             [
              0.1111111111111111,
              "#46039f"
             ],
             [
              0.2222222222222222,
              "#7201a8"
             ],
             [
              0.3333333333333333,
              "#9c179e"
             ],
             [
              0.4444444444444444,
              "#bd3786"
             ],
             [
              0.5555555555555556,
              "#d8576b"
             ],
             [
              0.6666666666666666,
              "#ed7953"
             ],
             [
              0.7777777777777778,
              "#fb9f3a"
             ],
             [
              0.8888888888888888,
              "#fdca26"
             ],
             [
              1,
              "#f0f921"
             ]
            ],
            "type": "contour"
           }
          ],
          "contourcarpet": [
           {
            "colorbar": {
             "outlinewidth": 0,
             "ticks": ""
            },
            "type": "contourcarpet"
           }
          ],
          "heatmap": [
           {
            "colorbar": {
             "outlinewidth": 0,
             "ticks": ""
            },
            "colorscale": [
             [
              0,
              "#0d0887"
             ],
             [
              0.1111111111111111,
              "#46039f"
             ],
             [
              0.2222222222222222,
              "#7201a8"
             ],
             [
              0.3333333333333333,
              "#9c179e"
             ],
             [
              0.4444444444444444,
              "#bd3786"
             ],
             [
              0.5555555555555556,
              "#d8576b"
             ],
             [
              0.6666666666666666,
              "#ed7953"
             ],
             [
              0.7777777777777778,
              "#fb9f3a"
             ],
             [
              0.8888888888888888,
              "#fdca26"
             ],
             [
              1,
              "#f0f921"
             ]
            ],
            "type": "heatmap"
           }
          ],
          "histogram": [
           {
            "marker": {
             "pattern": {
              "fillmode": "overlay",
              "size": 10,
              "solidity": 0.2
             }
            },
            "type": "histogram"
           }
          ],
          "histogram2d": [
           {
            "colorbar": {
             "outlinewidth": 0,
             "ticks": ""
            },
            "colorscale": [
             [
              0,
              "#0d0887"
             ],
             [
              0.1111111111111111,
              "#46039f"
             ],
             [
              0.2222222222222222,
              "#7201a8"
             ],
             [
              0.3333333333333333,
              "#9c179e"
             ],
             [
              0.4444444444444444,
              "#bd3786"
             ],
             [
              0.5555555555555556,
              "#d8576b"
             ],
             [
              0.6666666666666666,
              "#ed7953"
             ],
             [
              0.7777777777777778,
              "#fb9f3a"
             ],
             [
              0.8888888888888888,
              "#fdca26"
             ],
             [
              1,
              "#f0f921"
             ]
            ],
            "type": "histogram2d"
           }
          ],
          "histogram2dcontour": [
           {
            "colorbar": {
             "outlinewidth": 0,
             "ticks": ""
            },
            "colorscale": [
             [
              0,
              "#0d0887"
             ],
             [
              0.1111111111111111,
              "#46039f"
             ],
             [
              0.2222222222222222,
              "#7201a8"
             ],
             [
              0.3333333333333333,
              "#9c179e"
             ],
             [
              0.4444444444444444,
              "#bd3786"
             ],
             [
              0.5555555555555556,
              "#d8576b"
             ],
             [
              0.6666666666666666,
              "#ed7953"
             ],
             [
              0.7777777777777778,
              "#fb9f3a"
             ],
             [
              0.8888888888888888,
              "#fdca26"
             ],
             [
              1,
              "#f0f921"
             ]
            ],
            "type": "histogram2dcontour"
           }
          ],
          "mesh3d": [
           {
            "colorbar": {
             "outlinewidth": 0,
             "ticks": ""
            },
            "type": "mesh3d"
           }
          ],
          "parcoords": [
           {
            "line": {
             "colorbar": {
              "outlinewidth": 0,
              "ticks": ""
             }
            },
            "type": "parcoords"
           }
          ],
          "pie": [
           {
            "automargin": true,
            "type": "pie"
           }
          ],
          "scatter": [
           {
            "fillpattern": {
             "fillmode": "overlay",
             "size": 10,
             "solidity": 0.2
            },
            "type": "scatter"
           }
          ],
          "scatter3d": [
           {
            "line": {
             "colorbar": {
              "outlinewidth": 0,
              "ticks": ""
             }
            },
            "marker": {
             "colorbar": {
              "outlinewidth": 0,
              "ticks": ""
             }
            },
            "type": "scatter3d"
           }
          ],
          "scattercarpet": [
           {
            "marker": {
             "colorbar": {
              "outlinewidth": 0,
              "ticks": ""
             }
            },
            "type": "scattercarpet"
           }
          ],
          "scattergeo": [
           {
            "marker": {
             "colorbar": {
              "outlinewidth": 0,
              "ticks": ""
             }
            },
            "type": "scattergeo"
           }
          ],
          "scattergl": [
           {
            "marker": {
             "colorbar": {
              "outlinewidth": 0,
              "ticks": ""
             }
            },
            "type": "scattergl"
           }
          ],
          "scattermap": [
           {
            "marker": {
             "colorbar": {
              "outlinewidth": 0,
              "ticks": ""
             }
            },
            "type": "scattermap"
           }
          ],
          "scattermapbox": [
           {
            "marker": {
             "colorbar": {
              "outlinewidth": 0,
              "ticks": ""
             }
            },
            "type": "scattermapbox"
           }
          ],
          "scatterpolar": [
           {
            "marker": {
             "colorbar": {
              "outlinewidth": 0,
              "ticks": ""
             }
            },
            "type": "scatterpolar"
           }
          ],
          "scatterpolargl": [
           {
            "marker": {
             "colorbar": {
              "outlinewidth": 0,
              "ticks": ""
             }
            },
            "type": "scatterpolargl"
           }
          ],
          "scatterternary": [
           {
            "marker": {
             "colorbar": {
              "outlinewidth": 0,
              "ticks": ""
             }
            },
            "type": "scatterternary"
           }
          ],
          "surface": [
           {
            "colorbar": {
             "outlinewidth": 0,
             "ticks": ""
            },
            "colorscale": [
             [
              0,
              "#0d0887"
             ],
             [
              0.1111111111111111,
              "#46039f"
             ],
             [
              0.2222222222222222,
              "#7201a8"
             ],
             [
              0.3333333333333333,
              "#9c179e"
             ],
             [
              0.4444444444444444,
              "#bd3786"
             ],
             [
              0.5555555555555556,
              "#d8576b"
             ],
             [
              0.6666666666666666,
              "#ed7953"
             ],
             [
              0.7777777777777778,
              "#fb9f3a"
             ],
             [
              0.8888888888888888,
              "#fdca26"
             ],
             [
              1,
              "#f0f921"
             ]
            ],
            "type": "surface"
           }
          ],
          "table": [
           {
            "cells": {
             "fill": {
              "color": "#EBF0F8"
             },
             "line": {
              "color": "white"
             }
            },
            "header": {
             "fill": {
              "color": "#C8D4E3"
             },
             "line": {
              "color": "white"
             }
            },
            "type": "table"
           }
          ]
         },
         "layout": {
          "annotationdefaults": {
           "arrowcolor": "#2a3f5f",
           "arrowhead": 0,
           "arrowwidth": 1
          },
          "autotypenumbers": "strict",
          "coloraxis": {
           "colorbar": {
            "outlinewidth": 0,
            "ticks": ""
           }
          },
          "colorscale": {
           "diverging": [
            [
             0,
             "#8e0152"
            ],
            [
             0.1,
             "#c51b7d"
            ],
            [
             0.2,
             "#de77ae"
            ],
            [
             0.3,
             "#f1b6da"
            ],
            [
             0.4,
             "#fde0ef"
            ],
            [
             0.5,
             "#f7f7f7"
            ],
            [
             0.6,
             "#e6f5d0"
            ],
            [
             0.7,
             "#b8e186"
            ],
            [
             0.8,
             "#7fbc41"
            ],
            [
             0.9,
             "#4d9221"
            ],
            [
             1,
             "#276419"
            ]
           ],
           "sequential": [
            [
             0,
             "#0d0887"
            ],
            [
             0.1111111111111111,
             "#46039f"
            ],
            [
             0.2222222222222222,
             "#7201a8"
            ],
            [
             0.3333333333333333,
             "#9c179e"
            ],
            [
             0.4444444444444444,
             "#bd3786"
            ],
            [
             0.5555555555555556,
             "#d8576b"
            ],
            [
             0.6666666666666666,
             "#ed7953"
            ],
            [
             0.7777777777777778,
             "#fb9f3a"
            ],
            [
             0.8888888888888888,
             "#fdca26"
            ],
            [
             1,
             "#f0f921"
            ]
           ],
           "sequentialminus": [
            [
             0,
             "#0d0887"
            ],
            [
             0.1111111111111111,
             "#46039f"
            ],
            [
             0.2222222222222222,
             "#7201a8"
            ],
            [
             0.3333333333333333,
             "#9c179e"
            ],
            [
             0.4444444444444444,
             "#bd3786"
            ],
            [
             0.5555555555555556,
             "#d8576b"
            ],
            [
             0.6666666666666666,
             "#ed7953"
            ],
            [
             0.7777777777777778,
             "#fb9f3a"
            ],
            [
             0.8888888888888888,
             "#fdca26"
            ],
            [
             1,
             "#f0f921"
            ]
           ]
          },
          "colorway": [
           "#636efa",
           "#EF553B",
           "#00cc96",
           "#ab63fa",
           "#FFA15A",
           "#19d3f3",
           "#FF6692",
           "#B6E880",
           "#FF97FF",
           "#FECB52"
          ],
          "font": {
           "color": "#2a3f5f"
          },
          "geo": {
           "bgcolor": "white",
           "lakecolor": "white",
           "landcolor": "#E5ECF6",
           "showlakes": true,
           "showland": true,
           "subunitcolor": "white"
          },
          "hoverlabel": {
           "align": "left"
          },
          "hovermode": "closest",
          "mapbox": {
           "style": "light"
          },
          "paper_bgcolor": "white",
          "plot_bgcolor": "#E5ECF6",
          "polar": {
           "angularaxis": {
            "gridcolor": "white",
            "linecolor": "white",
            "ticks": ""
           },
           "bgcolor": "#E5ECF6",
           "radialaxis": {
            "gridcolor": "white",
            "linecolor": "white",
            "ticks": ""
           }
          },
          "scene": {
           "xaxis": {
            "backgroundcolor": "#E5ECF6",
            "gridcolor": "white",
            "gridwidth": 2,
            "linecolor": "white",
            "showbackground": true,
            "ticks": "",
            "zerolinecolor": "white"
           },
           "yaxis": {
            "backgroundcolor": "#E5ECF6",
            "gridcolor": "white",
            "gridwidth": 2,
            "linecolor": "white",
            "showbackground": true,
            "ticks": "",
            "zerolinecolor": "white"
           },
           "zaxis": {
            "backgroundcolor": "#E5ECF6",
            "gridcolor": "white",
            "gridwidth": 2,
            "linecolor": "white",
            "showbackground": true,
            "ticks": "",
            "zerolinecolor": "white"
           }
          },
          "shapedefaults": {
           "line": {
            "color": "#2a3f5f"
           }
          },
          "ternary": {
           "aaxis": {
            "gridcolor": "white",
            "linecolor": "white",
            "ticks": ""
           },
           "baxis": {
            "gridcolor": "white",
            "linecolor": "white",
            "ticks": ""
           },
           "bgcolor": "#E5ECF6",
           "caxis": {
            "gridcolor": "white",
            "linecolor": "white",
            "ticks": ""
           }
          },
          "title": {
           "x": 0.05
          },
          "xaxis": {
           "automargin": true,
           "gridcolor": "white",
           "linecolor": "white",
           "ticks": "",
           "title": {
            "standoff": 15
           },
           "zerolinecolor": "white",
           "zerolinewidth": 2
          },
          "yaxis": {
           "automargin": true,
           "gridcolor": "white",
           "linecolor": "white",
           "ticks": "",
           "title": {
            "standoff": 15
           },
           "zerolinecolor": "white",
           "zerolinewidth": 2
          }
         }
        },
        "title": {
         "text": "Skills Column Distribution (Horizontal)"
        },
        "xaxis": {
         "anchor": "y",
         "domain": [
          0,
          0.2888888888888889
         ]
        },
        "xaxis2": {
         "anchor": "y2",
         "domain": [
          0.35555555555555557,
          0.6444444444444445
         ]
        },
        "xaxis3": {
         "anchor": "y3",
         "domain": [
          0.7111111111111111,
          1
         ]
        },
        "xaxis4": {
         "anchor": "y4",
         "domain": [
          0,
          0.2888888888888889
         ]
        },
        "xaxis5": {
         "anchor": "y5",
         "domain": [
          0.35555555555555557,
          0.6444444444444445
         ]
        },
        "xaxis6": {
         "anchor": "y6",
         "domain": [
          0.7111111111111111,
          1
         ]
        },
        "yaxis": {
         "anchor": "x",
         "domain": [
          0.575,
          1
         ]
        },
        "yaxis2": {
         "anchor": "x2",
         "domain": [
          0.575,
          1
         ]
        },
        "yaxis3": {
         "anchor": "x3",
         "domain": [
          0.575,
          1
         ]
        },
        "yaxis4": {
         "anchor": "x4",
         "domain": [
          0,
          0.425
         ]
        },
        "yaxis5": {
         "anchor": "x5",
         "domain": [
          0,
          0.425
         ]
        },
        "yaxis6": {
         "anchor": "x6",
         "domain": [
          0,
          0.425
         ]
        }
       }
      }
     },
     "metadata": {},
     "output_type": "display_data"
    }
   ],
   "source": [
    "df.distribute_skills_horizontal()"
   ]
  },
  {
   "cell_type": "markdown",
   "metadata": {},
   "source": [
    "___\n",
    "___\n",
    "**Experiences**"
   ]
  },
  {
   "cell_type": "code",
   "execution_count": 807,
   "metadata": {},
   "outputs": [
    {
     "data": {
      "text/html": [
       "<div>\n",
       "<style scoped>\n",
       "    .dataframe tbody tr th:only-of-type {\n",
       "        vertical-align: middle;\n",
       "    }\n",
       "\n",
       "    .dataframe tbody tr th {\n",
       "        vertical-align: top;\n",
       "    }\n",
       "\n",
       "    .dataframe thead th {\n",
       "        text-align: right;\n",
       "    }\n",
       "</style>\n",
       "<table border=\"1\" class=\"dataframe\">\n",
       "  <thead>\n",
       "    <tr style=\"text-align: right;\">\n",
       "      <th></th>\n",
       "      <th>candidate_id</th>\n",
       "      <th>company</th>\n",
       "      <th>title</th>\n",
       "      <th>level</th>\n",
       "      <th>employment_type</th>\n",
       "      <th>start_date</th>\n",
       "      <th>end_date</th>\n",
       "      <th>duration</th>\n",
       "      <th>industry</th>\n",
       "      <th>company_size</th>\n",
       "      <th>technologies</th>\n",
       "      <th>tools</th>\n",
       "    </tr>\n",
       "  </thead>\n",
       "  <tbody>\n",
       "    <tr>\n",
       "      <th>0</th>\n",
       "      <td>0</td>\n",
       "      <td>Fresher</td>\n",
       "      <td>Python Developer</td>\n",
       "      <td>entry</td>\n",
       "      <td>full-time</td>\n",
       "      <td>Unknown</td>\n",
       "      <td>Present</td>\n",
       "      <td>6 months</td>\n",
       "      <td>Unknown</td>\n",
       "      <td>Unknown</td>\n",
       "      <td>Python, Tensorflow, Numpy, C, C++, MySQL</td>\n",
       "      <td>Ubuntu, Fedora, Cent OS, Windows</td>\n",
       "    </tr>\n",
       "    <tr>\n",
       "      <th>1</th>\n",
       "      <td>1</td>\n",
       "      <td>Delta Controls, Dubai FZCO</td>\n",
       "      <td>Operations Manager</td>\n",
       "      <td>senior</td>\n",
       "      <td>full-time</td>\n",
       "      <td>2017-08</td>\n",
       "      <td>Present</td>\n",
       "      <td>7 years</td>\n",
       "      <td>Automation &amp; Controls</td>\n",
       "      <td>Unknown</td>\n",
       "      <td></td>\n",
       "      <td></td>\n",
       "    </tr>\n",
       "    <tr>\n",
       "      <th>2</th>\n",
       "      <td>1</td>\n",
       "      <td>Honeywell Automation India Ltd</td>\n",
       "      <td>Project Lead</td>\n",
       "      <td>mid-senior</td>\n",
       "      <td>full-time</td>\n",
       "      <td>2015-05</td>\n",
       "      <td>2016-06</td>\n",
       "      <td>1 year 1 month</td>\n",
       "      <td>Automation &amp; Controls</td>\n",
       "      <td>Large</td>\n",
       "      <td></td>\n",
       "      <td></td>\n",
       "    </tr>\n",
       "    <tr>\n",
       "      <th>3</th>\n",
       "      <td>1</td>\n",
       "      <td>Fox Controls</td>\n",
       "      <td>Project Engineer</td>\n",
       "      <td>mid</td>\n",
       "      <td>full-time</td>\n",
       "      <td>Unknown</td>\n",
       "      <td>Unknown</td>\n",
       "      <td>Unknown</td>\n",
       "      <td>Automation &amp; Controls</td>\n",
       "      <td>Unknown</td>\n",
       "      <td></td>\n",
       "      <td></td>\n",
       "    </tr>\n",
       "    <tr>\n",
       "      <th>4</th>\n",
       "      <td>1</td>\n",
       "      <td>Enercon (India) Limited</td>\n",
       "      <td>Commissioning Leader</td>\n",
       "      <td>mid</td>\n",
       "      <td>full-time</td>\n",
       "      <td>Unknown</td>\n",
       "      <td>Unknown</td>\n",
       "      <td>Unknown</td>\n",
       "      <td>Renewable Energy</td>\n",
       "      <td>Unknown</td>\n",
       "      <td></td>\n",
       "      <td></td>\n",
       "    </tr>\n",
       "    <tr>\n",
       "      <th>...</th>\n",
       "      <td>...</td>\n",
       "      <td>...</td>\n",
       "      <td>...</td>\n",
       "      <td>...</td>\n",
       "      <td>...</td>\n",
       "      <td>...</td>\n",
       "      <td>...</td>\n",
       "      <td>...</td>\n",
       "      <td>...</td>\n",
       "      <td>...</td>\n",
       "      <td>...</td>\n",
       "      <td>...</td>\n",
       "    </tr>\n",
       "    <tr>\n",
       "      <th>9542</th>\n",
       "      <td>4814</td>\n",
       "      <td>Garrett Inc</td>\n",
       "      <td>Solutions Architect</td>\n",
       "      <td>mid</td>\n",
       "      <td>contract</td>\n",
       "      <td>2020-01-23</td>\n",
       "      <td>2024-10-09</td>\n",
       "      <td>N/A</td>\n",
       "      <td>Technology</td>\n",
       "      <td>Medium</td>\n",
       "      <td>CI/CD, Kubernetes</td>\n",
       "      <td>Git, Jenkins, REST</td>\n",
       "    </tr>\n",
       "    <tr>\n",
       "      <th>9543</th>\n",
       "      <td>4814</td>\n",
       "      <td>Fischer, Finley and Freeman</td>\n",
       "      <td>Solutions Architect</td>\n",
       "      <td>mid</td>\n",
       "      <td>internship</td>\n",
       "      <td>2021-11-12</td>\n",
       "      <td>2022-06-22</td>\n",
       "      <td>N/A</td>\n",
       "      <td>Technology</td>\n",
       "      <td>Medium</td>\n",
       "      <td>Kubernetes, Git, Docker</td>\n",
       "      <td>Kubernetes, Docker</td>\n",
       "    </tr>\n",
       "    <tr>\n",
       "      <th>9544</th>\n",
       "      <td>4815</td>\n",
       "      <td>Robinson-Reed</td>\n",
       "      <td>Solutions Architect</td>\n",
       "      <td>mid</td>\n",
       "      <td>full-time</td>\n",
       "      <td>2019-06-20</td>\n",
       "      <td>2023-12-13</td>\n",
       "      <td>N/A</td>\n",
       "      <td>Technology</td>\n",
       "      <td>Medium</td>\n",
       "      <td>REST, CI/CD, GraphQL</td>\n",
       "      <td>REST, Docker</td>\n",
       "    </tr>\n",
       "    <tr>\n",
       "      <th>9545</th>\n",
       "      <td>4816</td>\n",
       "      <td>Villanueva, Riley and Miller</td>\n",
       "      <td>Solutions Architect</td>\n",
       "      <td>junior</td>\n",
       "      <td>full-time</td>\n",
       "      <td>2019-10-18</td>\n",
       "      <td>2023-04-19</td>\n",
       "      <td>N/A</td>\n",
       "      <td>Technology</td>\n",
       "      <td>Medium</td>\n",
       "      <td>GraphQL, Docker, CI/CD</td>\n",
       "      <td>Docker, REST, Jenkins</td>\n",
       "    </tr>\n",
       "    <tr>\n",
       "      <th>9546</th>\n",
       "      <td>4816</td>\n",
       "      <td>Chaney, Villanueva and Johnson</td>\n",
       "      <td>Solutions Architect</td>\n",
       "      <td>senior</td>\n",
       "      <td>contract</td>\n",
       "      <td>2018-03-16</td>\n",
       "      <td>2023-01-14</td>\n",
       "      <td>N/A</td>\n",
       "      <td>Technology</td>\n",
       "      <td>Small</td>\n",
       "      <td>Kubernetes</td>\n",
       "      <td>Docker, GraphQL</td>\n",
       "    </tr>\n",
       "  </tbody>\n",
       "</table>\n",
       "<p>9547 rows × 12 columns</p>\n",
       "</div>"
      ],
      "text/plain": [
       "      candidate_id                         company                 title  \\\n",
       "0                0                         Fresher      Python Developer   \n",
       "1                1      Delta Controls, Dubai FZCO    Operations Manager   \n",
       "2                1  Honeywell Automation India Ltd          Project Lead   \n",
       "3                1                    Fox Controls      Project Engineer   \n",
       "4                1         Enercon (India) Limited  Commissioning Leader   \n",
       "...            ...                             ...                   ...   \n",
       "9542          4814                     Garrett Inc   Solutions Architect   \n",
       "9543          4814     Fischer, Finley and Freeman   Solutions Architect   \n",
       "9544          4815                   Robinson-Reed   Solutions Architect   \n",
       "9545          4816    Villanueva, Riley and Miller   Solutions Architect   \n",
       "9546          4816  Chaney, Villanueva and Johnson   Solutions Architect   \n",
       "\n",
       "           level employment_type  start_date    end_date        duration  \\\n",
       "0          entry       full-time     Unknown     Present        6 months   \n",
       "1         senior       full-time     2017-08     Present         7 years   \n",
       "2     mid-senior       full-time     2015-05     2016-06  1 year 1 month   \n",
       "3            mid       full-time     Unknown     Unknown         Unknown   \n",
       "4            mid       full-time     Unknown     Unknown         Unknown   \n",
       "...          ...             ...         ...         ...             ...   \n",
       "9542         mid        contract  2020-01-23  2024-10-09             N/A   \n",
       "9543         mid      internship  2021-11-12  2022-06-22             N/A   \n",
       "9544         mid       full-time  2019-06-20  2023-12-13             N/A   \n",
       "9545      junior       full-time  2019-10-18  2023-04-19             N/A   \n",
       "9546      senior        contract  2018-03-16  2023-01-14             N/A   \n",
       "\n",
       "                   industry company_size  \\\n",
       "0                   Unknown      Unknown   \n",
       "1     Automation & Controls      Unknown   \n",
       "2     Automation & Controls        Large   \n",
       "3     Automation & Controls      Unknown   \n",
       "4          Renewable Energy      Unknown   \n",
       "...                     ...          ...   \n",
       "9542             Technology       Medium   \n",
       "9543             Technology       Medium   \n",
       "9544             Technology       Medium   \n",
       "9545             Technology       Medium   \n",
       "9546             Technology        Small   \n",
       "\n",
       "                                  technologies  \\\n",
       "0     Python, Tensorflow, Numpy, C, C++, MySQL   \n",
       "1                                                \n",
       "2                                                \n",
       "3                                                \n",
       "4                                                \n",
       "...                                        ...   \n",
       "9542                         CI/CD, Kubernetes   \n",
       "9543                   Kubernetes, Git, Docker   \n",
       "9544                      REST, CI/CD, GraphQL   \n",
       "9545                    GraphQL, Docker, CI/CD   \n",
       "9546                                Kubernetes   \n",
       "\n",
       "                                 tools  \n",
       "0     Ubuntu, Fedora, Cent OS, Windows  \n",
       "1                                       \n",
       "2                                       \n",
       "3                                       \n",
       "4                                       \n",
       "...                                ...  \n",
       "9542                Git, Jenkins, REST  \n",
       "9543                Kubernetes, Docker  \n",
       "9544                      REST, Docker  \n",
       "9545             Docker, REST, Jenkins  \n",
       "9546                   Docker, GraphQL  \n",
       "\n",
       "[9547 rows x 12 columns]"
      ]
     },
     "execution_count": 807,
     "metadata": {},
     "output_type": "execute_result"
    }
   ],
   "source": [
    "dataframes['experiences']"
   ]
  },
  {
   "cell_type": "code",
   "execution_count": 808,
   "metadata": {},
   "outputs": [
    {
     "data": {
      "application/vnd.plotly.v1+json": {
       "config": {
        "plotlyServerURL": "https://plot.ly"
       },
       "data": [
        {
         "name": "company",
         "orientation": "h",
         "showlegend": false,
         "type": "bar",
         "x": {
          "bdata": "EQ8PDg4NDAwLCw==",
          "dtype": "i1"
         },
         "xaxis": "x",
         "y": [
          "Smith Ltd",
          "Parkar Consulting and Labs",
          "Jones Ltd",
          "KPIT Technologies",
          "Nendrasys Technologies Pvt Ltd",
          "Tech Mahindra",
          "Salcluster Technologies",
          "Smith and Sons",
          "Johnson Group",
          "Brown Inc"
         ],
         "yaxis": "y"
        },
        {
         "name": "title",
         "orientation": "h",
         "showlegend": false,
         "type": "bar",
         "x": {
          "bdata": "IgHlANgA1wDWANUA1QDVANMA0wA=",
          "dtype": "i2"
         },
         "xaxis": "x2",
         "y": [
          "Java Developer",
          "Python Developer",
          "Backend Developer",
          "Data Scientist",
          "Information Security Analyst",
          "React Native Developer",
          "Devops Engineer",
          "Deep Learning Engineer",
          "Sql Developer",
          "Angular Developer"
         ],
         "yaxis": "y2"
        },
        {
         "name": "level",
         "orientation": "h",
         "showlegend": false,
         "type": "bar",
         "x": {
          "bdata": "RQw0DA8MPgAqAAoACQAJAAcABAA=",
          "dtype": "i2"
         },
         "xaxis": "x3",
         "y": [
          "senior",
          "mid",
          "junior",
          "",
          "Not Provided",
          "intern",
          "entry",
          "entry-level",
          "mid-senior",
          "mid-level"
         ],
         "yaxis": "y3"
        },
        {
         "name": "employment_type",
         "orientation": "h",
         "showlegend": false,
         "type": "bar",
         "x": {
          "bdata": "pQxhDMsLKAAdAAIAAQA=",
          "dtype": "i2"
         },
         "xaxis": "x4",
         "y": [
          "full-time",
          "internship",
          "contract",
          "Not Provided",
          "",
          "Full-time",
          "part-time"
         ],
         "yaxis": "y4"
        },
        {
         "name": "start_date",
         "orientation": "h",
         "showlegend": false,
         "type": "bar",
         "x": {
          "bdata": "UyQREQ8PDg4ODg==",
          "dtype": "i1"
         },
         "xaxis": "x5",
         "y": [
          "",
          "Not Provided",
          "2021-09-30",
          "2019-01-14",
          "2021-09-14",
          "2019-08-19",
          "2018-06-07",
          "2020-01-16",
          "2021-10-31",
          "2020-10-02"
         ],
         "yaxis": "y5"
        },
        {
         "name": "end_date",
         "orientation": "h",
         "showlegend": false,
         "type": "bar",
         "x": {
          "bdata": "XDQgFBMTEhISEQ==",
          "dtype": "i1"
         },
         "xaxis": "x6",
         "y": [
          "",
          "Present",
          "Not Provided",
          "2022-05-09",
          "2023-10-19",
          "2023-08-25",
          "2023-05-17",
          "2024-04-03",
          "2024-11-11",
          "2023-02-26"
         ],
         "yaxis": "y6"
        },
        {
         "name": "duration",
         "orientation": "h",
         "showlegend": false,
         "type": "bar",
         "x": {
          "bdata": "FSRCACMADwAMAAwACAAIAAcABwA=",
          "dtype": "i2"
         },
         "xaxis": "x7",
         "y": [
          "N/A",
          "",
          "Not Provided",
          "6 months",
          "2 years",
          "12 months",
          "7 years",
          "1 year 1 month",
          "Ongoing",
          "3 months"
         ],
         "yaxis": "y7"
        },
        {
         "name": "industry",
         "orientation": "h",
         "showlegend": false,
         "type": "bar",
         "x": {
          "bdata": "GSRLACgAHAAWABMADAAIAAYABQA=",
          "dtype": "i2"
         },
         "xaxis": "x8",
         "y": [
          "Technology",
          "",
          "Not Provided",
          "IT Services",
          "Automation & Controls",
          "Software Development",
          "Information Technology",
          "Renewable Energy",
          "Artificial Intelligence",
          "Engineering"
         ],
         "yaxis": "y8"
        },
        {
         "name": "company_size",
         "orientation": "h",
         "showlegend": false,
         "type": "bar",
         "x": {
          "bdata": "MAwWDN4LXAAqAAwABgAEAAMAAgA=",
          "dtype": "i2"
         },
         "xaxis": "x9",
         "y": [
          "Medium",
          "Large",
          "Small",
          "",
          "Not Provided",
          "1000+ employees",
          "50-200 employees",
          "10,000+ employees",
          "Large Enterprise",
          "115,000 employees"
         ],
         "yaxis": "y9"
        },
        {
         "name": "technologies",
         "orientation": "h",
         "showlegend": false,
         "type": "bar",
         "x": {
          "bdata": "QwIPAgwCDAICAu4BeQB1AHIAbwA=",
          "dtype": "i2"
         },
         "xaxis": "x10",
         "y": [
          "Kubernetes",
          "GraphQL",
          "CI/CD",
          "REST",
          "Docker",
          "Git",
          "Git, REST",
          "Kubernetes, Git",
          "Kubernetes, Docker",
          "Docker, Kubernetes"
         ],
         "yaxis": "y10"
        },
        {
         "name": "tools",
         "orientation": "h",
         "showlegend": false,
         "type": "bar",
         "x": {
          "bdata": "owJvAWEBXQFQAU8BTgE/AW0AYgA=",
          "dtype": "i2"
         },
         "xaxis": "x11",
         "y": [
          "Docker",
          "Git",
          "Kubernetes",
          "CI/CD",
          "GraphQL",
          "REST",
          "GitLab",
          "Jenkins",
          "",
          "GitLab, Docker"
         ],
         "yaxis": "y11"
        }
       ],
       "layout": {
        "height": 1600,
        "showlegend": false,
        "template": {
         "data": {
          "bar": [
           {
            "error_x": {
             "color": "#2a3f5f"
            },
            "error_y": {
             "color": "#2a3f5f"
            },
            "marker": {
             "line": {
              "color": "#E5ECF6",
              "width": 0.5
             },
             "pattern": {
              "fillmode": "overlay",
              "size": 10,
              "solidity": 0.2
             }
            },
            "type": "bar"
           }
          ],
          "barpolar": [
           {
            "marker": {
             "line": {
              "color": "#E5ECF6",
              "width": 0.5
             },
             "pattern": {
              "fillmode": "overlay",
              "size": 10,
              "solidity": 0.2
             }
            },
            "type": "barpolar"
           }
          ],
          "carpet": [
           {
            "aaxis": {
             "endlinecolor": "#2a3f5f",
             "gridcolor": "white",
             "linecolor": "white",
             "minorgridcolor": "white",
             "startlinecolor": "#2a3f5f"
            },
            "baxis": {
             "endlinecolor": "#2a3f5f",
             "gridcolor": "white",
             "linecolor": "white",
             "minorgridcolor": "white",
             "startlinecolor": "#2a3f5f"
            },
            "type": "carpet"
           }
          ],
          "choropleth": [
           {
            "colorbar": {
             "outlinewidth": 0,
             "ticks": ""
            },
            "type": "choropleth"
           }
          ],
          "contour": [
           {
            "colorbar": {
             "outlinewidth": 0,
             "ticks": ""
            },
            "colorscale": [
             [
              0,
              "#0d0887"
             ],
             [
              0.1111111111111111,
              "#46039f"
             ],
             [
              0.2222222222222222,
              "#7201a8"
             ],
             [
              0.3333333333333333,
              "#9c179e"
             ],
             [
              0.4444444444444444,
              "#bd3786"
             ],
             [
              0.5555555555555556,
              "#d8576b"
             ],
             [
              0.6666666666666666,
              "#ed7953"
             ],
             [
              0.7777777777777778,
              "#fb9f3a"
             ],
             [
              0.8888888888888888,
              "#fdca26"
             ],
             [
              1,
              "#f0f921"
             ]
            ],
            "type": "contour"
           }
          ],
          "contourcarpet": [
           {
            "colorbar": {
             "outlinewidth": 0,
             "ticks": ""
            },
            "type": "contourcarpet"
           }
          ],
          "heatmap": [
           {
            "colorbar": {
             "outlinewidth": 0,
             "ticks": ""
            },
            "colorscale": [
             [
              0,
              "#0d0887"
             ],
             [
              0.1111111111111111,
              "#46039f"
             ],
             [
              0.2222222222222222,
              "#7201a8"
             ],
             [
              0.3333333333333333,
              "#9c179e"
             ],
             [
              0.4444444444444444,
              "#bd3786"
             ],
             [
              0.5555555555555556,
              "#d8576b"
             ],
             [
              0.6666666666666666,
              "#ed7953"
             ],
             [
              0.7777777777777778,
              "#fb9f3a"
             ],
             [
              0.8888888888888888,
              "#fdca26"
             ],
             [
              1,
              "#f0f921"
             ]
            ],
            "type": "heatmap"
           }
          ],
          "histogram": [
           {
            "marker": {
             "pattern": {
              "fillmode": "overlay",
              "size": 10,
              "solidity": 0.2
             }
            },
            "type": "histogram"
           }
          ],
          "histogram2d": [
           {
            "colorbar": {
             "outlinewidth": 0,
             "ticks": ""
            },
            "colorscale": [
             [
              0,
              "#0d0887"
             ],
             [
              0.1111111111111111,
              "#46039f"
             ],
             [
              0.2222222222222222,
              "#7201a8"
             ],
             [
              0.3333333333333333,
              "#9c179e"
             ],
             [
              0.4444444444444444,
              "#bd3786"
             ],
             [
              0.5555555555555556,
              "#d8576b"
             ],
             [
              0.6666666666666666,
              "#ed7953"
             ],
             [
              0.7777777777777778,
              "#fb9f3a"
             ],
             [
              0.8888888888888888,
              "#fdca26"
             ],
             [
              1,
              "#f0f921"
             ]
            ],
            "type": "histogram2d"
           }
          ],
          "histogram2dcontour": [
           {
            "colorbar": {
             "outlinewidth": 0,
             "ticks": ""
            },
            "colorscale": [
             [
              0,
              "#0d0887"
             ],
             [
              0.1111111111111111,
              "#46039f"
             ],
             [
              0.2222222222222222,
              "#7201a8"
             ],
             [
              0.3333333333333333,
              "#9c179e"
             ],
             [
              0.4444444444444444,
              "#bd3786"
             ],
             [
              0.5555555555555556,
              "#d8576b"
             ],
             [
              0.6666666666666666,
              "#ed7953"
             ],
             [
              0.7777777777777778,
              "#fb9f3a"
             ],
             [
              0.8888888888888888,
              "#fdca26"
             ],
             [
              1,
              "#f0f921"
             ]
            ],
            "type": "histogram2dcontour"
           }
          ],
          "mesh3d": [
           {
            "colorbar": {
             "outlinewidth": 0,
             "ticks": ""
            },
            "type": "mesh3d"
           }
          ],
          "parcoords": [
           {
            "line": {
             "colorbar": {
              "outlinewidth": 0,
              "ticks": ""
             }
            },
            "type": "parcoords"
           }
          ],
          "pie": [
           {
            "automargin": true,
            "type": "pie"
           }
          ],
          "scatter": [
           {
            "fillpattern": {
             "fillmode": "overlay",
             "size": 10,
             "solidity": 0.2
            },
            "type": "scatter"
           }
          ],
          "scatter3d": [
           {
            "line": {
             "colorbar": {
              "outlinewidth": 0,
              "ticks": ""
             }
            },
            "marker": {
             "colorbar": {
              "outlinewidth": 0,
              "ticks": ""
             }
            },
            "type": "scatter3d"
           }
          ],
          "scattercarpet": [
           {
            "marker": {
             "colorbar": {
              "outlinewidth": 0,
              "ticks": ""
             }
            },
            "type": "scattercarpet"
           }
          ],
          "scattergeo": [
           {
            "marker": {
             "colorbar": {
              "outlinewidth": 0,
              "ticks": ""
             }
            },
            "type": "scattergeo"
           }
          ],
          "scattergl": [
           {
            "marker": {
             "colorbar": {
              "outlinewidth": 0,
              "ticks": ""
             }
            },
            "type": "scattergl"
           }
          ],
          "scattermap": [
           {
            "marker": {
             "colorbar": {
              "outlinewidth": 0,
              "ticks": ""
             }
            },
            "type": "scattermap"
           }
          ],
          "scattermapbox": [
           {
            "marker": {
             "colorbar": {
              "outlinewidth": 0,
              "ticks": ""
             }
            },
            "type": "scattermapbox"
           }
          ],
          "scatterpolar": [
           {
            "marker": {
             "colorbar": {
              "outlinewidth": 0,
              "ticks": ""
             }
            },
            "type": "scatterpolar"
           }
          ],
          "scatterpolargl": [
           {
            "marker": {
             "colorbar": {
              "outlinewidth": 0,
              "ticks": ""
             }
            },
            "type": "scatterpolargl"
           }
          ],
          "scatterternary": [
           {
            "marker": {
             "colorbar": {
              "outlinewidth": 0,
              "ticks": ""
             }
            },
            "type": "scatterternary"
           }
          ],
          "surface": [
           {
            "colorbar": {
             "outlinewidth": 0,
             "ticks": ""
            },
            "colorscale": [
             [
              0,
              "#0d0887"
             ],
             [
              0.1111111111111111,
              "#46039f"
             ],
             [
              0.2222222222222222,
              "#7201a8"
             ],
             [
              0.3333333333333333,
              "#9c179e"
             ],
             [
              0.4444444444444444,
              "#bd3786"
             ],
             [
              0.5555555555555556,
              "#d8576b"
             ],
             [
              0.6666666666666666,
              "#ed7953"
             ],
             [
              0.7777777777777778,
              "#fb9f3a"
             ],
             [
              0.8888888888888888,
              "#fdca26"
             ],
             [
              1,
              "#f0f921"
             ]
            ],
            "type": "surface"
           }
          ],
          "table": [
           {
            "cells": {
             "fill": {
              "color": "#EBF0F8"
             },
             "line": {
              "color": "white"
             }
            },
            "header": {
             "fill": {
              "color": "#C8D4E3"
             },
             "line": {
              "color": "white"
             }
            },
            "type": "table"
           }
          ]
         },
         "layout": {
          "annotationdefaults": {
           "arrowcolor": "#2a3f5f",
           "arrowhead": 0,
           "arrowwidth": 1
          },
          "autotypenumbers": "strict",
          "coloraxis": {
           "colorbar": {
            "outlinewidth": 0,
            "ticks": ""
           }
          },
          "colorscale": {
           "diverging": [
            [
             0,
             "#8e0152"
            ],
            [
             0.1,
             "#c51b7d"
            ],
            [
             0.2,
             "#de77ae"
            ],
            [
             0.3,
             "#f1b6da"
            ],
            [
             0.4,
             "#fde0ef"
            ],
            [
             0.5,
             "#f7f7f7"
            ],
            [
             0.6,
             "#e6f5d0"
            ],
            [
             0.7,
             "#b8e186"
            ],
            [
             0.8,
             "#7fbc41"
            ],
            [
             0.9,
             "#4d9221"
            ],
            [
             1,
             "#276419"
            ]
           ],
           "sequential": [
            [
             0,
             "#0d0887"
            ],
            [
             0.1111111111111111,
             "#46039f"
            ],
            [
             0.2222222222222222,
             "#7201a8"
            ],
            [
             0.3333333333333333,
             "#9c179e"
            ],
            [
             0.4444444444444444,
             "#bd3786"
            ],
            [
             0.5555555555555556,
             "#d8576b"
            ],
            [
             0.6666666666666666,
             "#ed7953"
            ],
            [
             0.7777777777777778,
             "#fb9f3a"
            ],
            [
             0.8888888888888888,
             "#fdca26"
            ],
            [
             1,
             "#f0f921"
            ]
           ],
           "sequentialminus": [
            [
             0,
             "#0d0887"
            ],
            [
             0.1111111111111111,
             "#46039f"
            ],
            [
             0.2222222222222222,
             "#7201a8"
            ],
            [
             0.3333333333333333,
             "#9c179e"
            ],
            [
             0.4444444444444444,
             "#bd3786"
            ],
            [
             0.5555555555555556,
             "#d8576b"
            ],
            [
             0.6666666666666666,
             "#ed7953"
            ],
            [
             0.7777777777777778,
             "#fb9f3a"
            ],
            [
             0.8888888888888888,
             "#fdca26"
            ],
            [
             1,
             "#f0f921"
            ]
           ]
          },
          "colorway": [
           "#636efa",
           "#EF553B",
           "#00cc96",
           "#ab63fa",
           "#FFA15A",
           "#19d3f3",
           "#FF6692",
           "#B6E880",
           "#FF97FF",
           "#FECB52"
          ],
          "font": {
           "color": "#2a3f5f"
          },
          "geo": {
           "bgcolor": "white",
           "lakecolor": "white",
           "landcolor": "#E5ECF6",
           "showlakes": true,
           "showland": true,
           "subunitcolor": "white"
          },
          "hoverlabel": {
           "align": "left"
          },
          "hovermode": "closest",
          "mapbox": {
           "style": "light"
          },
          "paper_bgcolor": "white",
          "plot_bgcolor": "#E5ECF6",
          "polar": {
           "angularaxis": {
            "gridcolor": "white",
            "linecolor": "white",
            "ticks": ""
           },
           "bgcolor": "#E5ECF6",
           "radialaxis": {
            "gridcolor": "white",
            "linecolor": "white",
            "ticks": ""
           }
          },
          "scene": {
           "xaxis": {
            "backgroundcolor": "#E5ECF6",
            "gridcolor": "white",
            "gridwidth": 2,
            "linecolor": "white",
            "showbackground": true,
            "ticks": "",
            "zerolinecolor": "white"
           },
           "yaxis": {
            "backgroundcolor": "#E5ECF6",
            "gridcolor": "white",
            "gridwidth": 2,
            "linecolor": "white",
            "showbackground": true,
            "ticks": "",
            "zerolinecolor": "white"
           },
           "zaxis": {
            "backgroundcolor": "#E5ECF6",
            "gridcolor": "white",
            "gridwidth": 2,
            "linecolor": "white",
            "showbackground": true,
            "ticks": "",
            "zerolinecolor": "white"
           }
          },
          "shapedefaults": {
           "line": {
            "color": "#2a3f5f"
           }
          },
          "ternary": {
           "aaxis": {
            "gridcolor": "white",
            "linecolor": "white",
            "ticks": ""
           },
           "baxis": {
            "gridcolor": "white",
            "linecolor": "white",
            "ticks": ""
           },
           "bgcolor": "#E5ECF6",
           "caxis": {
            "gridcolor": "white",
            "linecolor": "white",
            "ticks": ""
           }
          },
          "title": {
           "x": 0.05
          },
          "xaxis": {
           "automargin": true,
           "gridcolor": "white",
           "linecolor": "white",
           "ticks": "",
           "title": {
            "standoff": 15
           },
           "zerolinecolor": "white",
           "zerolinewidth": 2
          },
          "yaxis": {
           "automargin": true,
           "gridcolor": "white",
           "linecolor": "white",
           "ticks": "",
           "title": {
            "standoff": 15
           },
           "zerolinecolor": "white",
           "zerolinewidth": 2
          }
         }
        },
        "title": {
         "text": "Experiences Column Distribution (Horizontal)"
        },
        "xaxis": {
         "anchor": "y",
         "domain": [
          0,
          0.2888888888888889
         ]
        },
        "xaxis10": {
         "anchor": "y10",
         "domain": [
          0,
          0.2888888888888889
         ]
        },
        "xaxis11": {
         "anchor": "y11",
         "domain": [
          0.35555555555555557,
          0.6444444444444445
         ]
        },
        "xaxis12": {
         "anchor": "y12",
         "domain": [
          0.7111111111111111,
          1
         ]
        },
        "xaxis2": {
         "anchor": "y2",
         "domain": [
          0.35555555555555557,
          0.6444444444444445
         ]
        },
        "xaxis3": {
         "anchor": "y3",
         "domain": [
          0.7111111111111111,
          1
         ]
        },
        "xaxis4": {
         "anchor": "y4",
         "domain": [
          0,
          0.2888888888888889
         ]
        },
        "xaxis5": {
         "anchor": "y5",
         "domain": [
          0.35555555555555557,
          0.6444444444444445
         ]
        },
        "xaxis6": {
         "anchor": "y6",
         "domain": [
          0.7111111111111111,
          1
         ]
        },
        "xaxis7": {
         "anchor": "y7",
         "domain": [
          0,
          0.2888888888888889
         ]
        },
        "xaxis8": {
         "anchor": "y8",
         "domain": [
          0.35555555555555557,
          0.6444444444444445
         ]
        },
        "xaxis9": {
         "anchor": "y9",
         "domain": [
          0.7111111111111111,
          1
         ]
        },
        "yaxis": {
         "anchor": "x",
         "domain": [
          0.80625,
          1
         ]
        },
        "yaxis10": {
         "anchor": "x10",
         "domain": [
          0,
          0.19375
         ]
        },
        "yaxis11": {
         "anchor": "x11",
         "domain": [
          0,
          0.19375
         ]
        },
        "yaxis12": {
         "anchor": "x12",
         "domain": [
          0,
          0.19375
         ]
        },
        "yaxis2": {
         "anchor": "x2",
         "domain": [
          0.80625,
          1
         ]
        },
        "yaxis3": {
         "anchor": "x3",
         "domain": [
          0.80625,
          1
         ]
        },
        "yaxis4": {
         "anchor": "x4",
         "domain": [
          0.5375,
          0.73125
         ]
        },
        "yaxis5": {
         "anchor": "x5",
         "domain": [
          0.5375,
          0.73125
         ]
        },
        "yaxis6": {
         "anchor": "x6",
         "domain": [
          0.5375,
          0.73125
         ]
        },
        "yaxis7": {
         "anchor": "x7",
         "domain": [
          0.26875,
          0.4625
         ]
        },
        "yaxis8": {
         "anchor": "x8",
         "domain": [
          0.26875,
          0.4625
         ]
        },
        "yaxis9": {
         "anchor": "x9",
         "domain": [
          0.26875,
          0.4625
         ]
        }
       }
      }
     },
     "metadata": {},
     "output_type": "display_data"
    }
   ],
   "source": [
    "df.distribute_experiences_horizontal()"
   ]
  },
  {
   "cell_type": "markdown",
   "metadata": {},
   "source": [
    "___\n",
    "___\n",
    "**Educations**"
   ]
  },
  {
   "cell_type": "code",
   "execution_count": 809,
   "metadata": {},
   "outputs": [
    {
     "data": {
      "text/html": [
       "<div>\n",
       "<style scoped>\n",
       "    .dataframe tbody tr th:only-of-type {\n",
       "        vertical-align: middle;\n",
       "    }\n",
       "\n",
       "    .dataframe tbody tr th {\n",
       "        vertical-align: top;\n",
       "    }\n",
       "\n",
       "    .dataframe thead th {\n",
       "        text-align: right;\n",
       "    }\n",
       "</style>\n",
       "<table border=\"1\" class=\"dataframe\">\n",
       "  <thead>\n",
       "    <tr style=\"text-align: right;\">\n",
       "      <th></th>\n",
       "      <th>candidate_id</th>\n",
       "      <th>degree_level</th>\n",
       "      <th>field</th>\n",
       "      <th>institution</th>\n",
       "      <th>institution_location</th>\n",
       "      <th>graduation_date</th>\n",
       "      <th>gpa</th>\n",
       "    </tr>\n",
       "  </thead>\n",
       "  <tbody>\n",
       "    <tr>\n",
       "      <th>0</th>\n",
       "      <td>0</td>\n",
       "      <td>ME</td>\n",
       "      <td>Computer Engineering</td>\n",
       "      <td>Savitribai Phule Pune University</td>\n",
       "      <td>Pune, Maharashtra</td>\n",
       "      <td>2016-01</td>\n",
       "      <td>NaN</td>\n",
       "    </tr>\n",
       "    <tr>\n",
       "      <th>1</th>\n",
       "      <td>0</td>\n",
       "      <td>B.E</td>\n",
       "      <td>Computer Engineering</td>\n",
       "      <td>Savitribai Phule Pune University</td>\n",
       "      <td>Pune, Maharashtra</td>\n",
       "      <td>2014-01</td>\n",
       "      <td>NaN</td>\n",
       "    </tr>\n",
       "    <tr>\n",
       "      <th>2</th>\n",
       "      <td>1</td>\n",
       "      <td>B.E</td>\n",
       "      <td>Electronics</td>\n",
       "      <td>Pune University</td>\n",
       "      <td>Pune, Maharashtra, India</td>\n",
       "      <td>2000-08</td>\n",
       "      <td>NaN</td>\n",
       "    </tr>\n",
       "    <tr>\n",
       "      <th>3</th>\n",
       "      <td>2</td>\n",
       "      <td>B.E.</td>\n",
       "      <td>Not Provided</td>\n",
       "      <td>Savitribai Phule Pune University</td>\n",
       "      <td>Pune, Maharashtra, India</td>\n",
       "      <td>May 2016</td>\n",
       "      <td>NaN</td>\n",
       "    </tr>\n",
       "    <tr>\n",
       "      <th>4</th>\n",
       "      <td>3</td>\n",
       "      <td>B.E</td>\n",
       "      <td>Electronics</td>\n",
       "      <td>Pune University</td>\n",
       "      <td>Pune, Maharashtra, India</td>\n",
       "      <td>2000-08</td>\n",
       "      <td>NaN</td>\n",
       "    </tr>\n",
       "    <tr>\n",
       "      <th>...</th>\n",
       "      <td>...</td>\n",
       "      <td>...</td>\n",
       "      <td>...</td>\n",
       "      <td>...</td>\n",
       "      <td>...</td>\n",
       "      <td>...</td>\n",
       "      <td>...</td>\n",
       "    </tr>\n",
       "    <tr>\n",
       "      <th>7259</th>\n",
       "      <td>4814</td>\n",
       "      <td>BSc</td>\n",
       "      <td>Computer Science</td>\n",
       "      <td>Crawford Group</td>\n",
       "      <td>East Leefort</td>\n",
       "      <td>2019-08-11</td>\n",
       "      <td>3.06</td>\n",
       "    </tr>\n",
       "    <tr>\n",
       "      <th>7260</th>\n",
       "      <td>4814</td>\n",
       "      <td>MSc</td>\n",
       "      <td>Computer Science</td>\n",
       "      <td>Schmidt Group</td>\n",
       "      <td>New Noah</td>\n",
       "      <td>2019-04-18</td>\n",
       "      <td>3.30</td>\n",
       "    </tr>\n",
       "    <tr>\n",
       "      <th>7261</th>\n",
       "      <td>4815</td>\n",
       "      <td>MSc</td>\n",
       "      <td>Computer Science</td>\n",
       "      <td>Roberts-Brown</td>\n",
       "      <td>New Kathleen</td>\n",
       "      <td>2020-01-17</td>\n",
       "      <td>2.78</td>\n",
       "    </tr>\n",
       "    <tr>\n",
       "      <th>7262</th>\n",
       "      <td>4815</td>\n",
       "      <td>MSc</td>\n",
       "      <td>Computer Science</td>\n",
       "      <td>White LLC</td>\n",
       "      <td>Guzmanville</td>\n",
       "      <td>2020-01-09</td>\n",
       "      <td>2.58</td>\n",
       "    </tr>\n",
       "    <tr>\n",
       "      <th>7263</th>\n",
       "      <td>4816</td>\n",
       "      <td>BSc</td>\n",
       "      <td>Computer Science</td>\n",
       "      <td>Hudson, Shah and Jones</td>\n",
       "      <td>Lake Carmenfort</td>\n",
       "      <td>2019-08-02</td>\n",
       "      <td>2.80</td>\n",
       "    </tr>\n",
       "  </tbody>\n",
       "</table>\n",
       "<p>7264 rows × 7 columns</p>\n",
       "</div>"
      ],
      "text/plain": [
       "      candidate_id degree_level                 field  \\\n",
       "0                0           ME  Computer Engineering   \n",
       "1                0          B.E  Computer Engineering   \n",
       "2                1          B.E           Electronics   \n",
       "3                2         B.E.          Not Provided   \n",
       "4                3          B.E           Electronics   \n",
       "...            ...          ...                   ...   \n",
       "7259          4814          BSc      Computer Science   \n",
       "7260          4814          MSc      Computer Science   \n",
       "7261          4815          MSc      Computer Science   \n",
       "7262          4815          MSc      Computer Science   \n",
       "7263          4816          BSc      Computer Science   \n",
       "\n",
       "                           institution      institution_location  \\\n",
       "0     Savitribai Phule Pune University         Pune, Maharashtra   \n",
       "1     Savitribai Phule Pune University         Pune, Maharashtra   \n",
       "2                      Pune University  Pune, Maharashtra, India   \n",
       "3     Savitribai Phule Pune University  Pune, Maharashtra, India   \n",
       "4                      Pune University  Pune, Maharashtra, India   \n",
       "...                                ...                       ...   \n",
       "7259                    Crawford Group              East Leefort   \n",
       "7260                     Schmidt Group                  New Noah   \n",
       "7261                     Roberts-Brown              New Kathleen   \n",
       "7262                         White LLC               Guzmanville   \n",
       "7263            Hudson, Shah and Jones           Lake Carmenfort   \n",
       "\n",
       "     graduation_date   gpa  \n",
       "0            2016-01   NaN  \n",
       "1            2014-01   NaN  \n",
       "2            2000-08   NaN  \n",
       "3           May 2016   NaN  \n",
       "4            2000-08   NaN  \n",
       "...              ...   ...  \n",
       "7259      2019-08-11  3.06  \n",
       "7260      2019-04-18  3.30  \n",
       "7261      2020-01-17  2.78  \n",
       "7262      2020-01-09  2.58  \n",
       "7263      2019-08-02  2.80  \n",
       "\n",
       "[7264 rows x 7 columns]"
      ]
     },
     "execution_count": 809,
     "metadata": {},
     "output_type": "execute_result"
    }
   ],
   "source": [
    "dataframes['educations']"
   ]
  },
  {
   "cell_type": "code",
   "execution_count": 810,
   "metadata": {},
   "outputs": [
    {
     "data": {
      "application/vnd.plotly.v1+json": {
       "config": {
        "plotlyServerURL": "https://plot.ly"
       },
       "data": [
        {
         "name": "degree_level",
         "orientation": "h",
         "showlegend": false,
         "type": "bar",
         "x": {
          "bdata": "rw1YDS0AJQAjAB8AGQAXABQADgA=",
          "dtype": "i2"
         },
         "xaxis": "x",
         "y": [
          "BSc",
          "MSc",
          "BE",
          "B.E.",
          "B.E",
          "Diploma",
          "HSC",
          "Bachelor of Engineering",
          "SSC",
          "Masters"
         ],
         "yaxis": "y"
        },
        {
         "name": "field",
         "orientation": "h",
         "showlegend": false,
         "type": "bar",
         "x": {
          "bdata": "Ixs8ACYAJAAQABAADQAMAAwADAA=",
          "dtype": "i2"
         },
         "xaxis": "x2",
         "y": [
          "Computer Science",
          "",
          "Computer Engineering",
          "Information Technology",
          "Electronics",
          "Computer Technology",
          "General Education",
          "science information technology",
          "Computer Applications",
          "Computer"
         ],
         "yaxis": "y2"
        },
        {
         "name": "institution",
         "orientation": "h",
         "showlegend": false,
         "type": "bar",
         "x": {
          "bdata": "NSQSDg4NDAsLCw==",
          "dtype": "i1"
         },
         "xaxis": "x3",
         "y": [
          "Savitribai Phule Pune University",
          "Pune University",
          "Maharashtra State Board",
          "Amravati University",
          "JNTU",
          "Smith LLC",
          "Smith Group",
          "Williams Inc",
          "K K Wagh Polytechnic",
          "Smith PLC"
         ],
         "yaxis": "y3"
        },
        {
         "name": "institution_location",
         "orientation": "h",
         "showlegend": false,
         "type": "bar",
         "x": {
          "bdata": "OC8WFhUSDwwMCw==",
          "dtype": "i1"
         },
         "xaxis": "x4",
         "y": [
          "Pune, Maharashtra",
          "Pune, Maharashtra, India",
          "Amravati, Maharashtra, India",
          "Nashik, Maharashtra, India",
          "Mumbai, Maharashtra, India",
          "Pune, India",
          "Nagpur, Maharashtra, India",
          "India",
          "Gondia, Maharashtra, India",
          "Hyderabad, Telangana"
         ],
         "yaxis": "y4"
        },
        {
         "name": "graduation_date",
         "orientation": "h",
         "showlegend": false,
         "type": "bar",
         "x": {
          "bdata": "RSEODg0MDAwMDA==",
          "dtype": "i1"
         },
         "xaxis": "x5",
         "y": [
          "",
          "Not Provided",
          "2016-06",
          "2017-06",
          "2020-05-26",
          "2016-07",
          "2021-11-17",
          "2021-03-28",
          "2017-01",
          "2013-06"
         ],
         "yaxis": "y5"
        },
        {
         "name": "gpa",
         "orientation": "h",
         "showlegend": false,
         "type": "bar",
         "x": {
          "bdata": "Pj09Ozs6OTk5OQ==",
          "dtype": "i1"
         },
         "xaxis": "x6",
         "y": {
          "bdata": "cT0K16NwC0Bcj8L1KFwJQM3MzMzMzAxAmpmZmZmZD0BSuB6F61EIQOF6FK5H4QRAZmZmZmZmBkAzMzMzMzMPQLgehetRuA5A9ihcj8L1DEA=",
          "dtype": "f8"
         },
         "yaxis": "y6"
        }
       ],
       "layout": {
        "height": 1200,
        "showlegend": false,
        "template": {
         "data": {
          "bar": [
           {
            "error_x": {
             "color": "#2a3f5f"
            },
            "error_y": {
             "color": "#2a3f5f"
            },
            "marker": {
             "line": {
              "color": "#E5ECF6",
              "width": 0.5
             },
             "pattern": {
              "fillmode": "overlay",
              "size": 10,
              "solidity": 0.2
             }
            },
            "type": "bar"
           }
          ],
          "barpolar": [
           {
            "marker": {
             "line": {
              "color": "#E5ECF6",
              "width": 0.5
             },
             "pattern": {
              "fillmode": "overlay",
              "size": 10,
              "solidity": 0.2
             }
            },
            "type": "barpolar"
           }
          ],
          "carpet": [
           {
            "aaxis": {
             "endlinecolor": "#2a3f5f",
             "gridcolor": "white",
             "linecolor": "white",
             "minorgridcolor": "white",
             "startlinecolor": "#2a3f5f"
            },
            "baxis": {
             "endlinecolor": "#2a3f5f",
             "gridcolor": "white",
             "linecolor": "white",
             "minorgridcolor": "white",
             "startlinecolor": "#2a3f5f"
            },
            "type": "carpet"
           }
          ],
          "choropleth": [
           {
            "colorbar": {
             "outlinewidth": 0,
             "ticks": ""
            },
            "type": "choropleth"
           }
          ],
          "contour": [
           {
            "colorbar": {
             "outlinewidth": 0,
             "ticks": ""
            },
            "colorscale": [
             [
              0,
              "#0d0887"
             ],
             [
              0.1111111111111111,
              "#46039f"
             ],
             [
              0.2222222222222222,
              "#7201a8"
             ],
             [
              0.3333333333333333,
              "#9c179e"
             ],
             [
              0.4444444444444444,
              "#bd3786"
             ],
             [
              0.5555555555555556,
              "#d8576b"
             ],
             [
              0.6666666666666666,
              "#ed7953"
             ],
             [
              0.7777777777777778,
              "#fb9f3a"
             ],
             [
              0.8888888888888888,
              "#fdca26"
             ],
             [
              1,
              "#f0f921"
             ]
            ],
            "type": "contour"
           }
          ],
          "contourcarpet": [
           {
            "colorbar": {
             "outlinewidth": 0,
             "ticks": ""
            },
            "type": "contourcarpet"
           }
          ],
          "heatmap": [
           {
            "colorbar": {
             "outlinewidth": 0,
             "ticks": ""
            },
            "colorscale": [
             [
              0,
              "#0d0887"
             ],
             [
              0.1111111111111111,
              "#46039f"
             ],
             [
              0.2222222222222222,
              "#7201a8"
             ],
             [
              0.3333333333333333,
              "#9c179e"
             ],
             [
              0.4444444444444444,
              "#bd3786"
             ],
             [
              0.5555555555555556,
              "#d8576b"
             ],
             [
              0.6666666666666666,
              "#ed7953"
             ],
             [
              0.7777777777777778,
              "#fb9f3a"
             ],
             [
              0.8888888888888888,
              "#fdca26"
             ],
             [
              1,
              "#f0f921"
             ]
            ],
            "type": "heatmap"
           }
          ],
          "histogram": [
           {
            "marker": {
             "pattern": {
              "fillmode": "overlay",
              "size": 10,
              "solidity": 0.2
             }
            },
            "type": "histogram"
           }
          ],
          "histogram2d": [
           {
            "colorbar": {
             "outlinewidth": 0,
             "ticks": ""
            },
            "colorscale": [
             [
              0,
              "#0d0887"
             ],
             [
              0.1111111111111111,
              "#46039f"
             ],
             [
              0.2222222222222222,
              "#7201a8"
             ],
             [
              0.3333333333333333,
              "#9c179e"
             ],
             [
              0.4444444444444444,
              "#bd3786"
             ],
             [
              0.5555555555555556,
              "#d8576b"
             ],
             [
              0.6666666666666666,
              "#ed7953"
             ],
             [
              0.7777777777777778,
              "#fb9f3a"
             ],
             [
              0.8888888888888888,
              "#fdca26"
             ],
             [
              1,
              "#f0f921"
             ]
            ],
            "type": "histogram2d"
           }
          ],
          "histogram2dcontour": [
           {
            "colorbar": {
             "outlinewidth": 0,
             "ticks": ""
            },
            "colorscale": [
             [
              0,
              "#0d0887"
             ],
             [
              0.1111111111111111,
              "#46039f"
             ],
             [
              0.2222222222222222,
              "#7201a8"
             ],
             [
              0.3333333333333333,
              "#9c179e"
             ],
             [
              0.4444444444444444,
              "#bd3786"
             ],
             [
              0.5555555555555556,
              "#d8576b"
             ],
             [
              0.6666666666666666,
              "#ed7953"
             ],
             [
              0.7777777777777778,
              "#fb9f3a"
             ],
             [
              0.8888888888888888,
              "#fdca26"
             ],
             [
              1,
              "#f0f921"
             ]
            ],
            "type": "histogram2dcontour"
           }
          ],
          "mesh3d": [
           {
            "colorbar": {
             "outlinewidth": 0,
             "ticks": ""
            },
            "type": "mesh3d"
           }
          ],
          "parcoords": [
           {
            "line": {
             "colorbar": {
              "outlinewidth": 0,
              "ticks": ""
             }
            },
            "type": "parcoords"
           }
          ],
          "pie": [
           {
            "automargin": true,
            "type": "pie"
           }
          ],
          "scatter": [
           {
            "fillpattern": {
             "fillmode": "overlay",
             "size": 10,
             "solidity": 0.2
            },
            "type": "scatter"
           }
          ],
          "scatter3d": [
           {
            "line": {
             "colorbar": {
              "outlinewidth": 0,
              "ticks": ""
             }
            },
            "marker": {
             "colorbar": {
              "outlinewidth": 0,
              "ticks": ""
             }
            },
            "type": "scatter3d"
           }
          ],
          "scattercarpet": [
           {
            "marker": {
             "colorbar": {
              "outlinewidth": 0,
              "ticks": ""
             }
            },
            "type": "scattercarpet"
           }
          ],
          "scattergeo": [
           {
            "marker": {
             "colorbar": {
              "outlinewidth": 0,
              "ticks": ""
             }
            },
            "type": "scattergeo"
           }
          ],
          "scattergl": [
           {
            "marker": {
             "colorbar": {
              "outlinewidth": 0,
              "ticks": ""
             }
            },
            "type": "scattergl"
           }
          ],
          "scattermap": [
           {
            "marker": {
             "colorbar": {
              "outlinewidth": 0,
              "ticks": ""
             }
            },
            "type": "scattermap"
           }
          ],
          "scattermapbox": [
           {
            "marker": {
             "colorbar": {
              "outlinewidth": 0,
              "ticks": ""
             }
            },
            "type": "scattermapbox"
           }
          ],
          "scatterpolar": [
           {
            "marker": {
             "colorbar": {
              "outlinewidth": 0,
              "ticks": ""
             }
            },
            "type": "scatterpolar"
           }
          ],
          "scatterpolargl": [
           {
            "marker": {
             "colorbar": {
              "outlinewidth": 0,
              "ticks": ""
             }
            },
            "type": "scatterpolargl"
           }
          ],
          "scatterternary": [
           {
            "marker": {
             "colorbar": {
              "outlinewidth": 0,
              "ticks": ""
             }
            },
            "type": "scatterternary"
           }
          ],
          "surface": [
           {
            "colorbar": {
             "outlinewidth": 0,
             "ticks": ""
            },
            "colorscale": [
             [
              0,
              "#0d0887"
             ],
             [
              0.1111111111111111,
              "#46039f"
             ],
             [
              0.2222222222222222,
              "#7201a8"
             ],
             [
              0.3333333333333333,
              "#9c179e"
             ],
             [
              0.4444444444444444,
              "#bd3786"
             ],
             [
              0.5555555555555556,
              "#d8576b"
             ],
             [
              0.6666666666666666,
              "#ed7953"
             ],
             [
              0.7777777777777778,
              "#fb9f3a"
             ],
             [
              0.8888888888888888,
              "#fdca26"
             ],
             [
              1,
              "#f0f921"
             ]
            ],
            "type": "surface"
           }
          ],
          "table": [
           {
            "cells": {
             "fill": {
              "color": "#EBF0F8"
             },
             "line": {
              "color": "white"
             }
            },
            "header": {
             "fill": {
              "color": "#C8D4E3"
             },
             "line": {
              "color": "white"
             }
            },
            "type": "table"
           }
          ]
         },
         "layout": {
          "annotationdefaults": {
           "arrowcolor": "#2a3f5f",
           "arrowhead": 0,
           "arrowwidth": 1
          },
          "autotypenumbers": "strict",
          "coloraxis": {
           "colorbar": {
            "outlinewidth": 0,
            "ticks": ""
           }
          },
          "colorscale": {
           "diverging": [
            [
             0,
             "#8e0152"
            ],
            [
             0.1,
             "#c51b7d"
            ],
            [
             0.2,
             "#de77ae"
            ],
            [
             0.3,
             "#f1b6da"
            ],
            [
             0.4,
             "#fde0ef"
            ],
            [
             0.5,
             "#f7f7f7"
            ],
            [
             0.6,
             "#e6f5d0"
            ],
            [
             0.7,
             "#b8e186"
            ],
            [
             0.8,
             "#7fbc41"
            ],
            [
             0.9,
             "#4d9221"
            ],
            [
             1,
             "#276419"
            ]
           ],
           "sequential": [
            [
             0,
             "#0d0887"
            ],
            [
             0.1111111111111111,
             "#46039f"
            ],
            [
             0.2222222222222222,
             "#7201a8"
            ],
            [
             0.3333333333333333,
             "#9c179e"
            ],
            [
             0.4444444444444444,
             "#bd3786"
            ],
            [
             0.5555555555555556,
             "#d8576b"
            ],
            [
             0.6666666666666666,
             "#ed7953"
            ],
            [
             0.7777777777777778,
             "#fb9f3a"
            ],
            [
             0.8888888888888888,
             "#fdca26"
            ],
            [
             1,
             "#f0f921"
            ]
           ],
           "sequentialminus": [
            [
             0,
             "#0d0887"
            ],
            [
             0.1111111111111111,
             "#46039f"
            ],
            [
             0.2222222222222222,
             "#7201a8"
            ],
            [
             0.3333333333333333,
             "#9c179e"
            ],
            [
             0.4444444444444444,
             "#bd3786"
            ],
            [
             0.5555555555555556,
             "#d8576b"
            ],
            [
             0.6666666666666666,
             "#ed7953"
            ],
            [
             0.7777777777777778,
             "#fb9f3a"
            ],
            [
             0.8888888888888888,
             "#fdca26"
            ],
            [
             1,
             "#f0f921"
            ]
           ]
          },
          "colorway": [
           "#636efa",
           "#EF553B",
           "#00cc96",
           "#ab63fa",
           "#FFA15A",
           "#19d3f3",
           "#FF6692",
           "#B6E880",
           "#FF97FF",
           "#FECB52"
          ],
          "font": {
           "color": "#2a3f5f"
          },
          "geo": {
           "bgcolor": "white",
           "lakecolor": "white",
           "landcolor": "#E5ECF6",
           "showlakes": true,
           "showland": true,
           "subunitcolor": "white"
          },
          "hoverlabel": {
           "align": "left"
          },
          "hovermode": "closest",
          "mapbox": {
           "style": "light"
          },
          "paper_bgcolor": "white",
          "plot_bgcolor": "#E5ECF6",
          "polar": {
           "angularaxis": {
            "gridcolor": "white",
            "linecolor": "white",
            "ticks": ""
           },
           "bgcolor": "#E5ECF6",
           "radialaxis": {
            "gridcolor": "white",
            "linecolor": "white",
            "ticks": ""
           }
          },
          "scene": {
           "xaxis": {
            "backgroundcolor": "#E5ECF6",
            "gridcolor": "white",
            "gridwidth": 2,
            "linecolor": "white",
            "showbackground": true,
            "ticks": "",
            "zerolinecolor": "white"
           },
           "yaxis": {
            "backgroundcolor": "#E5ECF6",
            "gridcolor": "white",
            "gridwidth": 2,
            "linecolor": "white",
            "showbackground": true,
            "ticks": "",
            "zerolinecolor": "white"
           },
           "zaxis": {
            "backgroundcolor": "#E5ECF6",
            "gridcolor": "white",
            "gridwidth": 2,
            "linecolor": "white",
            "showbackground": true,
            "ticks": "",
            "zerolinecolor": "white"
           }
          },
          "shapedefaults": {
           "line": {
            "color": "#2a3f5f"
           }
          },
          "ternary": {
           "aaxis": {
            "gridcolor": "white",
            "linecolor": "white",
            "ticks": ""
           },
           "baxis": {
            "gridcolor": "white",
            "linecolor": "white",
            "ticks": ""
           },
           "bgcolor": "#E5ECF6",
           "caxis": {
            "gridcolor": "white",
            "linecolor": "white",
            "ticks": ""
           }
          },
          "title": {
           "x": 0.05
          },
          "xaxis": {
           "automargin": true,
           "gridcolor": "white",
           "linecolor": "white",
           "ticks": "",
           "title": {
            "standoff": 15
           },
           "zerolinecolor": "white",
           "zerolinewidth": 2
          },
          "yaxis": {
           "automargin": true,
           "gridcolor": "white",
           "linecolor": "white",
           "ticks": "",
           "title": {
            "standoff": 15
           },
           "zerolinecolor": "white",
           "zerolinewidth": 2
          }
         }
        },
        "title": {
         "text": "Educations Column Distribution (Horizontal)"
        },
        "xaxis": {
         "anchor": "y",
         "domain": [
          0,
          0.2888888888888889
         ]
        },
        "xaxis2": {
         "anchor": "y2",
         "domain": [
          0.35555555555555557,
          0.6444444444444445
         ]
        },
        "xaxis3": {
         "anchor": "y3",
         "domain": [
          0.7111111111111111,
          1
         ]
        },
        "xaxis4": {
         "anchor": "y4",
         "domain": [
          0,
          0.2888888888888889
         ]
        },
        "xaxis5": {
         "anchor": "y5",
         "domain": [
          0.35555555555555557,
          0.6444444444444445
         ]
        },
        "xaxis6": {
         "anchor": "y6",
         "domain": [
          0.7111111111111111,
          1
         ]
        },
        "xaxis7": {
         "anchor": "y7",
         "domain": [
          0,
          0.2888888888888889
         ]
        },
        "xaxis8": {
         "anchor": "y8",
         "domain": [
          0.35555555555555557,
          0.6444444444444445
         ]
        },
        "xaxis9": {
         "anchor": "y9",
         "domain": [
          0.7111111111111111,
          1
         ]
        },
        "yaxis": {
         "anchor": "x",
         "domain": [
          0.7333333333333333,
          1
         ]
        },
        "yaxis2": {
         "anchor": "x2",
         "domain": [
          0.7333333333333333,
          1
         ]
        },
        "yaxis3": {
         "anchor": "x3",
         "domain": [
          0.7333333333333333,
          1
         ]
        },
        "yaxis4": {
         "anchor": "x4",
         "domain": [
          0.36666666666666664,
          0.6333333333333333
         ]
        },
        "yaxis5": {
         "anchor": "x5",
         "domain": [
          0.36666666666666664,
          0.6333333333333333
         ]
        },
        "yaxis6": {
         "anchor": "x6",
         "domain": [
          0.36666666666666664,
          0.6333333333333333
         ]
        },
        "yaxis7": {
         "anchor": "x7",
         "domain": [
          0,
          0.26666666666666666
         ]
        },
        "yaxis8": {
         "anchor": "x8",
         "domain": [
          0,
          0.26666666666666666
         ]
        },
        "yaxis9": {
         "anchor": "x9",
         "domain": [
          0,
          0.26666666666666666
         ]
        }
       }
      }
     },
     "metadata": {},
     "output_type": "display_data"
    }
   ],
   "source": [
    "df.distribute_educations_horizontal()\n"
   ]
  },
  {
   "cell_type": "code",
   "execution_count": null,
   "metadata": {},
   "outputs": [],
   "source": []
  }
 ],
 "metadata": {
  "kernelspec": {
   "display_name": "env",
   "language": "python",
   "name": "python3"
  },
  "language_info": {
   "codemirror_mode": {
    "name": "ipython",
    "version": 3
   },
   "file_extension": ".py",
   "mimetype": "text/x-python",
   "name": "python",
   "nbconvert_exporter": "python",
   "pygments_lexer": "ipython3",
   "version": "3.11.6"
  }
 },
 "nbformat": 4,
 "nbformat_minor": 2
}
